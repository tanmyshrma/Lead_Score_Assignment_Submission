{
 "cells": [
  {
   "cell_type": "code",
   "execution_count": 1,
   "id": "00395a52",
   "metadata": {},
   "outputs": [],
   "source": [
    "import pandas as pd\n",
    "import numpy as np\n",
    "import matplotlib.pyplot as plt\n",
    "import seaborn as sns\n",
    "import warnings\n",
    "warnings.filterwarnings('ignore')\n",
    "\n",
    "from sklearn.model_selection import train_test_split\n",
    "from sklearn.preprocessing import MinMaxScaler\n",
    "from sklearn.linear_model import LogisticRegression\n",
    "from sklearn.feature_selection import RFE\n",
    "from sklearn.metrics import confusion_matrix\n",
    "from sklearn import metrics\n",
    "\n",
    "import statsmodels.api as sm\n",
    "from statsmodels.stats.outliers_influence import variance_inflation_factor"
   ]
  },
  {
   "cell_type": "markdown",
   "id": "90f4c5e0",
   "metadata": {},
   "source": [
    "## Steps for analysis\n",
    "\n",
    "- 1. Load and inspect the dataset\n",
    "- 2. Null values handling\n",
    "- 3. Analysis of numerical columns \n",
    "- 4. Analyzing categorical columns\n",
    "- 5. Train-test split\n",
    "- 6. Scaling the features\n",
    "- 7. Feature selection using RFE\n",
    "- 8. Model building\n",
    "- 9. Finding the optimal cut-off point\n",
    "- 10. Training data predictions on final model\n",
    "- 11. ROC curve\n",
    "- 12. Making Predictions on test dataset"
   ]
  },
  {
   "cell_type": "markdown",
   "id": "b63a0874",
   "metadata": {},
   "source": [
    "### 1. Load and Inspect the data"
   ]
  },
  {
   "cell_type": "code",
   "execution_count": 2,
   "id": "14a850ba",
   "metadata": {},
   "outputs": [
    {
     "data": {
      "text/html": [
       "<div>\n",
       "<style scoped>\n",
       "    .dataframe tbody tr th:only-of-type {\n",
       "        vertical-align: middle;\n",
       "    }\n",
       "\n",
       "    .dataframe tbody tr th {\n",
       "        vertical-align: top;\n",
       "    }\n",
       "\n",
       "    .dataframe thead th {\n",
       "        text-align: right;\n",
       "    }\n",
       "</style>\n",
       "<table border=\"1\" class=\"dataframe\">\n",
       "  <thead>\n",
       "    <tr style=\"text-align: right;\">\n",
       "      <th></th>\n",
       "      <th>Prospect ID</th>\n",
       "      <th>Lead Number</th>\n",
       "      <th>Lead Origin</th>\n",
       "      <th>Lead Source</th>\n",
       "      <th>Do Not Email</th>\n",
       "      <th>Do Not Call</th>\n",
       "      <th>Converted</th>\n",
       "      <th>TotalVisits</th>\n",
       "      <th>Total Time Spent on Website</th>\n",
       "      <th>Page Views Per Visit</th>\n",
       "      <th>...</th>\n",
       "      <th>Get updates on DM Content</th>\n",
       "      <th>Lead Profile</th>\n",
       "      <th>City</th>\n",
       "      <th>Asymmetrique Activity Index</th>\n",
       "      <th>Asymmetrique Profile Index</th>\n",
       "      <th>Asymmetrique Activity Score</th>\n",
       "      <th>Asymmetrique Profile Score</th>\n",
       "      <th>I agree to pay the amount through cheque</th>\n",
       "      <th>A free copy of Mastering The Interview</th>\n",
       "      <th>Last Notable Activity</th>\n",
       "    </tr>\n",
       "  </thead>\n",
       "  <tbody>\n",
       "    <tr>\n",
       "      <th>0</th>\n",
       "      <td>7927b2df-8bba-4d29-b9a2-b6e0beafe620</td>\n",
       "      <td>660737</td>\n",
       "      <td>API</td>\n",
       "      <td>Olark Chat</td>\n",
       "      <td>No</td>\n",
       "      <td>No</td>\n",
       "      <td>0</td>\n",
       "      <td>0.0</td>\n",
       "      <td>0</td>\n",
       "      <td>0.0</td>\n",
       "      <td>...</td>\n",
       "      <td>No</td>\n",
       "      <td>Select</td>\n",
       "      <td>Select</td>\n",
       "      <td>02.Medium</td>\n",
       "      <td>02.Medium</td>\n",
       "      <td>15.0</td>\n",
       "      <td>15.0</td>\n",
       "      <td>No</td>\n",
       "      <td>No</td>\n",
       "      <td>Modified</td>\n",
       "    </tr>\n",
       "    <tr>\n",
       "      <th>1</th>\n",
       "      <td>2a272436-5132-4136-86fa-dcc88c88f482</td>\n",
       "      <td>660728</td>\n",
       "      <td>API</td>\n",
       "      <td>Organic Search</td>\n",
       "      <td>No</td>\n",
       "      <td>No</td>\n",
       "      <td>0</td>\n",
       "      <td>5.0</td>\n",
       "      <td>674</td>\n",
       "      <td>2.5</td>\n",
       "      <td>...</td>\n",
       "      <td>No</td>\n",
       "      <td>Select</td>\n",
       "      <td>Select</td>\n",
       "      <td>02.Medium</td>\n",
       "      <td>02.Medium</td>\n",
       "      <td>15.0</td>\n",
       "      <td>15.0</td>\n",
       "      <td>No</td>\n",
       "      <td>No</td>\n",
       "      <td>Email Opened</td>\n",
       "    </tr>\n",
       "    <tr>\n",
       "      <th>2</th>\n",
       "      <td>8cc8c611-a219-4f35-ad23-fdfd2656bd8a</td>\n",
       "      <td>660727</td>\n",
       "      <td>Landing Page Submission</td>\n",
       "      <td>Direct Traffic</td>\n",
       "      <td>No</td>\n",
       "      <td>No</td>\n",
       "      <td>1</td>\n",
       "      <td>2.0</td>\n",
       "      <td>1532</td>\n",
       "      <td>2.0</td>\n",
       "      <td>...</td>\n",
       "      <td>No</td>\n",
       "      <td>Potential Lead</td>\n",
       "      <td>Mumbai</td>\n",
       "      <td>02.Medium</td>\n",
       "      <td>01.High</td>\n",
       "      <td>14.0</td>\n",
       "      <td>20.0</td>\n",
       "      <td>No</td>\n",
       "      <td>Yes</td>\n",
       "      <td>Email Opened</td>\n",
       "    </tr>\n",
       "  </tbody>\n",
       "</table>\n",
       "<p>3 rows × 37 columns</p>\n",
       "</div>"
      ],
      "text/plain": [
       "                            Prospect ID  Lead Number              Lead Origin  \\\n",
       "0  7927b2df-8bba-4d29-b9a2-b6e0beafe620       660737                      API   \n",
       "1  2a272436-5132-4136-86fa-dcc88c88f482       660728                      API   \n",
       "2  8cc8c611-a219-4f35-ad23-fdfd2656bd8a       660727  Landing Page Submission   \n",
       "\n",
       "      Lead Source Do Not Email Do Not Call  Converted  TotalVisits  \\\n",
       "0      Olark Chat           No          No          0          0.0   \n",
       "1  Organic Search           No          No          0          5.0   \n",
       "2  Direct Traffic           No          No          1          2.0   \n",
       "\n",
       "   Total Time Spent on Website  Page Views Per Visit  ...  \\\n",
       "0                            0                   0.0  ...   \n",
       "1                          674                   2.5  ...   \n",
       "2                         1532                   2.0  ...   \n",
       "\n",
       "  Get updates on DM Content    Lead Profile    City  \\\n",
       "0                        No          Select  Select   \n",
       "1                        No          Select  Select   \n",
       "2                        No  Potential Lead  Mumbai   \n",
       "\n",
       "  Asymmetrique Activity Index Asymmetrique Profile Index  \\\n",
       "0                   02.Medium                  02.Medium   \n",
       "1                   02.Medium                  02.Medium   \n",
       "2                   02.Medium                    01.High   \n",
       "\n",
       "  Asymmetrique Activity Score Asymmetrique Profile Score  \\\n",
       "0                        15.0                       15.0   \n",
       "1                        15.0                       15.0   \n",
       "2                        14.0                       20.0   \n",
       "\n",
       "  I agree to pay the amount through cheque  \\\n",
       "0                                       No   \n",
       "1                                       No   \n",
       "2                                       No   \n",
       "\n",
       "  A free copy of Mastering The Interview Last Notable Activity  \n",
       "0                                     No              Modified  \n",
       "1                                     No          Email Opened  \n",
       "2                                    Yes          Email Opened  \n",
       "\n",
       "[3 rows x 37 columns]"
      ]
     },
     "execution_count": 2,
     "metadata": {},
     "output_type": "execute_result"
    }
   ],
   "source": [
    "#Load the dataframe\n",
    "leads = pd.read_csv(r'E:\\Data_Science_Course\\6_Machine_Learning\\6_Leed_Generation_Case_Study\\Lead_Scoring_Assignment\\Leads.csv')\n",
    "leads.head(3)"
   ]
  },
  {
   "cell_type": "code",
   "execution_count": 3,
   "id": "92819244",
   "metadata": {},
   "outputs": [
    {
     "data": {
      "text/plain": [
       "(9240, 37)"
      ]
     },
     "execution_count": 3,
     "metadata": {},
     "output_type": "execute_result"
    }
   ],
   "source": [
    "#shape of dataframe\n",
    "leads.shape"
   ]
  },
  {
   "cell_type": "code",
   "execution_count": 4,
   "id": "733f6d19",
   "metadata": {},
   "outputs": [
    {
     "name": "stdout",
     "output_type": "stream",
     "text": [
      "<class 'pandas.core.frame.DataFrame'>\n",
      "RangeIndex: 9240 entries, 0 to 9239\n",
      "Data columns (total 37 columns):\n",
      " #   Column                                         Non-Null Count  Dtype  \n",
      "---  ------                                         --------------  -----  \n",
      " 0   Prospect ID                                    9240 non-null   object \n",
      " 1   Lead Number                                    9240 non-null   int64  \n",
      " 2   Lead Origin                                    9240 non-null   object \n",
      " 3   Lead Source                                    9204 non-null   object \n",
      " 4   Do Not Email                                   9240 non-null   object \n",
      " 5   Do Not Call                                    9240 non-null   object \n",
      " 6   Converted                                      9240 non-null   int64  \n",
      " 7   TotalVisits                                    9103 non-null   float64\n",
      " 8   Total Time Spent on Website                    9240 non-null   int64  \n",
      " 9   Page Views Per Visit                           9103 non-null   float64\n",
      " 10  Last Activity                                  9137 non-null   object \n",
      " 11  Country                                        6779 non-null   object \n",
      " 12  Specialization                                 7802 non-null   object \n",
      " 13  How did you hear about X Education             7033 non-null   object \n",
      " 14  What is your current occupation                6550 non-null   object \n",
      " 15  What matters most to you in choosing a course  6531 non-null   object \n",
      " 16  Search                                         9240 non-null   object \n",
      " 17  Magazine                                       9240 non-null   object \n",
      " 18  Newspaper Article                              9240 non-null   object \n",
      " 19  X Education Forums                             9240 non-null   object \n",
      " 20  Newspaper                                      9240 non-null   object \n",
      " 21  Digital Advertisement                          9240 non-null   object \n",
      " 22  Through Recommendations                        9240 non-null   object \n",
      " 23  Receive More Updates About Our Courses         9240 non-null   object \n",
      " 24  Tags                                           5887 non-null   object \n",
      " 25  Lead Quality                                   4473 non-null   object \n",
      " 26  Update me on Supply Chain Content              9240 non-null   object \n",
      " 27  Get updates on DM Content                      9240 non-null   object \n",
      " 28  Lead Profile                                   6531 non-null   object \n",
      " 29  City                                           7820 non-null   object \n",
      " 30  Asymmetrique Activity Index                    5022 non-null   object \n",
      " 31  Asymmetrique Profile Index                     5022 non-null   object \n",
      " 32  Asymmetrique Activity Score                    5022 non-null   float64\n",
      " 33  Asymmetrique Profile Score                     5022 non-null   float64\n",
      " 34  I agree to pay the amount through cheque       9240 non-null   object \n",
      " 35  A free copy of Mastering The Interview         9240 non-null   object \n",
      " 36  Last Notable Activity                          9240 non-null   object \n",
      "dtypes: float64(4), int64(3), object(30)\n",
      "memory usage: 2.6+ MB\n"
     ]
    }
   ],
   "source": [
    "#columns info\n",
    "leads.info()"
   ]
  },
  {
   "cell_type": "markdown",
   "id": "32b998e4",
   "metadata": {},
   "source": [
    "- Lot of the variables are categorical in nature.\n",
    "- Also, there seems to be a number of columns with null values from the value count."
   ]
  },
  {
   "cell_type": "code",
   "execution_count": 5,
   "id": "cb7d451e",
   "metadata": {},
   "outputs": [
    {
     "data": {
      "text/html": [
       "<div>\n",
       "<style scoped>\n",
       "    .dataframe tbody tr th:only-of-type {\n",
       "        vertical-align: middle;\n",
       "    }\n",
       "\n",
       "    .dataframe tbody tr th {\n",
       "        vertical-align: top;\n",
       "    }\n",
       "\n",
       "    .dataframe thead th {\n",
       "        text-align: right;\n",
       "    }\n",
       "</style>\n",
       "<table border=\"1\" class=\"dataframe\">\n",
       "  <thead>\n",
       "    <tr style=\"text-align: right;\">\n",
       "      <th></th>\n",
       "      <th>Lead Number</th>\n",
       "      <th>Converted</th>\n",
       "      <th>TotalVisits</th>\n",
       "      <th>Total Time Spent on Website</th>\n",
       "      <th>Page Views Per Visit</th>\n",
       "      <th>Asymmetrique Activity Score</th>\n",
       "      <th>Asymmetrique Profile Score</th>\n",
       "    </tr>\n",
       "  </thead>\n",
       "  <tbody>\n",
       "    <tr>\n",
       "      <th>count</th>\n",
       "      <td>9240.000000</td>\n",
       "      <td>9240.000000</td>\n",
       "      <td>9103.000000</td>\n",
       "      <td>9240.000000</td>\n",
       "      <td>9103.000000</td>\n",
       "      <td>5022.000000</td>\n",
       "      <td>5022.000000</td>\n",
       "    </tr>\n",
       "    <tr>\n",
       "      <th>mean</th>\n",
       "      <td>617188.435606</td>\n",
       "      <td>0.385390</td>\n",
       "      <td>3.445238</td>\n",
       "      <td>487.698268</td>\n",
       "      <td>2.362820</td>\n",
       "      <td>14.306252</td>\n",
       "      <td>16.344883</td>\n",
       "    </tr>\n",
       "    <tr>\n",
       "      <th>std</th>\n",
       "      <td>23405.995698</td>\n",
       "      <td>0.486714</td>\n",
       "      <td>4.854853</td>\n",
       "      <td>548.021466</td>\n",
       "      <td>2.161418</td>\n",
       "      <td>1.386694</td>\n",
       "      <td>1.811395</td>\n",
       "    </tr>\n",
       "    <tr>\n",
       "      <th>min</th>\n",
       "      <td>579533.000000</td>\n",
       "      <td>0.000000</td>\n",
       "      <td>0.000000</td>\n",
       "      <td>0.000000</td>\n",
       "      <td>0.000000</td>\n",
       "      <td>7.000000</td>\n",
       "      <td>11.000000</td>\n",
       "    </tr>\n",
       "    <tr>\n",
       "      <th>25%</th>\n",
       "      <td>596484.500000</td>\n",
       "      <td>0.000000</td>\n",
       "      <td>1.000000</td>\n",
       "      <td>12.000000</td>\n",
       "      <td>1.000000</td>\n",
       "      <td>14.000000</td>\n",
       "      <td>15.000000</td>\n",
       "    </tr>\n",
       "    <tr>\n",
       "      <th>50%</th>\n",
       "      <td>615479.000000</td>\n",
       "      <td>0.000000</td>\n",
       "      <td>3.000000</td>\n",
       "      <td>248.000000</td>\n",
       "      <td>2.000000</td>\n",
       "      <td>14.000000</td>\n",
       "      <td>16.000000</td>\n",
       "    </tr>\n",
       "    <tr>\n",
       "      <th>75%</th>\n",
       "      <td>637387.250000</td>\n",
       "      <td>1.000000</td>\n",
       "      <td>5.000000</td>\n",
       "      <td>936.000000</td>\n",
       "      <td>3.000000</td>\n",
       "      <td>15.000000</td>\n",
       "      <td>18.000000</td>\n",
       "    </tr>\n",
       "    <tr>\n",
       "      <th>90%</th>\n",
       "      <td>650506.100000</td>\n",
       "      <td>1.000000</td>\n",
       "      <td>7.000000</td>\n",
       "      <td>1380.000000</td>\n",
       "      <td>5.000000</td>\n",
       "      <td>16.000000</td>\n",
       "      <td>19.000000</td>\n",
       "    </tr>\n",
       "    <tr>\n",
       "      <th>95%</th>\n",
       "      <td>655404.050000</td>\n",
       "      <td>1.000000</td>\n",
       "      <td>10.000000</td>\n",
       "      <td>1562.000000</td>\n",
       "      <td>6.000000</td>\n",
       "      <td>17.000000</td>\n",
       "      <td>20.000000</td>\n",
       "    </tr>\n",
       "    <tr>\n",
       "      <th>99%</th>\n",
       "      <td>659592.980000</td>\n",
       "      <td>1.000000</td>\n",
       "      <td>17.000000</td>\n",
       "      <td>1840.610000</td>\n",
       "      <td>9.000000</td>\n",
       "      <td>17.000000</td>\n",
       "      <td>20.000000</td>\n",
       "    </tr>\n",
       "    <tr>\n",
       "      <th>max</th>\n",
       "      <td>660737.000000</td>\n",
       "      <td>1.000000</td>\n",
       "      <td>251.000000</td>\n",
       "      <td>2272.000000</td>\n",
       "      <td>55.000000</td>\n",
       "      <td>18.000000</td>\n",
       "      <td>20.000000</td>\n",
       "    </tr>\n",
       "  </tbody>\n",
       "</table>\n",
       "</div>"
      ],
      "text/plain": [
       "         Lead Number    Converted  TotalVisits  Total Time Spent on Website  \\\n",
       "count    9240.000000  9240.000000  9103.000000                  9240.000000   \n",
       "mean   617188.435606     0.385390     3.445238                   487.698268   \n",
       "std     23405.995698     0.486714     4.854853                   548.021466   \n",
       "min    579533.000000     0.000000     0.000000                     0.000000   \n",
       "25%    596484.500000     0.000000     1.000000                    12.000000   \n",
       "50%    615479.000000     0.000000     3.000000                   248.000000   \n",
       "75%    637387.250000     1.000000     5.000000                   936.000000   \n",
       "90%    650506.100000     1.000000     7.000000                  1380.000000   \n",
       "95%    655404.050000     1.000000    10.000000                  1562.000000   \n",
       "99%    659592.980000     1.000000    17.000000                  1840.610000   \n",
       "max    660737.000000     1.000000   251.000000                  2272.000000   \n",
       "\n",
       "       Page Views Per Visit  Asymmetrique Activity Score  \\\n",
       "count           9103.000000                  5022.000000   \n",
       "mean               2.362820                    14.306252   \n",
       "std                2.161418                     1.386694   \n",
       "min                0.000000                     7.000000   \n",
       "25%                1.000000                    14.000000   \n",
       "50%                2.000000                    14.000000   \n",
       "75%                3.000000                    15.000000   \n",
       "90%                5.000000                    16.000000   \n",
       "95%                6.000000                    17.000000   \n",
       "99%                9.000000                    17.000000   \n",
       "max               55.000000                    18.000000   \n",
       "\n",
       "       Asymmetrique Profile Score  \n",
       "count                 5022.000000  \n",
       "mean                    16.344883  \n",
       "std                      1.811395  \n",
       "min                     11.000000  \n",
       "25%                     15.000000  \n",
       "50%                     16.000000  \n",
       "75%                     18.000000  \n",
       "90%                     19.000000  \n",
       "95%                     20.000000  \n",
       "99%                     20.000000  \n",
       "max                     20.000000  "
      ]
     },
     "execution_count": 5,
     "metadata": {},
     "output_type": "execute_result"
    }
   ],
   "source": [
    "leads.describe(percentiles=[0.25, 0.50, 0.75, 0.90, 0.95, 0.99])"
   ]
  },
  {
   "cell_type": "markdown",
   "id": "76ea230e",
   "metadata": {},
   "source": [
    "- Only handful of numerical colums\n",
    "- 'Asymmetrique Activity Score' and 'Asymmetrique Profile Score' have high number of null values\n",
    "- Outliers in 'TotalVisits', also possibly in 'Total Time Spent on Website'"
   ]
  },
  {
   "cell_type": "markdown",
   "id": "8b685c5f",
   "metadata": {},
   "source": [
    "### 2. Null values handling\n"
   ]
  },
  {
   "cell_type": "code",
   "execution_count": 6,
   "id": "872ebcd5",
   "metadata": {},
   "outputs": [
    {
     "data": {
      "text/plain": [
       "Lead Quality                                     4767\n",
       "Asymmetrique Activity Index                      4218\n",
       "Asymmetrique Profile Score                       4218\n",
       "Asymmetrique Activity Score                      4218\n",
       "Asymmetrique Profile Index                       4218\n",
       "Tags                                             3353\n",
       "Lead Profile                                     2709\n",
       "What matters most to you in choosing a course    2709\n",
       "What is your current occupation                  2690\n",
       "Country                                          2461\n",
       "How did you hear about X Education               2207\n",
       "Specialization                                   1438\n",
       "City                                             1420\n",
       "Page Views Per Visit                              137\n",
       "TotalVisits                                       137\n",
       "Last Activity                                     103\n",
       "Lead Source                                        36\n",
       "Receive More Updates About Our Courses              0\n",
       "I agree to pay the amount through cheque            0\n",
       "Get updates on DM Content                           0\n",
       "Update me on Supply Chain Content                   0\n",
       "A free copy of Mastering The Interview              0\n",
       "Prospect ID                                         0\n",
       "Newspaper Article                                   0\n",
       "Through Recommendations                             0\n",
       "Digital Advertisement                               0\n",
       "Newspaper                                           0\n",
       "X Education Forums                                  0\n",
       "Lead Number                                         0\n",
       "Magazine                                            0\n",
       "Search                                              0\n",
       "Total Time Spent on Website                         0\n",
       "Converted                                           0\n",
       "Do Not Call                                         0\n",
       "Do Not Email                                        0\n",
       "Lead Origin                                         0\n",
       "Last Notable Activity                               0\n",
       "dtype: int64"
      ]
     },
     "execution_count": 6,
     "metadata": {},
     "output_type": "execute_result"
    }
   ],
   "source": [
    "leads.isnull().sum().sort_values(ascending=False)"
   ]
  },
  {
   "cell_type": "markdown",
   "id": "61c79f6d",
   "metadata": {},
   "source": [
    "Create a dataframe to represen the number of null values in each column"
   ]
  },
  {
   "cell_type": "code",
   "execution_count": 7,
   "id": "8072902c",
   "metadata": {},
   "outputs": [],
   "source": [
    "nulls = pd.DataFrame({'Columns':leads.columns,'Null_Value_Cnt':leads.isnull().sum(),'Null_Value_Perc':round(((leads.isnull().sum()) / leads.shape[0] * 100),2)})\n",
    "nulls = nulls.reset_index(drop=True)"
   ]
  },
  {
   "cell_type": "code",
   "execution_count": 8,
   "id": "ed95b53a",
   "metadata": {},
   "outputs": [
    {
     "data": {
      "text/html": [
       "<div>\n",
       "<style scoped>\n",
       "    .dataframe tbody tr th:only-of-type {\n",
       "        vertical-align: middle;\n",
       "    }\n",
       "\n",
       "    .dataframe tbody tr th {\n",
       "        vertical-align: top;\n",
       "    }\n",
       "\n",
       "    .dataframe thead th {\n",
       "        text-align: right;\n",
       "    }\n",
       "</style>\n",
       "<table border=\"1\" class=\"dataframe\">\n",
       "  <thead>\n",
       "    <tr style=\"text-align: right;\">\n",
       "      <th></th>\n",
       "      <th>Columns</th>\n",
       "      <th>Null_Value_Cnt</th>\n",
       "      <th>Null_Value_Perc</th>\n",
       "    </tr>\n",
       "  </thead>\n",
       "  <tbody>\n",
       "    <tr>\n",
       "      <th>25</th>\n",
       "      <td>Lead Quality</td>\n",
       "      <td>4767</td>\n",
       "      <td>51.59</td>\n",
       "    </tr>\n",
       "    <tr>\n",
       "      <th>30</th>\n",
       "      <td>Asymmetrique Activity Index</td>\n",
       "      <td>4218</td>\n",
       "      <td>45.65</td>\n",
       "    </tr>\n",
       "    <tr>\n",
       "      <th>33</th>\n",
       "      <td>Asymmetrique Profile Score</td>\n",
       "      <td>4218</td>\n",
       "      <td>45.65</td>\n",
       "    </tr>\n",
       "    <tr>\n",
       "      <th>32</th>\n",
       "      <td>Asymmetrique Activity Score</td>\n",
       "      <td>4218</td>\n",
       "      <td>45.65</td>\n",
       "    </tr>\n",
       "    <tr>\n",
       "      <th>31</th>\n",
       "      <td>Asymmetrique Profile Index</td>\n",
       "      <td>4218</td>\n",
       "      <td>45.65</td>\n",
       "    </tr>\n",
       "    <tr>\n",
       "      <th>24</th>\n",
       "      <td>Tags</td>\n",
       "      <td>3353</td>\n",
       "      <td>36.29</td>\n",
       "    </tr>\n",
       "    <tr>\n",
       "      <th>28</th>\n",
       "      <td>Lead Profile</td>\n",
       "      <td>2709</td>\n",
       "      <td>29.32</td>\n",
       "    </tr>\n",
       "    <tr>\n",
       "      <th>15</th>\n",
       "      <td>What matters most to you in choosing a course</td>\n",
       "      <td>2709</td>\n",
       "      <td>29.32</td>\n",
       "    </tr>\n",
       "    <tr>\n",
       "      <th>14</th>\n",
       "      <td>What is your current occupation</td>\n",
       "      <td>2690</td>\n",
       "      <td>29.11</td>\n",
       "    </tr>\n",
       "    <tr>\n",
       "      <th>11</th>\n",
       "      <td>Country</td>\n",
       "      <td>2461</td>\n",
       "      <td>26.63</td>\n",
       "    </tr>\n",
       "    <tr>\n",
       "      <th>13</th>\n",
       "      <td>How did you hear about X Education</td>\n",
       "      <td>2207</td>\n",
       "      <td>23.89</td>\n",
       "    </tr>\n",
       "    <tr>\n",
       "      <th>12</th>\n",
       "      <td>Specialization</td>\n",
       "      <td>1438</td>\n",
       "      <td>15.56</td>\n",
       "    </tr>\n",
       "    <tr>\n",
       "      <th>29</th>\n",
       "      <td>City</td>\n",
       "      <td>1420</td>\n",
       "      <td>15.37</td>\n",
       "    </tr>\n",
       "    <tr>\n",
       "      <th>9</th>\n",
       "      <td>Page Views Per Visit</td>\n",
       "      <td>137</td>\n",
       "      <td>1.48</td>\n",
       "    </tr>\n",
       "    <tr>\n",
       "      <th>7</th>\n",
       "      <td>TotalVisits</td>\n",
       "      <td>137</td>\n",
       "      <td>1.48</td>\n",
       "    </tr>\n",
       "    <tr>\n",
       "      <th>10</th>\n",
       "      <td>Last Activity</td>\n",
       "      <td>103</td>\n",
       "      <td>1.11</td>\n",
       "    </tr>\n",
       "    <tr>\n",
       "      <th>3</th>\n",
       "      <td>Lead Source</td>\n",
       "      <td>36</td>\n",
       "      <td>0.39</td>\n",
       "    </tr>\n",
       "    <tr>\n",
       "      <th>23</th>\n",
       "      <td>Receive More Updates About Our Courses</td>\n",
       "      <td>0</td>\n",
       "      <td>0.00</td>\n",
       "    </tr>\n",
       "    <tr>\n",
       "      <th>34</th>\n",
       "      <td>I agree to pay the amount through cheque</td>\n",
       "      <td>0</td>\n",
       "      <td>0.00</td>\n",
       "    </tr>\n",
       "    <tr>\n",
       "      <th>27</th>\n",
       "      <td>Get updates on DM Content</td>\n",
       "      <td>0</td>\n",
       "      <td>0.00</td>\n",
       "    </tr>\n",
       "    <tr>\n",
       "      <th>26</th>\n",
       "      <td>Update me on Supply Chain Content</td>\n",
       "      <td>0</td>\n",
       "      <td>0.00</td>\n",
       "    </tr>\n",
       "    <tr>\n",
       "      <th>35</th>\n",
       "      <td>A free copy of Mastering The Interview</td>\n",
       "      <td>0</td>\n",
       "      <td>0.00</td>\n",
       "    </tr>\n",
       "    <tr>\n",
       "      <th>0</th>\n",
       "      <td>Prospect ID</td>\n",
       "      <td>0</td>\n",
       "      <td>0.00</td>\n",
       "    </tr>\n",
       "    <tr>\n",
       "      <th>18</th>\n",
       "      <td>Newspaper Article</td>\n",
       "      <td>0</td>\n",
       "      <td>0.00</td>\n",
       "    </tr>\n",
       "    <tr>\n",
       "      <th>22</th>\n",
       "      <td>Through Recommendations</td>\n",
       "      <td>0</td>\n",
       "      <td>0.00</td>\n",
       "    </tr>\n",
       "    <tr>\n",
       "      <th>21</th>\n",
       "      <td>Digital Advertisement</td>\n",
       "      <td>0</td>\n",
       "      <td>0.00</td>\n",
       "    </tr>\n",
       "    <tr>\n",
       "      <th>20</th>\n",
       "      <td>Newspaper</td>\n",
       "      <td>0</td>\n",
       "      <td>0.00</td>\n",
       "    </tr>\n",
       "    <tr>\n",
       "      <th>19</th>\n",
       "      <td>X Education Forums</td>\n",
       "      <td>0</td>\n",
       "      <td>0.00</td>\n",
       "    </tr>\n",
       "    <tr>\n",
       "      <th>1</th>\n",
       "      <td>Lead Number</td>\n",
       "      <td>0</td>\n",
       "      <td>0.00</td>\n",
       "    </tr>\n",
       "    <tr>\n",
       "      <th>17</th>\n",
       "      <td>Magazine</td>\n",
       "      <td>0</td>\n",
       "      <td>0.00</td>\n",
       "    </tr>\n",
       "    <tr>\n",
       "      <th>16</th>\n",
       "      <td>Search</td>\n",
       "      <td>0</td>\n",
       "      <td>0.00</td>\n",
       "    </tr>\n",
       "    <tr>\n",
       "      <th>8</th>\n",
       "      <td>Total Time Spent on Website</td>\n",
       "      <td>0</td>\n",
       "      <td>0.00</td>\n",
       "    </tr>\n",
       "    <tr>\n",
       "      <th>6</th>\n",
       "      <td>Converted</td>\n",
       "      <td>0</td>\n",
       "      <td>0.00</td>\n",
       "    </tr>\n",
       "    <tr>\n",
       "      <th>5</th>\n",
       "      <td>Do Not Call</td>\n",
       "      <td>0</td>\n",
       "      <td>0.00</td>\n",
       "    </tr>\n",
       "    <tr>\n",
       "      <th>4</th>\n",
       "      <td>Do Not Email</td>\n",
       "      <td>0</td>\n",
       "      <td>0.00</td>\n",
       "    </tr>\n",
       "    <tr>\n",
       "      <th>2</th>\n",
       "      <td>Lead Origin</td>\n",
       "      <td>0</td>\n",
       "      <td>0.00</td>\n",
       "    </tr>\n",
       "    <tr>\n",
       "      <th>36</th>\n",
       "      <td>Last Notable Activity</td>\n",
       "      <td>0</td>\n",
       "      <td>0.00</td>\n",
       "    </tr>\n",
       "  </tbody>\n",
       "</table>\n",
       "</div>"
      ],
      "text/plain": [
       "                                          Columns  Null_Value_Cnt  \\\n",
       "25                                   Lead Quality            4767   \n",
       "30                    Asymmetrique Activity Index            4218   \n",
       "33                     Asymmetrique Profile Score            4218   \n",
       "32                    Asymmetrique Activity Score            4218   \n",
       "31                     Asymmetrique Profile Index            4218   \n",
       "24                                           Tags            3353   \n",
       "28                                   Lead Profile            2709   \n",
       "15  What matters most to you in choosing a course            2709   \n",
       "14                What is your current occupation            2690   \n",
       "11                                        Country            2461   \n",
       "13             How did you hear about X Education            2207   \n",
       "12                                 Specialization            1438   \n",
       "29                                           City            1420   \n",
       "9                            Page Views Per Visit             137   \n",
       "7                                     TotalVisits             137   \n",
       "10                                  Last Activity             103   \n",
       "3                                     Lead Source              36   \n",
       "23         Receive More Updates About Our Courses               0   \n",
       "34       I agree to pay the amount through cheque               0   \n",
       "27                      Get updates on DM Content               0   \n",
       "26              Update me on Supply Chain Content               0   \n",
       "35         A free copy of Mastering The Interview               0   \n",
       "0                                     Prospect ID               0   \n",
       "18                              Newspaper Article               0   \n",
       "22                        Through Recommendations               0   \n",
       "21                          Digital Advertisement               0   \n",
       "20                                      Newspaper               0   \n",
       "19                             X Education Forums               0   \n",
       "1                                     Lead Number               0   \n",
       "17                                       Magazine               0   \n",
       "16                                         Search               0   \n",
       "8                     Total Time Spent on Website               0   \n",
       "6                                       Converted               0   \n",
       "5                                     Do Not Call               0   \n",
       "4                                    Do Not Email               0   \n",
       "2                                     Lead Origin               0   \n",
       "36                          Last Notable Activity               0   \n",
       "\n",
       "    Null_Value_Perc  \n",
       "25            51.59  \n",
       "30            45.65  \n",
       "33            45.65  \n",
       "32            45.65  \n",
       "31            45.65  \n",
       "24            36.29  \n",
       "28            29.32  \n",
       "15            29.32  \n",
       "14            29.11  \n",
       "11            26.63  \n",
       "13            23.89  \n",
       "12            15.56  \n",
       "29            15.37  \n",
       "9              1.48  \n",
       "7              1.48  \n",
       "10             1.11  \n",
       "3              0.39  \n",
       "23             0.00  \n",
       "34             0.00  \n",
       "27             0.00  \n",
       "26             0.00  \n",
       "35             0.00  \n",
       "0              0.00  \n",
       "18             0.00  \n",
       "22             0.00  \n",
       "21             0.00  \n",
       "20             0.00  \n",
       "19             0.00  \n",
       "1              0.00  \n",
       "17             0.00  \n",
       "16             0.00  \n",
       "8              0.00  \n",
       "6              0.00  \n",
       "5              0.00  \n",
       "4              0.00  \n",
       "2              0.00  \n",
       "36             0.00  "
      ]
     },
     "execution_count": 8,
     "metadata": {},
     "output_type": "execute_result"
    }
   ],
   "source": [
    "nulls.sort_values(by='Null_Value_Perc', axis=0, ascending=False)"
   ]
  },
  {
   "cell_type": "markdown",
   "id": "89f9a533",
   "metadata": {},
   "source": [
    "Dropping columns with more than 30% null values."
   ]
  },
  {
   "cell_type": "code",
   "execution_count": 9,
   "id": "7a4d1a30",
   "metadata": {},
   "outputs": [
    {
     "data": {
      "text/html": [
       "<div>\n",
       "<style scoped>\n",
       "    .dataframe tbody tr th:only-of-type {\n",
       "        vertical-align: middle;\n",
       "    }\n",
       "\n",
       "    .dataframe tbody tr th {\n",
       "        vertical-align: top;\n",
       "    }\n",
       "\n",
       "    .dataframe thead th {\n",
       "        text-align: right;\n",
       "    }\n",
       "</style>\n",
       "<table border=\"1\" class=\"dataframe\">\n",
       "  <thead>\n",
       "    <tr style=\"text-align: right;\">\n",
       "      <th></th>\n",
       "      <th>Columns</th>\n",
       "      <th>Null_Value_Cnt</th>\n",
       "      <th>Null_Value_Perc</th>\n",
       "    </tr>\n",
       "  </thead>\n",
       "  <tbody>\n",
       "    <tr>\n",
       "      <th>15</th>\n",
       "      <td>What matters most to you in choosing a course</td>\n",
       "      <td>2709</td>\n",
       "      <td>29.32</td>\n",
       "    </tr>\n",
       "    <tr>\n",
       "      <th>28</th>\n",
       "      <td>Lead Profile</td>\n",
       "      <td>2709</td>\n",
       "      <td>29.32</td>\n",
       "    </tr>\n",
       "    <tr>\n",
       "      <th>14</th>\n",
       "      <td>What is your current occupation</td>\n",
       "      <td>2690</td>\n",
       "      <td>29.11</td>\n",
       "    </tr>\n",
       "    <tr>\n",
       "      <th>11</th>\n",
       "      <td>Country</td>\n",
       "      <td>2461</td>\n",
       "      <td>26.63</td>\n",
       "    </tr>\n",
       "    <tr>\n",
       "      <th>13</th>\n",
       "      <td>How did you hear about X Education</td>\n",
       "      <td>2207</td>\n",
       "      <td>23.89</td>\n",
       "    </tr>\n",
       "    <tr>\n",
       "      <th>12</th>\n",
       "      <td>Specialization</td>\n",
       "      <td>1438</td>\n",
       "      <td>15.56</td>\n",
       "    </tr>\n",
       "    <tr>\n",
       "      <th>29</th>\n",
       "      <td>City</td>\n",
       "      <td>1420</td>\n",
       "      <td>15.37</td>\n",
       "    </tr>\n",
       "    <tr>\n",
       "      <th>9</th>\n",
       "      <td>Page Views Per Visit</td>\n",
       "      <td>137</td>\n",
       "      <td>1.48</td>\n",
       "    </tr>\n",
       "    <tr>\n",
       "      <th>7</th>\n",
       "      <td>TotalVisits</td>\n",
       "      <td>137</td>\n",
       "      <td>1.48</td>\n",
       "    </tr>\n",
       "    <tr>\n",
       "      <th>10</th>\n",
       "      <td>Last Activity</td>\n",
       "      <td>103</td>\n",
       "      <td>1.11</td>\n",
       "    </tr>\n",
       "    <tr>\n",
       "      <th>3</th>\n",
       "      <td>Lead Source</td>\n",
       "      <td>36</td>\n",
       "      <td>0.39</td>\n",
       "    </tr>\n",
       "    <tr>\n",
       "      <th>27</th>\n",
       "      <td>Get updates on DM Content</td>\n",
       "      <td>0</td>\n",
       "      <td>0.00</td>\n",
       "    </tr>\n",
       "    <tr>\n",
       "      <th>20</th>\n",
       "      <td>Newspaper</td>\n",
       "      <td>0</td>\n",
       "      <td>0.00</td>\n",
       "    </tr>\n",
       "    <tr>\n",
       "      <th>34</th>\n",
       "      <td>I agree to pay the amount through cheque</td>\n",
       "      <td>0</td>\n",
       "      <td>0.00</td>\n",
       "    </tr>\n",
       "    <tr>\n",
       "      <th>35</th>\n",
       "      <td>A free copy of Mastering The Interview</td>\n",
       "      <td>0</td>\n",
       "      <td>0.00</td>\n",
       "    </tr>\n",
       "    <tr>\n",
       "      <th>26</th>\n",
       "      <td>Update me on Supply Chain Content</td>\n",
       "      <td>0</td>\n",
       "      <td>0.00</td>\n",
       "    </tr>\n",
       "    <tr>\n",
       "      <th>23</th>\n",
       "      <td>Receive More Updates About Our Courses</td>\n",
       "      <td>0</td>\n",
       "      <td>0.00</td>\n",
       "    </tr>\n",
       "    <tr>\n",
       "      <th>22</th>\n",
       "      <td>Through Recommendations</td>\n",
       "      <td>0</td>\n",
       "      <td>0.00</td>\n",
       "    </tr>\n",
       "    <tr>\n",
       "      <th>21</th>\n",
       "      <td>Digital Advertisement</td>\n",
       "      <td>0</td>\n",
       "      <td>0.00</td>\n",
       "    </tr>\n",
       "    <tr>\n",
       "      <th>0</th>\n",
       "      <td>Prospect ID</td>\n",
       "      <td>0</td>\n",
       "      <td>0.00</td>\n",
       "    </tr>\n",
       "    <tr>\n",
       "      <th>19</th>\n",
       "      <td>X Education Forums</td>\n",
       "      <td>0</td>\n",
       "      <td>0.00</td>\n",
       "    </tr>\n",
       "    <tr>\n",
       "      <th>18</th>\n",
       "      <td>Newspaper Article</td>\n",
       "      <td>0</td>\n",
       "      <td>0.00</td>\n",
       "    </tr>\n",
       "    <tr>\n",
       "      <th>17</th>\n",
       "      <td>Magazine</td>\n",
       "      <td>0</td>\n",
       "      <td>0.00</td>\n",
       "    </tr>\n",
       "    <tr>\n",
       "      <th>16</th>\n",
       "      <td>Search</td>\n",
       "      <td>0</td>\n",
       "      <td>0.00</td>\n",
       "    </tr>\n",
       "    <tr>\n",
       "      <th>1</th>\n",
       "      <td>Lead Number</td>\n",
       "      <td>0</td>\n",
       "      <td>0.00</td>\n",
       "    </tr>\n",
       "    <tr>\n",
       "      <th>8</th>\n",
       "      <td>Total Time Spent on Website</td>\n",
       "      <td>0</td>\n",
       "      <td>0.00</td>\n",
       "    </tr>\n",
       "    <tr>\n",
       "      <th>6</th>\n",
       "      <td>Converted</td>\n",
       "      <td>0</td>\n",
       "      <td>0.00</td>\n",
       "    </tr>\n",
       "    <tr>\n",
       "      <th>5</th>\n",
       "      <td>Do Not Call</td>\n",
       "      <td>0</td>\n",
       "      <td>0.00</td>\n",
       "    </tr>\n",
       "    <tr>\n",
       "      <th>4</th>\n",
       "      <td>Do Not Email</td>\n",
       "      <td>0</td>\n",
       "      <td>0.00</td>\n",
       "    </tr>\n",
       "    <tr>\n",
       "      <th>2</th>\n",
       "      <td>Lead Origin</td>\n",
       "      <td>0</td>\n",
       "      <td>0.00</td>\n",
       "    </tr>\n",
       "    <tr>\n",
       "      <th>36</th>\n",
       "      <td>Last Notable Activity</td>\n",
       "      <td>0</td>\n",
       "      <td>0.00</td>\n",
       "    </tr>\n",
       "  </tbody>\n",
       "</table>\n",
       "</div>"
      ],
      "text/plain": [
       "                                          Columns  Null_Value_Cnt  \\\n",
       "15  What matters most to you in choosing a course            2709   \n",
       "28                                   Lead Profile            2709   \n",
       "14                What is your current occupation            2690   \n",
       "11                                        Country            2461   \n",
       "13             How did you hear about X Education            2207   \n",
       "12                                 Specialization            1438   \n",
       "29                                           City            1420   \n",
       "9                            Page Views Per Visit             137   \n",
       "7                                     TotalVisits             137   \n",
       "10                                  Last Activity             103   \n",
       "3                                     Lead Source              36   \n",
       "27                      Get updates on DM Content               0   \n",
       "20                                      Newspaper               0   \n",
       "34       I agree to pay the amount through cheque               0   \n",
       "35         A free copy of Mastering The Interview               0   \n",
       "26              Update me on Supply Chain Content               0   \n",
       "23         Receive More Updates About Our Courses               0   \n",
       "22                        Through Recommendations               0   \n",
       "21                          Digital Advertisement               0   \n",
       "0                                     Prospect ID               0   \n",
       "19                             X Education Forums               0   \n",
       "18                              Newspaper Article               0   \n",
       "17                                       Magazine               0   \n",
       "16                                         Search               0   \n",
       "1                                     Lead Number               0   \n",
       "8                     Total Time Spent on Website               0   \n",
       "6                                       Converted               0   \n",
       "5                                     Do Not Call               0   \n",
       "4                                    Do Not Email               0   \n",
       "2                                     Lead Origin               0   \n",
       "36                          Last Notable Activity               0   \n",
       "\n",
       "    Null_Value_Perc  \n",
       "15            29.32  \n",
       "28            29.32  \n",
       "14            29.11  \n",
       "11            26.63  \n",
       "13            23.89  \n",
       "12            15.56  \n",
       "29            15.37  \n",
       "9              1.48  \n",
       "7              1.48  \n",
       "10             1.11  \n",
       "3              0.39  \n",
       "27             0.00  \n",
       "20             0.00  \n",
       "34             0.00  \n",
       "35             0.00  \n",
       "26             0.00  \n",
       "23             0.00  \n",
       "22             0.00  \n",
       "21             0.00  \n",
       "0              0.00  \n",
       "19             0.00  \n",
       "18             0.00  \n",
       "17             0.00  \n",
       "16             0.00  \n",
       "1              0.00  \n",
       "8              0.00  \n",
       "6              0.00  \n",
       "5              0.00  \n",
       "4              0.00  \n",
       "2              0.00  \n",
       "36             0.00  "
      ]
     },
     "execution_count": 9,
     "metadata": {},
     "output_type": "execute_result"
    }
   ],
   "source": [
    "#get the column names that have more than 30% missing values\n",
    "cols_to_drop = nulls[nulls['Null_Value_Perc'] > 30.00]['Columns'].to_list()\n",
    "\n",
    "# remove those columns from the leads dataframe\n",
    "leads.drop(columns=cols_to_drop, axis=1, inplace=True)\n",
    "\n",
    "#remove the column names from the nulls dataframe as well\n",
    "nulls = nulls[~nulls.Columns.isin(cols_to_drop)]\n",
    "\n",
    "#review the remaining null value columns\n",
    "nulls.sort_values(by='Null_Value_Perc', axis=0, ascending=False)"
   ]
  },
  {
   "cell_type": "code",
   "execution_count": 10,
   "id": "393dab7d",
   "metadata": {},
   "outputs": [
    {
     "data": {
      "text/plain": [
       "(9240, 31)"
      ]
     },
     "execution_count": 10,
     "metadata": {},
     "output_type": "execute_result"
    }
   ],
   "source": [
    "leads.shape"
   ]
  },
  {
   "cell_type": "markdown",
   "id": "c41d64ed",
   "metadata": {},
   "source": [
    "6 columns have been dropped due to excess null values."
   ]
  },
  {
   "cell_type": "markdown",
   "id": "a51b3163",
   "metadata": {},
   "source": [
    "Columns that have been dropped👇"
   ]
  },
  {
   "cell_type": "code",
   "execution_count": 11,
   "id": "cb74aadc",
   "metadata": {},
   "outputs": [
    {
     "name": "stdout",
     "output_type": "stream",
     "text": [
      "['Tags', 'Lead Quality', 'Asymmetrique Activity Index', 'Asymmetrique Profile Index', 'Asymmetrique Activity Score', 'Asymmetrique Profile Score']\n"
     ]
    }
   ],
   "source": [
    "print(cols_to_drop)"
   ]
  },
  {
   "cell_type": "markdown",
   "id": "9b7ad446",
   "metadata": {},
   "source": [
    "Hnadling null value columns one by one in decending order of percentage null values in them"
   ]
  },
  {
   "cell_type": "code",
   "execution_count": 12,
   "id": "388583f4",
   "metadata": {},
   "outputs": [],
   "source": [
    "# get a list of column names to be handled\n",
    "\n",
    "#get columns where %Null Values !=0, sort them in decending order and store in a list\n",
    "null_value_cols = nulls[nulls['Null_Value_Perc'] != 0].sort_values(by='Null_Value_Perc', axis=0, ascending=False)['Columns'].to_list()"
   ]
  },
  {
   "cell_type": "code",
   "execution_count": 13,
   "id": "fc5d60f0",
   "metadata": {},
   "outputs": [
    {
     "data": {
      "text/plain": [
       "['What matters most to you in choosing a course',\n",
       " 'Lead Profile',\n",
       " 'What is your current occupation',\n",
       " 'Country',\n",
       " 'How did you hear about X Education',\n",
       " 'Specialization',\n",
       " 'City',\n",
       " 'TotalVisits',\n",
       " 'Page Views Per Visit',\n",
       " 'Last Activity',\n",
       " 'Lead Source']"
      ]
     },
     "execution_count": 13,
     "metadata": {},
     "output_type": "execute_result"
    }
   ],
   "source": [
    "null_value_cols"
   ]
  },
  {
   "cell_type": "markdown",
   "id": "92776d63",
   "metadata": {},
   "source": [
    "Column 1: What matters most to you in choosing a course"
   ]
  },
  {
   "cell_type": "code",
   "execution_count": 14,
   "id": "5123f660",
   "metadata": {},
   "outputs": [
    {
     "data": {
      "text/html": [
       "<div>\n",
       "<style scoped>\n",
       "    .dataframe tbody tr th:only-of-type {\n",
       "        vertical-align: middle;\n",
       "    }\n",
       "\n",
       "    .dataframe tbody tr th {\n",
       "        vertical-align: top;\n",
       "    }\n",
       "\n",
       "    .dataframe thead th {\n",
       "        text-align: right;\n",
       "    }\n",
       "</style>\n",
       "<table border=\"1\" class=\"dataframe\">\n",
       "  <thead>\n",
       "    <tr style=\"text-align: right;\">\n",
       "      <th></th>\n",
       "      <th>Columns</th>\n",
       "      <th>Null_Value_Cnt</th>\n",
       "      <th>Null_Value_Perc</th>\n",
       "    </tr>\n",
       "  </thead>\n",
       "  <tbody>\n",
       "    <tr>\n",
       "      <th>15</th>\n",
       "      <td>What matters most to you in choosing a course</td>\n",
       "      <td>2709</td>\n",
       "      <td>29.32</td>\n",
       "    </tr>\n",
       "  </tbody>\n",
       "</table>\n",
       "</div>"
      ],
      "text/plain": [
       "                                          Columns  Null_Value_Cnt  \\\n",
       "15  What matters most to you in choosing a course            2709   \n",
       "\n",
       "    Null_Value_Perc  \n",
       "15            29.32  "
      ]
     },
     "execution_count": 14,
     "metadata": {},
     "output_type": "execute_result"
    }
   ],
   "source": [
    "nulls[nulls.Columns == 'What matters most to you in choosing a course']"
   ]
  },
  {
   "cell_type": "code",
   "execution_count": 15,
   "id": "79be9a7f",
   "metadata": {},
   "outputs": [
    {
     "data": {
      "text/plain": [
       "Better Career Prospects      6528\n",
       "Flexibility & Convenience       2\n",
       "Other                           1\n",
       "Name: What matters most to you in choosing a course, dtype: int64"
      ]
     },
     "execution_count": 15,
     "metadata": {},
     "output_type": "execute_result"
    }
   ],
   "source": [
    "#Contents of the colummn\n",
    "leads['What matters most to you in choosing a course'].value_counts()"
   ]
  },
  {
   "cell_type": "code",
   "execution_count": 16,
   "id": "36723ffc",
   "metadata": {},
   "outputs": [
    {
     "data": {
      "text/plain": [
       "70.64935064935065"
      ]
     },
     "execution_count": 16,
     "metadata": {},
     "output_type": "execute_result"
    }
   ],
   "source": [
    "#percentage of 'Better Career Prospects' values in the column\n",
    "6528 / (6528 + 2 + 1 + 2709) * 100"
   ]
  },
  {
   "cell_type": "markdown",
   "id": "09fbd01e",
   "metadata": {},
   "source": [
    "The contets of column are highly skewed. About 70% values are of one type and the other significant portion of values are null.\n",
    "\n",
    "Hence, dropping this column from analysis."
   ]
  },
  {
   "cell_type": "code",
   "execution_count": 17,
   "id": "786e5763",
   "metadata": {},
   "outputs": [],
   "source": [
    "#drop column from leads daaframe\n",
    "leads = leads.drop('What matters most to you in choosing a course', axis=1)\n",
    "\n",
    "#drop row from nulls dataframe\n",
    "nulls = nulls[nulls.Columns != 'What matters most to you in choosing a course']"
   ]
  },
  {
   "cell_type": "code",
   "execution_count": 18,
   "id": "fa62716e",
   "metadata": {},
   "outputs": [
    {
     "data": {
      "text/plain": [
       "(9240, 30)"
      ]
     },
     "execution_count": 18,
     "metadata": {},
     "output_type": "execute_result"
    }
   ],
   "source": [
    "#check\n",
    "leads.shape"
   ]
  },
  {
   "cell_type": "code",
   "execution_count": 19,
   "id": "605da757",
   "metadata": {},
   "outputs": [
    {
     "data": {
      "text/html": [
       "<div>\n",
       "<style scoped>\n",
       "    .dataframe tbody tr th:only-of-type {\n",
       "        vertical-align: middle;\n",
       "    }\n",
       "\n",
       "    .dataframe tbody tr th {\n",
       "        vertical-align: top;\n",
       "    }\n",
       "\n",
       "    .dataframe thead th {\n",
       "        text-align: right;\n",
       "    }\n",
       "</style>\n",
       "<table border=\"1\" class=\"dataframe\">\n",
       "  <thead>\n",
       "    <tr style=\"text-align: right;\">\n",
       "      <th></th>\n",
       "      <th>Columns</th>\n",
       "      <th>Null_Value_Cnt</th>\n",
       "      <th>Null_Value_Perc</th>\n",
       "    </tr>\n",
       "  </thead>\n",
       "  <tbody>\n",
       "    <tr>\n",
       "      <th>28</th>\n",
       "      <td>Lead Profile</td>\n",
       "      <td>2709</td>\n",
       "      <td>29.32</td>\n",
       "    </tr>\n",
       "    <tr>\n",
       "      <th>14</th>\n",
       "      <td>What is your current occupation</td>\n",
       "      <td>2690</td>\n",
       "      <td>29.11</td>\n",
       "    </tr>\n",
       "    <tr>\n",
       "      <th>11</th>\n",
       "      <td>Country</td>\n",
       "      <td>2461</td>\n",
       "      <td>26.63</td>\n",
       "    </tr>\n",
       "    <tr>\n",
       "      <th>13</th>\n",
       "      <td>How did you hear about X Education</td>\n",
       "      <td>2207</td>\n",
       "      <td>23.89</td>\n",
       "    </tr>\n",
       "    <tr>\n",
       "      <th>12</th>\n",
       "      <td>Specialization</td>\n",
       "      <td>1438</td>\n",
       "      <td>15.56</td>\n",
       "    </tr>\n",
       "  </tbody>\n",
       "</table>\n",
       "</div>"
      ],
      "text/plain": [
       "                               Columns  Null_Value_Cnt  Null_Value_Perc\n",
       "28                        Lead Profile            2709            29.32\n",
       "14     What is your current occupation            2690            29.11\n",
       "11                             Country            2461            26.63\n",
       "13  How did you hear about X Education            2207            23.89\n",
       "12                      Specialization            1438            15.56"
      ]
     },
     "execution_count": 19,
     "metadata": {},
     "output_type": "execute_result"
    }
   ],
   "source": [
    "#check\n",
    "nulls.sort_values(by='Null_Value_Perc', axis=0, ascending=False).head()"
   ]
  },
  {
   "cell_type": "markdown",
   "id": "474e1a15",
   "metadata": {},
   "source": [
    "Column 2: Lead Profile"
   ]
  },
  {
   "cell_type": "code",
   "execution_count": 20,
   "id": "8431659b",
   "metadata": {},
   "outputs": [
    {
     "data": {
      "text/html": [
       "<div>\n",
       "<style scoped>\n",
       "    .dataframe tbody tr th:only-of-type {\n",
       "        vertical-align: middle;\n",
       "    }\n",
       "\n",
       "    .dataframe tbody tr th {\n",
       "        vertical-align: top;\n",
       "    }\n",
       "\n",
       "    .dataframe thead th {\n",
       "        text-align: right;\n",
       "    }\n",
       "</style>\n",
       "<table border=\"1\" class=\"dataframe\">\n",
       "  <thead>\n",
       "    <tr style=\"text-align: right;\">\n",
       "      <th></th>\n",
       "      <th>Columns</th>\n",
       "      <th>Null_Value_Cnt</th>\n",
       "      <th>Null_Value_Perc</th>\n",
       "    </tr>\n",
       "  </thead>\n",
       "  <tbody>\n",
       "    <tr>\n",
       "      <th>28</th>\n",
       "      <td>Lead Profile</td>\n",
       "      <td>2709</td>\n",
       "      <td>29.32</td>\n",
       "    </tr>\n",
       "  </tbody>\n",
       "</table>\n",
       "</div>"
      ],
      "text/plain": [
       "         Columns  Null_Value_Cnt  Null_Value_Perc\n",
       "28  Lead Profile            2709            29.32"
      ]
     },
     "execution_count": 20,
     "metadata": {},
     "output_type": "execute_result"
    }
   ],
   "source": [
    "nulls[nulls.Columns == 'Lead Profile']"
   ]
  },
  {
   "cell_type": "code",
   "execution_count": 21,
   "id": "3dd8b842",
   "metadata": {},
   "outputs": [
    {
     "data": {
      "text/plain": [
       "Select                         4146\n",
       "Potential Lead                 1613\n",
       "Other Leads                     487\n",
       "Student of SomeSchool           241\n",
       "Lateral Student                  24\n",
       "Dual Specialization Student      20\n",
       "Name: Lead Profile, dtype: int64"
      ]
     },
     "execution_count": 21,
     "metadata": {},
     "output_type": "execute_result"
    }
   ],
   "source": [
    "#Contents of the colummn\n",
    "leads['Lead Profile'].value_counts()"
   ]
  },
  {
   "cell_type": "markdown",
   "id": "027566cf",
   "metadata": {},
   "source": [
    "We know that Select also corressponds to null value in pur dataset.\n",
    "\n",
    "Recalculating actual null value count"
   ]
  },
  {
   "cell_type": "code",
   "execution_count": 22,
   "id": "3ecc17b2",
   "metadata": {},
   "outputs": [
    {
     "data": {
      "text/plain": [
       "74.18831168831169"
      ]
     },
     "execution_count": 22,
     "metadata": {},
     "output_type": "execute_result"
    }
   ],
   "source": [
    "(4146+2709)/(leads.shape[0])*100"
   ]
  },
  {
   "cell_type": "markdown",
   "id": "8ec8d812",
   "metadata": {},
   "source": [
    "About 74% of the values in the column are null values.\n",
    "\n",
    "Hence, dropping the column from further analysis."
   ]
  },
  {
   "cell_type": "code",
   "execution_count": 23,
   "id": "5c4b4b88",
   "metadata": {},
   "outputs": [],
   "source": [
    "#drop column from leads daaframe\n",
    "leads = leads.drop('Lead Profile', axis=1)\n",
    "\n",
    "#drop row from nulls dataframe\n",
    "nulls = nulls[nulls.Columns != 'Lead Profile']"
   ]
  },
  {
   "cell_type": "code",
   "execution_count": 24,
   "id": "f2c91c30",
   "metadata": {},
   "outputs": [
    {
     "data": {
      "text/plain": [
       "(9240, 29)"
      ]
     },
     "execution_count": 24,
     "metadata": {},
     "output_type": "execute_result"
    }
   ],
   "source": [
    "#check\n",
    "leads.shape"
   ]
  },
  {
   "cell_type": "code",
   "execution_count": 25,
   "id": "de50e323",
   "metadata": {},
   "outputs": [
    {
     "data": {
      "text/html": [
       "<div>\n",
       "<style scoped>\n",
       "    .dataframe tbody tr th:only-of-type {\n",
       "        vertical-align: middle;\n",
       "    }\n",
       "\n",
       "    .dataframe tbody tr th {\n",
       "        vertical-align: top;\n",
       "    }\n",
       "\n",
       "    .dataframe thead th {\n",
       "        text-align: right;\n",
       "    }\n",
       "</style>\n",
       "<table border=\"1\" class=\"dataframe\">\n",
       "  <thead>\n",
       "    <tr style=\"text-align: right;\">\n",
       "      <th></th>\n",
       "      <th>Columns</th>\n",
       "      <th>Null_Value_Cnt</th>\n",
       "      <th>Null_Value_Perc</th>\n",
       "    </tr>\n",
       "  </thead>\n",
       "  <tbody>\n",
       "    <tr>\n",
       "      <th>14</th>\n",
       "      <td>What is your current occupation</td>\n",
       "      <td>2690</td>\n",
       "      <td>29.11</td>\n",
       "    </tr>\n",
       "    <tr>\n",
       "      <th>11</th>\n",
       "      <td>Country</td>\n",
       "      <td>2461</td>\n",
       "      <td>26.63</td>\n",
       "    </tr>\n",
       "    <tr>\n",
       "      <th>13</th>\n",
       "      <td>How did you hear about X Education</td>\n",
       "      <td>2207</td>\n",
       "      <td>23.89</td>\n",
       "    </tr>\n",
       "    <tr>\n",
       "      <th>12</th>\n",
       "      <td>Specialization</td>\n",
       "      <td>1438</td>\n",
       "      <td>15.56</td>\n",
       "    </tr>\n",
       "    <tr>\n",
       "      <th>29</th>\n",
       "      <td>City</td>\n",
       "      <td>1420</td>\n",
       "      <td>15.37</td>\n",
       "    </tr>\n",
       "  </tbody>\n",
       "</table>\n",
       "</div>"
      ],
      "text/plain": [
       "                               Columns  Null_Value_Cnt  Null_Value_Perc\n",
       "14     What is your current occupation            2690            29.11\n",
       "11                             Country            2461            26.63\n",
       "13  How did you hear about X Education            2207            23.89\n",
       "12                      Specialization            1438            15.56\n",
       "29                                City            1420            15.37"
      ]
     },
     "execution_count": 25,
     "metadata": {},
     "output_type": "execute_result"
    }
   ],
   "source": [
    "#check\n",
    "nulls.sort_values(by='Null_Value_Perc', axis=0, ascending=False).head()"
   ]
  },
  {
   "cell_type": "markdown",
   "id": "f72aba66",
   "metadata": {},
   "source": [
    "Column 3: What is your current occupation"
   ]
  },
  {
   "cell_type": "code",
   "execution_count": 26,
   "id": "2acf084d",
   "metadata": {},
   "outputs": [
    {
     "data": {
      "text/html": [
       "<div>\n",
       "<style scoped>\n",
       "    .dataframe tbody tr th:only-of-type {\n",
       "        vertical-align: middle;\n",
       "    }\n",
       "\n",
       "    .dataframe tbody tr th {\n",
       "        vertical-align: top;\n",
       "    }\n",
       "\n",
       "    .dataframe thead th {\n",
       "        text-align: right;\n",
       "    }\n",
       "</style>\n",
       "<table border=\"1\" class=\"dataframe\">\n",
       "  <thead>\n",
       "    <tr style=\"text-align: right;\">\n",
       "      <th></th>\n",
       "      <th>Columns</th>\n",
       "      <th>Null_Value_Cnt</th>\n",
       "      <th>Null_Value_Perc</th>\n",
       "    </tr>\n",
       "  </thead>\n",
       "  <tbody>\n",
       "    <tr>\n",
       "      <th>14</th>\n",
       "      <td>What is your current occupation</td>\n",
       "      <td>2690</td>\n",
       "      <td>29.11</td>\n",
       "    </tr>\n",
       "  </tbody>\n",
       "</table>\n",
       "</div>"
      ],
      "text/plain": [
       "                            Columns  Null_Value_Cnt  Null_Value_Perc\n",
       "14  What is your current occupation            2690            29.11"
      ]
     },
     "execution_count": 26,
     "metadata": {},
     "output_type": "execute_result"
    }
   ],
   "source": [
    "nulls[nulls.Columns == 'What is your current occupation']"
   ]
  },
  {
   "cell_type": "code",
   "execution_count": 27,
   "id": "1e864a63",
   "metadata": {},
   "outputs": [
    {
     "data": {
      "text/plain": [
       "Unemployed              5600\n",
       "Working Professional     706\n",
       "Student                  210\n",
       "Other                     16\n",
       "Housewife                 10\n",
       "Businessman                8\n",
       "Name: What is your current occupation, dtype: int64"
      ]
     },
     "execution_count": 27,
     "metadata": {},
     "output_type": "execute_result"
    }
   ],
   "source": [
    "#Contents of the colummn\n",
    "leads['What is your current occupation'].value_counts()"
   ]
  },
  {
   "cell_type": "code",
   "execution_count": 28,
   "id": "347a21e2",
   "metadata": {},
   "outputs": [
    {
     "data": {
      "text/plain": [
       "60.60606060606061"
      ]
     },
     "execution_count": 28,
     "metadata": {},
     "output_type": "execute_result"
    }
   ],
   "source": [
    "# % skewness in column values\n",
    "5600/leads.shape[0]*100"
   ]
  },
  {
   "cell_type": "markdown",
   "id": "784052dd",
   "metadata": {},
   "source": [
    "- **Important observation :** The company is selling courses designed for working professionals, but majority of the targeted audience is unemployed.\n",
    "- The column data is highly skewed\n",
    "- Null value percentage is very high, close to 30%\n",
    "- Imputing null values with mode value will further skew the column data\n",
    "\n",
    "The above observation needs to be highlighted to business stakeholders and column can be dropped from further analysis."
   ]
  },
  {
   "cell_type": "code",
   "execution_count": 29,
   "id": "999fe92d",
   "metadata": {},
   "outputs": [],
   "source": [
    "#drop column from leads daaframe\n",
    "leads = leads.drop('What is your current occupation', axis=1)\n",
    "\n",
    "#drop row from nulls dataframe\n",
    "nulls = nulls[nulls.Columns != 'What is your current occupation']"
   ]
  },
  {
   "cell_type": "code",
   "execution_count": 30,
   "id": "45f7345e",
   "metadata": {},
   "outputs": [
    {
     "data": {
      "text/plain": [
       "(9240, 28)"
      ]
     },
     "execution_count": 30,
     "metadata": {},
     "output_type": "execute_result"
    }
   ],
   "source": [
    "#check\n",
    "leads.shape"
   ]
  },
  {
   "cell_type": "code",
   "execution_count": 31,
   "id": "26dc15ca",
   "metadata": {},
   "outputs": [
    {
     "data": {
      "text/html": [
       "<div>\n",
       "<style scoped>\n",
       "    .dataframe tbody tr th:only-of-type {\n",
       "        vertical-align: middle;\n",
       "    }\n",
       "\n",
       "    .dataframe tbody tr th {\n",
       "        vertical-align: top;\n",
       "    }\n",
       "\n",
       "    .dataframe thead th {\n",
       "        text-align: right;\n",
       "    }\n",
       "</style>\n",
       "<table border=\"1\" class=\"dataframe\">\n",
       "  <thead>\n",
       "    <tr style=\"text-align: right;\">\n",
       "      <th></th>\n",
       "      <th>Columns</th>\n",
       "      <th>Null_Value_Cnt</th>\n",
       "      <th>Null_Value_Perc</th>\n",
       "    </tr>\n",
       "  </thead>\n",
       "  <tbody>\n",
       "    <tr>\n",
       "      <th>11</th>\n",
       "      <td>Country</td>\n",
       "      <td>2461</td>\n",
       "      <td>26.63</td>\n",
       "    </tr>\n",
       "    <tr>\n",
       "      <th>13</th>\n",
       "      <td>How did you hear about X Education</td>\n",
       "      <td>2207</td>\n",
       "      <td>23.89</td>\n",
       "    </tr>\n",
       "    <tr>\n",
       "      <th>12</th>\n",
       "      <td>Specialization</td>\n",
       "      <td>1438</td>\n",
       "      <td>15.56</td>\n",
       "    </tr>\n",
       "    <tr>\n",
       "      <th>29</th>\n",
       "      <td>City</td>\n",
       "      <td>1420</td>\n",
       "      <td>15.37</td>\n",
       "    </tr>\n",
       "    <tr>\n",
       "      <th>7</th>\n",
       "      <td>TotalVisits</td>\n",
       "      <td>137</td>\n",
       "      <td>1.48</td>\n",
       "    </tr>\n",
       "  </tbody>\n",
       "</table>\n",
       "</div>"
      ],
      "text/plain": [
       "                               Columns  Null_Value_Cnt  Null_Value_Perc\n",
       "11                             Country            2461            26.63\n",
       "13  How did you hear about X Education            2207            23.89\n",
       "12                      Specialization            1438            15.56\n",
       "29                                City            1420            15.37\n",
       "7                          TotalVisits             137             1.48"
      ]
     },
     "execution_count": 31,
     "metadata": {},
     "output_type": "execute_result"
    }
   ],
   "source": [
    "#check\n",
    "nulls.sort_values(by='Null_Value_Perc', axis=0, ascending=False).head()"
   ]
  },
  {
   "cell_type": "markdown",
   "id": "ca7deecf",
   "metadata": {},
   "source": [
    "Column 4: Country"
   ]
  },
  {
   "cell_type": "code",
   "execution_count": 32,
   "id": "da3b6061",
   "metadata": {},
   "outputs": [
    {
     "data": {
      "text/html": [
       "<div>\n",
       "<style scoped>\n",
       "    .dataframe tbody tr th:only-of-type {\n",
       "        vertical-align: middle;\n",
       "    }\n",
       "\n",
       "    .dataframe tbody tr th {\n",
       "        vertical-align: top;\n",
       "    }\n",
       "\n",
       "    .dataframe thead th {\n",
       "        text-align: right;\n",
       "    }\n",
       "</style>\n",
       "<table border=\"1\" class=\"dataframe\">\n",
       "  <thead>\n",
       "    <tr style=\"text-align: right;\">\n",
       "      <th></th>\n",
       "      <th>Columns</th>\n",
       "      <th>Null_Value_Cnt</th>\n",
       "      <th>Null_Value_Perc</th>\n",
       "    </tr>\n",
       "  </thead>\n",
       "  <tbody>\n",
       "    <tr>\n",
       "      <th>11</th>\n",
       "      <td>Country</td>\n",
       "      <td>2461</td>\n",
       "      <td>26.63</td>\n",
       "    </tr>\n",
       "  </tbody>\n",
       "</table>\n",
       "</div>"
      ],
      "text/plain": [
       "    Columns  Null_Value_Cnt  Null_Value_Perc\n",
       "11  Country            2461            26.63"
      ]
     },
     "execution_count": 32,
     "metadata": {},
     "output_type": "execute_result"
    }
   ],
   "source": [
    "nulls[nulls.Columns == 'Country']"
   ]
  },
  {
   "cell_type": "code",
   "execution_count": 33,
   "id": "6540af00",
   "metadata": {},
   "outputs": [
    {
     "data": {
      "text/plain": [
       "India                   6492\n",
       "United States             69\n",
       "United Arab Emirates      53\n",
       "Singapore                 24\n",
       "Saudi Arabia              21\n",
       "United Kingdom            15\n",
       "Australia                 13\n",
       "Qatar                     10\n",
       "Hong Kong                  7\n",
       "Bahrain                    7\n",
       "Oman                       6\n",
       "France                     6\n",
       "unknown                    5\n",
       "South Africa               4\n",
       "Nigeria                    4\n",
       "Germany                    4\n",
       "Kuwait                     4\n",
       "Canada                     4\n",
       "Sweden                     3\n",
       "China                      2\n",
       "Asia/Pacific Region        2\n",
       "Uganda                     2\n",
       "Bangladesh                 2\n",
       "Italy                      2\n",
       "Belgium                    2\n",
       "Netherlands                2\n",
       "Ghana                      2\n",
       "Philippines                2\n",
       "Russia                     1\n",
       "Switzerland                1\n",
       "Vietnam                    1\n",
       "Denmark                    1\n",
       "Tanzania                   1\n",
       "Liberia                    1\n",
       "Malaysia                   1\n",
       "Kenya                      1\n",
       "Sri Lanka                  1\n",
       "Indonesia                  1\n",
       "Name: Country, dtype: int64"
      ]
     },
     "execution_count": 33,
     "metadata": {},
     "output_type": "execute_result"
    }
   ],
   "source": [
    "#Contents of the colummn\n",
    "leads['Country'].value_counts()"
   ]
  },
  {
   "cell_type": "code",
   "execution_count": 34,
   "id": "4a07e13d",
   "metadata": {},
   "outputs": [
    {
     "data": {
      "text/plain": [
       "70.25974025974025"
      ]
     },
     "execution_count": 34,
     "metadata": {},
     "output_type": "execute_result"
    }
   ],
   "source": [
    "# % skewness in column values\n",
    "6492/leads.shape[0]*100"
   ]
  },
  {
   "cell_type": "markdown",
   "id": "d7353860",
   "metadata": {},
   "source": [
    "- **Important Observation:** Majority of the leads are Indian.\n",
    "- Column data is highly skewed\n",
    "\n",
    "Hence, dropping the column from further analysis"
   ]
  },
  {
   "cell_type": "code",
   "execution_count": 35,
   "id": "e9e4a634",
   "metadata": {},
   "outputs": [],
   "source": [
    "#drop column from leads daaframe\n",
    "leads = leads.drop('Country', axis=1)\n",
    "\n",
    "#drop row from nulls dataframe\n",
    "nulls = nulls[nulls.Columns != 'Country']"
   ]
  },
  {
   "cell_type": "code",
   "execution_count": 36,
   "id": "bbf07aad",
   "metadata": {
    "scrolled": true
   },
   "outputs": [
    {
     "data": {
      "text/plain": [
       "(9240, 27)"
      ]
     },
     "execution_count": 36,
     "metadata": {},
     "output_type": "execute_result"
    }
   ],
   "source": [
    "#check\n",
    "leads.shape"
   ]
  },
  {
   "cell_type": "code",
   "execution_count": 37,
   "id": "64c7a67f",
   "metadata": {},
   "outputs": [
    {
     "data": {
      "text/html": [
       "<div>\n",
       "<style scoped>\n",
       "    .dataframe tbody tr th:only-of-type {\n",
       "        vertical-align: middle;\n",
       "    }\n",
       "\n",
       "    .dataframe tbody tr th {\n",
       "        vertical-align: top;\n",
       "    }\n",
       "\n",
       "    .dataframe thead th {\n",
       "        text-align: right;\n",
       "    }\n",
       "</style>\n",
       "<table border=\"1\" class=\"dataframe\">\n",
       "  <thead>\n",
       "    <tr style=\"text-align: right;\">\n",
       "      <th></th>\n",
       "      <th>Columns</th>\n",
       "      <th>Null_Value_Cnt</th>\n",
       "      <th>Null_Value_Perc</th>\n",
       "    </tr>\n",
       "  </thead>\n",
       "  <tbody>\n",
       "    <tr>\n",
       "      <th>13</th>\n",
       "      <td>How did you hear about X Education</td>\n",
       "      <td>2207</td>\n",
       "      <td>23.89</td>\n",
       "    </tr>\n",
       "    <tr>\n",
       "      <th>12</th>\n",
       "      <td>Specialization</td>\n",
       "      <td>1438</td>\n",
       "      <td>15.56</td>\n",
       "    </tr>\n",
       "    <tr>\n",
       "      <th>29</th>\n",
       "      <td>City</td>\n",
       "      <td>1420</td>\n",
       "      <td>15.37</td>\n",
       "    </tr>\n",
       "    <tr>\n",
       "      <th>7</th>\n",
       "      <td>TotalVisits</td>\n",
       "      <td>137</td>\n",
       "      <td>1.48</td>\n",
       "    </tr>\n",
       "    <tr>\n",
       "      <th>9</th>\n",
       "      <td>Page Views Per Visit</td>\n",
       "      <td>137</td>\n",
       "      <td>1.48</td>\n",
       "    </tr>\n",
       "  </tbody>\n",
       "</table>\n",
       "</div>"
      ],
      "text/plain": [
       "                               Columns  Null_Value_Cnt  Null_Value_Perc\n",
       "13  How did you hear about X Education            2207            23.89\n",
       "12                      Specialization            1438            15.56\n",
       "29                                City            1420            15.37\n",
       "7                          TotalVisits             137             1.48\n",
       "9                 Page Views Per Visit             137             1.48"
      ]
     },
     "execution_count": 37,
     "metadata": {},
     "output_type": "execute_result"
    }
   ],
   "source": [
    "#check\n",
    "nulls.sort_values(by='Null_Value_Perc', axis=0, ascending=False).head()"
   ]
  },
  {
   "cell_type": "markdown",
   "id": "6c578fc2",
   "metadata": {},
   "source": [
    "Columnn 5: How did you hear about X Education"
   ]
  },
  {
   "cell_type": "code",
   "execution_count": 38,
   "id": "d304685b",
   "metadata": {},
   "outputs": [
    {
     "data": {
      "text/html": [
       "<div>\n",
       "<style scoped>\n",
       "    .dataframe tbody tr th:only-of-type {\n",
       "        vertical-align: middle;\n",
       "    }\n",
       "\n",
       "    .dataframe tbody tr th {\n",
       "        vertical-align: top;\n",
       "    }\n",
       "\n",
       "    .dataframe thead th {\n",
       "        text-align: right;\n",
       "    }\n",
       "</style>\n",
       "<table border=\"1\" class=\"dataframe\">\n",
       "  <thead>\n",
       "    <tr style=\"text-align: right;\">\n",
       "      <th></th>\n",
       "      <th>Columns</th>\n",
       "      <th>Null_Value_Cnt</th>\n",
       "      <th>Null_Value_Perc</th>\n",
       "    </tr>\n",
       "  </thead>\n",
       "  <tbody>\n",
       "    <tr>\n",
       "      <th>13</th>\n",
       "      <td>How did you hear about X Education</td>\n",
       "      <td>2207</td>\n",
       "      <td>23.89</td>\n",
       "    </tr>\n",
       "  </tbody>\n",
       "</table>\n",
       "</div>"
      ],
      "text/plain": [
       "                               Columns  Null_Value_Cnt  Null_Value_Perc\n",
       "13  How did you hear about X Education            2207            23.89"
      ]
     },
     "execution_count": 38,
     "metadata": {},
     "output_type": "execute_result"
    }
   ],
   "source": [
    "nulls[nulls.Columns == 'How did you hear about X Education']"
   ]
  },
  {
   "cell_type": "code",
   "execution_count": 39,
   "id": "f80f24c2",
   "metadata": {},
   "outputs": [
    {
     "data": {
      "text/plain": [
       "Select                   5043\n",
       "Online Search             808\n",
       "Word Of Mouth             348\n",
       "Student of SomeSchool     310\n",
       "Other                     186\n",
       "Multiple Sources          152\n",
       "Advertisements             70\n",
       "Social Media               67\n",
       "Email                      26\n",
       "SMS                        23\n",
       "Name: How did you hear about X Education, dtype: int64"
      ]
     },
     "execution_count": 39,
     "metadata": {},
     "output_type": "execute_result"
    }
   ],
   "source": [
    "#Contents of the colummn\n",
    "leads['How did you hear about X Education'].value_counts()"
   ]
  },
  {
   "cell_type": "markdown",
   "id": "242a24e2",
   "metadata": {},
   "source": [
    "We know that Select also corressponds to null value.\n",
    "\n",
    "Calculating actual % of null values in column."
   ]
  },
  {
   "cell_type": "code",
   "execution_count": 40,
   "id": "17f0e51e",
   "metadata": {},
   "outputs": [
    {
     "data": {
      "text/plain": [
       "78.46320346320347"
      ]
     },
     "execution_count": 40,
     "metadata": {},
     "output_type": "execute_result"
    }
   ],
   "source": [
    "(2207+5043)/leads.shape[0]*100"
   ]
  },
  {
   "cell_type": "markdown",
   "id": "4f70fad5",
   "metadata": {},
   "source": [
    "About 78% of values in the column are null values.\n",
    "\n",
    "Hence, dropping the column from further analysis."
   ]
  },
  {
   "cell_type": "code",
   "execution_count": 41,
   "id": "995268fa",
   "metadata": {},
   "outputs": [],
   "source": [
    "#drop column from leads daaframe\n",
    "leads = leads.drop('How did you hear about X Education', axis=1)\n",
    "\n",
    "#drop row from nulls dataframe\n",
    "nulls = nulls[nulls.Columns != 'How did you hear about X Education']"
   ]
  },
  {
   "cell_type": "code",
   "execution_count": 42,
   "id": "e9c61a85",
   "metadata": {},
   "outputs": [
    {
     "data": {
      "text/plain": [
       "(9240, 26)"
      ]
     },
     "execution_count": 42,
     "metadata": {},
     "output_type": "execute_result"
    }
   ],
   "source": [
    "leads.shape"
   ]
  },
  {
   "cell_type": "code",
   "execution_count": 43,
   "id": "9da9f0a6",
   "metadata": {},
   "outputs": [
    {
     "data": {
      "text/html": [
       "<div>\n",
       "<style scoped>\n",
       "    .dataframe tbody tr th:only-of-type {\n",
       "        vertical-align: middle;\n",
       "    }\n",
       "\n",
       "    .dataframe tbody tr th {\n",
       "        vertical-align: top;\n",
       "    }\n",
       "\n",
       "    .dataframe thead th {\n",
       "        text-align: right;\n",
       "    }\n",
       "</style>\n",
       "<table border=\"1\" class=\"dataframe\">\n",
       "  <thead>\n",
       "    <tr style=\"text-align: right;\">\n",
       "      <th></th>\n",
       "      <th>Columns</th>\n",
       "      <th>Null_Value_Cnt</th>\n",
       "      <th>Null_Value_Perc</th>\n",
       "    </tr>\n",
       "  </thead>\n",
       "  <tbody>\n",
       "    <tr>\n",
       "      <th>12</th>\n",
       "      <td>Specialization</td>\n",
       "      <td>1438</td>\n",
       "      <td>15.56</td>\n",
       "    </tr>\n",
       "    <tr>\n",
       "      <th>29</th>\n",
       "      <td>City</td>\n",
       "      <td>1420</td>\n",
       "      <td>15.37</td>\n",
       "    </tr>\n",
       "    <tr>\n",
       "      <th>7</th>\n",
       "      <td>TotalVisits</td>\n",
       "      <td>137</td>\n",
       "      <td>1.48</td>\n",
       "    </tr>\n",
       "    <tr>\n",
       "      <th>9</th>\n",
       "      <td>Page Views Per Visit</td>\n",
       "      <td>137</td>\n",
       "      <td>1.48</td>\n",
       "    </tr>\n",
       "    <tr>\n",
       "      <th>10</th>\n",
       "      <td>Last Activity</td>\n",
       "      <td>103</td>\n",
       "      <td>1.11</td>\n",
       "    </tr>\n",
       "  </tbody>\n",
       "</table>\n",
       "</div>"
      ],
      "text/plain": [
       "                 Columns  Null_Value_Cnt  Null_Value_Perc\n",
       "12        Specialization            1438            15.56\n",
       "29                  City            1420            15.37\n",
       "7            TotalVisits             137             1.48\n",
       "9   Page Views Per Visit             137             1.48\n",
       "10         Last Activity             103             1.11"
      ]
     },
     "execution_count": 43,
     "metadata": {},
     "output_type": "execute_result"
    }
   ],
   "source": [
    "#check\n",
    "nulls.sort_values(by='Null_Value_Perc', axis=0, ascending=False).head()"
   ]
  },
  {
   "cell_type": "markdown",
   "id": "f432a144",
   "metadata": {},
   "source": [
    "Column 6: Specialization"
   ]
  },
  {
   "cell_type": "code",
   "execution_count": 44,
   "id": "f59a0f2d",
   "metadata": {},
   "outputs": [
    {
     "data": {
      "text/html": [
       "<div>\n",
       "<style scoped>\n",
       "    .dataframe tbody tr th:only-of-type {\n",
       "        vertical-align: middle;\n",
       "    }\n",
       "\n",
       "    .dataframe tbody tr th {\n",
       "        vertical-align: top;\n",
       "    }\n",
       "\n",
       "    .dataframe thead th {\n",
       "        text-align: right;\n",
       "    }\n",
       "</style>\n",
       "<table border=\"1\" class=\"dataframe\">\n",
       "  <thead>\n",
       "    <tr style=\"text-align: right;\">\n",
       "      <th></th>\n",
       "      <th>Columns</th>\n",
       "      <th>Null_Value_Cnt</th>\n",
       "      <th>Null_Value_Perc</th>\n",
       "    </tr>\n",
       "  </thead>\n",
       "  <tbody>\n",
       "    <tr>\n",
       "      <th>12</th>\n",
       "      <td>Specialization</td>\n",
       "      <td>1438</td>\n",
       "      <td>15.56</td>\n",
       "    </tr>\n",
       "  </tbody>\n",
       "</table>\n",
       "</div>"
      ],
      "text/plain": [
       "           Columns  Null_Value_Cnt  Null_Value_Perc\n",
       "12  Specialization            1438            15.56"
      ]
     },
     "execution_count": 44,
     "metadata": {},
     "output_type": "execute_result"
    }
   ],
   "source": [
    "nulls[nulls.Columns == 'Specialization']"
   ]
  },
  {
   "cell_type": "code",
   "execution_count": 45,
   "id": "4d69056a",
   "metadata": {},
   "outputs": [
    {
     "data": {
      "text/plain": [
       "Select                               1942\n",
       "Finance Management                    976\n",
       "Human Resource Management             848\n",
       "Marketing Management                  838\n",
       "Operations Management                 503\n",
       "Business Administration               403\n",
       "IT Projects Management                366\n",
       "Supply Chain Management               349\n",
       "Banking, Investment And Insurance     338\n",
       "Travel and Tourism                    203\n",
       "Media and Advertising                 203\n",
       "International Business                178\n",
       "Healthcare Management                 159\n",
       "Hospitality Management                114\n",
       "E-COMMERCE                            112\n",
       "Retail Management                     100\n",
       "Rural and Agribusiness                 73\n",
       "E-Business                             57\n",
       "Services Excellence                    40\n",
       "Name: Specialization, dtype: int64"
      ]
     },
     "execution_count": 45,
     "metadata": {},
     "output_type": "execute_result"
    }
   ],
   "source": [
    "#Contents of the colummn\n",
    "leads['Specialization'].value_counts()"
   ]
  },
  {
   "cell_type": "markdown",
   "id": "9c9807e4",
   "metadata": {},
   "source": [
    "We know that Select also corressponds to null value.\n",
    "\n",
    "Calculating actual % of null values in column."
   ]
  },
  {
   "cell_type": "code",
   "execution_count": 46,
   "id": "8dbff5f9",
   "metadata": {},
   "outputs": [
    {
     "data": {
      "text/plain": [
       "36.58008658008658"
      ]
     },
     "execution_count": 46,
     "metadata": {},
     "output_type": "execute_result"
    }
   ],
   "source": [
    "(1438+1942)/leads.shape[0]*100"
   ]
  },
  {
   "cell_type": "markdown",
   "id": "e786f7da",
   "metadata": {},
   "source": [
    "- About 36% of the column data are null values.\n",
    "- Column Definition: The industry domain in which the customer worked before. Includes the level 'Select Specialization' which means the customer had not selected this option while filling the form.\n",
    "- Dropping all rows with missing values will significantly reduce the dataset.\n",
    "- As per column definition, it seems to be iportant information for deciding what product to pitch to which customer.\n",
    "\n",
    "Hence, creating separate section 'unknown' for the null values."
   ]
  },
  {
   "cell_type": "code",
   "execution_count": 47,
   "id": "c918b299",
   "metadata": {},
   "outputs": [
    {
     "data": {
      "text/plain": [
       "Unknown                              3380\n",
       "Finance Management                    976\n",
       "Human Resource Management             848\n",
       "Marketing Management                  838\n",
       "Operations Management                 503\n",
       "Business Administration               403\n",
       "IT Projects Management                366\n",
       "Supply Chain Management               349\n",
       "Banking, Investment And Insurance     338\n",
       "Travel and Tourism                    203\n",
       "Media and Advertising                 203\n",
       "International Business                178\n",
       "Healthcare Management                 159\n",
       "Hospitality Management                114\n",
       "E-COMMERCE                            112\n",
       "Retail Management                     100\n",
       "Rural and Agribusiness                 73\n",
       "E-Business                             57\n",
       "Services Excellence                    40\n",
       "Name: Specialization, dtype: int64"
      ]
     },
     "execution_count": 47,
     "metadata": {},
     "output_type": "execute_result"
    }
   ],
   "source": [
    "#iputing 'select' values with unknown\n",
    "leads.loc[leads.loc[:,'Specialization'] == 'Select','Specialization'] = 'Unknown'\n",
    "\n",
    "#imputing null values with unknown\n",
    "leads['Specialization'].fillna('Unknown', inplace=True)\n",
    "\n",
    "#check the updated values\n",
    "leads['Specialization'].value_counts()"
   ]
  },
  {
   "cell_type": "code",
   "execution_count": 48,
   "id": "9668311b",
   "metadata": {},
   "outputs": [
    {
     "data": {
      "text/plain": [
       "0"
      ]
     },
     "execution_count": 48,
     "metadata": {},
     "output_type": "execute_result"
    }
   ],
   "source": [
    "#check\n",
    "leads['Specialization'].isna().sum()"
   ]
  },
  {
   "cell_type": "code",
   "execution_count": 49,
   "id": "35506f79",
   "metadata": {},
   "outputs": [
    {
     "data": {
      "text/html": [
       "<div>\n",
       "<style scoped>\n",
       "    .dataframe tbody tr th:only-of-type {\n",
       "        vertical-align: middle;\n",
       "    }\n",
       "\n",
       "    .dataframe tbody tr th {\n",
       "        vertical-align: top;\n",
       "    }\n",
       "\n",
       "    .dataframe thead th {\n",
       "        text-align: right;\n",
       "    }\n",
       "</style>\n",
       "<table border=\"1\" class=\"dataframe\">\n",
       "  <thead>\n",
       "    <tr style=\"text-align: right;\">\n",
       "      <th></th>\n",
       "      <th>Columns</th>\n",
       "      <th>Null_Value_Cnt</th>\n",
       "      <th>Null_Value_Perc</th>\n",
       "    </tr>\n",
       "  </thead>\n",
       "  <tbody>\n",
       "    <tr>\n",
       "      <th>12</th>\n",
       "      <td>Specialization</td>\n",
       "      <td>0</td>\n",
       "      <td>0.0</td>\n",
       "    </tr>\n",
       "  </tbody>\n",
       "</table>\n",
       "</div>"
      ],
      "text/plain": [
       "           Columns  Null_Value_Cnt  Null_Value_Perc\n",
       "12  Specialization               0              0.0"
      ]
     },
     "execution_count": 49,
     "metadata": {},
     "output_type": "execute_result"
    }
   ],
   "source": [
    "#updating the nulls dataframe\n",
    "nulls.loc[nulls['Columns'] == 'Specialization','Null_Value_Cnt'] = 0\n",
    "nulls.loc[nulls['Columns'] == 'Specialization','Null_Value_Perc'] = 0\n",
    "nulls[nulls['Columns'] == 'Specialization']"
   ]
  },
  {
   "cell_type": "markdown",
   "id": "9cee5c1d",
   "metadata": {},
   "source": [
    "Column 7: City"
   ]
  },
  {
   "cell_type": "code",
   "execution_count": 50,
   "id": "058d2787",
   "metadata": {},
   "outputs": [
    {
     "data": {
      "text/html": [
       "<div>\n",
       "<style scoped>\n",
       "    .dataframe tbody tr th:only-of-type {\n",
       "        vertical-align: middle;\n",
       "    }\n",
       "\n",
       "    .dataframe tbody tr th {\n",
       "        vertical-align: top;\n",
       "    }\n",
       "\n",
       "    .dataframe thead th {\n",
       "        text-align: right;\n",
       "    }\n",
       "</style>\n",
       "<table border=\"1\" class=\"dataframe\">\n",
       "  <thead>\n",
       "    <tr style=\"text-align: right;\">\n",
       "      <th></th>\n",
       "      <th>Columns</th>\n",
       "      <th>Null_Value_Cnt</th>\n",
       "      <th>Null_Value_Perc</th>\n",
       "    </tr>\n",
       "  </thead>\n",
       "  <tbody>\n",
       "    <tr>\n",
       "      <th>29</th>\n",
       "      <td>City</td>\n",
       "      <td>1420</td>\n",
       "      <td>15.37</td>\n",
       "    </tr>\n",
       "  </tbody>\n",
       "</table>\n",
       "</div>"
      ],
      "text/plain": [
       "   Columns  Null_Value_Cnt  Null_Value_Perc\n",
       "29    City            1420            15.37"
      ]
     },
     "execution_count": 50,
     "metadata": {},
     "output_type": "execute_result"
    }
   ],
   "source": [
    "nulls[nulls.Columns == 'City']"
   ]
  },
  {
   "cell_type": "code",
   "execution_count": 51,
   "id": "e5a297f5",
   "metadata": {},
   "outputs": [
    {
     "data": {
      "text/plain": [
       "Mumbai                         3222\n",
       "Select                         2249\n",
       "Thane & Outskirts               752\n",
       "Other Cities                    686\n",
       "Other Cities of Maharashtra     457\n",
       "Other Metro Cities              380\n",
       "Tier II Cities                   74\n",
       "Name: City, dtype: int64"
      ]
     },
     "execution_count": 51,
     "metadata": {},
     "output_type": "execute_result"
    }
   ],
   "source": [
    "#Contents of the colummn\n",
    "leads['City'].value_counts()"
   ]
  },
  {
   "cell_type": "markdown",
   "id": "86eef542",
   "metadata": {},
   "source": [
    "There is no significant information contained in this column.\n",
    "\n",
    "Hence, dropping it from further analysis."
   ]
  },
  {
   "cell_type": "code",
   "execution_count": 52,
   "id": "220b93d8",
   "metadata": {},
   "outputs": [],
   "source": [
    "#drop column from leads daaframe\n",
    "leads = leads.drop('City', axis=1)\n",
    "\n",
    "#drop row from nulls dataframe\n",
    "nulls = nulls[nulls.Columns != 'City']"
   ]
  },
  {
   "cell_type": "code",
   "execution_count": 53,
   "id": "d574d95f",
   "metadata": {},
   "outputs": [
    {
     "data": {
      "text/plain": [
       "(9240, 25)"
      ]
     },
     "execution_count": 53,
     "metadata": {},
     "output_type": "execute_result"
    }
   ],
   "source": [
    "#check\n",
    "leads.shape"
   ]
  },
  {
   "cell_type": "code",
   "execution_count": 54,
   "id": "2f64307f",
   "metadata": {},
   "outputs": [
    {
     "data": {
      "text/html": [
       "<div>\n",
       "<style scoped>\n",
       "    .dataframe tbody tr th:only-of-type {\n",
       "        vertical-align: middle;\n",
       "    }\n",
       "\n",
       "    .dataframe tbody tr th {\n",
       "        vertical-align: top;\n",
       "    }\n",
       "\n",
       "    .dataframe thead th {\n",
       "        text-align: right;\n",
       "    }\n",
       "</style>\n",
       "<table border=\"1\" class=\"dataframe\">\n",
       "  <thead>\n",
       "    <tr style=\"text-align: right;\">\n",
       "      <th></th>\n",
       "      <th>Columns</th>\n",
       "      <th>Null_Value_Cnt</th>\n",
       "      <th>Null_Value_Perc</th>\n",
       "    </tr>\n",
       "  </thead>\n",
       "  <tbody>\n",
       "    <tr>\n",
       "      <th>7</th>\n",
       "      <td>TotalVisits</td>\n",
       "      <td>137</td>\n",
       "      <td>1.48</td>\n",
       "    </tr>\n",
       "    <tr>\n",
       "      <th>9</th>\n",
       "      <td>Page Views Per Visit</td>\n",
       "      <td>137</td>\n",
       "      <td>1.48</td>\n",
       "    </tr>\n",
       "    <tr>\n",
       "      <th>10</th>\n",
       "      <td>Last Activity</td>\n",
       "      <td>103</td>\n",
       "      <td>1.11</td>\n",
       "    </tr>\n",
       "    <tr>\n",
       "      <th>3</th>\n",
       "      <td>Lead Source</td>\n",
       "      <td>36</td>\n",
       "      <td>0.39</td>\n",
       "    </tr>\n",
       "    <tr>\n",
       "      <th>0</th>\n",
       "      <td>Prospect ID</td>\n",
       "      <td>0</td>\n",
       "      <td>0.00</td>\n",
       "    </tr>\n",
       "  </tbody>\n",
       "</table>\n",
       "</div>"
      ],
      "text/plain": [
       "                 Columns  Null_Value_Cnt  Null_Value_Perc\n",
       "7            TotalVisits             137             1.48\n",
       "9   Page Views Per Visit             137             1.48\n",
       "10         Last Activity             103             1.11\n",
       "3            Lead Source              36             0.39\n",
       "0            Prospect ID               0             0.00"
      ]
     },
     "execution_count": 54,
     "metadata": {},
     "output_type": "execute_result"
    }
   ],
   "source": [
    "#check\n",
    "nulls.sort_values(by='Null_Value_Perc', axis=0, ascending=False).head()"
   ]
  },
  {
   "cell_type": "markdown",
   "id": "fc1446b0",
   "metadata": {},
   "source": [
    "Column 8: TotalVisits"
   ]
  },
  {
   "cell_type": "code",
   "execution_count": 55,
   "id": "dca912a1",
   "metadata": {},
   "outputs": [
    {
     "data": {
      "text/html": [
       "<div>\n",
       "<style scoped>\n",
       "    .dataframe tbody tr th:only-of-type {\n",
       "        vertical-align: middle;\n",
       "    }\n",
       "\n",
       "    .dataframe tbody tr th {\n",
       "        vertical-align: top;\n",
       "    }\n",
       "\n",
       "    .dataframe thead th {\n",
       "        text-align: right;\n",
       "    }\n",
       "</style>\n",
       "<table border=\"1\" class=\"dataframe\">\n",
       "  <thead>\n",
       "    <tr style=\"text-align: right;\">\n",
       "      <th></th>\n",
       "      <th>Columns</th>\n",
       "      <th>Null_Value_Cnt</th>\n",
       "      <th>Null_Value_Perc</th>\n",
       "    </tr>\n",
       "  </thead>\n",
       "  <tbody>\n",
       "    <tr>\n",
       "      <th>7</th>\n",
       "      <td>TotalVisits</td>\n",
       "      <td>137</td>\n",
       "      <td>1.48</td>\n",
       "    </tr>\n",
       "  </tbody>\n",
       "</table>\n",
       "</div>"
      ],
      "text/plain": [
       "       Columns  Null_Value_Cnt  Null_Value_Perc\n",
       "7  TotalVisits             137             1.48"
      ]
     },
     "execution_count": 55,
     "metadata": {},
     "output_type": "execute_result"
    }
   ],
   "source": [
    "nulls[nulls.Columns == 'TotalVisits']"
   ]
  },
  {
   "cell_type": "code",
   "execution_count": 56,
   "id": "af286979",
   "metadata": {},
   "outputs": [
    {
     "data": {
      "text/plain": [
       "0.0    2189\n",
       "2.0    1680\n",
       "3.0    1306\n",
       "4.0    1120\n",
       "5.0     783\n",
       "Name: TotalVisits, dtype: int64"
      ]
     },
     "execution_count": 56,
     "metadata": {},
     "output_type": "execute_result"
    }
   ],
   "source": [
    "#Contents of the colummn\n",
    "leads['TotalVisits'].value_counts().head()"
   ]
  },
  {
   "cell_type": "markdown",
   "id": "2c9be70d",
   "metadata": {},
   "source": [
    "- Null value % is very low.\n",
    "- As per column definition, majority of the leads have never visited the website.\n",
    "- About 23% of the leads have never visited the website. Imputing the null values with mode value will not further skew the column data"
   ]
  },
  {
   "cell_type": "code",
   "execution_count": 57,
   "id": "fba4f2aa",
   "metadata": {},
   "outputs": [
    {
     "data": {
      "text/plain": [
       "0"
      ]
     },
     "execution_count": 57,
     "metadata": {},
     "output_type": "execute_result"
    }
   ],
   "source": [
    "#Impute the missing values with mode value\n",
    "leads['TotalVisits'].fillna(leads['TotalVisits'].mode()[0], inplace=True)\n",
    "\n",
    "#check\n",
    "leads['TotalVisits'].isna().sum()"
   ]
  },
  {
   "cell_type": "code",
   "execution_count": 58,
   "id": "2075f555",
   "metadata": {},
   "outputs": [
    {
     "data": {
      "text/html": [
       "<div>\n",
       "<style scoped>\n",
       "    .dataframe tbody tr th:only-of-type {\n",
       "        vertical-align: middle;\n",
       "    }\n",
       "\n",
       "    .dataframe tbody tr th {\n",
       "        vertical-align: top;\n",
       "    }\n",
       "\n",
       "    .dataframe thead th {\n",
       "        text-align: right;\n",
       "    }\n",
       "</style>\n",
       "<table border=\"1\" class=\"dataframe\">\n",
       "  <thead>\n",
       "    <tr style=\"text-align: right;\">\n",
       "      <th></th>\n",
       "      <th>Columns</th>\n",
       "      <th>Null_Value_Cnt</th>\n",
       "      <th>Null_Value_Perc</th>\n",
       "    </tr>\n",
       "  </thead>\n",
       "  <tbody>\n",
       "    <tr>\n",
       "      <th>7</th>\n",
       "      <td>TotalVisits</td>\n",
       "      <td>0</td>\n",
       "      <td>0.0</td>\n",
       "    </tr>\n",
       "  </tbody>\n",
       "</table>\n",
       "</div>"
      ],
      "text/plain": [
       "       Columns  Null_Value_Cnt  Null_Value_Perc\n",
       "7  TotalVisits               0              0.0"
      ]
     },
     "execution_count": 58,
     "metadata": {},
     "output_type": "execute_result"
    }
   ],
   "source": [
    "#updating the nulls dataframe\n",
    "#updating the nulls dataframe\n",
    "nulls.loc[nulls['Columns'] == 'TotalVisits','Null_Value_Cnt'] = 0\n",
    "nulls.loc[nulls['Columns'] == 'TotalVisits','Null_Value_Perc'] = 0\n",
    "nulls[nulls['Columns'] == 'TotalVisits']"
   ]
  },
  {
   "cell_type": "markdown",
   "id": "41a58e51",
   "metadata": {},
   "source": [
    "Column 9: Page Views Per Visit"
   ]
  },
  {
   "cell_type": "code",
   "execution_count": 59,
   "id": "e08ee116",
   "metadata": {},
   "outputs": [
    {
     "data": {
      "text/html": [
       "<div>\n",
       "<style scoped>\n",
       "    .dataframe tbody tr th:only-of-type {\n",
       "        vertical-align: middle;\n",
       "    }\n",
       "\n",
       "    .dataframe tbody tr th {\n",
       "        vertical-align: top;\n",
       "    }\n",
       "\n",
       "    .dataframe thead th {\n",
       "        text-align: right;\n",
       "    }\n",
       "</style>\n",
       "<table border=\"1\" class=\"dataframe\">\n",
       "  <thead>\n",
       "    <tr style=\"text-align: right;\">\n",
       "      <th></th>\n",
       "      <th>Columns</th>\n",
       "      <th>Null_Value_Cnt</th>\n",
       "      <th>Null_Value_Perc</th>\n",
       "    </tr>\n",
       "  </thead>\n",
       "  <tbody>\n",
       "    <tr>\n",
       "      <th>9</th>\n",
       "      <td>Page Views Per Visit</td>\n",
       "      <td>137</td>\n",
       "      <td>1.48</td>\n",
       "    </tr>\n",
       "  </tbody>\n",
       "</table>\n",
       "</div>"
      ],
      "text/plain": [
       "                Columns  Null_Value_Cnt  Null_Value_Perc\n",
       "9  Page Views Per Visit             137             1.48"
      ]
     },
     "execution_count": 59,
     "metadata": {},
     "output_type": "execute_result"
    }
   ],
   "source": [
    "nulls[nulls.Columns == 'Page Views Per Visit']"
   ]
  },
  {
   "cell_type": "code",
   "execution_count": 60,
   "id": "be9f060a",
   "metadata": {},
   "outputs": [
    {
     "data": {
      "text/plain": [
       "0.0    2326\n",
       "2.0    1680\n",
       "3.0    1306\n",
       "4.0    1120\n",
       "5.0     783\n",
       "Name: TotalVisits, dtype: int64"
      ]
     },
     "execution_count": 60,
     "metadata": {},
     "output_type": "execute_result"
    }
   ],
   "source": [
    "#Contents of the colummn\n",
    "leads['TotalVisits'].value_counts().head()"
   ]
  },
  {
   "cell_type": "markdown",
   "id": "5580668c",
   "metadata": {},
   "source": [
    "- Null value % is very low.\n",
    "- As per column definition, majority of the leads have never visited a single page of the website.\n",
    "- About 25% of the leads have never visited the website. Imputing the null values with mode value will not further skew the column data"
   ]
  },
  {
   "cell_type": "code",
   "execution_count": 61,
   "id": "5badc547",
   "metadata": {},
   "outputs": [
    {
     "data": {
      "text/plain": [
       "0"
      ]
     },
     "execution_count": 61,
     "metadata": {},
     "output_type": "execute_result"
    }
   ],
   "source": [
    "#Impute the missing values with mode value\n",
    "leads['Page Views Per Visit'].fillna(leads['Page Views Per Visit'].mode()[0], inplace=True)\n",
    "\n",
    "#check\n",
    "leads['Page Views Per Visit'].isna().sum()"
   ]
  },
  {
   "cell_type": "code",
   "execution_count": 62,
   "id": "4ac1fdd8",
   "metadata": {},
   "outputs": [
    {
     "data": {
      "text/html": [
       "<div>\n",
       "<style scoped>\n",
       "    .dataframe tbody tr th:only-of-type {\n",
       "        vertical-align: middle;\n",
       "    }\n",
       "\n",
       "    .dataframe tbody tr th {\n",
       "        vertical-align: top;\n",
       "    }\n",
       "\n",
       "    .dataframe thead th {\n",
       "        text-align: right;\n",
       "    }\n",
       "</style>\n",
       "<table border=\"1\" class=\"dataframe\">\n",
       "  <thead>\n",
       "    <tr style=\"text-align: right;\">\n",
       "      <th></th>\n",
       "      <th>Columns</th>\n",
       "      <th>Null_Value_Cnt</th>\n",
       "      <th>Null_Value_Perc</th>\n",
       "    </tr>\n",
       "  </thead>\n",
       "  <tbody>\n",
       "    <tr>\n",
       "      <th>9</th>\n",
       "      <td>Page Views Per Visit</td>\n",
       "      <td>0</td>\n",
       "      <td>0.0</td>\n",
       "    </tr>\n",
       "  </tbody>\n",
       "</table>\n",
       "</div>"
      ],
      "text/plain": [
       "                Columns  Null_Value_Cnt  Null_Value_Perc\n",
       "9  Page Views Per Visit               0              0.0"
      ]
     },
     "execution_count": 62,
     "metadata": {},
     "output_type": "execute_result"
    }
   ],
   "source": [
    "#updating the nulls dataframe\n",
    "nulls.loc[nulls['Columns'] == 'Page Views Per Visit','Null_Value_Cnt'] = 0\n",
    "nulls.loc[nulls['Columns'] == 'Page Views Per Visit','Null_Value_Perc'] = 0\n",
    "nulls[nulls['Columns'] == 'Page Views Per Visit']"
   ]
  },
  {
   "cell_type": "markdown",
   "id": "b2309dd3",
   "metadata": {},
   "source": [
    "Column 10: Last Activity"
   ]
  },
  {
   "cell_type": "code",
   "execution_count": 63,
   "id": "0641fdde",
   "metadata": {},
   "outputs": [
    {
     "data": {
      "text/html": [
       "<div>\n",
       "<style scoped>\n",
       "    .dataframe tbody tr th:only-of-type {\n",
       "        vertical-align: middle;\n",
       "    }\n",
       "\n",
       "    .dataframe tbody tr th {\n",
       "        vertical-align: top;\n",
       "    }\n",
       "\n",
       "    .dataframe thead th {\n",
       "        text-align: right;\n",
       "    }\n",
       "</style>\n",
       "<table border=\"1\" class=\"dataframe\">\n",
       "  <thead>\n",
       "    <tr style=\"text-align: right;\">\n",
       "      <th></th>\n",
       "      <th>Columns</th>\n",
       "      <th>Null_Value_Cnt</th>\n",
       "      <th>Null_Value_Perc</th>\n",
       "    </tr>\n",
       "  </thead>\n",
       "  <tbody>\n",
       "    <tr>\n",
       "      <th>10</th>\n",
       "      <td>Last Activity</td>\n",
       "      <td>103</td>\n",
       "      <td>1.11</td>\n",
       "    </tr>\n",
       "  </tbody>\n",
       "</table>\n",
       "</div>"
      ],
      "text/plain": [
       "          Columns  Null_Value_Cnt  Null_Value_Perc\n",
       "10  Last Activity             103             1.11"
      ]
     },
     "execution_count": 63,
     "metadata": {},
     "output_type": "execute_result"
    }
   ],
   "source": [
    "nulls[nulls.Columns == 'Last Activity']"
   ]
  },
  {
   "cell_type": "code",
   "execution_count": 64,
   "id": "ee2ca689",
   "metadata": {},
   "outputs": [
    {
     "data": {
      "text/plain": [
       "Email Opened                    3437\n",
       "SMS Sent                        2745\n",
       "Olark Chat Conversation          973\n",
       "Page Visited on Website          640\n",
       "Converted to Lead                428\n",
       "Email Bounced                    326\n",
       "Email Link Clicked               267\n",
       "Form Submitted on Website        116\n",
       "Unreachable                       93\n",
       "Unsubscribed                      61\n",
       "Had a Phone Conversation          30\n",
       "Approached upfront                 9\n",
       "View in browser link Clicked       6\n",
       "Email Received                     2\n",
       "Email Marked Spam                  2\n",
       "Visited Booth in Tradeshow         1\n",
       "Resubscribed to emails             1\n",
       "Name: Last Activity, dtype: int64"
      ]
     },
     "execution_count": 64,
     "metadata": {},
     "output_type": "execute_result"
    }
   ],
   "source": [
    "#Contents of the colummn\n",
    "leads['Last Activity'].value_counts()"
   ]
  },
  {
   "cell_type": "markdown",
   "id": "77b0c424",
   "metadata": {},
   "source": [
    "- Only a small number of values are null in the column.\n",
    "- As per column definition, column seems to be important.\n",
    "- Data distribution is also not highly skewed.\n",
    "\n",
    "Hence, dropping null value entries."
   ]
  },
  {
   "cell_type": "code",
   "execution_count": 65,
   "id": "0f0f1d3a",
   "metadata": {},
   "outputs": [
    {
     "data": {
      "text/plain": [
       "0"
      ]
     },
     "execution_count": 65,
     "metadata": {},
     "output_type": "execute_result"
    }
   ],
   "source": [
    "#drop null value entries\n",
    "leads.dropna(subset=['Last Activity'], inplace=True)\n",
    "\n",
    "#check\n",
    "leads['Last Activity'].isna().sum()"
   ]
  },
  {
   "cell_type": "code",
   "execution_count": 66,
   "id": "b5a49d38",
   "metadata": {},
   "outputs": [
    {
     "data": {
      "text/html": [
       "<div>\n",
       "<style scoped>\n",
       "    .dataframe tbody tr th:only-of-type {\n",
       "        vertical-align: middle;\n",
       "    }\n",
       "\n",
       "    .dataframe tbody tr th {\n",
       "        vertical-align: top;\n",
       "    }\n",
       "\n",
       "    .dataframe thead th {\n",
       "        text-align: right;\n",
       "    }\n",
       "</style>\n",
       "<table border=\"1\" class=\"dataframe\">\n",
       "  <thead>\n",
       "    <tr style=\"text-align: right;\">\n",
       "      <th></th>\n",
       "      <th>Columns</th>\n",
       "      <th>Null_Value_Cnt</th>\n",
       "      <th>Null_Value_Perc</th>\n",
       "    </tr>\n",
       "  </thead>\n",
       "  <tbody>\n",
       "    <tr>\n",
       "      <th>10</th>\n",
       "      <td>Last Activity</td>\n",
       "      <td>0</td>\n",
       "      <td>0.0</td>\n",
       "    </tr>\n",
       "  </tbody>\n",
       "</table>\n",
       "</div>"
      ],
      "text/plain": [
       "          Columns  Null_Value_Cnt  Null_Value_Perc\n",
       "10  Last Activity               0              0.0"
      ]
     },
     "execution_count": 66,
     "metadata": {},
     "output_type": "execute_result"
    }
   ],
   "source": [
    "#updating the nulls dataframe\n",
    "nulls.loc[nulls['Columns'] == 'Last Activity','Null_Value_Cnt'] = 0\n",
    "nulls.loc[nulls['Columns'] == 'Last Activity','Null_Value_Perc'] = 0\n",
    "nulls[nulls['Columns'] == 'Last Activity']"
   ]
  },
  {
   "cell_type": "markdown",
   "id": "2fd11759",
   "metadata": {},
   "source": [
    "Column 11: Lead Source"
   ]
  },
  {
   "cell_type": "code",
   "execution_count": 67,
   "id": "ffc86ed1",
   "metadata": {},
   "outputs": [
    {
     "data": {
      "text/html": [
       "<div>\n",
       "<style scoped>\n",
       "    .dataframe tbody tr th:only-of-type {\n",
       "        vertical-align: middle;\n",
       "    }\n",
       "\n",
       "    .dataframe tbody tr th {\n",
       "        vertical-align: top;\n",
       "    }\n",
       "\n",
       "    .dataframe thead th {\n",
       "        text-align: right;\n",
       "    }\n",
       "</style>\n",
       "<table border=\"1\" class=\"dataframe\">\n",
       "  <thead>\n",
       "    <tr style=\"text-align: right;\">\n",
       "      <th></th>\n",
       "      <th>Columns</th>\n",
       "      <th>Null_Value_Cnt</th>\n",
       "      <th>Null_Value_Perc</th>\n",
       "    </tr>\n",
       "  </thead>\n",
       "  <tbody>\n",
       "    <tr>\n",
       "      <th>3</th>\n",
       "      <td>Lead Source</td>\n",
       "      <td>34</td>\n",
       "      <td>0.37</td>\n",
       "    </tr>\n",
       "  </tbody>\n",
       "</table>\n",
       "</div>"
      ],
      "text/plain": [
       "       Columns  Null_Value_Cnt  Null_Value_Perc\n",
       "3  Lead Source              34             0.37"
      ]
     },
     "execution_count": 67,
     "metadata": {},
     "output_type": "execute_result"
    }
   ],
   "source": [
    "#Recalculating the number of null values in 'Lead Source' column\n",
    "nulls.loc[nulls['Columns'] == 'Lead Source','Null_Value_Cnt'] = leads['Lead Source'].isna().sum()\n",
    "nulls.loc[nulls['Columns'] == 'Lead Source','Null_Value_Perc'] = round((leads['Lead Source'].isna().sum() / leads.shape[0] * 100),2)\n",
    "nulls[nulls['Columns'] == 'Lead Source']"
   ]
  },
  {
   "cell_type": "markdown",
   "id": "7b5a9e53",
   "metadata": {},
   "source": [
    "A few of the null value records for 'Lead Source' column were dropped as part of 'Last Activity' column clean up"
   ]
  },
  {
   "cell_type": "code",
   "execution_count": 68,
   "id": "69a04dd8",
   "metadata": {},
   "outputs": [
    {
     "data": {
      "text/plain": [
       "Google               2868\n",
       "Direct Traffic       2543\n",
       "Olark Chat           1755\n",
       "Organic Search       1154\n",
       "Reference             462\n",
       "Welingak Website      129\n",
       "Referral Sites        125\n",
       "Facebook               39\n",
       "bing                    6\n",
       "google                  5\n",
       "Click2call              4\n",
       "Press_Release           2\n",
       "Social Media            2\n",
       "Live Chat               2\n",
       "youtubechannel          1\n",
       "testone                 1\n",
       "Pay per Click Ads       1\n",
       "welearnblog_Home        1\n",
       "WeLearn                 1\n",
       "blog                    1\n",
       "NC_EDM                  1\n",
       "Name: Lead Source, dtype: int64"
      ]
     },
     "execution_count": 68,
     "metadata": {},
     "output_type": "execute_result"
    }
   ],
   "source": [
    "#Contents of the colummn\n",
    "leads['Lead Source'].value_counts()"
   ]
  },
  {
   "cell_type": "markdown",
   "id": "2d01468b",
   "metadata": {},
   "source": [
    "- The data distribution is unskewed in the column.\n",
    "- Less than 1% of the values are missing in the column.\n",
    "\n",
    "Imputing the missing values with mode value in the column"
   ]
  },
  {
   "cell_type": "code",
   "execution_count": 69,
   "id": "107d5de2",
   "metadata": {},
   "outputs": [
    {
     "data": {
      "text/plain": [
       "0"
      ]
     },
     "execution_count": 69,
     "metadata": {},
     "output_type": "execute_result"
    }
   ],
   "source": [
    "#Impute the missing values with mode value\n",
    "leads['Lead Source'].fillna(leads['Lead Source'].mode()[0], inplace=True)\n",
    "\n",
    "#check\n",
    "leads['Lead Source'].isna().sum()"
   ]
  },
  {
   "cell_type": "code",
   "execution_count": 70,
   "id": "923bcdd2",
   "metadata": {},
   "outputs": [
    {
     "data": {
      "text/html": [
       "<div>\n",
       "<style scoped>\n",
       "    .dataframe tbody tr th:only-of-type {\n",
       "        vertical-align: middle;\n",
       "    }\n",
       "\n",
       "    .dataframe tbody tr th {\n",
       "        vertical-align: top;\n",
       "    }\n",
       "\n",
       "    .dataframe thead th {\n",
       "        text-align: right;\n",
       "    }\n",
       "</style>\n",
       "<table border=\"1\" class=\"dataframe\">\n",
       "  <thead>\n",
       "    <tr style=\"text-align: right;\">\n",
       "      <th></th>\n",
       "      <th>Columns</th>\n",
       "      <th>Null_Value_Cnt</th>\n",
       "      <th>Null_Value_Perc</th>\n",
       "    </tr>\n",
       "  </thead>\n",
       "  <tbody>\n",
       "    <tr>\n",
       "      <th>3</th>\n",
       "      <td>Lead Source</td>\n",
       "      <td>0</td>\n",
       "      <td>0.0</td>\n",
       "    </tr>\n",
       "  </tbody>\n",
       "</table>\n",
       "</div>"
      ],
      "text/plain": [
       "       Columns  Null_Value_Cnt  Null_Value_Perc\n",
       "3  Lead Source               0              0.0"
      ]
     },
     "execution_count": 70,
     "metadata": {},
     "output_type": "execute_result"
    }
   ],
   "source": [
    "#updating the nulls dataframe\n",
    "nulls.loc[nulls['Columns'] == 'Lead Source','Null_Value_Cnt'] = 0\n",
    "nulls.loc[nulls['Columns'] == 'Lead Source','Null_Value_Perc'] = 0\n",
    "nulls[nulls['Columns'] == 'Lead Source']"
   ]
  },
  {
   "cell_type": "markdown",
   "id": "d43e0350",
   "metadata": {},
   "source": [
    "All null values have now been treated in the 'leads' dataset.\n",
    "\n",
    "Looking further for 'select' values, as they also corresspond to null values but are not captured in default pandas expression."
   ]
  },
  {
   "cell_type": "code",
   "execution_count": 71,
   "id": "d3558ef3",
   "metadata": {},
   "outputs": [
    {
     "data": {
      "text/plain": [
       "Prospect ID                                 0\n",
       "Magazine                                    0\n",
       "A free copy of Mastering The Interview      0\n",
       "I agree to pay the amount through cheque    0\n",
       "Get updates on DM Content                   0\n",
       "Update me on Supply Chain Content           0\n",
       "Receive More Updates About Our Courses      0\n",
       "Through Recommendations                     0\n",
       "Digital Advertisement                       0\n",
       "Newspaper                                   0\n",
       "X Education Forums                          0\n",
       "Newspaper Article                           0\n",
       "Search                                      0\n",
       "Lead Number                                 0\n",
       "Specialization                              0\n",
       "Last Activity                               0\n",
       "Page Views Per Visit                        0\n",
       "Total Time Spent on Website                 0\n",
       "TotalVisits                                 0\n",
       "Converted                                   0\n",
       "Do Not Call                                 0\n",
       "Do Not Email                                0\n",
       "Lead Source                                 0\n",
       "Lead Origin                                 0\n",
       "Last Notable Activity                       0\n",
       "dtype: int64"
      ]
     },
     "execution_count": 71,
     "metadata": {},
     "output_type": "execute_result"
    }
   ],
   "source": [
    "(leads == 'Select').sum(axis=0).sort_values(ascending=False)"
   ]
  },
  {
   "cell_type": "markdown",
   "id": "8e43984d",
   "metadata": {},
   "source": [
    "Hence, there are no null values in the dataframe now"
   ]
  },
  {
   "cell_type": "markdown",
   "id": "02a75f5d",
   "metadata": {},
   "source": [
    "Inspecting the leads dataframe"
   ]
  },
  {
   "cell_type": "code",
   "execution_count": 72,
   "id": "34e7ea74",
   "metadata": {},
   "outputs": [
    {
     "name": "stdout",
     "output_type": "stream",
     "text": [
      "<class 'pandas.core.frame.DataFrame'>\n",
      "Int64Index: 9137 entries, 0 to 9239\n",
      "Data columns (total 25 columns):\n",
      " #   Column                                    Non-Null Count  Dtype  \n",
      "---  ------                                    --------------  -----  \n",
      " 0   Prospect ID                               9137 non-null   object \n",
      " 1   Lead Number                               9137 non-null   int64  \n",
      " 2   Lead Origin                               9137 non-null   object \n",
      " 3   Lead Source                               9137 non-null   object \n",
      " 4   Do Not Email                              9137 non-null   object \n",
      " 5   Do Not Call                               9137 non-null   object \n",
      " 6   Converted                                 9137 non-null   int64  \n",
      " 7   TotalVisits                               9137 non-null   float64\n",
      " 8   Total Time Spent on Website               9137 non-null   int64  \n",
      " 9   Page Views Per Visit                      9137 non-null   float64\n",
      " 10  Last Activity                             9137 non-null   object \n",
      " 11  Specialization                            9137 non-null   object \n",
      " 12  Search                                    9137 non-null   object \n",
      " 13  Magazine                                  9137 non-null   object \n",
      " 14  Newspaper Article                         9137 non-null   object \n",
      " 15  X Education Forums                        9137 non-null   object \n",
      " 16  Newspaper                                 9137 non-null   object \n",
      " 17  Digital Advertisement                     9137 non-null   object \n",
      " 18  Through Recommendations                   9137 non-null   object \n",
      " 19  Receive More Updates About Our Courses    9137 non-null   object \n",
      " 20  Update me on Supply Chain Content         9137 non-null   object \n",
      " 21  Get updates on DM Content                 9137 non-null   object \n",
      " 22  I agree to pay the amount through cheque  9137 non-null   object \n",
      " 23  A free copy of Mastering The Interview    9137 non-null   object \n",
      " 24  Last Notable Activity                     9137 non-null   object \n",
      "dtypes: float64(2), int64(3), object(20)\n",
      "memory usage: 1.8+ MB\n"
     ]
    }
   ],
   "source": [
    "leads.info()"
   ]
  },
  {
   "cell_type": "markdown",
   "id": "2c820f6c",
   "metadata": {},
   "source": [
    "### 3. Analysis of Numerical Columns"
   ]
  },
  {
   "cell_type": "code",
   "execution_count": 73,
   "id": "b42bf774",
   "metadata": {
    "scrolled": true
   },
   "outputs": [
    {
     "data": {
      "text/plain": [
       "['Lead Number',\n",
       " 'Converted',\n",
       " 'TotalVisits',\n",
       " 'Total Time Spent on Website',\n",
       " 'Page Views Per Visit']"
      ]
     },
     "execution_count": 73,
     "metadata": {},
     "output_type": "execute_result"
    }
   ],
   "source": [
    "num_cols = [col for col in leads.columns if leads[col].dtype in ['int64','float64']]\n",
    "num_cols"
   ]
  },
  {
   "cell_type": "markdown",
   "id": "01a274db",
   "metadata": {},
   "source": [
    "Column 1: Prospect ID"
   ]
  },
  {
   "cell_type": "code",
   "execution_count": 74,
   "id": "b08f4966",
   "metadata": {},
   "outputs": [
    {
     "data": {
      "text/plain": [
       "0       7927b2df-8bba-4d29-b9a2-b6e0beafe620\n",
       "1       2a272436-5132-4136-86fa-dcc88c88f482\n",
       "2       8cc8c611-a219-4f35-ad23-fdfd2656bd8a\n",
       "3       0cc2df48-7cf4-4e39-9de9-19797f9b38cc\n",
       "4       3256f628-e534-4826-9d63-4a8b88782852\n",
       "                        ...                 \n",
       "9235    19d6451e-fcd6-407c-b83b-48e1af805ea9\n",
       "9236    82a7005b-7196-4d56-95ce-a79f937a158d\n",
       "9237    aac550fe-a586-452d-8d3c-f1b62c94e02c\n",
       "9238    5330a7d1-2f2b-4df4-85d6-64ca2f6b95b9\n",
       "9239    571b5c8e-a5b2-4d57-8574-f2ffb06fdeff\n",
       "Name: Prospect ID, Length: 9137, dtype: object"
      ]
     },
     "execution_count": 74,
     "metadata": {},
     "output_type": "execute_result"
    }
   ],
   "source": [
    "leads['Prospect ID']"
   ]
  },
  {
   "cell_type": "markdown",
   "id": "9237f4f6",
   "metadata": {},
   "source": [
    "this is a unique identifier, apha-numeric in nature which will not contribute any significannt data towards model building/improvement."
   ]
  },
  {
   "cell_type": "markdown",
   "id": "7e0c46fc",
   "metadata": {},
   "source": [
    "Column 2: Lead Number"
   ]
  },
  {
   "cell_type": "code",
   "execution_count": 75,
   "id": "44e58399",
   "metadata": {},
   "outputs": [
    {
     "data": {
      "text/plain": [
       "0       660737\n",
       "1       660728\n",
       "2       660727\n",
       "3       660719\n",
       "4       660681\n",
       "         ...  \n",
       "9235    579564\n",
       "9236    579546\n",
       "9237    579545\n",
       "9238    579538\n",
       "9239    579533\n",
       "Name: Lead Number, Length: 9137, dtype: int64"
      ]
     },
     "execution_count": 75,
     "metadata": {},
     "output_type": "execute_result"
    }
   ],
   "source": [
    "#column values\n",
    "leads[num_cols[0]]"
   ]
  },
  {
   "cell_type": "markdown",
   "id": "b2937165",
   "metadata": {},
   "source": [
    "As per data dictionary, this is just a number assigned to each lead. Hence, column data does not have any sigificannce in prediction sense other than identification of lead."
   ]
  },
  {
   "cell_type": "markdown",
   "id": "8e15aacc",
   "metadata": {},
   "source": [
    "Hence, dropping the column from further analysis."
   ]
  },
  {
   "cell_type": "code",
   "execution_count": 76,
   "id": "31ce55fb",
   "metadata": {},
   "outputs": [],
   "source": [
    "leads.drop('Lead Number', axis=1, inplace=True)"
   ]
  },
  {
   "cell_type": "code",
   "execution_count": 77,
   "id": "4c770e1d",
   "metadata": {},
   "outputs": [
    {
     "data": {
      "text/plain": [
       "(9137, 24)"
      ]
     },
     "execution_count": 77,
     "metadata": {},
     "output_type": "execute_result"
    }
   ],
   "source": [
    "#check\n",
    "leads.shape"
   ]
  },
  {
   "cell_type": "markdown",
   "id": "cfdf7a0c",
   "metadata": {},
   "source": [
    "Column 3: Converted"
   ]
  },
  {
   "cell_type": "markdown",
   "id": "7d0eefd8",
   "metadata": {},
   "source": [
    "This is our target variable"
   ]
  },
  {
   "cell_type": "code",
   "execution_count": 78,
   "id": "3de521ed",
   "metadata": {},
   "outputs": [
    {
     "data": {
      "text/plain": [
       "0    5657\n",
       "1    3480\n",
       "Name: Converted, dtype: int64"
      ]
     },
     "execution_count": 78,
     "metadata": {},
     "output_type": "execute_result"
    }
   ],
   "source": [
    "#column values\n",
    "leads[num_cols[1]].value_counts()"
   ]
  },
  {
   "cell_type": "markdown",
   "id": "36bdd6a9",
   "metadata": {},
   "source": [
    "Column 4: TotalVisits"
   ]
  },
  {
   "cell_type": "code",
   "execution_count": 79,
   "id": "9cbb0a7f",
   "metadata": {},
   "outputs": [
    {
     "data": {
      "text/plain": [
       "'TotalVisits'"
      ]
     },
     "execution_count": 79,
     "metadata": {},
     "output_type": "execute_result"
    }
   ],
   "source": [
    "num_cols[2]"
   ]
  },
  {
   "cell_type": "code",
   "execution_count": 80,
   "id": "85cbfcf9",
   "metadata": {},
   "outputs": [
    {
     "data": {
      "text/plain": [
       "0.0    2223\n",
       "2.0    1680\n",
       "3.0    1306\n",
       "4.0    1120\n",
       "5.0     783\n",
       "6.0     466\n",
       "1.0     395\n",
       "7.0     309\n",
       "8.0     224\n",
       "9.0     164\n",
       "Name: TotalVisits, dtype: int64"
      ]
     },
     "execution_count": 80,
     "metadata": {},
     "output_type": "execute_result"
    }
   ],
   "source": [
    "#column values\n",
    "leads[num_cols[2]].value_counts().head(10)"
   ]
  },
  {
   "cell_type": "code",
   "execution_count": 81,
   "id": "d4cca14f",
   "metadata": {
    "scrolled": true
   },
   "outputs": [
    {
     "data": {
      "text/plain": [
       "count    9137.000000\n",
       "mean        3.432418\n",
       "std         4.850349\n",
       "min         0.000000\n",
       "25%         1.000000\n",
       "50%         3.000000\n",
       "75%         5.000000\n",
       "90%         7.000000\n",
       "95%        10.000000\n",
       "99%        17.000000\n",
       "max       251.000000\n",
       "Name: TotalVisits, dtype: float64"
      ]
     },
     "execution_count": 81,
     "metadata": {},
     "output_type": "execute_result"
    }
   ],
   "source": [
    "#column value description\n",
    "leads['TotalVisits'].describe(percentiles=[0.25,0.5,0.75,0.9,0.95,0.99])"
   ]
  },
  {
   "cell_type": "markdown",
   "id": "91f9f258",
   "metadata": {},
   "source": [
    "From the percentile breakdown of the column values, it is evident that there is presence of outliers in the column"
   ]
  },
  {
   "cell_type": "code",
   "execution_count": 82,
   "id": "6c1864e0",
   "metadata": {},
   "outputs": [
    {
     "data": {
      "image/png": "[encoded data removed]",
      "text/plain": [
       "<Figure size 640x480 with 1 Axes>"
      ]
     },
     "metadata": {},
     "output_type": "display_data"
    }
   ],
   "source": [
    "plt.boxplot(leads['TotalVisits']);"
   ]
  },
  {
   "cell_type": "markdown",
   "id": "ab09c598",
   "metadata": {},
   "source": [
    "Dropping outliers from the column"
   ]
  },
  {
   "cell_type": "code",
   "execution_count": 83,
   "id": "42b58bc2",
   "metadata": {},
   "outputs": [],
   "source": [
    "#get mean and standard deviation\n",
    "mean = leads['TotalVisits'].mean()\n",
    "std = leads['TotalVisits'].std()\n",
    "\n",
    "#define outlier threshold\n",
    "lower_threshold = mean - (3 * std)\n",
    "upper_threshold = mean + (3 * std)\n",
    "\n",
    "#drop outliers\n",
    "leads = leads[((leads['TotalVisits'] >= lower_threshold) & (leads['TotalVisits'] <= upper_threshold))]"
   ]
  },
  {
   "cell_type": "code",
   "execution_count": 84,
   "id": "07431db4",
   "metadata": {},
   "outputs": [
    {
     "data": {
      "text/plain": [
       "count    9054.000000\n",
       "mean        3.194941\n",
       "std         2.990927\n",
       "min         0.000000\n",
       "25%         1.000000\n",
       "50%         3.000000\n",
       "75%         5.000000\n",
       "90%         7.000000\n",
       "95%         9.000000\n",
       "99%        13.470000\n",
       "max        17.000000\n",
       "Name: TotalVisits, dtype: float64"
      ]
     },
     "execution_count": 84,
     "metadata": {},
     "output_type": "execute_result"
    }
   ],
   "source": [
    "#column value description\n",
    "leads['TotalVisits'].describe(percentiles=[0.25,0.5,0.75,0.9,0.95,0.99])"
   ]
  },
  {
   "cell_type": "code",
   "execution_count": 85,
   "id": "d0a026de",
   "metadata": {},
   "outputs": [
    {
     "data": {
      "image/png": "[encoded data removed]",
      "text/plain": [
       "<Figure size 640x480 with 1 Axes>"
      ]
     },
     "metadata": {},
     "output_type": "display_data"
    }
   ],
   "source": [
    "plt.boxplot(leads['TotalVisits'])\n",
    "plt.show()"
   ]
  },
  {
   "cell_type": "code",
   "execution_count": 86,
   "id": "e37cf39d",
   "metadata": {},
   "outputs": [
    {
     "data": {
      "text/plain": [
       "(9054, 24)"
      ]
     },
     "execution_count": 86,
     "metadata": {},
     "output_type": "execute_result"
    }
   ],
   "source": [
    "#check\n",
    "leads.shape"
   ]
  },
  {
   "cell_type": "markdown",
   "id": "dcce2cdc",
   "metadata": {},
   "source": [
    "Column 5: Total Time Spent on Website"
   ]
  },
  {
   "cell_type": "code",
   "execution_count": 87,
   "id": "1d250a5a",
   "metadata": {},
   "outputs": [
    {
     "data": {
      "text/plain": [
       "'Total Time Spent on Website'"
      ]
     },
     "execution_count": 87,
     "metadata": {},
     "output_type": "execute_result"
    }
   ],
   "source": [
    "num_cols[3]"
   ]
  },
  {
   "cell_type": "code",
   "execution_count": 88,
   "id": "5c28742e",
   "metadata": {},
   "outputs": [
    {
     "data": {
      "text/plain": [
       "0       2193\n",
       "60        19\n",
       "75        18\n",
       "127       18\n",
       "234       17\n",
       "        ... \n",
       "2111       1\n",
       "1091       1\n",
       "649        1\n",
       "748        1\n",
       "1845       1\n",
       "Name: Total Time Spent on Website, Length: 1718, dtype: int64"
      ]
     },
     "execution_count": 88,
     "metadata": {},
     "output_type": "execute_result"
    }
   ],
   "source": [
    "#column values\n",
    "leads[num_cols[3]].value_counts()"
   ]
  },
  {
   "cell_type": "code",
   "execution_count": 89,
   "id": "bb10c2fe",
   "metadata": {},
   "outputs": [
    {
     "data": {
      "text/plain": [
       "count    9054.000000\n",
       "mean      480.917274\n",
       "std       545.246210\n",
       "min         0.000000\n",
       "25%         8.000000\n",
       "50%       244.000000\n",
       "75%       918.000000\n",
       "90%      1372.000000\n",
       "95%      1556.000000\n",
       "99%      1839.000000\n",
       "max      2272.000000\n",
       "Name: Total Time Spent on Website, dtype: float64"
      ]
     },
     "execution_count": 89,
     "metadata": {},
     "output_type": "execute_result"
    }
   ],
   "source": [
    "#column value description\n",
    "leads['Total Time Spent on Website'].describe(percentiles=[0.25,0.5,0.75,0.9,0.95,0.99])"
   ]
  },
  {
   "cell_type": "code",
   "execution_count": 90,
   "id": "c5d47f4f",
   "metadata": {},
   "outputs": [
    {
     "data": {
      "image/png": "[encoded data removed]",
      "text/plain": [
       "<Figure size 640x480 with 1 Axes>"
      ]
     },
     "metadata": {},
     "output_type": "display_data"
    }
   ],
   "source": [
    "plt.boxplot(leads['Total Time Spent on Website']);"
   ]
  },
  {
   "cell_type": "markdown",
   "id": "465cf568",
   "metadata": {},
   "source": [
    "Column does not have outliers"
   ]
  },
  {
   "cell_type": "markdown",
   "id": "092af659",
   "metadata": {},
   "source": [
    "Column 6: Page Views Per Visit"
   ]
  },
  {
   "cell_type": "code",
   "execution_count": 91,
   "id": "746a6fb6",
   "metadata": {},
   "outputs": [
    {
     "data": {
      "text/plain": [
       "'Page Views Per Visit'"
      ]
     },
     "execution_count": 91,
     "metadata": {},
     "output_type": "execute_result"
    }
   ],
   "source": [
    "num_cols[4]"
   ]
  },
  {
   "cell_type": "code",
   "execution_count": 92,
   "id": "1e314675",
   "metadata": {},
   "outputs": [
    {
     "data": {
      "text/plain": [
       "0.00    2223\n",
       "2.00    1792\n",
       "3.00    1193\n",
       "4.00     893\n",
       "1.00     651\n",
       "        ... \n",
       "1.31       1\n",
       "2.13       1\n",
       "2.14       1\n",
       "1.63       1\n",
       "1.17       1\n",
       "Name: Page Views Per Visit, Length: 73, dtype: int64"
      ]
     },
     "execution_count": 92,
     "metadata": {},
     "output_type": "execute_result"
    }
   ],
   "source": [
    "#column values\n",
    "leads[num_cols[4]].value_counts()"
   ]
  },
  {
   "cell_type": "code",
   "execution_count": 93,
   "id": "dd63d276",
   "metadata": {},
   "outputs": [
    {
     "data": {
      "text/plain": [
       "count    9054.000000\n",
       "mean        2.328493\n",
       "std         2.063445\n",
       "min         0.000000\n",
       "25%         1.000000\n",
       "50%         2.000000\n",
       "75%         3.000000\n",
       "90%         5.000000\n",
       "95%         6.000000\n",
       "99%         9.000000\n",
       "max        16.000000\n",
       "Name: Page Views Per Visit, dtype: float64"
      ]
     },
     "execution_count": 93,
     "metadata": {},
     "output_type": "execute_result"
    }
   ],
   "source": [
    "#column value description\n",
    "leads['Page Views Per Visit'].describe(percentiles=[0.25,0.5,0.75,0.9,0.95,0.99])"
   ]
  },
  {
   "cell_type": "markdown",
   "id": "2305adf7",
   "metadata": {},
   "source": [
    "From the percentile breakdown of the column values, it is evident that there is presence of outliers in the column"
   ]
  },
  {
   "cell_type": "code",
   "execution_count": 94,
   "id": "815a0321",
   "metadata": {},
   "outputs": [
    {
     "data": {
      "image/png": "[encoded data removed]",
      "text/plain": [
       "<Figure size 640x480 with 1 Axes>"
      ]
     },
     "metadata": {},
     "output_type": "display_data"
    }
   ],
   "source": [
    "plt.boxplot(leads['Page Views Per Visit']);"
   ]
  },
  {
   "cell_type": "markdown",
   "id": "426ea347",
   "metadata": {},
   "source": [
    "Dropping outliers"
   ]
  },
  {
   "cell_type": "code",
   "execution_count": 95,
   "id": "71207f0f",
   "metadata": {},
   "outputs": [],
   "source": [
    "#get mean and standard deviation\n",
    "mean = leads['Page Views Per Visit'].mean()\n",
    "std = leads['Page Views Per Visit'].std()\n",
    "\n",
    "#define outlier threshold\n",
    "lower_threshold = mean - (3 * std)\n",
    "upper_threshold = mean + (3 * std)\n",
    "\n",
    "#drop outliers\n",
    "leads = leads[((leads['Page Views Per Visit'] >= lower_threshold) & (leads['Page Views Per Visit'] <= upper_threshold))]"
   ]
  },
  {
   "cell_type": "code",
   "execution_count": 96,
   "id": "a416d20c",
   "metadata": {},
   "outputs": [
    {
     "data": {
      "text/plain": [
       "count    8942.000000\n",
       "mean        2.224355\n",
       "std         1.840066\n",
       "min         0.000000\n",
       "25%         1.000000\n",
       "50%         2.000000\n",
       "75%         3.000000\n",
       "90%         5.000000\n",
       "95%         6.000000\n",
       "99%         7.000000\n",
       "max         8.500000\n",
       "Name: Page Views Per Visit, dtype: float64"
      ]
     },
     "execution_count": 96,
     "metadata": {},
     "output_type": "execute_result"
    }
   ],
   "source": [
    "#column value description\n",
    "leads['Page Views Per Visit'].describe(percentiles=[0.25,0.5,0.75,0.9,0.95,0.99])"
   ]
  },
  {
   "cell_type": "code",
   "execution_count": 97,
   "id": "3523ba18",
   "metadata": {},
   "outputs": [
    {
     "data": {
      "image/png": "[encoded data removed]",
      "text/plain": [
       "<Figure size 640x480 with 1 Axes>"
      ]
     },
     "metadata": {},
     "output_type": "display_data"
    }
   ],
   "source": [
    "plt.boxplot(leads['Page Views Per Visit']);"
   ]
  },
  {
   "cell_type": "code",
   "execution_count": 98,
   "id": "befb6b56",
   "metadata": {},
   "outputs": [
    {
     "data": {
      "text/plain": [
       "(8942, 24)"
      ]
     },
     "execution_count": 98,
     "metadata": {},
     "output_type": "execute_result"
    }
   ],
   "source": [
    "#check\n",
    "leads.shape"
   ]
  },
  {
   "cell_type": "markdown",
   "id": "ca21ac12",
   "metadata": {},
   "source": [
    "### 4. Analyzing categorical columns"
   ]
  },
  {
   "cell_type": "code",
   "execution_count": 99,
   "id": "c095c60b",
   "metadata": {},
   "outputs": [
    {
     "data": {
      "text/plain": [
       "['Lead Origin',\n",
       " 'Lead Source',\n",
       " 'Do Not Email',\n",
       " 'Do Not Call',\n",
       " 'Last Activity',\n",
       " 'Specialization',\n",
       " 'Search',\n",
       " 'Magazine',\n",
       " 'Newspaper Article',\n",
       " 'X Education Forums',\n",
       " 'Newspaper',\n",
       " 'Digital Advertisement',\n",
       " 'Through Recommendations',\n",
       " 'Receive More Updates About Our Courses',\n",
       " 'Update me on Supply Chain Content',\n",
       " 'Get updates on DM Content',\n",
       " 'I agree to pay the amount through cheque',\n",
       " 'A free copy of Mastering The Interview',\n",
       " 'Last Notable Activity']"
      ]
     },
     "execution_count": 99,
     "metadata": {},
     "output_type": "execute_result"
    }
   ],
   "source": [
    "non_num_cols = [col for col in leads.columns if ((leads[col].dtype == 'object')&(col != 'Prospect ID'))]\n",
    "non_num_cols"
   ]
  },
  {
   "cell_type": "markdown",
   "id": "abd3a4f8",
   "metadata": {},
   "source": [
    "- If the column is binary type, convert it using a binary mapping function\n",
    "- If the column is categorical, convert with dummy variables"
   ]
  },
  {
   "cell_type": "markdown",
   "id": "0afb833f",
   "metadata": {},
   "source": [
    "Column 1: Lead Origin"
   ]
  },
  {
   "cell_type": "code",
   "execution_count": 100,
   "id": "b3f43b5a",
   "metadata": {},
   "outputs": [
    {
     "data": {
      "text/plain": [
       "'Lead Origin'"
      ]
     },
     "execution_count": 100,
     "metadata": {},
     "output_type": "execute_result"
    }
   ],
   "source": [
    "non_num_cols[0]"
   ]
  },
  {
   "cell_type": "code",
   "execution_count": 101,
   "id": "6a9ec292",
   "metadata": {},
   "outputs": [
    {
     "data": {
      "text/plain": [
       "Landing Page Submission    4728\n",
       "API                        3544\n",
       "Lead Add Form               630\n",
       "Lead Import                  39\n",
       "Quick Add Form                1\n",
       "Name: Lead Origin, dtype: int64"
      ]
     },
     "execution_count": 101,
     "metadata": {},
     "output_type": "execute_result"
    }
   ],
   "source": [
    "#contents of the column\n",
    "leads[non_num_cols[0]].value_counts()"
   ]
  },
  {
   "cell_type": "markdown",
   "id": "28782f3a",
   "metadata": {},
   "source": [
    "\n",
    "This is a categorical column, converting it into n-1 dummy variables with the column_name as prefix"
   ]
  },
  {
   "cell_type": "code",
   "execution_count": 102,
   "id": "9895c1c0",
   "metadata": {},
   "outputs": [
    {
     "data": {
      "text/html": [
       "<div>\n",
       "<style scoped>\n",
       "    .dataframe tbody tr th:only-of-type {\n",
       "        vertical-align: middle;\n",
       "    }\n",
       "\n",
       "    .dataframe tbody tr th {\n",
       "        vertical-align: top;\n",
       "    }\n",
       "\n",
       "    .dataframe thead th {\n",
       "        text-align: right;\n",
       "    }\n",
       "</style>\n",
       "<table border=\"1\" class=\"dataframe\">\n",
       "  <thead>\n",
       "    <tr style=\"text-align: right;\">\n",
       "      <th></th>\n",
       "      <th>Lead_Origin_API</th>\n",
       "      <th>Lead_Origin_Landing Page Submission</th>\n",
       "      <th>Lead_Origin_Lead Add Form</th>\n",
       "      <th>Lead_Origin_Lead Import</th>\n",
       "    </tr>\n",
       "  </thead>\n",
       "  <tbody>\n",
       "    <tr>\n",
       "      <th>0</th>\n",
       "      <td>1</td>\n",
       "      <td>0</td>\n",
       "      <td>0</td>\n",
       "      <td>0</td>\n",
       "    </tr>\n",
       "    <tr>\n",
       "      <th>1</th>\n",
       "      <td>1</td>\n",
       "      <td>0</td>\n",
       "      <td>0</td>\n",
       "      <td>0</td>\n",
       "    </tr>\n",
       "    <tr>\n",
       "      <th>2</th>\n",
       "      <td>0</td>\n",
       "      <td>1</td>\n",
       "      <td>0</td>\n",
       "      <td>0</td>\n",
       "    </tr>\n",
       "    <tr>\n",
       "      <th>3</th>\n",
       "      <td>0</td>\n",
       "      <td>1</td>\n",
       "      <td>0</td>\n",
       "      <td>0</td>\n",
       "    </tr>\n",
       "    <tr>\n",
       "      <th>4</th>\n",
       "      <td>0</td>\n",
       "      <td>1</td>\n",
       "      <td>0</td>\n",
       "      <td>0</td>\n",
       "    </tr>\n",
       "  </tbody>\n",
       "</table>\n",
       "</div>"
      ],
      "text/plain": [
       "   Lead_Origin_API  Lead_Origin_Landing Page Submission  \\\n",
       "0                1                                    0   \n",
       "1                1                                    0   \n",
       "2                0                                    1   \n",
       "3                0                                    1   \n",
       "4                0                                    1   \n",
       "\n",
       "   Lead_Origin_Lead Add Form  Lead_Origin_Lead Import  \n",
       "0                          0                        0  \n",
       "1                          0                        0  \n",
       "2                          0                        0  \n",
       "3                          0                        0  \n",
       "4                          0                        0  "
      ]
     },
     "execution_count": 102,
     "metadata": {},
     "output_type": "execute_result"
    }
   ],
   "source": [
    "#create dummy variables for the variable\n",
    "lo1 = pd.get_dummies(leads['Lead Origin'], prefix='Lead_Origin')\n",
    "\n",
    "#istead of using drop_first = True, we will manually drop the dummy variable 'Lead_Origin_Quick Add Form'\n",
    "lo1 = lo1.drop('Lead_Origin_Quick Add Form', axis=1)\n",
    "\n",
    "#overview\n",
    "lo1.head()"
   ]
  },
  {
   "cell_type": "code",
   "execution_count": 103,
   "id": "7a818fb0",
   "metadata": {},
   "outputs": [
    {
     "data": {
      "text/plain": [
       "(8942, 28)"
      ]
     },
     "execution_count": 103,
     "metadata": {},
     "output_type": "execute_result"
    }
   ],
   "source": [
    "#Adding the dummies to master dataframe\n",
    "leads = pd.concat([leads,lo1], axis=1)\n",
    "\n",
    "#check\n",
    "leads.shape"
   ]
  },
  {
   "cell_type": "code",
   "execution_count": 104,
   "id": "20853e57",
   "metadata": {},
   "outputs": [
    {
     "data": {
      "text/plain": [
       "(8942, 27)"
      ]
     },
     "execution_count": 104,
     "metadata": {},
     "output_type": "execute_result"
    }
   ],
   "source": [
    "#drop the original column from leads dataframe\n",
    "leads.drop(non_num_cols[0], axis=1, inplace=True)\n",
    "\n",
    "#check\n",
    "leads.shape"
   ]
  },
  {
   "cell_type": "markdown",
   "id": "dad66c63",
   "metadata": {},
   "source": [
    "Column 2: Lead Source"
   ]
  },
  {
   "cell_type": "code",
   "execution_count": 105,
   "id": "a9a97062",
   "metadata": {},
   "outputs": [
    {
     "data": {
      "text/plain": [
       "'Lead Source'"
      ]
     },
     "execution_count": 105,
     "metadata": {},
     "output_type": "execute_result"
    }
   ],
   "source": [
    "non_num_cols[1]"
   ]
  },
  {
   "cell_type": "code",
   "execution_count": 106,
   "id": "3aafb313",
   "metadata": {},
   "outputs": [
    {
     "data": {
      "text/plain": [
       "Google               2858\n",
       "Direct Traffic       2487\n",
       "Olark Chat           1753\n",
       "Organic Search       1074\n",
       "Reference             461\n",
       "Welingak Website      129\n",
       "Referral Sites        114\n",
       "Facebook               39\n",
       "bing                    6\n",
       "google                  5\n",
       "Click2call              4\n",
       "Social Media            2\n",
       "Live Chat               2\n",
       "youtubechannel          1\n",
       "Press_Release           1\n",
       "testone                 1\n",
       "Pay per Click Ads       1\n",
       "welearnblog_Home        1\n",
       "WeLearn                 1\n",
       "blog                    1\n",
       "NC_EDM                  1\n",
       "Name: Lead Source, dtype: int64"
      ]
     },
     "execution_count": 106,
     "metadata": {},
     "output_type": "execute_result"
    }
   ],
   "source": [
    "#contents of the column\n",
    "leads[non_num_cols[1]].value_counts()"
   ]
  },
  {
   "cell_type": "markdown",
   "id": "2a9d82d9",
   "metadata": {},
   "source": [
    "This is a categorical column, converting it into n-1 dummy variables with the column_name as prefix"
   ]
  },
  {
   "cell_type": "code",
   "execution_count": 107,
   "id": "79385398",
   "metadata": {},
   "outputs": [
    {
     "data": {
      "text/html": [
       "<div>\n",
       "<style scoped>\n",
       "    .dataframe tbody tr th:only-of-type {\n",
       "        vertical-align: middle;\n",
       "    }\n",
       "\n",
       "    .dataframe tbody tr th {\n",
       "        vertical-align: top;\n",
       "    }\n",
       "\n",
       "    .dataframe thead th {\n",
       "        text-align: right;\n",
       "    }\n",
       "</style>\n",
       "<table border=\"1\" class=\"dataframe\">\n",
       "  <thead>\n",
       "    <tr style=\"text-align: right;\">\n",
       "      <th></th>\n",
       "      <th>Lead_Source_Click2call</th>\n",
       "      <th>Lead_Source_Direct Traffic</th>\n",
       "      <th>Lead_Source_Facebook</th>\n",
       "      <th>Lead_Source_Google</th>\n",
       "      <th>Lead_Source_Live Chat</th>\n",
       "      <th>Lead_Source_Olark Chat</th>\n",
       "      <th>Lead_Source_Organic Search</th>\n",
       "      <th>Lead_Source_Pay per Click Ads</th>\n",
       "      <th>Lead_Source_Press_Release</th>\n",
       "      <th>Lead_Source_Reference</th>\n",
       "      <th>Lead_Source_Referral Sites</th>\n",
       "      <th>Lead_Source_Social Media</th>\n",
       "      <th>Lead_Source_WeLearn</th>\n",
       "      <th>Lead_Source_Welingak Website</th>\n",
       "      <th>Lead_Source_bing</th>\n",
       "      <th>Lead_Source_blog</th>\n",
       "      <th>Lead_Source_google</th>\n",
       "      <th>Lead_Source_testone</th>\n",
       "      <th>Lead_Source_welearnblog_Home</th>\n",
       "      <th>Lead_Source_youtubechannel</th>\n",
       "    </tr>\n",
       "  </thead>\n",
       "  <tbody>\n",
       "    <tr>\n",
       "      <th>0</th>\n",
       "      <td>0</td>\n",
       "      <td>0</td>\n",
       "      <td>0</td>\n",
       "      <td>0</td>\n",
       "      <td>0</td>\n",
       "      <td>1</td>\n",
       "      <td>0</td>\n",
       "      <td>0</td>\n",
       "      <td>0</td>\n",
       "      <td>0</td>\n",
       "      <td>0</td>\n",
       "      <td>0</td>\n",
       "      <td>0</td>\n",
       "      <td>0</td>\n",
       "      <td>0</td>\n",
       "      <td>0</td>\n",
       "      <td>0</td>\n",
       "      <td>0</td>\n",
       "      <td>0</td>\n",
       "      <td>0</td>\n",
       "    </tr>\n",
       "    <tr>\n",
       "      <th>1</th>\n",
       "      <td>0</td>\n",
       "      <td>0</td>\n",
       "      <td>0</td>\n",
       "      <td>0</td>\n",
       "      <td>0</td>\n",
       "      <td>0</td>\n",
       "      <td>1</td>\n",
       "      <td>0</td>\n",
       "      <td>0</td>\n",
       "      <td>0</td>\n",
       "      <td>0</td>\n",
       "      <td>0</td>\n",
       "      <td>0</td>\n",
       "      <td>0</td>\n",
       "      <td>0</td>\n",
       "      <td>0</td>\n",
       "      <td>0</td>\n",
       "      <td>0</td>\n",
       "      <td>0</td>\n",
       "      <td>0</td>\n",
       "    </tr>\n",
       "    <tr>\n",
       "      <th>2</th>\n",
       "      <td>0</td>\n",
       "      <td>1</td>\n",
       "      <td>0</td>\n",
       "      <td>0</td>\n",
       "      <td>0</td>\n",
       "      <td>0</td>\n",
       "      <td>0</td>\n",
       "      <td>0</td>\n",
       "      <td>0</td>\n",
       "      <td>0</td>\n",
       "      <td>0</td>\n",
       "      <td>0</td>\n",
       "      <td>0</td>\n",
       "      <td>0</td>\n",
       "      <td>0</td>\n",
       "      <td>0</td>\n",
       "      <td>0</td>\n",
       "      <td>0</td>\n",
       "      <td>0</td>\n",
       "      <td>0</td>\n",
       "    </tr>\n",
       "    <tr>\n",
       "      <th>3</th>\n",
       "      <td>0</td>\n",
       "      <td>1</td>\n",
       "      <td>0</td>\n",
       "      <td>0</td>\n",
       "      <td>0</td>\n",
       "      <td>0</td>\n",
       "      <td>0</td>\n",
       "      <td>0</td>\n",
       "      <td>0</td>\n",
       "      <td>0</td>\n",
       "      <td>0</td>\n",
       "      <td>0</td>\n",
       "      <td>0</td>\n",
       "      <td>0</td>\n",
       "      <td>0</td>\n",
       "      <td>0</td>\n",
       "      <td>0</td>\n",
       "      <td>0</td>\n",
       "      <td>0</td>\n",
       "      <td>0</td>\n",
       "    </tr>\n",
       "    <tr>\n",
       "      <th>4</th>\n",
       "      <td>0</td>\n",
       "      <td>0</td>\n",
       "      <td>0</td>\n",
       "      <td>1</td>\n",
       "      <td>0</td>\n",
       "      <td>0</td>\n",
       "      <td>0</td>\n",
       "      <td>0</td>\n",
       "      <td>0</td>\n",
       "      <td>0</td>\n",
       "      <td>0</td>\n",
       "      <td>0</td>\n",
       "      <td>0</td>\n",
       "      <td>0</td>\n",
       "      <td>0</td>\n",
       "      <td>0</td>\n",
       "      <td>0</td>\n",
       "      <td>0</td>\n",
       "      <td>0</td>\n",
       "      <td>0</td>\n",
       "    </tr>\n",
       "  </tbody>\n",
       "</table>\n",
       "</div>"
      ],
      "text/plain": [
       "   Lead_Source_Click2call  Lead_Source_Direct Traffic  Lead_Source_Facebook  \\\n",
       "0                       0                           0                     0   \n",
       "1                       0                           0                     0   \n",
       "2                       0                           1                     0   \n",
       "3                       0                           1                     0   \n",
       "4                       0                           0                     0   \n",
       "\n",
       "   Lead_Source_Google  Lead_Source_Live Chat  Lead_Source_Olark Chat  \\\n",
       "0                   0                      0                       1   \n",
       "1                   0                      0                       0   \n",
       "2                   0                      0                       0   \n",
       "3                   0                      0                       0   \n",
       "4                   1                      0                       0   \n",
       "\n",
       "   Lead_Source_Organic Search  Lead_Source_Pay per Click Ads  \\\n",
       "0                           0                              0   \n",
       "1                           1                              0   \n",
       "2                           0                              0   \n",
       "3                           0                              0   \n",
       "4                           0                              0   \n",
       "\n",
       "   Lead_Source_Press_Release  Lead_Source_Reference  \\\n",
       "0                          0                      0   \n",
       "1                          0                      0   \n",
       "2                          0                      0   \n",
       "3                          0                      0   \n",
       "4                          0                      0   \n",
       "\n",
       "   Lead_Source_Referral Sites  Lead_Source_Social Media  Lead_Source_WeLearn  \\\n",
       "0                           0                         0                    0   \n",
       "1                           0                         0                    0   \n",
       "2                           0                         0                    0   \n",
       "3                           0                         0                    0   \n",
       "4                           0                         0                    0   \n",
       "\n",
       "   Lead_Source_Welingak Website  Lead_Source_bing  Lead_Source_blog  \\\n",
       "0                             0                 0                 0   \n",
       "1                             0                 0                 0   \n",
       "2                             0                 0                 0   \n",
       "3                             0                 0                 0   \n",
       "4                             0                 0                 0   \n",
       "\n",
       "   Lead_Source_google  Lead_Source_testone  Lead_Source_welearnblog_Home  \\\n",
       "0                   0                    0                             0   \n",
       "1                   0                    0                             0   \n",
       "2                   0                    0                             0   \n",
       "3                   0                    0                             0   \n",
       "4                   0                    0                             0   \n",
       "\n",
       "   Lead_Source_youtubechannel  \n",
       "0                           0  \n",
       "1                           0  \n",
       "2                           0  \n",
       "3                           0  \n",
       "4                           0  "
      ]
     },
     "execution_count": 107,
     "metadata": {},
     "output_type": "execute_result"
    }
   ],
   "source": [
    "#create dummy variables for the variable\n",
    "ls1 = pd.get_dummies(leads[non_num_cols[1]], prefix='Lead_Source')\n",
    "\n",
    "#istead of using drop_first = True, we will manually drop the dummy variable 'Lead_Source_NC_EDM'\n",
    "ls1 = ls1.drop('Lead_Source_NC_EDM', axis=1)\n",
    "\n",
    "#overview\n",
    "ls1.head()"
   ]
  },
  {
   "cell_type": "code",
   "execution_count": 108,
   "id": "afc1202b",
   "metadata": {},
   "outputs": [
    {
     "data": {
      "text/plain": [
       "(8942, 47)"
      ]
     },
     "execution_count": 108,
     "metadata": {},
     "output_type": "execute_result"
    }
   ],
   "source": [
    "#Adding the dummies to master dataframe\n",
    "leads = pd.concat([leads,ls1], axis=1)\n",
    "\n",
    "#check\n",
    "leads.shape"
   ]
  },
  {
   "cell_type": "code",
   "execution_count": 109,
   "id": "4b7790bc",
   "metadata": {},
   "outputs": [
    {
     "data": {
      "text/plain": [
       "(8942, 46)"
      ]
     },
     "execution_count": 109,
     "metadata": {},
     "output_type": "execute_result"
    }
   ],
   "source": [
    "#drop the original column from leads dataframe\n",
    "leads.drop(non_num_cols[1], axis=1, inplace=True)\n",
    "\n",
    "#check\n",
    "leads.shape"
   ]
  },
  {
   "cell_type": "markdown",
   "id": "cd5359b3",
   "metadata": {},
   "source": [
    "Column 3: Do Not Email"
   ]
  },
  {
   "cell_type": "code",
   "execution_count": 110,
   "id": "46505b1e",
   "metadata": {},
   "outputs": [
    {
     "data": {
      "text/plain": [
       "'Do Not Email'"
      ]
     },
     "execution_count": 110,
     "metadata": {},
     "output_type": "execute_result"
    }
   ],
   "source": [
    "non_num_cols[2]"
   ]
  },
  {
   "cell_type": "code",
   "execution_count": 111,
   "id": "6a1e53b9",
   "metadata": {},
   "outputs": [
    {
     "data": {
      "text/plain": [
       "No     8238\n",
       "Yes     704\n",
       "Name: Do Not Email, dtype: int64"
      ]
     },
     "execution_count": 111,
     "metadata": {},
     "output_type": "execute_result"
    }
   ],
   "source": [
    "#contents of the column\n",
    "leads[non_num_cols[2]].value_counts()"
   ]
  },
  {
   "cell_type": "markdown",
   "id": "d5e5b102",
   "metadata": {},
   "source": [
    "This is a yes/no type column.\n",
    "\n",
    "Define binary mapping function for it and convert the column into numerical type."
   ]
  },
  {
   "cell_type": "code",
   "execution_count": 112,
   "id": "03f81ed3",
   "metadata": {},
   "outputs": [],
   "source": [
    "def binary(x):\n",
    "    return ({'Yes':1, 'No':0}).get(x)"
   ]
  },
  {
   "cell_type": "code",
   "execution_count": 113,
   "id": "a086adc2",
   "metadata": {},
   "outputs": [
    {
     "name": "stdout",
     "output_type": "stream",
     "text": [
      "<class 'pandas.core.series.Series'>\n",
      "Int64Index: 8942 entries, 0 to 9239\n",
      "Series name: Do Not Email\n",
      "Non-Null Count  Dtype\n",
      "--------------  -----\n",
      "8942 non-null   int64\n",
      "dtypes: int64(1)\n",
      "memory usage: 139.7 KB\n"
     ]
    }
   ],
   "source": [
    "#applying binary function\n",
    "leads[non_num_cols[2]] = leads[non_num_cols[2]].map(binary)\n",
    "\n",
    "#check\n",
    "leads[non_num_cols[2]].info()"
   ]
  },
  {
   "cell_type": "code",
   "execution_count": 114,
   "id": "94febe74",
   "metadata": {},
   "outputs": [
    {
     "data": {
      "text/plain": [
       "0    8238\n",
       "1     704\n",
       "Name: Do Not Email, dtype: int64"
      ]
     },
     "execution_count": 114,
     "metadata": {},
     "output_type": "execute_result"
    }
   ],
   "source": [
    "#check\n",
    "leads[non_num_cols[2]].value_counts()"
   ]
  },
  {
   "cell_type": "markdown",
   "id": "e70724c4",
   "metadata": {},
   "source": [
    "Column 4: Do Not Call"
   ]
  },
  {
   "cell_type": "code",
   "execution_count": 115,
   "id": "5c4c07d0",
   "metadata": {},
   "outputs": [
    {
     "data": {
      "text/plain": [
       "'Do Not Call'"
      ]
     },
     "execution_count": 115,
     "metadata": {},
     "output_type": "execute_result"
    }
   ],
   "source": [
    "non_num_cols[3]"
   ]
  },
  {
   "cell_type": "code",
   "execution_count": 116,
   "id": "93c9dfc1",
   "metadata": {},
   "outputs": [
    {
     "data": {
      "text/plain": [
       "No     8940\n",
       "Yes       2\n",
       "Name: Do Not Call, dtype: int64"
      ]
     },
     "execution_count": 116,
     "metadata": {},
     "output_type": "execute_result"
    }
   ],
   "source": [
    "#contents of the column\n",
    "leads[non_num_cols[3]].value_counts()"
   ]
  },
  {
   "cell_type": "markdown",
   "id": "22754145",
   "metadata": {},
   "source": [
    "- The data in the column is very highly skewed.\n",
    "- **The point needs to be highlighted to business stakeholders that about 99% of leads do not prefer calling.**\n",
    "\n",
    "Hence, the column can be dropped from further analysis."
   ]
  },
  {
   "cell_type": "code",
   "execution_count": 117,
   "id": "9603b12f",
   "metadata": {},
   "outputs": [],
   "source": [
    "leads.drop(non_num_cols[3], axis=1, inplace=True)"
   ]
  },
  {
   "cell_type": "code",
   "execution_count": 118,
   "id": "b7c0c180",
   "metadata": {},
   "outputs": [
    {
     "data": {
      "text/plain": [
       "(8942, 45)"
      ]
     },
     "execution_count": 118,
     "metadata": {},
     "output_type": "execute_result"
    }
   ],
   "source": [
    "#check\n",
    "leads.shape"
   ]
  },
  {
   "cell_type": "markdown",
   "id": "276ef034",
   "metadata": {},
   "source": [
    "Column 5: Last Activity"
   ]
  },
  {
   "cell_type": "code",
   "execution_count": 119,
   "id": "b55c01ca",
   "metadata": {},
   "outputs": [
    {
     "data": {
      "text/plain": [
       "'Last Activity'"
      ]
     },
     "execution_count": 119,
     "metadata": {},
     "output_type": "execute_result"
    }
   ],
   "source": [
    "non_num_cols[4]"
   ]
  },
  {
   "cell_type": "code",
   "execution_count": 120,
   "id": "36a16952",
   "metadata": {},
   "outputs": [
    {
     "data": {
      "text/plain": [
       "Email Opened                    3370\n",
       "SMS Sent                        2689\n",
       "Olark Chat Conversation          965\n",
       "Page Visited on Website          592\n",
       "Converted to Lead                427\n",
       "Email Bounced                    323\n",
       "Email Link Clicked               264\n",
       "Form Submitted on Website        114\n",
       "Unreachable                       90\n",
       "Unsubscribed                      60\n",
       "Had a Phone Conversation          29\n",
       "Approached upfront                 9\n",
       "View in browser link Clicked       4\n",
       "Email Received                     2\n",
       "Email Marked Spam                  2\n",
       "Visited Booth in Tradeshow         1\n",
       "Resubscribed to emails             1\n",
       "Name: Last Activity, dtype: int64"
      ]
     },
     "execution_count": 120,
     "metadata": {},
     "output_type": "execute_result"
    }
   ],
   "source": [
    "#contents of the column\n",
    "leads[non_num_cols[4]].value_counts()"
   ]
  },
  {
   "cell_type": "code",
   "execution_count": 121,
   "id": "f65727ef",
   "metadata": {},
   "outputs": [
    {
     "data": {
      "text/html": [
       "<div>\n",
       "<style scoped>\n",
       "    .dataframe tbody tr th:only-of-type {\n",
       "        vertical-align: middle;\n",
       "    }\n",
       "\n",
       "    .dataframe tbody tr th {\n",
       "        vertical-align: top;\n",
       "    }\n",
       "\n",
       "    .dataframe thead th {\n",
       "        text-align: right;\n",
       "    }\n",
       "</style>\n",
       "<table border=\"1\" class=\"dataframe\">\n",
       "  <thead>\n",
       "    <tr style=\"text-align: right;\">\n",
       "      <th></th>\n",
       "      <th>Last_Activity_Approached upfront</th>\n",
       "      <th>Last_Activity_Converted to Lead</th>\n",
       "      <th>Last_Activity_Email Bounced</th>\n",
       "      <th>Last_Activity_Email Link Clicked</th>\n",
       "      <th>Last_Activity_Email Marked Spam</th>\n",
       "      <th>Last_Activity_Email Opened</th>\n",
       "      <th>Last_Activity_Email Received</th>\n",
       "      <th>Last_Activity_Form Submitted on Website</th>\n",
       "      <th>Last_Activity_Had a Phone Conversation</th>\n",
       "      <th>Last_Activity_Olark Chat Conversation</th>\n",
       "      <th>Last_Activity_Page Visited on Website</th>\n",
       "      <th>Last_Activity_Resubscribed to emails</th>\n",
       "      <th>Last_Activity_SMS Sent</th>\n",
       "      <th>Last_Activity_Unreachable</th>\n",
       "      <th>Last_Activity_Unsubscribed</th>\n",
       "      <th>Last_Activity_View in browser link Clicked</th>\n",
       "    </tr>\n",
       "  </thead>\n",
       "  <tbody>\n",
       "    <tr>\n",
       "      <th>0</th>\n",
       "      <td>0</td>\n",
       "      <td>0</td>\n",
       "      <td>0</td>\n",
       "      <td>0</td>\n",
       "      <td>0</td>\n",
       "      <td>0</td>\n",
       "      <td>0</td>\n",
       "      <td>0</td>\n",
       "      <td>0</td>\n",
       "      <td>0</td>\n",
       "      <td>1</td>\n",
       "      <td>0</td>\n",
       "      <td>0</td>\n",
       "      <td>0</td>\n",
       "      <td>0</td>\n",
       "      <td>0</td>\n",
       "    </tr>\n",
       "    <tr>\n",
       "      <th>1</th>\n",
       "      <td>0</td>\n",
       "      <td>0</td>\n",
       "      <td>0</td>\n",
       "      <td>0</td>\n",
       "      <td>0</td>\n",
       "      <td>1</td>\n",
       "      <td>0</td>\n",
       "      <td>0</td>\n",
       "      <td>0</td>\n",
       "      <td>0</td>\n",
       "      <td>0</td>\n",
       "      <td>0</td>\n",
       "      <td>0</td>\n",
       "      <td>0</td>\n",
       "      <td>0</td>\n",
       "      <td>0</td>\n",
       "    </tr>\n",
       "    <tr>\n",
       "      <th>2</th>\n",
       "      <td>0</td>\n",
       "      <td>0</td>\n",
       "      <td>0</td>\n",
       "      <td>0</td>\n",
       "      <td>0</td>\n",
       "      <td>1</td>\n",
       "      <td>0</td>\n",
       "      <td>0</td>\n",
       "      <td>0</td>\n",
       "      <td>0</td>\n",
       "      <td>0</td>\n",
       "      <td>0</td>\n",
       "      <td>0</td>\n",
       "      <td>0</td>\n",
       "      <td>0</td>\n",
       "      <td>0</td>\n",
       "    </tr>\n",
       "    <tr>\n",
       "      <th>3</th>\n",
       "      <td>0</td>\n",
       "      <td>0</td>\n",
       "      <td>0</td>\n",
       "      <td>0</td>\n",
       "      <td>0</td>\n",
       "      <td>0</td>\n",
       "      <td>0</td>\n",
       "      <td>0</td>\n",
       "      <td>0</td>\n",
       "      <td>0</td>\n",
       "      <td>0</td>\n",
       "      <td>0</td>\n",
       "      <td>0</td>\n",
       "      <td>1</td>\n",
       "      <td>0</td>\n",
       "      <td>0</td>\n",
       "    </tr>\n",
       "    <tr>\n",
       "      <th>4</th>\n",
       "      <td>0</td>\n",
       "      <td>1</td>\n",
       "      <td>0</td>\n",
       "      <td>0</td>\n",
       "      <td>0</td>\n",
       "      <td>0</td>\n",
       "      <td>0</td>\n",
       "      <td>0</td>\n",
       "      <td>0</td>\n",
       "      <td>0</td>\n",
       "      <td>0</td>\n",
       "      <td>0</td>\n",
       "      <td>0</td>\n",
       "      <td>0</td>\n",
       "      <td>0</td>\n",
       "      <td>0</td>\n",
       "    </tr>\n",
       "  </tbody>\n",
       "</table>\n",
       "</div>"
      ],
      "text/plain": [
       "   Last_Activity_Approached upfront  Last_Activity_Converted to Lead  \\\n",
       "0                                 0                                0   \n",
       "1                                 0                                0   \n",
       "2                                 0                                0   \n",
       "3                                 0                                0   \n",
       "4                                 0                                1   \n",
       "\n",
       "   Last_Activity_Email Bounced  Last_Activity_Email Link Clicked  \\\n",
       "0                            0                                 0   \n",
       "1                            0                                 0   \n",
       "2                            0                                 0   \n",
       "3                            0                                 0   \n",
       "4                            0                                 0   \n",
       "\n",
       "   Last_Activity_Email Marked Spam  Last_Activity_Email Opened  \\\n",
       "0                                0                           0   \n",
       "1                                0                           1   \n",
       "2                                0                           1   \n",
       "3                                0                           0   \n",
       "4                                0                           0   \n",
       "\n",
       "   Last_Activity_Email Received  Last_Activity_Form Submitted on Website  \\\n",
       "0                             0                                        0   \n",
       "1                             0                                        0   \n",
       "2                             0                                        0   \n",
       "3                             0                                        0   \n",
       "4                             0                                        0   \n",
       "\n",
       "   Last_Activity_Had a Phone Conversation  \\\n",
       "0                                       0   \n",
       "1                                       0   \n",
       "2                                       0   \n",
       "3                                       0   \n",
       "4                                       0   \n",
       "\n",
       "   Last_Activity_Olark Chat Conversation  \\\n",
       "0                                      0   \n",
       "1                                      0   \n",
       "2                                      0   \n",
       "3                                      0   \n",
       "4                                      0   \n",
       "\n",
       "   Last_Activity_Page Visited on Website  \\\n",
       "0                                      1   \n",
       "1                                      0   \n",
       "2                                      0   \n",
       "3                                      0   \n",
       "4                                      0   \n",
       "\n",
       "   Last_Activity_Resubscribed to emails  Last_Activity_SMS Sent  \\\n",
       "0                                     0                       0   \n",
       "1                                     0                       0   \n",
       "2                                     0                       0   \n",
       "3                                     0                       0   \n",
       "4                                     0                       0   \n",
       "\n",
       "   Last_Activity_Unreachable  Last_Activity_Unsubscribed  \\\n",
       "0                          0                           0   \n",
       "1                          0                           0   \n",
       "2                          0                           0   \n",
       "3                          1                           0   \n",
       "4                          0                           0   \n",
       "\n",
       "   Last_Activity_View in browser link Clicked  \n",
       "0                                           0  \n",
       "1                                           0  \n",
       "2                                           0  \n",
       "3                                           0  \n",
       "4                                           0  "
      ]
     },
     "execution_count": 121,
     "metadata": {},
     "output_type": "execute_result"
    }
   ],
   "source": [
    "#create dummy variables for the variable\n",
    "la1 = pd.get_dummies(leads[non_num_cols[4]], prefix='Last_Activity')\n",
    "\n",
    "#istead of using drop_first = True, we will manually drop the dummy variable 'Last_Activity_Visited Booth in Tradeshow'\n",
    "la1 = la1.drop('Last_Activity_Visited Booth in Tradeshow', axis=1)\n",
    "\n",
    "#overview\n",
    "la1.head()"
   ]
  },
  {
   "cell_type": "code",
   "execution_count": 122,
   "id": "d415be4a",
   "metadata": {},
   "outputs": [
    {
     "data": {
      "text/plain": [
       "(8942, 60)"
      ]
     },
     "execution_count": 122,
     "metadata": {},
     "output_type": "execute_result"
    }
   ],
   "source": [
    "#Adding the dummies to master dataframe\n",
    "leads = pd.concat([leads,la1], axis=1)\n",
    "\n",
    "#drop the original column from leads dataframe\n",
    "leads.drop(non_num_cols[4], axis=1, inplace=True)\n",
    "\n",
    "#check\n",
    "leads.shape"
   ]
  },
  {
   "cell_type": "markdown",
   "id": "a7a457fe",
   "metadata": {},
   "source": [
    "Column 6: Specialization"
   ]
  },
  {
   "cell_type": "code",
   "execution_count": 123,
   "id": "45c30568",
   "metadata": {},
   "outputs": [
    {
     "data": {
      "text/plain": [
       "'Specialization'"
      ]
     },
     "execution_count": 123,
     "metadata": {},
     "output_type": "execute_result"
    }
   ],
   "source": [
    "non_num_cols[5]"
   ]
  },
  {
   "cell_type": "code",
   "execution_count": 124,
   "id": "e3beba3e",
   "metadata": {
    "scrolled": true
   },
   "outputs": [
    {
     "data": {
      "text/plain": [
       "Unknown                              3301\n",
       "Finance Management                    947\n",
       "Human Resource Management             815\n",
       "Marketing Management                  811\n",
       "Operations Management                 492\n",
       "Business Administration               391\n",
       "IT Projects Management                358\n",
       "Supply Chain Management               334\n",
       "Banking, Investment And Insurance     319\n",
       "Media and Advertising                 195\n",
       "Travel and Tourism                    187\n",
       "International Business                173\n",
       "Healthcare Management                 150\n",
       "E-COMMERCE                            107\n",
       "Hospitality Management                105\n",
       "Retail Management                      95\n",
       "Rural and Agribusiness                 70\n",
       "E-Business                             54\n",
       "Services Excellence                    38\n",
       "Name: Specialization, dtype: int64"
      ]
     },
     "execution_count": 124,
     "metadata": {},
     "output_type": "execute_result"
    }
   ],
   "source": [
    "#contents of the column\n",
    "leads[non_num_cols[5]].value_counts()"
   ]
  },
  {
   "cell_type": "markdown",
   "id": "cdc9617b",
   "metadata": {},
   "source": [
    "This is a categorical columns, create n-1 dummy variables for it and add to the original dataframe."
   ]
  },
  {
   "cell_type": "code",
   "execution_count": 125,
   "id": "9107e6de",
   "metadata": {},
   "outputs": [
    {
     "data": {
      "text/html": [
       "<div>\n",
       "<style scoped>\n",
       "    .dataframe tbody tr th:only-of-type {\n",
       "        vertical-align: middle;\n",
       "    }\n",
       "\n",
       "    .dataframe tbody tr th {\n",
       "        vertical-align: top;\n",
       "    }\n",
       "\n",
       "    .dataframe thead th {\n",
       "        text-align: right;\n",
       "    }\n",
       "</style>\n",
       "<table border=\"1\" class=\"dataframe\">\n",
       "  <thead>\n",
       "    <tr style=\"text-align: right;\">\n",
       "      <th></th>\n",
       "      <th>Specialization_Business Administration</th>\n",
       "      <th>Specialization_E-Business</th>\n",
       "      <th>Specialization_E-COMMERCE</th>\n",
       "      <th>Specialization_Finance Management</th>\n",
       "      <th>Specialization_Healthcare Management</th>\n",
       "      <th>Specialization_Hospitality Management</th>\n",
       "      <th>Specialization_Human Resource Management</th>\n",
       "      <th>Specialization_IT Projects Management</th>\n",
       "      <th>Specialization_International Business</th>\n",
       "      <th>Specialization_Marketing Management</th>\n",
       "      <th>Specialization_Media and Advertising</th>\n",
       "      <th>Specialization_Operations Management</th>\n",
       "      <th>Specialization_Retail Management</th>\n",
       "      <th>Specialization_Rural and Agribusiness</th>\n",
       "      <th>Specialization_Services Excellence</th>\n",
       "      <th>Specialization_Supply Chain Management</th>\n",
       "      <th>Specialization_Travel and Tourism</th>\n",
       "      <th>Specialization_Unknown</th>\n",
       "    </tr>\n",
       "  </thead>\n",
       "  <tbody>\n",
       "    <tr>\n",
       "      <th>0</th>\n",
       "      <td>0</td>\n",
       "      <td>0</td>\n",
       "      <td>0</td>\n",
       "      <td>0</td>\n",
       "      <td>0</td>\n",
       "      <td>0</td>\n",
       "      <td>0</td>\n",
       "      <td>0</td>\n",
       "      <td>0</td>\n",
       "      <td>0</td>\n",
       "      <td>0</td>\n",
       "      <td>0</td>\n",
       "      <td>0</td>\n",
       "      <td>0</td>\n",
       "      <td>0</td>\n",
       "      <td>0</td>\n",
       "      <td>0</td>\n",
       "      <td>1</td>\n",
       "    </tr>\n",
       "    <tr>\n",
       "      <th>1</th>\n",
       "      <td>0</td>\n",
       "      <td>0</td>\n",
       "      <td>0</td>\n",
       "      <td>0</td>\n",
       "      <td>0</td>\n",
       "      <td>0</td>\n",
       "      <td>0</td>\n",
       "      <td>0</td>\n",
       "      <td>0</td>\n",
       "      <td>0</td>\n",
       "      <td>0</td>\n",
       "      <td>0</td>\n",
       "      <td>0</td>\n",
       "      <td>0</td>\n",
       "      <td>0</td>\n",
       "      <td>0</td>\n",
       "      <td>0</td>\n",
       "      <td>1</td>\n",
       "    </tr>\n",
       "    <tr>\n",
       "      <th>2</th>\n",
       "      <td>1</td>\n",
       "      <td>0</td>\n",
       "      <td>0</td>\n",
       "      <td>0</td>\n",
       "      <td>0</td>\n",
       "      <td>0</td>\n",
       "      <td>0</td>\n",
       "      <td>0</td>\n",
       "      <td>0</td>\n",
       "      <td>0</td>\n",
       "      <td>0</td>\n",
       "      <td>0</td>\n",
       "      <td>0</td>\n",
       "      <td>0</td>\n",
       "      <td>0</td>\n",
       "      <td>0</td>\n",
       "      <td>0</td>\n",
       "      <td>0</td>\n",
       "    </tr>\n",
       "    <tr>\n",
       "      <th>3</th>\n",
       "      <td>0</td>\n",
       "      <td>0</td>\n",
       "      <td>0</td>\n",
       "      <td>0</td>\n",
       "      <td>0</td>\n",
       "      <td>0</td>\n",
       "      <td>0</td>\n",
       "      <td>0</td>\n",
       "      <td>0</td>\n",
       "      <td>0</td>\n",
       "      <td>1</td>\n",
       "      <td>0</td>\n",
       "      <td>0</td>\n",
       "      <td>0</td>\n",
       "      <td>0</td>\n",
       "      <td>0</td>\n",
       "      <td>0</td>\n",
       "      <td>0</td>\n",
       "    </tr>\n",
       "    <tr>\n",
       "      <th>4</th>\n",
       "      <td>0</td>\n",
       "      <td>0</td>\n",
       "      <td>0</td>\n",
       "      <td>0</td>\n",
       "      <td>0</td>\n",
       "      <td>0</td>\n",
       "      <td>0</td>\n",
       "      <td>0</td>\n",
       "      <td>0</td>\n",
       "      <td>0</td>\n",
       "      <td>0</td>\n",
       "      <td>0</td>\n",
       "      <td>0</td>\n",
       "      <td>0</td>\n",
       "      <td>0</td>\n",
       "      <td>0</td>\n",
       "      <td>0</td>\n",
       "      <td>1</td>\n",
       "    </tr>\n",
       "  </tbody>\n",
       "</table>\n",
       "</div>"
      ],
      "text/plain": [
       "   Specialization_Business Administration  Specialization_E-Business  \\\n",
       "0                                       0                          0   \n",
       "1                                       0                          0   \n",
       "2                                       1                          0   \n",
       "3                                       0                          0   \n",
       "4                                       0                          0   \n",
       "\n",
       "   Specialization_E-COMMERCE  Specialization_Finance Management  \\\n",
       "0                          0                                  0   \n",
       "1                          0                                  0   \n",
       "2                          0                                  0   \n",
       "3                          0                                  0   \n",
       "4                          0                                  0   \n",
       "\n",
       "   Specialization_Healthcare Management  \\\n",
       "0                                     0   \n",
       "1                                     0   \n",
       "2                                     0   \n",
       "3                                     0   \n",
       "4                                     0   \n",
       "\n",
       "   Specialization_Hospitality Management  \\\n",
       "0                                      0   \n",
       "1                                      0   \n",
       "2                                      0   \n",
       "3                                      0   \n",
       "4                                      0   \n",
       "\n",
       "   Specialization_Human Resource Management  \\\n",
       "0                                         0   \n",
       "1                                         0   \n",
       "2                                         0   \n",
       "3                                         0   \n",
       "4                                         0   \n",
       "\n",
       "   Specialization_IT Projects Management  \\\n",
       "0                                      0   \n",
       "1                                      0   \n",
       "2                                      0   \n",
       "3                                      0   \n",
       "4                                      0   \n",
       "\n",
       "   Specialization_International Business  Specialization_Marketing Management  \\\n",
       "0                                      0                                    0   \n",
       "1                                      0                                    0   \n",
       "2                                      0                                    0   \n",
       "3                                      0                                    0   \n",
       "4                                      0                                    0   \n",
       "\n",
       "   Specialization_Media and Advertising  Specialization_Operations Management  \\\n",
       "0                                     0                                     0   \n",
       "1                                     0                                     0   \n",
       "2                                     0                                     0   \n",
       "3                                     1                                     0   \n",
       "4                                     0                                     0   \n",
       "\n",
       "   Specialization_Retail Management  Specialization_Rural and Agribusiness  \\\n",
       "0                                 0                                      0   \n",
       "1                                 0                                      0   \n",
       "2                                 0                                      0   \n",
       "3                                 0                                      0   \n",
       "4                                 0                                      0   \n",
       "\n",
       "   Specialization_Services Excellence  Specialization_Supply Chain Management  \\\n",
       "0                                   0                                       0   \n",
       "1                                   0                                       0   \n",
       "2                                   0                                       0   \n",
       "3                                   0                                       0   \n",
       "4                                   0                                       0   \n",
       "\n",
       "   Specialization_Travel and Tourism  Specialization_Unknown  \n",
       "0                                  0                       1  \n",
       "1                                  0                       1  \n",
       "2                                  0                       0  \n",
       "3                                  0                       0  \n",
       "4                                  0                       1  "
      ]
     },
     "execution_count": 125,
     "metadata": {},
     "output_type": "execute_result"
    }
   ],
   "source": [
    "#create dummy variables for the variable\n",
    "#we are using drop_first = True to drop the variable column for 'unknown' Specialization category\n",
    "sp1 = pd.get_dummies(leads[non_num_cols[5]], prefix='Specialization', drop_first=True)\n",
    "\n",
    "#overview\n",
    "sp1.head()"
   ]
  },
  {
   "cell_type": "code",
   "execution_count": 126,
   "id": "7205c923",
   "metadata": {},
   "outputs": [
    {
     "data": {
      "text/plain": [
       "(8942, 77)"
      ]
     },
     "execution_count": 126,
     "metadata": {},
     "output_type": "execute_result"
    }
   ],
   "source": [
    "#Adding the dummies to master dataframe\n",
    "leads = pd.concat([leads,sp1], axis=1)\n",
    "\n",
    "#drop the original column from leads dataframe\n",
    "leads.drop(non_num_cols[5], axis=1, inplace=True)\n",
    "\n",
    "#check\n",
    "leads.shape"
   ]
  },
  {
   "cell_type": "markdown",
   "id": "0bbdec12",
   "metadata": {},
   "source": [
    "Column 7: Search"
   ]
  },
  {
   "cell_type": "code",
   "execution_count": 127,
   "id": "53222fa2",
   "metadata": {},
   "outputs": [
    {
     "data": {
      "text/plain": [
       "'Search'"
      ]
     },
     "execution_count": 127,
     "metadata": {},
     "output_type": "execute_result"
    }
   ],
   "source": [
    "non_num_cols[6]"
   ]
  },
  {
   "cell_type": "code",
   "execution_count": 128,
   "id": "8632996a",
   "metadata": {},
   "outputs": [
    {
     "data": {
      "text/plain": [
       "No     8929\n",
       "Yes      13\n",
       "Name: Search, dtype: int64"
      ]
     },
     "execution_count": 128,
     "metadata": {},
     "output_type": "execute_result"
    }
   ],
   "source": [
    "#contents of the column\n",
    "leads[non_num_cols[6]].value_counts()"
   ]
  },
  {
   "cell_type": "markdown",
   "id": "a4b8e7c0",
   "metadata": {},
   "source": [
    "**Business Observation: As per data dictionary, it can be conveyed to busiess stakeholders that almost none of the leads have seen their search ads.**\n",
    "\n",
    "Dropping this column from further analysis as it is irrelevant from a model bulding perspective."
   ]
  },
  {
   "cell_type": "code",
   "execution_count": 129,
   "id": "36652a28",
   "metadata": {},
   "outputs": [
    {
     "data": {
      "text/plain": [
       "(8942, 76)"
      ]
     },
     "execution_count": 129,
     "metadata": {},
     "output_type": "execute_result"
    }
   ],
   "source": [
    "leads.drop(non_num_cols[6], axis=1, inplace=True)\n",
    "\n",
    "#check\n",
    "leads.shape"
   ]
  },
  {
   "cell_type": "markdown",
   "id": "aefad7ca",
   "metadata": {},
   "source": [
    "Column 8: Magazine"
   ]
  },
  {
   "cell_type": "code",
   "execution_count": 130,
   "id": "edba0a03",
   "metadata": {},
   "outputs": [
    {
     "data": {
      "text/plain": [
       "'Magazine'"
      ]
     },
     "execution_count": 130,
     "metadata": {},
     "output_type": "execute_result"
    }
   ],
   "source": [
    "non_num_cols[7]"
   ]
  },
  {
   "cell_type": "code",
   "execution_count": 131,
   "id": "fa957063",
   "metadata": {},
   "outputs": [
    {
     "data": {
      "text/plain": [
       "No    8942\n",
       "Name: Magazine, dtype: int64"
      ]
     },
     "execution_count": 131,
     "metadata": {},
     "output_type": "execute_result"
    }
   ],
   "source": [
    "#contents of the column\n",
    "leads[non_num_cols[7]].value_counts()"
   ]
  },
  {
   "cell_type": "markdown",
   "id": "3a487be4",
   "metadata": {},
   "source": [
    "**Business Observation: As per data dictionary, it can be conveyed to busiess stakeholders that none of the leads have seen their as in magazine.**\n",
    "\n",
    "Dropping this column from further analysis as it is irrelevant from a model bulding perspective."
   ]
  },
  {
   "cell_type": "code",
   "execution_count": 132,
   "id": "216a7ce4",
   "metadata": {},
   "outputs": [
    {
     "data": {
      "text/plain": [
       "(8942, 75)"
      ]
     },
     "execution_count": 132,
     "metadata": {},
     "output_type": "execute_result"
    }
   ],
   "source": [
    "leads.drop(non_num_cols[7], axis=1, inplace=True)\n",
    "\n",
    "#check\n",
    "leads.shape"
   ]
  },
  {
   "cell_type": "markdown",
   "id": "8a502147",
   "metadata": {},
   "source": [
    "Column 9: Newspaper Article"
   ]
  },
  {
   "cell_type": "code",
   "execution_count": 133,
   "id": "aec38ac9",
   "metadata": {},
   "outputs": [
    {
     "data": {
      "text/plain": [
       "'Newspaper Article'"
      ]
     },
     "execution_count": 133,
     "metadata": {},
     "output_type": "execute_result"
    }
   ],
   "source": [
    "non_num_cols[8]"
   ]
  },
  {
   "cell_type": "code",
   "execution_count": 134,
   "id": "0ec7ee8b",
   "metadata": {},
   "outputs": [
    {
     "data": {
      "text/plain": [
       "No    8942\n",
       "Name: Newspaper Article, dtype: int64"
      ]
     },
     "execution_count": 134,
     "metadata": {},
     "output_type": "execute_result"
    }
   ],
   "source": [
    "#contents of the column\n",
    "leads[non_num_cols[8]].value_counts()"
   ]
  },
  {
   "cell_type": "markdown",
   "id": "33010bb6",
   "metadata": {},
   "source": [
    "**Business Observation: As per data dictionary, it can be conveyed to busiess stakeholders that none of the leads have seen their ad in newspaper.**\n",
    "\n",
    "Dropping this column from further analysis as it is irrelevant from a model bulding perspective."
   ]
  },
  {
   "cell_type": "code",
   "execution_count": 135,
   "id": "e029fccf",
   "metadata": {},
   "outputs": [
    {
     "data": {
      "text/plain": [
       "(8942, 74)"
      ]
     },
     "execution_count": 135,
     "metadata": {},
     "output_type": "execute_result"
    }
   ],
   "source": [
    "leads.drop(non_num_cols[8], axis=1, inplace=True)\n",
    "\n",
    "#check\n",
    "leads.shape"
   ]
  },
  {
   "cell_type": "markdown",
   "id": "54ee78dd",
   "metadata": {},
   "source": [
    "Column 10: X Education Forms"
   ]
  },
  {
   "cell_type": "code",
   "execution_count": 136,
   "id": "ab1279c4",
   "metadata": {},
   "outputs": [
    {
     "data": {
      "text/plain": [
       "'X Education Forums'"
      ]
     },
     "execution_count": 136,
     "metadata": {},
     "output_type": "execute_result"
    }
   ],
   "source": [
    "non_num_cols[9]"
   ]
  },
  {
   "cell_type": "code",
   "execution_count": 137,
   "id": "1ecd4f36",
   "metadata": {},
   "outputs": [
    {
     "data": {
      "text/plain": [
       "No    8942\n",
       "Name: X Education Forums, dtype: int64"
      ]
     },
     "execution_count": 137,
     "metadata": {},
     "output_type": "execute_result"
    }
   ],
   "source": [
    "#contents of the column\n",
    "leads[non_num_cols[9]].value_counts()"
   ]
  },
  {
   "cell_type": "markdown",
   "id": "d92c3b3d",
   "metadata": {},
   "source": [
    "**Business Observation: As per data dictionary, it can be conveyed to busiess stakeholders that none of the leads have seen the X Education forms.**\n",
    "\n",
    "Dropping this column from further analysis as it is irrelevant from a model bulding perspective."
   ]
  },
  {
   "cell_type": "code",
   "execution_count": 138,
   "id": "cac5aa1e",
   "metadata": {},
   "outputs": [
    {
     "data": {
      "text/plain": [
       "(8942, 73)"
      ]
     },
     "execution_count": 138,
     "metadata": {},
     "output_type": "execute_result"
    }
   ],
   "source": [
    "leads.drop(non_num_cols[9], axis=1, inplace=True)\n",
    "\n",
    "#check\n",
    "leads.shape"
   ]
  },
  {
   "cell_type": "markdown",
   "id": "14202912",
   "metadata": {},
   "source": [
    "Column 11: Newspaper"
   ]
  },
  {
   "cell_type": "code",
   "execution_count": 139,
   "id": "454970da",
   "metadata": {},
   "outputs": [
    {
     "data": {
      "text/plain": [
       "'Newspaper'"
      ]
     },
     "execution_count": 139,
     "metadata": {},
     "output_type": "execute_result"
    }
   ],
   "source": [
    "non_num_cols[10]"
   ]
  },
  {
   "cell_type": "code",
   "execution_count": 140,
   "id": "69a887eb",
   "metadata": {},
   "outputs": [
    {
     "data": {
      "text/plain": [
       "No     8941\n",
       "Yes       1\n",
       "Name: Newspaper, dtype: int64"
      ]
     },
     "execution_count": 140,
     "metadata": {},
     "output_type": "execute_result"
    }
   ],
   "source": [
    "#contents of the column\n",
    "leads[non_num_cols[10]].value_counts()"
   ]
  },
  {
   "cell_type": "markdown",
   "id": "7364f196",
   "metadata": {},
   "source": [
    "**Business Observation: As per data dictionary, it can be conveyed to busiess stakeholders that almost none of the leads have seen their ad in newspaper.**\n",
    "\n",
    "Dropping this column from further analysis as it is irrelevant from a model bulding perspective."
   ]
  },
  {
   "cell_type": "code",
   "execution_count": 141,
   "id": "7b38df19",
   "metadata": {},
   "outputs": [
    {
     "data": {
      "text/plain": [
       "(8942, 72)"
      ]
     },
     "execution_count": 141,
     "metadata": {},
     "output_type": "execute_result"
    }
   ],
   "source": [
    "leads.drop(non_num_cols[10], axis=1, inplace=True)\n",
    "\n",
    "#check\n",
    "leads.shape"
   ]
  },
  {
   "cell_type": "markdown",
   "id": "c0a776c7",
   "metadata": {},
   "source": [
    "Column 12: Digital Advertisement"
   ]
  },
  {
   "cell_type": "code",
   "execution_count": 142,
   "id": "15240435",
   "metadata": {},
   "outputs": [
    {
     "data": {
      "text/plain": [
       "'Digital Advertisement'"
      ]
     },
     "execution_count": 142,
     "metadata": {},
     "output_type": "execute_result"
    }
   ],
   "source": [
    "non_num_cols[11]"
   ]
  },
  {
   "cell_type": "code",
   "execution_count": 143,
   "id": "6dbf93a4",
   "metadata": {},
   "outputs": [
    {
     "data": {
      "text/plain": [
       "No     8940\n",
       "Yes       2\n",
       "Name: Digital Advertisement, dtype: int64"
      ]
     },
     "execution_count": 143,
     "metadata": {},
     "output_type": "execute_result"
    }
   ],
   "source": [
    "#contents of the column\n",
    "leads[non_num_cols[11]].value_counts()"
   ]
  },
  {
   "cell_type": "markdown",
   "id": "a1489fa5",
   "metadata": {},
   "source": [
    "**Business Observation: As per data dictionary, it can be conveyed to busiess stakeholders that almost none of the leads have seen their digital advertisement.**\n",
    "\n",
    "Dropping this column from further analysis as it is irrelevant from a model bulding perspective."
   ]
  },
  {
   "cell_type": "code",
   "execution_count": 144,
   "id": "c359b7f3",
   "metadata": {},
   "outputs": [
    {
     "data": {
      "text/plain": [
       "(8942, 71)"
      ]
     },
     "execution_count": 144,
     "metadata": {},
     "output_type": "execute_result"
    }
   ],
   "source": [
    "leads.drop(non_num_cols[11], axis=1, inplace=True)\n",
    "\n",
    "#check\n",
    "leads.shape"
   ]
  },
  {
   "cell_type": "markdown",
   "id": "c352e1eb",
   "metadata": {},
   "source": [
    "Column 13: Through Recommendations"
   ]
  },
  {
   "cell_type": "code",
   "execution_count": 145,
   "id": "ac6fc219",
   "metadata": {},
   "outputs": [
    {
     "data": {
      "text/plain": [
       "'Through Recommendations'"
      ]
     },
     "execution_count": 145,
     "metadata": {},
     "output_type": "execute_result"
    }
   ],
   "source": [
    "non_num_cols[12]"
   ]
  },
  {
   "cell_type": "code",
   "execution_count": 146,
   "id": "fff59a87",
   "metadata": {},
   "outputs": [
    {
     "data": {
      "text/plain": [
       "No     8936\n",
       "Yes       6\n",
       "Name: Through Recommendations, dtype: int64"
      ]
     },
     "execution_count": 146,
     "metadata": {},
     "output_type": "execute_result"
    }
   ],
   "source": [
    "#contents of the column\n",
    "leads[non_num_cols[12]].value_counts()"
   ]
  },
  {
   "cell_type": "markdown",
   "id": "931ab627",
   "metadata": {},
   "source": [
    "**Business Observation: As per data dictionary, we can conclude that almost none of of the leads came in through recomendation.**\n",
    "\n",
    "Dropping this column from further analysis, hence it does not contribute from a model building perspective."
   ]
  },
  {
   "cell_type": "code",
   "execution_count": 147,
   "id": "8df5d482",
   "metadata": {},
   "outputs": [
    {
     "data": {
      "text/plain": [
       "(8942, 70)"
      ]
     },
     "execution_count": 147,
     "metadata": {},
     "output_type": "execute_result"
    }
   ],
   "source": [
    "leads.drop(non_num_cols[12], axis=1, inplace=True)\n",
    "\n",
    "#check\n",
    "leads.shape"
   ]
  },
  {
   "cell_type": "markdown",
   "id": "a1c5df77",
   "metadata": {},
   "source": [
    "Column 14: Receive More Updates About Our Courses"
   ]
  },
  {
   "cell_type": "code",
   "execution_count": 148,
   "id": "e70ab947",
   "metadata": {},
   "outputs": [
    {
     "data": {
      "text/plain": [
       "'Receive More Updates About Our Courses'"
      ]
     },
     "execution_count": 148,
     "metadata": {},
     "output_type": "execute_result"
    }
   ],
   "source": [
    "non_num_cols[13]"
   ]
  },
  {
   "cell_type": "code",
   "execution_count": 149,
   "id": "c214bf52",
   "metadata": {},
   "outputs": [
    {
     "data": {
      "text/plain": [
       "No    8942\n",
       "Name: Receive More Updates About Our Courses, dtype: int64"
      ]
     },
     "execution_count": 149,
     "metadata": {},
     "output_type": "execute_result"
    }
   ],
   "source": [
    "#contents of the column\n",
    "leads[non_num_cols[13]].value_counts()"
   ]
  },
  {
   "cell_type": "markdown",
   "id": "5f398eaa",
   "metadata": {},
   "source": [
    "**Business Observation: As per data dictionary, it can be conveyed to busiess stakeholders that none of the leads want to receive more updates about the company's courses.**\n",
    "\n",
    "Dropping this column from further analysis as it is irrelevant from a model bulding perspective."
   ]
  },
  {
   "cell_type": "code",
   "execution_count": 150,
   "id": "c0bcf74e",
   "metadata": {},
   "outputs": [
    {
     "data": {
      "text/plain": [
       "(8942, 69)"
      ]
     },
     "execution_count": 150,
     "metadata": {},
     "output_type": "execute_result"
    }
   ],
   "source": [
    "leads.drop(non_num_cols[13], axis=1, inplace=True)\n",
    "\n",
    "#check\n",
    "leads.shape"
   ]
  },
  {
   "cell_type": "markdown",
   "id": "754cf133",
   "metadata": {},
   "source": [
    "Column 15: Update me on Supply Chain Content"
   ]
  },
  {
   "cell_type": "code",
   "execution_count": 151,
   "id": "51d5c0d8",
   "metadata": {},
   "outputs": [
    {
     "data": {
      "text/plain": [
       "'Update me on Supply Chain Content'"
      ]
     },
     "execution_count": 151,
     "metadata": {},
     "output_type": "execute_result"
    }
   ],
   "source": [
    "non_num_cols[14]"
   ]
  },
  {
   "cell_type": "code",
   "execution_count": 152,
   "id": "8b1a7f00",
   "metadata": {},
   "outputs": [
    {
     "data": {
      "text/plain": [
       "No    8942\n",
       "Name: Update me on Supply Chain Content, dtype: int64"
      ]
     },
     "execution_count": 152,
     "metadata": {},
     "output_type": "execute_result"
    }
   ],
   "source": [
    "#contents of the column\n",
    "leads[non_num_cols[14]].value_counts()"
   ]
  },
  {
   "cell_type": "markdown",
   "id": "48eca468",
   "metadata": {},
   "source": [
    "**Business Observation: As per data dictionary, it can be conveyed to busiess stakeholders that none of the leads want updates on their supply chain content.**\n",
    "\n",
    "Dropping this column from further analysis as it is irrelevant from a model bulding perspective."
   ]
  },
  {
   "cell_type": "code",
   "execution_count": 153,
   "id": "125682ee",
   "metadata": {},
   "outputs": [
    {
     "data": {
      "text/plain": [
       "(8942, 68)"
      ]
     },
     "execution_count": 153,
     "metadata": {},
     "output_type": "execute_result"
    }
   ],
   "source": [
    "leads.drop(non_num_cols[14], axis=1, inplace=True)\n",
    "\n",
    "#check\n",
    "leads.shape"
   ]
  },
  {
   "cell_type": "markdown",
   "id": "c14bd348",
   "metadata": {},
   "source": [
    "Column 16: Get updates on DM Content"
   ]
  },
  {
   "cell_type": "code",
   "execution_count": 154,
   "id": "72316bd5",
   "metadata": {},
   "outputs": [
    {
     "data": {
      "text/plain": [
       "'Get updates on DM Content'"
      ]
     },
     "execution_count": 154,
     "metadata": {},
     "output_type": "execute_result"
    }
   ],
   "source": [
    "non_num_cols[15]"
   ]
  },
  {
   "cell_type": "code",
   "execution_count": 155,
   "id": "0f06c0a0",
   "metadata": {},
   "outputs": [
    {
     "data": {
      "text/plain": [
       "No    8942\n",
       "Name: Get updates on DM Content, dtype: int64"
      ]
     },
     "execution_count": 155,
     "metadata": {},
     "output_type": "execute_result"
    }
   ],
   "source": [
    "#contents of the column\n",
    "leads[non_num_cols[15]].value_counts()"
   ]
  },
  {
   "cell_type": "markdown",
   "id": "562375e6",
   "metadata": {},
   "source": [
    "**Business Observation: As per data dictionary, it can be conveyed to busiess stakeholders that none of the leads want updates on the DM content.**\n",
    "\n",
    "Dropping this column from further analysis as it is irrelevant from a model bulding perspective."
   ]
  },
  {
   "cell_type": "code",
   "execution_count": 156,
   "id": "36d3c036",
   "metadata": {},
   "outputs": [
    {
     "data": {
      "text/plain": [
       "(8942, 67)"
      ]
     },
     "execution_count": 156,
     "metadata": {},
     "output_type": "execute_result"
    }
   ],
   "source": [
    "leads.drop(non_num_cols[15], axis=1, inplace=True)\n",
    "\n",
    "#check\n",
    "leads.shape"
   ]
  },
  {
   "cell_type": "markdown",
   "id": "4c827bda",
   "metadata": {},
   "source": [
    "Column 17: I agree to pay the amount through cheque"
   ]
  },
  {
   "cell_type": "code",
   "execution_count": 157,
   "id": "653bdbe7",
   "metadata": {},
   "outputs": [
    {
     "data": {
      "text/plain": [
       "'I agree to pay the amount through cheque'"
      ]
     },
     "execution_count": 157,
     "metadata": {},
     "output_type": "execute_result"
    }
   ],
   "source": [
    "non_num_cols[16]"
   ]
  },
  {
   "cell_type": "code",
   "execution_count": 158,
   "id": "6f005ecc",
   "metadata": {},
   "outputs": [
    {
     "data": {
      "text/plain": [
       "No    8942\n",
       "Name: I agree to pay the amount through cheque, dtype: int64"
      ]
     },
     "execution_count": 158,
     "metadata": {},
     "output_type": "execute_result"
    }
   ],
   "source": [
    "#contents of the column\n",
    "leads[non_num_cols[16]].value_counts()"
   ]
  },
  {
   "cell_type": "markdown",
   "id": "774f1d72",
   "metadata": {},
   "source": [
    "**Business Observation: As per data dictionary, it can be conveyed to busiess stakeholders that none of the leads agreed to pay via cheque.**\n",
    "\n",
    "Dropping this column from further analysis as it is irrelevant from a model bulding perspective."
   ]
  },
  {
   "cell_type": "code",
   "execution_count": 159,
   "id": "3507c311",
   "metadata": {},
   "outputs": [
    {
     "data": {
      "text/plain": [
       "(8942, 66)"
      ]
     },
     "execution_count": 159,
     "metadata": {},
     "output_type": "execute_result"
    }
   ],
   "source": [
    "leads.drop(non_num_cols[16], axis=1, inplace=True)\n",
    "\n",
    "#check\n",
    "leads.shape"
   ]
  },
  {
   "cell_type": "markdown",
   "id": "ee35524d",
   "metadata": {},
   "source": [
    "Column 18: A free copy of Mastering The Interview"
   ]
  },
  {
   "cell_type": "code",
   "execution_count": 160,
   "id": "71b1d92b",
   "metadata": {},
   "outputs": [
    {
     "data": {
      "text/plain": [
       "'A free copy of Mastering The Interview'"
      ]
     },
     "execution_count": 160,
     "metadata": {},
     "output_type": "execute_result"
    }
   ],
   "source": [
    "non_num_cols[17]"
   ]
  },
  {
   "cell_type": "code",
   "execution_count": 161,
   "id": "06ef1e25",
   "metadata": {},
   "outputs": [
    {
     "data": {
      "text/plain": [
       "No     6172\n",
       "Yes    2770\n",
       "Name: A free copy of Mastering The Interview, dtype: int64"
      ]
     },
     "execution_count": 161,
     "metadata": {},
     "output_type": "execute_result"
    }
   ],
   "source": [
    "#contents of the column\n",
    "leads[non_num_cols[17]].value_counts()"
   ]
  },
  {
   "cell_type": "markdown",
   "id": "ba3e0c30",
   "metadata": {},
   "source": [
    "This is a yes/no type column, Converting it using binary mapping function.\n",
    "\n",
    "Altough one can argue that this column is not iportant from a lead conversion point of view, but herein we do not have business stakeholders to discuss out this. So we will not drop the column for now."
   ]
  },
  {
   "cell_type": "code",
   "execution_count": 162,
   "id": "aee7393d",
   "metadata": {},
   "outputs": [
    {
     "data": {
      "text/plain": [
       "0    6172\n",
       "1    2770\n",
       "Name: A free copy of Mastering The Interview, dtype: int64"
      ]
     },
     "execution_count": 162,
     "metadata": {},
     "output_type": "execute_result"
    }
   ],
   "source": [
    "#applying binary function\n",
    "leads[non_num_cols[17]] = leads[non_num_cols[17]].map(binary)\n",
    "\n",
    "#check\n",
    "leads[non_num_cols[17]].value_counts()"
   ]
  },
  {
   "cell_type": "markdown",
   "id": "8c1cad9c",
   "metadata": {},
   "source": [
    "Column 19: Last Notable Activity"
   ]
  },
  {
   "cell_type": "code",
   "execution_count": 163,
   "id": "f1660e7c",
   "metadata": {},
   "outputs": [
    {
     "data": {
      "text/plain": [
       "'Last Notable Activity'"
      ]
     },
     "execution_count": 163,
     "metadata": {},
     "output_type": "execute_result"
    }
   ],
   "source": [
    "non_num_cols[18]"
   ]
  },
  {
   "cell_type": "code",
   "execution_count": 164,
   "id": "75cfdbb3",
   "metadata": {},
   "outputs": [
    {
     "data": {
      "text/plain": [
       "19"
      ]
     },
     "execution_count": 164,
     "metadata": {},
     "output_type": "execute_result"
    }
   ],
   "source": [
    "#check the number of object type columns\n",
    "len(non_num_cols)\n",
    "\n",
    "#Hence, we can say that we have analyzed all of the object type columns"
   ]
  },
  {
   "cell_type": "code",
   "execution_count": 165,
   "id": "46f7a61f",
   "metadata": {},
   "outputs": [
    {
     "data": {
      "text/plain": [
       "Modified                        3247\n",
       "Email Opened                    2772\n",
       "SMS Sent                        2128\n",
       "Page Visited on Website          287\n",
       "Olark Chat Conversation          182\n",
       "Email Link Clicked               170\n",
       "Email Bounced                     59\n",
       "Unsubscribed                      46\n",
       "Unreachable                       31\n",
       "Had a Phone Conversation          13\n",
       "Email Marked Spam                  2\n",
       "Approached upfront                 1\n",
       "Resubscribed to emails             1\n",
       "View in browser link Clicked       1\n",
       "Form Submitted on Website          1\n",
       "Email Received                     1\n",
       "Name: Last Notable Activity, dtype: int64"
      ]
     },
     "execution_count": 165,
     "metadata": {},
     "output_type": "execute_result"
    }
   ],
   "source": [
    "#contents of the column\n",
    "leads[non_num_cols[18]].value_counts()"
   ]
  },
  {
   "cell_type": "markdown",
   "id": "53a9671e",
   "metadata": {},
   "source": [
    "This is a categorical columns, create n-1 dummy variables for it and add to the original dataframe."
   ]
  },
  {
   "cell_type": "code",
   "execution_count": 166,
   "id": "e70b2600",
   "metadata": {},
   "outputs": [
    {
     "data": {
      "text/html": [
       "<div>\n",
       "<style scoped>\n",
       "    .dataframe tbody tr th:only-of-type {\n",
       "        vertical-align: middle;\n",
       "    }\n",
       "\n",
       "    .dataframe tbody tr th {\n",
       "        vertical-align: top;\n",
       "    }\n",
       "\n",
       "    .dataframe thead th {\n",
       "        text-align: right;\n",
       "    }\n",
       "</style>\n",
       "<table border=\"1\" class=\"dataframe\">\n",
       "  <thead>\n",
       "    <tr style=\"text-align: right;\">\n",
       "      <th></th>\n",
       "      <th>Last_Notable_Activity_Approached upfront</th>\n",
       "      <th>Last_Notable_Activity_Email Bounced</th>\n",
       "      <th>Last_Notable_Activity_Email Link Clicked</th>\n",
       "      <th>Last_Notable_Activity_Email Marked Spam</th>\n",
       "      <th>Last_Notable_Activity_Email Opened</th>\n",
       "      <th>Last_Notable_Activity_Form Submitted on Website</th>\n",
       "      <th>Last_Notable_Activity_Had a Phone Conversation</th>\n",
       "      <th>Last_Notable_Activity_Modified</th>\n",
       "      <th>Last_Notable_Activity_Olark Chat Conversation</th>\n",
       "      <th>Last_Notable_Activity_Page Visited on Website</th>\n",
       "      <th>Last_Notable_Activity_Resubscribed to emails</th>\n",
       "      <th>Last_Notable_Activity_SMS Sent</th>\n",
       "      <th>Last_Notable_Activity_Unreachable</th>\n",
       "      <th>Last_Notable_Activity_Unsubscribed</th>\n",
       "      <th>Last_Notable_Activity_View in browser link Clicked</th>\n",
       "    </tr>\n",
       "  </thead>\n",
       "  <tbody>\n",
       "    <tr>\n",
       "      <th>0</th>\n",
       "      <td>0</td>\n",
       "      <td>0</td>\n",
       "      <td>0</td>\n",
       "      <td>0</td>\n",
       "      <td>0</td>\n",
       "      <td>0</td>\n",
       "      <td>0</td>\n",
       "      <td>1</td>\n",
       "      <td>0</td>\n",
       "      <td>0</td>\n",
       "      <td>0</td>\n",
       "      <td>0</td>\n",
       "      <td>0</td>\n",
       "      <td>0</td>\n",
       "      <td>0</td>\n",
       "    </tr>\n",
       "    <tr>\n",
       "      <th>1</th>\n",
       "      <td>0</td>\n",
       "      <td>0</td>\n",
       "      <td>0</td>\n",
       "      <td>0</td>\n",
       "      <td>1</td>\n",
       "      <td>0</td>\n",
       "      <td>0</td>\n",
       "      <td>0</td>\n",
       "      <td>0</td>\n",
       "      <td>0</td>\n",
       "      <td>0</td>\n",
       "      <td>0</td>\n",
       "      <td>0</td>\n",
       "      <td>0</td>\n",
       "      <td>0</td>\n",
       "    </tr>\n",
       "    <tr>\n",
       "      <th>2</th>\n",
       "      <td>0</td>\n",
       "      <td>0</td>\n",
       "      <td>0</td>\n",
       "      <td>0</td>\n",
       "      <td>1</td>\n",
       "      <td>0</td>\n",
       "      <td>0</td>\n",
       "      <td>0</td>\n",
       "      <td>0</td>\n",
       "      <td>0</td>\n",
       "      <td>0</td>\n",
       "      <td>0</td>\n",
       "      <td>0</td>\n",
       "      <td>0</td>\n",
       "      <td>0</td>\n",
       "    </tr>\n",
       "    <tr>\n",
       "      <th>3</th>\n",
       "      <td>0</td>\n",
       "      <td>0</td>\n",
       "      <td>0</td>\n",
       "      <td>0</td>\n",
       "      <td>0</td>\n",
       "      <td>0</td>\n",
       "      <td>0</td>\n",
       "      <td>1</td>\n",
       "      <td>0</td>\n",
       "      <td>0</td>\n",
       "      <td>0</td>\n",
       "      <td>0</td>\n",
       "      <td>0</td>\n",
       "      <td>0</td>\n",
       "      <td>0</td>\n",
       "    </tr>\n",
       "    <tr>\n",
       "      <th>4</th>\n",
       "      <td>0</td>\n",
       "      <td>0</td>\n",
       "      <td>0</td>\n",
       "      <td>0</td>\n",
       "      <td>0</td>\n",
       "      <td>0</td>\n",
       "      <td>0</td>\n",
       "      <td>1</td>\n",
       "      <td>0</td>\n",
       "      <td>0</td>\n",
       "      <td>0</td>\n",
       "      <td>0</td>\n",
       "      <td>0</td>\n",
       "      <td>0</td>\n",
       "      <td>0</td>\n",
       "    </tr>\n",
       "  </tbody>\n",
       "</table>\n",
       "</div>"
      ],
      "text/plain": [
       "   Last_Notable_Activity_Approached upfront  \\\n",
       "0                                         0   \n",
       "1                                         0   \n",
       "2                                         0   \n",
       "3                                         0   \n",
       "4                                         0   \n",
       "\n",
       "   Last_Notable_Activity_Email Bounced  \\\n",
       "0                                    0   \n",
       "1                                    0   \n",
       "2                                    0   \n",
       "3                                    0   \n",
       "4                                    0   \n",
       "\n",
       "   Last_Notable_Activity_Email Link Clicked  \\\n",
       "0                                         0   \n",
       "1                                         0   \n",
       "2                                         0   \n",
       "3                                         0   \n",
       "4                                         0   \n",
       "\n",
       "   Last_Notable_Activity_Email Marked Spam  \\\n",
       "0                                        0   \n",
       "1                                        0   \n",
       "2                                        0   \n",
       "3                                        0   \n",
       "4                                        0   \n",
       "\n",
       "   Last_Notable_Activity_Email Opened  \\\n",
       "0                                   0   \n",
       "1                                   1   \n",
       "2                                   1   \n",
       "3                                   0   \n",
       "4                                   0   \n",
       "\n",
       "   Last_Notable_Activity_Form Submitted on Website  \\\n",
       "0                                                0   \n",
       "1                                                0   \n",
       "2                                                0   \n",
       "3                                                0   \n",
       "4                                                0   \n",
       "\n",
       "   Last_Notable_Activity_Had a Phone Conversation  \\\n",
       "0                                               0   \n",
       "1                                               0   \n",
       "2                                               0   \n",
       "3                                               0   \n",
       "4                                               0   \n",
       "\n",
       "   Last_Notable_Activity_Modified  \\\n",
       "0                               1   \n",
       "1                               0   \n",
       "2                               0   \n",
       "3                               1   \n",
       "4                               1   \n",
       "\n",
       "   Last_Notable_Activity_Olark Chat Conversation  \\\n",
       "0                                              0   \n",
       "1                                              0   \n",
       "2                                              0   \n",
       "3                                              0   \n",
       "4                                              0   \n",
       "\n",
       "   Last_Notable_Activity_Page Visited on Website  \\\n",
       "0                                              0   \n",
       "1                                              0   \n",
       "2                                              0   \n",
       "3                                              0   \n",
       "4                                              0   \n",
       "\n",
       "   Last_Notable_Activity_Resubscribed to emails  \\\n",
       "0                                             0   \n",
       "1                                             0   \n",
       "2                                             0   \n",
       "3                                             0   \n",
       "4                                             0   \n",
       "\n",
       "   Last_Notable_Activity_SMS Sent  Last_Notable_Activity_Unreachable  \\\n",
       "0                               0                                  0   \n",
       "1                               0                                  0   \n",
       "2                               0                                  0   \n",
       "3                               0                                  0   \n",
       "4                               0                                  0   \n",
       "\n",
       "   Last_Notable_Activity_Unsubscribed  \\\n",
       "0                                   0   \n",
       "1                                   0   \n",
       "2                                   0   \n",
       "3                                   0   \n",
       "4                                   0   \n",
       "\n",
       "   Last_Notable_Activity_View in browser link Clicked  \n",
       "0                                                  0   \n",
       "1                                                  0   \n",
       "2                                                  0   \n",
       "3                                                  0   \n",
       "4                                                  0   "
      ]
     },
     "execution_count": 166,
     "metadata": {},
     "output_type": "execute_result"
    }
   ],
   "source": [
    "#create dummy variables for the variable\n",
    "lna1 = pd.get_dummies(leads[non_num_cols[18]], prefix='Last_Notable_Activity')\n",
    "\n",
    "#dropping column 'Last_Notable_Activity_Email Received' instead of using the drop_first = True\n",
    "lna1.drop('Last_Notable_Activity_Email Received', axis=1, inplace=True)\n",
    "\n",
    "#overview\n",
    "lna1.head()"
   ]
  },
  {
   "cell_type": "code",
   "execution_count": 167,
   "id": "4a2e9e6a",
   "metadata": {},
   "outputs": [
    {
     "data": {
      "text/plain": [
       "(8942, 80)"
      ]
     },
     "execution_count": 167,
     "metadata": {},
     "output_type": "execute_result"
    }
   ],
   "source": [
    "#Adding the dummies to master dataframe\n",
    "leads = pd.concat([leads,lna1], axis=1)\n",
    "\n",
    "#drop the original column from leads dataframe\n",
    "leads.drop(non_num_cols[18], axis=1, inplace=True)\n",
    "\n",
    "#check\n",
    "leads.shape"
   ]
  },
  {
   "cell_type": "markdown",
   "id": "e3b94064",
   "metadata": {},
   "source": [
    "### 5. Train - Test Split"
   ]
  },
  {
   "cell_type": "code",
   "execution_count": 168,
   "id": "4ea990a9",
   "metadata": {},
   "outputs": [
    {
     "data": {
      "text/html": [
       "<div>\n",
       "<style scoped>\n",
       "    .dataframe tbody tr th:only-of-type {\n",
       "        vertical-align: middle;\n",
       "    }\n",
       "\n",
       "    .dataframe tbody tr th {\n",
       "        vertical-align: top;\n",
       "    }\n",
       "\n",
       "    .dataframe thead th {\n",
       "        text-align: right;\n",
       "    }\n",
       "</style>\n",
       "<table border=\"1\" class=\"dataframe\">\n",
       "  <thead>\n",
       "    <tr style=\"text-align: right;\">\n",
       "      <th></th>\n",
       "      <th>Do Not Email</th>\n",
       "      <th>TotalVisits</th>\n",
       "      <th>Total Time Spent on Website</th>\n",
       "      <th>Page Views Per Visit</th>\n",
       "      <th>A free copy of Mastering The Interview</th>\n",
       "      <th>Lead_Origin_API</th>\n",
       "      <th>Lead_Origin_Landing Page Submission</th>\n",
       "      <th>Lead_Origin_Lead Add Form</th>\n",
       "      <th>Lead_Origin_Lead Import</th>\n",
       "      <th>Lead_Source_Click2call</th>\n",
       "      <th>...</th>\n",
       "      <th>Last_Notable_Activity_Form Submitted on Website</th>\n",
       "      <th>Last_Notable_Activity_Had a Phone Conversation</th>\n",
       "      <th>Last_Notable_Activity_Modified</th>\n",
       "      <th>Last_Notable_Activity_Olark Chat Conversation</th>\n",
       "      <th>Last_Notable_Activity_Page Visited on Website</th>\n",
       "      <th>Last_Notable_Activity_Resubscribed to emails</th>\n",
       "      <th>Last_Notable_Activity_SMS Sent</th>\n",
       "      <th>Last_Notable_Activity_Unreachable</th>\n",
       "      <th>Last_Notable_Activity_Unsubscribed</th>\n",
       "      <th>Last_Notable_Activity_View in browser link Clicked</th>\n",
       "    </tr>\n",
       "  </thead>\n",
       "  <tbody>\n",
       "    <tr>\n",
       "      <th>0</th>\n",
       "      <td>0</td>\n",
       "      <td>0.0</td>\n",
       "      <td>0</td>\n",
       "      <td>0.0</td>\n",
       "      <td>0</td>\n",
       "      <td>1</td>\n",
       "      <td>0</td>\n",
       "      <td>0</td>\n",
       "      <td>0</td>\n",
       "      <td>0</td>\n",
       "      <td>...</td>\n",
       "      <td>0</td>\n",
       "      <td>0</td>\n",
       "      <td>1</td>\n",
       "      <td>0</td>\n",
       "      <td>0</td>\n",
       "      <td>0</td>\n",
       "      <td>0</td>\n",
       "      <td>0</td>\n",
       "      <td>0</td>\n",
       "      <td>0</td>\n",
       "    </tr>\n",
       "    <tr>\n",
       "      <th>1</th>\n",
       "      <td>0</td>\n",
       "      <td>5.0</td>\n",
       "      <td>674</td>\n",
       "      <td>2.5</td>\n",
       "      <td>0</td>\n",
       "      <td>1</td>\n",
       "      <td>0</td>\n",
       "      <td>0</td>\n",
       "      <td>0</td>\n",
       "      <td>0</td>\n",
       "      <td>...</td>\n",
       "      <td>0</td>\n",
       "      <td>0</td>\n",
       "      <td>0</td>\n",
       "      <td>0</td>\n",
       "      <td>0</td>\n",
       "      <td>0</td>\n",
       "      <td>0</td>\n",
       "      <td>0</td>\n",
       "      <td>0</td>\n",
       "      <td>0</td>\n",
       "    </tr>\n",
       "    <tr>\n",
       "      <th>2</th>\n",
       "      <td>0</td>\n",
       "      <td>2.0</td>\n",
       "      <td>1532</td>\n",
       "      <td>2.0</td>\n",
       "      <td>1</td>\n",
       "      <td>0</td>\n",
       "      <td>1</td>\n",
       "      <td>0</td>\n",
       "      <td>0</td>\n",
       "      <td>0</td>\n",
       "      <td>...</td>\n",
       "      <td>0</td>\n",
       "      <td>0</td>\n",
       "      <td>0</td>\n",
       "      <td>0</td>\n",
       "      <td>0</td>\n",
       "      <td>0</td>\n",
       "      <td>0</td>\n",
       "      <td>0</td>\n",
       "      <td>0</td>\n",
       "      <td>0</td>\n",
       "    </tr>\n",
       "    <tr>\n",
       "      <th>3</th>\n",
       "      <td>0</td>\n",
       "      <td>1.0</td>\n",
       "      <td>305</td>\n",
       "      <td>1.0</td>\n",
       "      <td>0</td>\n",
       "      <td>0</td>\n",
       "      <td>1</td>\n",
       "      <td>0</td>\n",
       "      <td>0</td>\n",
       "      <td>0</td>\n",
       "      <td>...</td>\n",
       "      <td>0</td>\n",
       "      <td>0</td>\n",
       "      <td>1</td>\n",
       "      <td>0</td>\n",
       "      <td>0</td>\n",
       "      <td>0</td>\n",
       "      <td>0</td>\n",
       "      <td>0</td>\n",
       "      <td>0</td>\n",
       "      <td>0</td>\n",
       "    </tr>\n",
       "    <tr>\n",
       "      <th>4</th>\n",
       "      <td>0</td>\n",
       "      <td>2.0</td>\n",
       "      <td>1428</td>\n",
       "      <td>1.0</td>\n",
       "      <td>0</td>\n",
       "      <td>0</td>\n",
       "      <td>1</td>\n",
       "      <td>0</td>\n",
       "      <td>0</td>\n",
       "      <td>0</td>\n",
       "      <td>...</td>\n",
       "      <td>0</td>\n",
       "      <td>0</td>\n",
       "      <td>1</td>\n",
       "      <td>0</td>\n",
       "      <td>0</td>\n",
       "      <td>0</td>\n",
       "      <td>0</td>\n",
       "      <td>0</td>\n",
       "      <td>0</td>\n",
       "      <td>0</td>\n",
       "    </tr>\n",
       "  </tbody>\n",
       "</table>\n",
       "<p>5 rows × 78 columns</p>\n",
       "</div>"
      ],
      "text/plain": [
       "   Do Not Email  TotalVisits  Total Time Spent on Website  \\\n",
       "0             0          0.0                            0   \n",
       "1             0          5.0                          674   \n",
       "2             0          2.0                         1532   \n",
       "3             0          1.0                          305   \n",
       "4             0          2.0                         1428   \n",
       "\n",
       "   Page Views Per Visit  A free copy of Mastering The Interview  \\\n",
       "0                   0.0                                       0   \n",
       "1                   2.5                                       0   \n",
       "2                   2.0                                       1   \n",
       "3                   1.0                                       0   \n",
       "4                   1.0                                       0   \n",
       "\n",
       "   Lead_Origin_API  Lead_Origin_Landing Page Submission  \\\n",
       "0                1                                    0   \n",
       "1                1                                    0   \n",
       "2                0                                    1   \n",
       "3                0                                    1   \n",
       "4                0                                    1   \n",
       "\n",
       "   Lead_Origin_Lead Add Form  Lead_Origin_Lead Import  Lead_Source_Click2call  \\\n",
       "0                          0                        0                       0   \n",
       "1                          0                        0                       0   \n",
       "2                          0                        0                       0   \n",
       "3                          0                        0                       0   \n",
       "4                          0                        0                       0   \n",
       "\n",
       "   ...  Last_Notable_Activity_Form Submitted on Website  \\\n",
       "0  ...                                                0   \n",
       "1  ...                                                0   \n",
       "2  ...                                                0   \n",
       "3  ...                                                0   \n",
       "4  ...                                                0   \n",
       "\n",
       "   Last_Notable_Activity_Had a Phone Conversation  \\\n",
       "0                                               0   \n",
       "1                                               0   \n",
       "2                                               0   \n",
       "3                                               0   \n",
       "4                                               0   \n",
       "\n",
       "   Last_Notable_Activity_Modified  \\\n",
       "0                               1   \n",
       "1                               0   \n",
       "2                               0   \n",
       "3                               1   \n",
       "4                               1   \n",
       "\n",
       "   Last_Notable_Activity_Olark Chat Conversation  \\\n",
       "0                                              0   \n",
       "1                                              0   \n",
       "2                                              0   \n",
       "3                                              0   \n",
       "4                                              0   \n",
       "\n",
       "   Last_Notable_Activity_Page Visited on Website  \\\n",
       "0                                              0   \n",
       "1                                              0   \n",
       "2                                              0   \n",
       "3                                              0   \n",
       "4                                              0   \n",
       "\n",
       "   Last_Notable_Activity_Resubscribed to emails  \\\n",
       "0                                             0   \n",
       "1                                             0   \n",
       "2                                             0   \n",
       "3                                             0   \n",
       "4                                             0   \n",
       "\n",
       "   Last_Notable_Activity_SMS Sent  Last_Notable_Activity_Unreachable  \\\n",
       "0                               0                                  0   \n",
       "1                               0                                  0   \n",
       "2                               0                                  0   \n",
       "3                               0                                  0   \n",
       "4                               0                                  0   \n",
       "\n",
       "   Last_Notable_Activity_Unsubscribed  \\\n",
       "0                                   0   \n",
       "1                                   0   \n",
       "2                                   0   \n",
       "3                                   0   \n",
       "4                                   0   \n",
       "\n",
       "   Last_Notable_Activity_View in browser link Clicked  \n",
       "0                                                  0   \n",
       "1                                                  0   \n",
       "2                                                  0   \n",
       "3                                                  0   \n",
       "4                                                  0   \n",
       "\n",
       "[5 rows x 78 columns]"
      ]
     },
     "execution_count": 168,
     "metadata": {},
     "output_type": "execute_result"
    }
   ],
   "source": [
    "#Prepare the features dataframe\n",
    "X = leads.drop(['Prospect ID','Converted'], axis=1)\n",
    "\n",
    "X.head()"
   ]
  },
  {
   "cell_type": "code",
   "execution_count": 169,
   "id": "4db9ce75",
   "metadata": {},
   "outputs": [
    {
     "data": {
      "text/plain": [
       "0    0\n",
       "1    0\n",
       "2    1\n",
       "3    0\n",
       "4    1\n",
       "Name: Converted, dtype: int64"
      ]
     },
     "execution_count": 169,
     "metadata": {},
     "output_type": "execute_result"
    }
   ],
   "source": [
    "#Prepare the target column series\n",
    "y = leads['Converted']\n",
    "\n",
    "y.head()"
   ]
  },
  {
   "cell_type": "code",
   "execution_count": 170,
   "id": "0d5bd950",
   "metadata": {},
   "outputs": [],
   "source": [
    "#Splitting the data into train-test\n",
    "X_train, X_test, y_train, y_test = train_test_split(X,y, train_size=0.7, test_size=0.3, random_state=100)"
   ]
  },
  {
   "cell_type": "code",
   "execution_count": 171,
   "id": "4cfac862",
   "metadata": {},
   "outputs": [
    {
     "data": {
      "text/plain": [
       "(6259, 78)"
      ]
     },
     "execution_count": 171,
     "metadata": {},
     "output_type": "execute_result"
    }
   ],
   "source": [
    "#check\n",
    "X_train.shape"
   ]
  },
  {
   "cell_type": "code",
   "execution_count": 172,
   "id": "e94fd689",
   "metadata": {},
   "outputs": [
    {
     "data": {
      "text/plain": [
       "(2683,)"
      ]
     },
     "execution_count": 172,
     "metadata": {},
     "output_type": "execute_result"
    }
   ],
   "source": [
    "#check\n",
    "y_test.shape"
   ]
  },
  {
   "cell_type": "markdown",
   "id": "b3b848bf",
   "metadata": {},
   "source": [
    "### 6. Scaling the Features"
   ]
  },
  {
   "cell_type": "code",
   "execution_count": 173,
   "id": "c94d0786",
   "metadata": {},
   "outputs": [
    {
     "data": {
      "text/plain": [
       "['TotalVisits', 'Total Time Spent on Website', 'Page Views Per Visit']"
      ]
     },
     "execution_count": 173,
     "metadata": {},
     "output_type": "execute_result"
    }
   ],
   "source": [
    "#get the updated list of numeric columns\n",
    "num_cols = [col for col in num_cols if col in X_train.columns]\n",
    "num_cols"
   ]
  },
  {
   "cell_type": "code",
   "execution_count": 174,
   "id": "0d27a415",
   "metadata": {},
   "outputs": [
    {
     "data": {
      "text/html": [
       "<div>\n",
       "<style scoped>\n",
       "    .dataframe tbody tr th:only-of-type {\n",
       "        vertical-align: middle;\n",
       "    }\n",
       "\n",
       "    .dataframe tbody tr th {\n",
       "        vertical-align: top;\n",
       "    }\n",
       "\n",
       "    .dataframe thead th {\n",
       "        text-align: right;\n",
       "    }\n",
       "</style>\n",
       "<table border=\"1\" class=\"dataframe\">\n",
       "  <thead>\n",
       "    <tr style=\"text-align: right;\">\n",
       "      <th></th>\n",
       "      <th>TotalVisits</th>\n",
       "      <th>Total Time Spent on Website</th>\n",
       "      <th>Page Views Per Visit</th>\n",
       "    </tr>\n",
       "  </thead>\n",
       "  <tbody>\n",
       "    <tr>\n",
       "      <th>count</th>\n",
       "      <td>6259.000000</td>\n",
       "      <td>6259.000000</td>\n",
       "      <td>6259.000000</td>\n",
       "    </tr>\n",
       "    <tr>\n",
       "      <th>mean</th>\n",
       "      <td>0.181546</td>\n",
       "      <td>0.210148</td>\n",
       "      <td>0.260031</td>\n",
       "    </tr>\n",
       "    <tr>\n",
       "      <th>std</th>\n",
       "      <td>0.169453</td>\n",
       "      <td>0.240378</td>\n",
       "      <td>0.216548</td>\n",
       "    </tr>\n",
       "    <tr>\n",
       "      <th>min</th>\n",
       "      <td>0.000000</td>\n",
       "      <td>0.000000</td>\n",
       "      <td>0.000000</td>\n",
       "    </tr>\n",
       "    <tr>\n",
       "      <th>0%</th>\n",
       "      <td>0.000000</td>\n",
       "      <td>0.000000</td>\n",
       "      <td>0.000000</td>\n",
       "    </tr>\n",
       "    <tr>\n",
       "      <th>25%</th>\n",
       "      <td>0.000000</td>\n",
       "      <td>0.000440</td>\n",
       "      <td>0.000000</td>\n",
       "    </tr>\n",
       "    <tr>\n",
       "      <th>50%</th>\n",
       "      <td>0.176471</td>\n",
       "      <td>0.103433</td>\n",
       "      <td>0.235294</td>\n",
       "    </tr>\n",
       "    <tr>\n",
       "      <th>75%</th>\n",
       "      <td>0.235294</td>\n",
       "      <td>0.398548</td>\n",
       "      <td>0.352941</td>\n",
       "    </tr>\n",
       "    <tr>\n",
       "      <th>90%</th>\n",
       "      <td>0.411765</td>\n",
       "      <td>0.602641</td>\n",
       "      <td>0.588235</td>\n",
       "    </tr>\n",
       "    <tr>\n",
       "      <th>95%</th>\n",
       "      <td>0.470588</td>\n",
       "      <td>0.683583</td>\n",
       "      <td>0.705882</td>\n",
       "    </tr>\n",
       "    <tr>\n",
       "      <th>99%</th>\n",
       "      <td>0.764706</td>\n",
       "      <td>0.811805</td>\n",
       "      <td>0.823529</td>\n",
       "    </tr>\n",
       "    <tr>\n",
       "      <th>max</th>\n",
       "      <td>1.000000</td>\n",
       "      <td>1.000000</td>\n",
       "      <td>1.000000</td>\n",
       "    </tr>\n",
       "  </tbody>\n",
       "</table>\n",
       "</div>"
      ],
      "text/plain": [
       "       TotalVisits  Total Time Spent on Website  Page Views Per Visit\n",
       "count  6259.000000                  6259.000000           6259.000000\n",
       "mean      0.181546                     0.210148              0.260031\n",
       "std       0.169453                     0.240378              0.216548\n",
       "min       0.000000                     0.000000              0.000000\n",
       "0%        0.000000                     0.000000              0.000000\n",
       "25%       0.000000                     0.000440              0.000000\n",
       "50%       0.176471                     0.103433              0.235294\n",
       "75%       0.235294                     0.398548              0.352941\n",
       "90%       0.411765                     0.602641              0.588235\n",
       "95%       0.470588                     0.683583              0.705882\n",
       "99%       0.764706                     0.811805              0.823529\n",
       "max       1.000000                     1.000000              1.000000"
      ]
     },
     "execution_count": 174,
     "metadata": {},
     "output_type": "execute_result"
    }
   ],
   "source": [
    "#instantiate the scalar\n",
    "scaler = MinMaxScaler()\n",
    "\n",
    "#apply the scaler to the training dataset\n",
    "X_train[num_cols] = scaler.fit_transform(X_train[num_cols])\n",
    "\n",
    "#check\n",
    "X_train[num_cols].describe(percentiles=[0,0.25,0.50,0.75,0.9,0.95,0.99])"
   ]
  },
  {
   "cell_type": "code",
   "execution_count": 175,
   "id": "2a662cd9",
   "metadata": {},
   "outputs": [
    {
     "data": {
      "text/html": [
       "<div>\n",
       "<style scoped>\n",
       "    .dataframe tbody tr th:only-of-type {\n",
       "        vertical-align: middle;\n",
       "    }\n",
       "\n",
       "    .dataframe tbody tr th {\n",
       "        vertical-align: top;\n",
       "    }\n",
       "\n",
       "    .dataframe thead th {\n",
       "        text-align: right;\n",
       "    }\n",
       "</style>\n",
       "<table border=\"1\" class=\"dataframe\">\n",
       "  <thead>\n",
       "    <tr style=\"text-align: right;\">\n",
       "      <th></th>\n",
       "      <th>Do Not Email</th>\n",
       "      <th>TotalVisits</th>\n",
       "      <th>Total Time Spent on Website</th>\n",
       "      <th>Page Views Per Visit</th>\n",
       "      <th>A free copy of Mastering The Interview</th>\n",
       "      <th>Lead_Origin_API</th>\n",
       "      <th>Lead_Origin_Landing Page Submission</th>\n",
       "      <th>Lead_Origin_Lead Add Form</th>\n",
       "      <th>Lead_Origin_Lead Import</th>\n",
       "      <th>Lead_Source_Click2call</th>\n",
       "      <th>...</th>\n",
       "      <th>Last_Notable_Activity_Form Submitted on Website</th>\n",
       "      <th>Last_Notable_Activity_Had a Phone Conversation</th>\n",
       "      <th>Last_Notable_Activity_Modified</th>\n",
       "      <th>Last_Notable_Activity_Olark Chat Conversation</th>\n",
       "      <th>Last_Notable_Activity_Page Visited on Website</th>\n",
       "      <th>Last_Notable_Activity_Resubscribed to emails</th>\n",
       "      <th>Last_Notable_Activity_SMS Sent</th>\n",
       "      <th>Last_Notable_Activity_Unreachable</th>\n",
       "      <th>Last_Notable_Activity_Unsubscribed</th>\n",
       "      <th>Last_Notable_Activity_View in browser link Clicked</th>\n",
       "    </tr>\n",
       "  </thead>\n",
       "  <tbody>\n",
       "    <tr>\n",
       "      <th>8606</th>\n",
       "      <td>0</td>\n",
       "      <td>0.235294</td>\n",
       "      <td>0.050176</td>\n",
       "      <td>0.470588</td>\n",
       "      <td>1</td>\n",
       "      <td>0</td>\n",
       "      <td>1</td>\n",
       "      <td>0</td>\n",
       "      <td>0</td>\n",
       "      <td>0</td>\n",
       "      <td>...</td>\n",
       "      <td>0</td>\n",
       "      <td>0</td>\n",
       "      <td>1</td>\n",
       "      <td>0</td>\n",
       "      <td>0</td>\n",
       "      <td>0</td>\n",
       "      <td>0</td>\n",
       "      <td>0</td>\n",
       "      <td>0</td>\n",
       "      <td>0</td>\n",
       "    </tr>\n",
       "    <tr>\n",
       "      <th>988</th>\n",
       "      <td>0</td>\n",
       "      <td>0.117647</td>\n",
       "      <td>0.071303</td>\n",
       "      <td>0.235294</td>\n",
       "      <td>1</td>\n",
       "      <td>0</td>\n",
       "      <td>1</td>\n",
       "      <td>0</td>\n",
       "      <td>0</td>\n",
       "      <td>0</td>\n",
       "      <td>...</td>\n",
       "      <td>0</td>\n",
       "      <td>0</td>\n",
       "      <td>0</td>\n",
       "      <td>0</td>\n",
       "      <td>0</td>\n",
       "      <td>0</td>\n",
       "      <td>0</td>\n",
       "      <td>0</td>\n",
       "      <td>0</td>\n",
       "      <td>0</td>\n",
       "    </tr>\n",
       "    <tr>\n",
       "      <th>4794</th>\n",
       "      <td>0</td>\n",
       "      <td>0.117647</td>\n",
       "      <td>0.518046</td>\n",
       "      <td>0.117647</td>\n",
       "      <td>0</td>\n",
       "      <td>1</td>\n",
       "      <td>0</td>\n",
       "      <td>0</td>\n",
       "      <td>0</td>\n",
       "      <td>0</td>\n",
       "      <td>...</td>\n",
       "      <td>0</td>\n",
       "      <td>0</td>\n",
       "      <td>0</td>\n",
       "      <td>0</td>\n",
       "      <td>0</td>\n",
       "      <td>0</td>\n",
       "      <td>1</td>\n",
       "      <td>0</td>\n",
       "      <td>0</td>\n",
       "      <td>0</td>\n",
       "    </tr>\n",
       "    <tr>\n",
       "      <th>8893</th>\n",
       "      <td>0</td>\n",
       "      <td>0.235294</td>\n",
       "      <td>0.034771</td>\n",
       "      <td>0.470588</td>\n",
       "      <td>1</td>\n",
       "      <td>0</td>\n",
       "      <td>1</td>\n",
       "      <td>0</td>\n",
       "      <td>0</td>\n",
       "      <td>0</td>\n",
       "      <td>...</td>\n",
       "      <td>0</td>\n",
       "      <td>0</td>\n",
       "      <td>1</td>\n",
       "      <td>0</td>\n",
       "      <td>0</td>\n",
       "      <td>0</td>\n",
       "      <td>0</td>\n",
       "      <td>0</td>\n",
       "      <td>0</td>\n",
       "      <td>0</td>\n",
       "    </tr>\n",
       "    <tr>\n",
       "      <th>2708</th>\n",
       "      <td>0</td>\n",
       "      <td>0.176471</td>\n",
       "      <td>0.192782</td>\n",
       "      <td>0.352941</td>\n",
       "      <td>1</td>\n",
       "      <td>0</td>\n",
       "      <td>1</td>\n",
       "      <td>0</td>\n",
       "      <td>0</td>\n",
       "      <td>0</td>\n",
       "      <td>...</td>\n",
       "      <td>0</td>\n",
       "      <td>0</td>\n",
       "      <td>0</td>\n",
       "      <td>0</td>\n",
       "      <td>0</td>\n",
       "      <td>0</td>\n",
       "      <td>1</td>\n",
       "      <td>0</td>\n",
       "      <td>0</td>\n",
       "      <td>0</td>\n",
       "    </tr>\n",
       "  </tbody>\n",
       "</table>\n",
       "<p>5 rows × 78 columns</p>\n",
       "</div>"
      ],
      "text/plain": [
       "      Do Not Email  TotalVisits  Total Time Spent on Website  \\\n",
       "8606             0     0.235294                     0.050176   \n",
       "988              0     0.117647                     0.071303   \n",
       "4794             0     0.117647                     0.518046   \n",
       "8893             0     0.235294                     0.034771   \n",
       "2708             0     0.176471                     0.192782   \n",
       "\n",
       "      Page Views Per Visit  A free copy of Mastering The Interview  \\\n",
       "8606              0.470588                                       1   \n",
       "988               0.235294                                       1   \n",
       "4794              0.117647                                       0   \n",
       "8893              0.470588                                       1   \n",
       "2708              0.352941                                       1   \n",
       "\n",
       "      Lead_Origin_API  Lead_Origin_Landing Page Submission  \\\n",
       "8606                0                                    1   \n",
       "988                 0                                    1   \n",
       "4794                1                                    0   \n",
       "8893                0                                    1   \n",
       "2708                0                                    1   \n",
       "\n",
       "      Lead_Origin_Lead Add Form  Lead_Origin_Lead Import  \\\n",
       "8606                          0                        0   \n",
       "988                           0                        0   \n",
       "4794                          0                        0   \n",
       "8893                          0                        0   \n",
       "2708                          0                        0   \n",
       "\n",
       "      Lead_Source_Click2call  ...  \\\n",
       "8606                       0  ...   \n",
       "988                        0  ...   \n",
       "4794                       0  ...   \n",
       "8893                       0  ...   \n",
       "2708                       0  ...   \n",
       "\n",
       "      Last_Notable_Activity_Form Submitted on Website  \\\n",
       "8606                                                0   \n",
       "988                                                 0   \n",
       "4794                                                0   \n",
       "8893                                                0   \n",
       "2708                                                0   \n",
       "\n",
       "      Last_Notable_Activity_Had a Phone Conversation  \\\n",
       "8606                                               0   \n",
       "988                                                0   \n",
       "4794                                               0   \n",
       "8893                                               0   \n",
       "2708                                               0   \n",
       "\n",
       "      Last_Notable_Activity_Modified  \\\n",
       "8606                               1   \n",
       "988                                0   \n",
       "4794                               0   \n",
       "8893                               1   \n",
       "2708                               0   \n",
       "\n",
       "      Last_Notable_Activity_Olark Chat Conversation  \\\n",
       "8606                                              0   \n",
       "988                                               0   \n",
       "4794                                              0   \n",
       "8893                                              0   \n",
       "2708                                              0   \n",
       "\n",
       "      Last_Notable_Activity_Page Visited on Website  \\\n",
       "8606                                              0   \n",
       "988                                               0   \n",
       "4794                                              0   \n",
       "8893                                              0   \n",
       "2708                                              0   \n",
       "\n",
       "      Last_Notable_Activity_Resubscribed to emails  \\\n",
       "8606                                             0   \n",
       "988                                              0   \n",
       "4794                                             0   \n",
       "8893                                             0   \n",
       "2708                                             0   \n",
       "\n",
       "      Last_Notable_Activity_SMS Sent  Last_Notable_Activity_Unreachable  \\\n",
       "8606                               0                                  0   \n",
       "988                                0                                  0   \n",
       "4794                               1                                  0   \n",
       "8893                               0                                  0   \n",
       "2708                               1                                  0   \n",
       "\n",
       "      Last_Notable_Activity_Unsubscribed  \\\n",
       "8606                                   0   \n",
       "988                                    0   \n",
       "4794                                   0   \n",
       "8893                                   0   \n",
       "2708                                   0   \n",
       "\n",
       "      Last_Notable_Activity_View in browser link Clicked  \n",
       "8606                                                  0   \n",
       "988                                                   0   \n",
       "4794                                                  0   \n",
       "8893                                                  0   \n",
       "2708                                                  0   \n",
       "\n",
       "[5 rows x 78 columns]"
      ]
     },
     "execution_count": 175,
     "metadata": {},
     "output_type": "execute_result"
    }
   ],
   "source": [
    "#check\n",
    "X_train.head()"
   ]
  },
  {
   "cell_type": "code",
   "execution_count": 176,
   "id": "5e88f05e",
   "metadata": {},
   "outputs": [
    {
     "name": "stdout",
     "output_type": "stream",
     "text": [
      "<class 'pandas.core.frame.DataFrame'>\n",
      "Int64Index: 6259 entries, 8606 to 5824\n",
      "Data columns (total 78 columns):\n",
      " #   Column                                              Non-Null Count  Dtype  \n",
      "---  ------                                              --------------  -----  \n",
      " 0   Do Not Email                                        6259 non-null   int64  \n",
      " 1   TotalVisits                                         6259 non-null   float64\n",
      " 2   Total Time Spent on Website                         6259 non-null   float64\n",
      " 3   Page Views Per Visit                                6259 non-null   float64\n",
      " 4   A free copy of Mastering The Interview              6259 non-null   int64  \n",
      " 5   Lead_Origin_API                                     6259 non-null   uint8  \n",
      " 6   Lead_Origin_Landing Page Submission                 6259 non-null   uint8  \n",
      " 7   Lead_Origin_Lead Add Form                           6259 non-null   uint8  \n",
      " 8   Lead_Origin_Lead Import                             6259 non-null   uint8  \n",
      " 9   Lead_Source_Click2call                              6259 non-null   uint8  \n",
      " 10  Lead_Source_Direct Traffic                          6259 non-null   uint8  \n",
      " 11  Lead_Source_Facebook                                6259 non-null   uint8  \n",
      " 12  Lead_Source_Google                                  6259 non-null   uint8  \n",
      " 13  Lead_Source_Live Chat                               6259 non-null   uint8  \n",
      " 14  Lead_Source_Olark Chat                              6259 non-null   uint8  \n",
      " 15  Lead_Source_Organic Search                          6259 non-null   uint8  \n",
      " 16  Lead_Source_Pay per Click Ads                       6259 non-null   uint8  \n",
      " 17  Lead_Source_Press_Release                           6259 non-null   uint8  \n",
      " 18  Lead_Source_Reference                               6259 non-null   uint8  \n",
      " 19  Lead_Source_Referral Sites                          6259 non-null   uint8  \n",
      " 20  Lead_Source_Social Media                            6259 non-null   uint8  \n",
      " 21  Lead_Source_WeLearn                                 6259 non-null   uint8  \n",
      " 22  Lead_Source_Welingak Website                        6259 non-null   uint8  \n",
      " 23  Lead_Source_bing                                    6259 non-null   uint8  \n",
      " 24  Lead_Source_blog                                    6259 non-null   uint8  \n",
      " 25  Lead_Source_google                                  6259 non-null   uint8  \n",
      " 26  Lead_Source_testone                                 6259 non-null   uint8  \n",
      " 27  Lead_Source_welearnblog_Home                        6259 non-null   uint8  \n",
      " 28  Lead_Source_youtubechannel                          6259 non-null   uint8  \n",
      " 29  Last_Activity_Approached upfront                    6259 non-null   uint8  \n",
      " 30  Last_Activity_Converted to Lead                     6259 non-null   uint8  \n",
      " 31  Last_Activity_Email Bounced                         6259 non-null   uint8  \n",
      " 32  Last_Activity_Email Link Clicked                    6259 non-null   uint8  \n",
      " 33  Last_Activity_Email Marked Spam                     6259 non-null   uint8  \n",
      " 34  Last_Activity_Email Opened                          6259 non-null   uint8  \n",
      " 35  Last_Activity_Email Received                        6259 non-null   uint8  \n",
      " 36  Last_Activity_Form Submitted on Website             6259 non-null   uint8  \n",
      " 37  Last_Activity_Had a Phone Conversation              6259 non-null   uint8  \n",
      " 38  Last_Activity_Olark Chat Conversation               6259 non-null   uint8  \n",
      " 39  Last_Activity_Page Visited on Website               6259 non-null   uint8  \n",
      " 40  Last_Activity_Resubscribed to emails                6259 non-null   uint8  \n",
      " 41  Last_Activity_SMS Sent                              6259 non-null   uint8  \n",
      " 42  Last_Activity_Unreachable                           6259 non-null   uint8  \n",
      " 43  Last_Activity_Unsubscribed                          6259 non-null   uint8  \n",
      " 44  Last_Activity_View in browser link Clicked          6259 non-null   uint8  \n",
      " 45  Specialization_Business Administration              6259 non-null   uint8  \n",
      " 46  Specialization_E-Business                           6259 non-null   uint8  \n",
      " 47  Specialization_E-COMMERCE                           6259 non-null   uint8  \n",
      " 48  Specialization_Finance Management                   6259 non-null   uint8  \n",
      " 49  Specialization_Healthcare Management                6259 non-null   uint8  \n",
      " 50  Specialization_Hospitality Management               6259 non-null   uint8  \n",
      " 51  Specialization_Human Resource Management            6259 non-null   uint8  \n",
      " 52  Specialization_IT Projects Management               6259 non-null   uint8  \n",
      " 53  Specialization_International Business               6259 non-null   uint8  \n",
      " 54  Specialization_Marketing Management                 6259 non-null   uint8  \n",
      " 55  Specialization_Media and Advertising                6259 non-null   uint8  \n",
      " 56  Specialization_Operations Management                6259 non-null   uint8  \n",
      " 57  Specialization_Retail Management                    6259 non-null   uint8  \n",
      " 58  Specialization_Rural and Agribusiness               6259 non-null   uint8  \n",
      " 59  Specialization_Services Excellence                  6259 non-null   uint8  \n",
      " 60  Specialization_Supply Chain Management              6259 non-null   uint8  \n",
      " 61  Specialization_Travel and Tourism                   6259 non-null   uint8  \n",
      " 62  Specialization_Unknown                              6259 non-null   uint8  \n",
      " 63  Last_Notable_Activity_Approached upfront            6259 non-null   uint8  \n",
      " 64  Last_Notable_Activity_Email Bounced                 6259 non-null   uint8  \n",
      " 65  Last_Notable_Activity_Email Link Clicked            6259 non-null   uint8  \n",
      " 66  Last_Notable_Activity_Email Marked Spam             6259 non-null   uint8  \n",
      " 67  Last_Notable_Activity_Email Opened                  6259 non-null   uint8  \n",
      " 68  Last_Notable_Activity_Form Submitted on Website     6259 non-null   uint8  \n",
      " 69  Last_Notable_Activity_Had a Phone Conversation      6259 non-null   uint8  \n",
      " 70  Last_Notable_Activity_Modified                      6259 non-null   uint8  \n",
      " 71  Last_Notable_Activity_Olark Chat Conversation       6259 non-null   uint8  \n",
      " 72  Last_Notable_Activity_Page Visited on Website       6259 non-null   uint8  \n",
      " 73  Last_Notable_Activity_Resubscribed to emails        6259 non-null   uint8  \n",
      " 74  Last_Notable_Activity_SMS Sent                      6259 non-null   uint8  \n",
      " 75  Last_Notable_Activity_Unreachable                   6259 non-null   uint8  \n",
      " 76  Last_Notable_Activity_Unsubscribed                  6259 non-null   uint8  \n",
      " 77  Last_Notable_Activity_View in browser link Clicked  6259 non-null   uint8  \n",
      "dtypes: float64(3), int64(2), uint8(73)\n",
      "memory usage: 739.6 KB\n"
     ]
    }
   ],
   "source": [
    "#check\n",
    "X_train.info()"
   ]
  },
  {
   "cell_type": "code",
   "execution_count": 177,
   "id": "f512df88",
   "metadata": {},
   "outputs": [
    {
     "data": {
      "text/plain": [
       "38.00044732721986"
      ]
     },
     "execution_count": 177,
     "metadata": {},
     "output_type": "execute_result"
    }
   ],
   "source": [
    "#Checing the lead conversion rate\n",
    "sum(y)/y.shape[0]*100"
   ]
  },
  {
   "cell_type": "code",
   "execution_count": 178,
   "id": "756cbba6",
   "metadata": {},
   "outputs": [
    {
     "data": {
      "text/plain": [
       "38.856047291899664"
      ]
     },
     "execution_count": 178,
     "metadata": {},
     "output_type": "execute_result"
    }
   ],
   "source": [
    "#Checking the lead conversion rate of training dataset\n",
    "sum(y_train)/y_train.shape[0]*100"
   ]
  },
  {
   "cell_type": "code",
   "execution_count": 179,
   "id": "69657a4f",
   "metadata": {},
   "outputs": [
    {
     "data": {
      "text/plain": [
       "36.004472605292584"
      ]
     },
     "execution_count": 179,
     "metadata": {},
     "output_type": "execute_result"
    }
   ],
   "source": [
    "#checking the lead conversion rate of test dataset\n",
    "sum(y_test)/y_test.shape[0]*100"
   ]
  },
  {
   "cell_type": "markdown",
   "id": "b6ec404c",
   "metadata": {},
   "source": [
    "### 7. Feature Selection using RFE"
   ]
  },
  {
   "cell_type": "code",
   "execution_count": 180,
   "id": "2df9c388",
   "metadata": {},
   "outputs": [],
   "source": [
    "#create an instance of logistic regression\n",
    "logreg = LogisticRegression()\n",
    "\n",
    "#running RFE with 25 variables as output\n",
    "rfe = RFE(logreg, n_features_to_select=25)\n",
    "\n",
    "#prepare the RFE model\n",
    "rfe = rfe.fit(X_train, y_train)"
   ]
  },
  {
   "cell_type": "code",
   "execution_count": 181,
   "id": "44632bb4",
   "metadata": {
    "scrolled": true
   },
   "outputs": [
    {
     "data": {
      "text/plain": [
       "[('Do Not Email', True, 1),\n",
       " ('TotalVisits', True, 1),\n",
       " ('Total Time Spent on Website', True, 1),\n",
       " ('Page Views Per Visit', True, 1),\n",
       " ('Lead_Origin_API', True, 1),\n",
       " ('Lead_Origin_Landing Page Submission', True, 1),\n",
       " ('Lead_Origin_Lead Add Form', True, 1),\n",
       " ('Lead_Source_Olark Chat', True, 1),\n",
       " ('Lead_Source_Welingak Website', True, 1),\n",
       " ('Last_Activity_Approached upfront', True, 1),\n",
       " ('Last_Activity_Email Opened', True, 1),\n",
       " ('Last_Activity_Email Received', True, 1),\n",
       " ('Last_Activity_Olark Chat Conversation', True, 1),\n",
       " ('Last_Activity_SMS Sent', True, 1),\n",
       " ('Last_Activity_View in browser link Clicked', True, 1),\n",
       " ('Specialization_E-Business', True, 1),\n",
       " ('Specialization_Unknown', True, 1),\n",
       " ('Last_Notable_Activity_Email Link Clicked', True, 1),\n",
       " ('Last_Notable_Activity_Email Opened', True, 1),\n",
       " ('Last_Notable_Activity_Had a Phone Conversation', True, 1),\n",
       " ('Last_Notable_Activity_Modified', True, 1),\n",
       " ('Last_Notable_Activity_Olark Chat Conversation', True, 1),\n",
       " ('Last_Notable_Activity_Page Visited on Website', True, 1),\n",
       " ('Last_Notable_Activity_Resubscribed to emails', True, 1),\n",
       " ('Last_Notable_Activity_Unreachable', True, 1),\n",
       " ('Last_Activity_Resubscribed to emails', False, 2),\n",
       " ('Specialization_International Business', False, 3),\n",
       " ('Last_Activity_Unsubscribed', False, 4),\n",
       " ('Specialization_Hospitality Management', False, 5),\n",
       " ('Lead_Source_bing', False, 6),\n",
       " ('Lead_Origin_Lead Import', False, 7),\n",
       " ('Lead_Source_Direct Traffic', False, 8),\n",
       " ('Last_Activity_Email Marked Spam', False, 9),\n",
       " ('Last_Activity_Converted to Lead', False, 10),\n",
       " ('Last_Notable_Activity_SMS Sent', False, 11),\n",
       " ('Last_Notable_Activity_Email Bounced', False, 12),\n",
       " ('Last_Notable_Activity_View in browser link Clicked', False, 13),\n",
       " ('Last_Activity_Email Bounced', False, 14),\n",
       " ('Last_Activity_Form Submitted on Website', False, 15),\n",
       " ('Last_Activity_Page Visited on Website', False, 16),\n",
       " ('Last_Activity_Email Link Clicked', False, 17),\n",
       " ('Lead_Source_Referral Sites', False, 18),\n",
       " ('Lead_Source_Organic Search', False, 19),\n",
       " ('Lead_Source_Google', False, 20),\n",
       " ('A free copy of Mastering The Interview', False, 21),\n",
       " ('Last_Notable_Activity_Email Marked Spam', False, 22),\n",
       " ('Lead_Source_WeLearn', False, 23),\n",
       " ('Lead_Source_youtubechannel', False, 24),\n",
       " ('Lead_Source_Facebook', False, 25),\n",
       " ('Lead_Source_google', False, 26),\n",
       " ('Specialization_Healthcare Management', False, 27),\n",
       " ('Specialization_Operations Management', False, 28),\n",
       " ('Lead_Source_Pay per Click Ads', False, 29),\n",
       " ('Specialization_Rural and Agribusiness', False, 30),\n",
       " ('Specialization_Services Excellence', False, 31),\n",
       " ('Last_Notable_Activity_Unsubscribed', False, 32),\n",
       " ('Last_Activity_Had a Phone Conversation', False, 33),\n",
       " ('Lead_Source_Live Chat', False, 34),\n",
       " ('Specialization_E-COMMERCE', False, 35),\n",
       " ('Specialization_IT Projects Management', False, 36),\n",
       " ('Specialization_Marketing Management', False, 37),\n",
       " ('Lead_Source_Reference', False, 38),\n",
       " ('Lead_Source_Click2call', False, 39),\n",
       " ('Specialization_Business Administration', False, 40),\n",
       " ('Last_Notable_Activity_Approached upfront', False, 41),\n",
       " ('Specialization_Finance Management', False, 42),\n",
       " ('Specialization_Human Resource Management', False, 43),\n",
       " ('Last_Activity_Unreachable', False, 44),\n",
       " ('Specialization_Media and Advertising', False, 45),\n",
       " ('Specialization_Travel and Tourism', False, 46),\n",
       " ('Lead_Source_Press_Release', False, 47),\n",
       " ('Specialization_Retail Management', False, 48),\n",
       " ('Specialization_Supply Chain Management', False, 49),\n",
       " ('Last_Notable_Activity_Form Submitted on Website', False, 50),\n",
       " ('Lead_Source_welearnblog_Home', False, 51),\n",
       " ('Lead_Source_Social Media', False, 52),\n",
       " ('Lead_Source_testone', False, 53),\n",
       " ('Lead_Source_blog', False, 54)]"
      ]
     },
     "execution_count": 181,
     "metadata": {},
     "output_type": "execute_result"
    }
   ],
   "source": [
    "#Column rankings as per RFE\n",
    "rfe_ranks = list(zip(X_train.columns, rfe.support_, rfe.ranking_))\n",
    "\n",
    "#sort the column in ascending order of their ranks\n",
    "rfe_ranks = sorted(rfe_ranks, key=lambda x:x[2])\n",
    "\n",
    "#view\n",
    "rfe_ranks"
   ]
  },
  {
   "cell_type": "code",
   "execution_count": 182,
   "id": "48428214",
   "metadata": {},
   "outputs": [
    {
     "data": {
      "text/plain": [
       "Index(['Do Not Email', 'TotalVisits', 'Total Time Spent on Website',\n",
       "       'Page Views Per Visit', 'Lead_Origin_API',\n",
       "       'Lead_Origin_Landing Page Submission', 'Lead_Origin_Lead Add Form',\n",
       "       'Lead_Source_Olark Chat', 'Lead_Source_Welingak Website',\n",
       "       'Last_Activity_Approached upfront', 'Last_Activity_Email Opened',\n",
       "       'Last_Activity_Email Received', 'Last_Activity_Olark Chat Conversation',\n",
       "       'Last_Activity_SMS Sent', 'Last_Activity_View in browser link Clicked',\n",
       "       'Specialization_E-Business', 'Specialization_Unknown',\n",
       "       'Last_Notable_Activity_Email Link Clicked',\n",
       "       'Last_Notable_Activity_Email Opened',\n",
       "       'Last_Notable_Activity_Had a Phone Conversation',\n",
       "       'Last_Notable_Activity_Modified',\n",
       "       'Last_Notable_Activity_Olark Chat Conversation',\n",
       "       'Last_Notable_Activity_Page Visited on Website',\n",
       "       'Last_Notable_Activity_Resubscribed to emails',\n",
       "       'Last_Notable_Activity_Unreachable'],\n",
       "      dtype='object')"
      ]
     },
     "execution_count": 182,
     "metadata": {},
     "output_type": "execute_result"
    }
   ],
   "source": [
    "#viewing columns selected by RFE\n",
    "train_cols = X_train.columns[rfe.support_]\n",
    "train_cols"
   ]
  },
  {
   "cell_type": "markdown",
   "id": "32f7e86d",
   "metadata": {},
   "source": [
    "### 8. Model building"
   ]
  },
  {
   "cell_type": "markdown",
   "id": "77c79cee",
   "metadata": {},
   "source": [
    "Model - 1"
   ]
  },
  {
   "cell_type": "code",
   "execution_count": 183,
   "id": "9820b928",
   "metadata": {},
   "outputs": [
    {
     "data": {
      "text/html": [
       "<table class=\"simpletable\">\n",
       "<caption>Generalized Linear Model Regression Results</caption>\n",
       "<tr>\n",
       "  <th>Dep. Variable:</th>       <td>Converted</td>    <th>  No. Observations:  </th>  <td>  6259</td> \n",
       "</tr>\n",
       "<tr>\n",
       "  <th>Model:</th>                  <td>GLM</td>       <th>  Df Residuals:      </th>  <td>  6233</td> \n",
       "</tr>\n",
       "<tr>\n",
       "  <th>Model Family:</th>        <td>Binomial</td>     <th>  Df Model:          </th>  <td>    25</td> \n",
       "</tr>\n",
       "<tr>\n",
       "  <th>Link Function:</th>         <td>Logit</td>      <th>  Scale:             </th> <td>  1.0000</td>\n",
       "</tr>\n",
       "<tr>\n",
       "  <th>Method:</th>                <td>IRLS</td>       <th>  Log-Likelihood:    </th> <td> -2648.7</td>\n",
       "</tr>\n",
       "<tr>\n",
       "  <th>Date:</th>            <td>Tue, 18 Jul 2023</td> <th>  Deviance:          </th> <td>  5297.4</td>\n",
       "</tr>\n",
       "<tr>\n",
       "  <th>Time:</th>                <td>00:20:53</td>     <th>  Pearson chi2:      </th> <td>6.16e+03</td>\n",
       "</tr>\n",
       "<tr>\n",
       "  <th>No. Iterations:</th>         <td>21</td>        <th>  Pseudo R-squ. (CS):</th>  <td>0.3873</td> \n",
       "</tr>\n",
       "<tr>\n",
       "  <th>Covariance Type:</th>     <td>nonrobust</td>    <th>                     </th>     <td> </td>   \n",
       "</tr>\n",
       "</table>\n",
       "<table class=\"simpletable\">\n",
       "<tr>\n",
       "                         <td></td>                           <th>coef</th>     <th>std err</th>      <th>z</th>      <th>P>|z|</th>  <th>[0.025</th>    <th>0.975]</th>  \n",
       "</tr>\n",
       "<tr>\n",
       "  <th>const</th>                                          <td>    0.2301</td> <td>    0.507</td> <td>    0.454</td> <td> 0.650</td> <td>   -0.763</td> <td>    1.223</td>\n",
       "</tr>\n",
       "<tr>\n",
       "  <th>Do Not Email</th>                                   <td>   -1.3963</td> <td>    0.176</td> <td>   -7.937</td> <td> 0.000</td> <td>   -1.741</td> <td>   -1.052</td>\n",
       "</tr>\n",
       "<tr>\n",
       "  <th>TotalVisits</th>                                    <td>    1.1672</td> <td>    0.292</td> <td>    3.992</td> <td> 0.000</td> <td>    0.594</td> <td>    1.740</td>\n",
       "</tr>\n",
       "<tr>\n",
       "  <th>Total Time Spent on Website</th>                    <td>    4.5061</td> <td>    0.167</td> <td>   27.023</td> <td> 0.000</td> <td>    4.179</td> <td>    4.833</td>\n",
       "</tr>\n",
       "<tr>\n",
       "  <th>Page Views Per Visit</th>                           <td>   -0.7756</td> <td>    0.256</td> <td>   -3.035</td> <td> 0.002</td> <td>   -1.276</td> <td>   -0.275</td>\n",
       "</tr>\n",
       "<tr>\n",
       "  <th>Lead_Origin_API</th>                                <td>   -0.3629</td> <td>    0.475</td> <td>   -0.764</td> <td> 0.445</td> <td>   -1.294</td> <td>    0.569</td>\n",
       "</tr>\n",
       "<tr>\n",
       "  <th>Lead_Origin_Landing Page Submission</th>            <td>   -1.6615</td> <td>    0.475</td> <td>   -3.496</td> <td> 0.000</td> <td>   -2.593</td> <td>   -0.730</td>\n",
       "</tr>\n",
       "<tr>\n",
       "  <th>Lead_Origin_Lead Add Form</th>                      <td>    3.1023</td> <td>    0.504</td> <td>    6.157</td> <td> 0.000</td> <td>    2.115</td> <td>    4.090</td>\n",
       "</tr>\n",
       "<tr>\n",
       "  <th>Lead_Source_Olark Chat</th>                         <td>    1.1202</td> <td>    0.142</td> <td>    7.886</td> <td> 0.000</td> <td>    0.842</td> <td>    1.399</td>\n",
       "</tr>\n",
       "<tr>\n",
       "  <th>Lead_Source_Welingak Website</th>                   <td>    3.0698</td> <td>    1.033</td> <td>    2.973</td> <td> 0.003</td> <td>    1.046</td> <td>    5.094</td>\n",
       "</tr>\n",
       "<tr>\n",
       "  <th>Last_Activity_Approached upfront</th>               <td>   23.1350</td> <td> 1.44e+04</td> <td>    0.002</td> <td> 0.999</td> <td>-2.82e+04</td> <td> 2.82e+04</td>\n",
       "</tr>\n",
       "<tr>\n",
       "  <th>Last_Activity_Email Opened</th>                     <td>    0.7665</td> <td>    0.167</td> <td>    4.577</td> <td> 0.000</td> <td>    0.438</td> <td>    1.095</td>\n",
       "</tr>\n",
       "<tr>\n",
       "  <th>Last_Activity_Email Received</th>                   <td>   22.8952</td> <td> 4.82e+04</td> <td>    0.000</td> <td> 1.000</td> <td>-9.44e+04</td> <td> 9.45e+04</td>\n",
       "</tr>\n",
       "<tr>\n",
       "  <th>Last_Activity_Olark Chat Conversation</th>          <td>   -0.9428</td> <td>    0.225</td> <td>   -4.182</td> <td> 0.000</td> <td>   -1.385</td> <td>   -0.501</td>\n",
       "</tr>\n",
       "<tr>\n",
       "  <th>Last_Activity_SMS Sent</th>                         <td>    0.8915</td> <td>    0.158</td> <td>    5.646</td> <td> 0.000</td> <td>    0.582</td> <td>    1.201</td>\n",
       "</tr>\n",
       "<tr>\n",
       "  <th>Last_Activity_View in browser link Clicked</th>     <td>  -22.5293</td> <td> 3.33e+04</td> <td>   -0.001</td> <td> 0.999</td> <td>-6.53e+04</td> <td> 6.53e+04</td>\n",
       "</tr>\n",
       "<tr>\n",
       "  <th>Specialization_E-Business</th>                      <td>    0.6310</td> <td>    0.455</td> <td>    1.387</td> <td> 0.166</td> <td>   -0.261</td> <td>    1.523</td>\n",
       "</tr>\n",
       "<tr>\n",
       "  <th>Specialization_Unknown</th>                         <td>   -1.5993</td> <td>    0.125</td> <td>  -12.782</td> <td> 0.000</td> <td>   -1.845</td> <td>   -1.354</td>\n",
       "</tr>\n",
       "<tr>\n",
       "  <th>Last_Notable_Activity_Email Link Clicked</th>       <td>   -1.1101</td> <td>    0.299</td> <td>   -3.718</td> <td> 0.000</td> <td>   -1.695</td> <td>   -0.525</td>\n",
       "</tr>\n",
       "<tr>\n",
       "  <th>Last_Notable_Activity_Email Opened</th>             <td>   -1.4283</td> <td>    0.194</td> <td>   -7.374</td> <td> 0.000</td> <td>   -1.808</td> <td>   -1.049</td>\n",
       "</tr>\n",
       "<tr>\n",
       "  <th>Last_Notable_Activity_Had a Phone Conversation</th> <td>    1.6072</td> <td>    1.222</td> <td>    1.316</td> <td> 0.188</td> <td>   -0.787</td> <td>    4.001</td>\n",
       "</tr>\n",
       "<tr>\n",
       "  <th>Last_Notable_Activity_Modified</th>                 <td>   -1.5019</td> <td>    0.137</td> <td>  -10.965</td> <td> 0.000</td> <td>   -1.770</td> <td>   -1.233</td>\n",
       "</tr>\n",
       "<tr>\n",
       "  <th>Last_Notable_Activity_Olark Chat Conversation</th>  <td>   -0.9293</td> <td>    0.378</td> <td>   -2.462</td> <td> 0.014</td> <td>   -1.669</td> <td>   -0.189</td>\n",
       "</tr>\n",
       "<tr>\n",
       "  <th>Last_Notable_Activity_Page Visited on Website</th>  <td>   -1.1082</td> <td>    0.259</td> <td>   -4.286</td> <td> 0.000</td> <td>   -1.615</td> <td>   -0.601</td>\n",
       "</tr>\n",
       "<tr>\n",
       "  <th>Last_Notable_Activity_Resubscribed to emails</th>   <td>   23.1780</td> <td> 4.82e+04</td> <td>    0.000</td> <td> 1.000</td> <td>-9.44e+04</td> <td> 9.45e+04</td>\n",
       "</tr>\n",
       "<tr>\n",
       "  <th>Last_Notable_Activity_Unreachable</th>              <td>    1.1200</td> <td>    0.527</td> <td>    2.125</td> <td> 0.034</td> <td>    0.087</td> <td>    2.153</td>\n",
       "</tr>\n",
       "</table>"
      ],
      "text/plain": [
       "<class 'statsmodels.iolib.summary.Summary'>\n",
       "\"\"\"\n",
       "                 Generalized Linear Model Regression Results                  \n",
       "==============================================================================\n",
       "Dep. Variable:              Converted   No. Observations:                 6259\n",
       "Model:                            GLM   Df Residuals:                     6233\n",
       "Model Family:                Binomial   Df Model:                           25\n",
       "Link Function:                  Logit   Scale:                          1.0000\n",
       "Method:                          IRLS   Log-Likelihood:                -2648.7\n",
       "Date:                Tue, 18 Jul 2023   Deviance:                       5297.4\n",
       "Time:                        00:20:53   Pearson chi2:                 6.16e+03\n",
       "No. Iterations:                    21   Pseudo R-squ. (CS):             0.3873\n",
       "Covariance Type:            nonrobust                                         \n",
       "==================================================================================================================\n",
       "                                                     coef    std err          z      P>|z|      [0.025      0.975]\n",
       "------------------------------------------------------------------------------------------------------------------\n",
       "const                                              0.2301      0.507      0.454      0.650      -0.763       1.223\n",
       "Do Not Email                                      -1.3963      0.176     -7.937      0.000      -1.741      -1.052\n",
       "TotalVisits                                        1.1672      0.292      3.992      0.000       0.594       1.740\n",
       "Total Time Spent on Website                        4.5061      0.167     27.023      0.000       4.179       4.833\n",
       "Page Views Per Visit                              -0.7756      0.256     -3.035      0.002      -1.276      -0.275\n",
       "Lead_Origin_API                                   -0.3629      0.475     -0.764      0.445      -1.294       0.569\n",
       "Lead_Origin_Landing Page Submission               -1.6615      0.475     -3.496      0.000      -2.593      -0.730\n",
       "Lead_Origin_Lead Add Form                          3.1023      0.504      6.157      0.000       2.115       4.090\n",
       "Lead_Source_Olark Chat                             1.1202      0.142      7.886      0.000       0.842       1.399\n",
       "Lead_Source_Welingak Website                       3.0698      1.033      2.973      0.003       1.046       5.094\n",
       "Last_Activity_Approached upfront                  23.1350   1.44e+04      0.002      0.999   -2.82e+04    2.82e+04\n",
       "Last_Activity_Email Opened                         0.7665      0.167      4.577      0.000       0.438       1.095\n",
       "Last_Activity_Email Received                      22.8952   4.82e+04      0.000      1.000   -9.44e+04    9.45e+04\n",
       "Last_Activity_Olark Chat Conversation             -0.9428      0.225     -4.182      0.000      -1.385      -0.501\n",
       "Last_Activity_SMS Sent                             0.8915      0.158      5.646      0.000       0.582       1.201\n",
       "Last_Activity_View in browser link Clicked       -22.5293   3.33e+04     -0.001      0.999   -6.53e+04    6.53e+04\n",
       "Specialization_E-Business                          0.6310      0.455      1.387      0.166      -0.261       1.523\n",
       "Specialization_Unknown                            -1.5993      0.125    -12.782      0.000      -1.845      -1.354\n",
       "Last_Notable_Activity_Email Link Clicked          -1.1101      0.299     -3.718      0.000      -1.695      -0.525\n",
       "Last_Notable_Activity_Email Opened                -1.4283      0.194     -7.374      0.000      -1.808      -1.049\n",
       "Last_Notable_Activity_Had a Phone Conversation     1.6072      1.222      1.316      0.188      -0.787       4.001\n",
       "Last_Notable_Activity_Modified                    -1.5019      0.137    -10.965      0.000      -1.770      -1.233\n",
       "Last_Notable_Activity_Olark Chat Conversation     -0.9293      0.378     -2.462      0.014      -1.669      -0.189\n",
       "Last_Notable_Activity_Page Visited on Website     -1.1082      0.259     -4.286      0.000      -1.615      -0.601\n",
       "Last_Notable_Activity_Resubscribed to emails      23.1780   4.82e+04      0.000      1.000   -9.44e+04    9.45e+04\n",
       "Last_Notable_Activity_Unreachable                  1.1200      0.527      2.125      0.034       0.087       2.153\n",
       "==================================================================================================================\n",
       "\"\"\""
      ]
     },
     "execution_count": 183,
     "metadata": {},
     "output_type": "execute_result"
    }
   ],
   "source": [
    "X_train_sm = sm.add_constant(X_train[train_cols])\n",
    "logm1 = sm.GLM(y_train,X_train_sm, family = sm.families.Binomial())\n",
    "result = logm1.fit()\n",
    "result.summary()"
   ]
  },
  {
   "cell_type": "code",
   "execution_count": 184,
   "id": "4db9fd8a",
   "metadata": {},
   "outputs": [
    {
     "name": "stdout",
     "output_type": "stream",
     "text": [
      "4\n"
     ]
    }
   ],
   "source": [
    "#generating list of column to drop based on high p-values\n",
    "drop_cols = ['Last_Activity_Approached upfront','Last_Activity_Email Received',\n",
    "             'Last_Activity_View in browser link Clicked','Last_Notable_Activity_Resubscribed to emails']\n",
    "\n",
    "#dropping above columns from analysis\n",
    "train_cols1 = train_cols.drop(drop_cols)\n",
    "\n",
    "#verify\n",
    "print(len(train_cols) - len(train_cols1))"
   ]
  },
  {
   "cell_type": "markdown",
   "id": "4b39cb3e",
   "metadata": {},
   "source": [
    "Model-2"
   ]
  },
  {
   "cell_type": "code",
   "execution_count": 185,
   "id": "f8682b96",
   "metadata": {},
   "outputs": [
    {
     "data": {
      "text/html": [
       "<table class=\"simpletable\">\n",
       "<caption>Generalized Linear Model Regression Results</caption>\n",
       "<tr>\n",
       "  <th>Dep. Variable:</th>       <td>Converted</td>    <th>  No. Observations:  </th>  <td>  6259</td> \n",
       "</tr>\n",
       "<tr>\n",
       "  <th>Model:</th>                  <td>GLM</td>       <th>  Df Residuals:      </th>  <td>  6237</td> \n",
       "</tr>\n",
       "<tr>\n",
       "  <th>Model Family:</th>        <td>Binomial</td>     <th>  Df Model:          </th>  <td>    21</td> \n",
       "</tr>\n",
       "<tr>\n",
       "  <th>Link Function:</th>         <td>Logit</td>      <th>  Scale:             </th> <td>  1.0000</td>\n",
       "</tr>\n",
       "<tr>\n",
       "  <th>Method:</th>                <td>IRLS</td>       <th>  Log-Likelihood:    </th> <td> -2658.4</td>\n",
       "</tr>\n",
       "<tr>\n",
       "  <th>Date:</th>            <td>Tue, 18 Jul 2023</td> <th>  Deviance:          </th> <td>  5316.9</td>\n",
       "</tr>\n",
       "<tr>\n",
       "  <th>Time:</th>                <td>00:20:53</td>     <th>  Pearson chi2:      </th> <td>6.18e+03</td>\n",
       "</tr>\n",
       "<tr>\n",
       "  <th>No. Iterations:</th>          <td>7</td>        <th>  Pseudo R-squ. (CS):</th>  <td>0.3854</td> \n",
       "</tr>\n",
       "<tr>\n",
       "  <th>Covariance Type:</th>     <td>nonrobust</td>    <th>                     </th>     <td> </td>   \n",
       "</tr>\n",
       "</table>\n",
       "<table class=\"simpletable\">\n",
       "<tr>\n",
       "                         <td></td>                           <th>coef</th>     <th>std err</th>      <th>z</th>      <th>P>|z|</th>  <th>[0.025</th>    <th>0.975]</th>  \n",
       "</tr>\n",
       "<tr>\n",
       "  <th>const</th>                                          <td>    0.2566</td> <td>    0.506</td> <td>    0.507</td> <td> 0.612</td> <td>   -0.735</td> <td>    1.248</td>\n",
       "</tr>\n",
       "<tr>\n",
       "  <th>Do Not Email</th>                                   <td>   -1.4188</td> <td>    0.176</td> <td>   -8.083</td> <td> 0.000</td> <td>   -1.763</td> <td>   -1.075</td>\n",
       "</tr>\n",
       "<tr>\n",
       "  <th>TotalVisits</th>                                    <td>    1.1576</td> <td>    0.292</td> <td>    3.963</td> <td> 0.000</td> <td>    0.585</td> <td>    1.730</td>\n",
       "</tr>\n",
       "<tr>\n",
       "  <th>Total Time Spent on Website</th>                    <td>    4.5206</td> <td>    0.167</td> <td>   27.141</td> <td> 0.000</td> <td>    4.194</td> <td>    4.847</td>\n",
       "</tr>\n",
       "<tr>\n",
       "  <th>Page Views Per Visit</th>                           <td>   -0.7550</td> <td>    0.255</td> <td>   -2.959</td> <td> 0.003</td> <td>   -1.255</td> <td>   -0.255</td>\n",
       "</tr>\n",
       "<tr>\n",
       "  <th>Lead_Origin_API</th>                                <td>   -0.3788</td> <td>    0.475</td> <td>   -0.797</td> <td> 0.426</td> <td>   -1.310</td> <td>    0.553</td>\n",
       "</tr>\n",
       "<tr>\n",
       "  <th>Lead_Origin_Landing Page Submission</th>            <td>   -1.6556</td> <td>    0.475</td> <td>   -3.483</td> <td> 0.000</td> <td>   -2.587</td> <td>   -0.724</td>\n",
       "</tr>\n",
       "<tr>\n",
       "  <th>Lead_Origin_Lead Add Form</th>                      <td>    3.1100</td> <td>    0.504</td> <td>    6.172</td> <td> 0.000</td> <td>    2.122</td> <td>    4.098</td>\n",
       "</tr>\n",
       "<tr>\n",
       "  <th>Lead_Source_Olark Chat</th>                         <td>    1.1473</td> <td>    0.142</td> <td>    8.094</td> <td> 0.000</td> <td>    0.869</td> <td>    1.425</td>\n",
       "</tr>\n",
       "<tr>\n",
       "  <th>Lead_Source_Welingak Website</th>                   <td>    3.0602</td> <td>    1.033</td> <td>    2.963</td> <td> 0.003</td> <td>    1.036</td> <td>    5.084</td>\n",
       "</tr>\n",
       "<tr>\n",
       "  <th>Last_Activity_Email Opened</th>                     <td>    0.7215</td> <td>    0.166</td> <td>    4.345</td> <td> 0.000</td> <td>    0.396</td> <td>    1.047</td>\n",
       "</tr>\n",
       "<tr>\n",
       "  <th>Last_Activity_Olark Chat Conversation</th>          <td>   -0.9923</td> <td>    0.224</td> <td>   -4.426</td> <td> 0.000</td> <td>   -1.432</td> <td>   -0.553</td>\n",
       "</tr>\n",
       "<tr>\n",
       "  <th>Last_Activity_SMS Sent</th>                         <td>    0.8491</td> <td>    0.156</td> <td>    5.452</td> <td> 0.000</td> <td>    0.544</td> <td>    1.154</td>\n",
       "</tr>\n",
       "<tr>\n",
       "  <th>Specialization_E-Business</th>                      <td>    0.6318</td> <td>    0.455</td> <td>    1.388</td> <td> 0.165</td> <td>   -0.260</td> <td>    1.524</td>\n",
       "</tr>\n",
       "<tr>\n",
       "  <th>Specialization_Unknown</th>                         <td>   -1.5789</td> <td>    0.125</td> <td>  -12.669</td> <td> 0.000</td> <td>   -1.823</td> <td>   -1.335</td>\n",
       "</tr>\n",
       "<tr>\n",
       "  <th>Last_Notable_Activity_Email Link Clicked</th>       <td>   -1.1547</td> <td>    0.297</td> <td>   -3.887</td> <td> 0.000</td> <td>   -1.737</td> <td>   -0.572</td>\n",
       "</tr>\n",
       "<tr>\n",
       "  <th>Last_Notable_Activity_Email Opened</th>             <td>   -1.4262</td> <td>    0.193</td> <td>   -7.384</td> <td> 0.000</td> <td>   -1.805</td> <td>   -1.048</td>\n",
       "</tr>\n",
       "<tr>\n",
       "  <th>Last_Notable_Activity_Had a Phone Conversation</th> <td>    1.5719</td> <td>    1.221</td> <td>    1.288</td> <td> 0.198</td> <td>   -0.820</td> <td>    3.964</td>\n",
       "</tr>\n",
       "<tr>\n",
       "  <th>Last_Notable_Activity_Modified</th>                 <td>   -1.5012</td> <td>    0.136</td> <td>  -11.017</td> <td> 0.000</td> <td>   -1.768</td> <td>   -1.234</td>\n",
       "</tr>\n",
       "<tr>\n",
       "  <th>Last_Notable_Activity_Olark Chat Conversation</th>  <td>   -0.9285</td> <td>    0.377</td> <td>   -2.462</td> <td> 0.014</td> <td>   -1.668</td> <td>   -0.189</td>\n",
       "</tr>\n",
       "<tr>\n",
       "  <th>Last_Notable_Activity_Page Visited on Website</th>  <td>   -1.1467</td> <td>    0.257</td> <td>   -4.461</td> <td> 0.000</td> <td>   -1.651</td> <td>   -0.643</td>\n",
       "</tr>\n",
       "<tr>\n",
       "  <th>Last_Notable_Activity_Unreachable</th>              <td>    1.0811</td> <td>    0.526</td> <td>    2.054</td> <td> 0.040</td> <td>    0.049</td> <td>    2.113</td>\n",
       "</tr>\n",
       "</table>"
      ],
      "text/plain": [
       "<class 'statsmodels.iolib.summary.Summary'>\n",
       "\"\"\"\n",
       "                 Generalized Linear Model Regression Results                  \n",
       "==============================================================================\n",
       "Dep. Variable:              Converted   No. Observations:                 6259\n",
       "Model:                            GLM   Df Residuals:                     6237\n",
       "Model Family:                Binomial   Df Model:                           21\n",
       "Link Function:                  Logit   Scale:                          1.0000\n",
       "Method:                          IRLS   Log-Likelihood:                -2658.4\n",
       "Date:                Tue, 18 Jul 2023   Deviance:                       5316.9\n",
       "Time:                        00:20:53   Pearson chi2:                 6.18e+03\n",
       "No. Iterations:                     7   Pseudo R-squ. (CS):             0.3854\n",
       "Covariance Type:            nonrobust                                         \n",
       "==================================================================================================================\n",
       "                                                     coef    std err          z      P>|z|      [0.025      0.975]\n",
       "------------------------------------------------------------------------------------------------------------------\n",
       "const                                              0.2566      0.506      0.507      0.612      -0.735       1.248\n",
       "Do Not Email                                      -1.4188      0.176     -8.083      0.000      -1.763      -1.075\n",
       "TotalVisits                                        1.1576      0.292      3.963      0.000       0.585       1.730\n",
       "Total Time Spent on Website                        4.5206      0.167     27.141      0.000       4.194       4.847\n",
       "Page Views Per Visit                              -0.7550      0.255     -2.959      0.003      -1.255      -0.255\n",
       "Lead_Origin_API                                   -0.3788      0.475     -0.797      0.426      -1.310       0.553\n",
       "Lead_Origin_Landing Page Submission               -1.6556      0.475     -3.483      0.000      -2.587      -0.724\n",
       "Lead_Origin_Lead Add Form                          3.1100      0.504      6.172      0.000       2.122       4.098\n",
       "Lead_Source_Olark Chat                             1.1473      0.142      8.094      0.000       0.869       1.425\n",
       "Lead_Source_Welingak Website                       3.0602      1.033      2.963      0.003       1.036       5.084\n",
       "Last_Activity_Email Opened                         0.7215      0.166      4.345      0.000       0.396       1.047\n",
       "Last_Activity_Olark Chat Conversation             -0.9923      0.224     -4.426      0.000      -1.432      -0.553\n",
       "Last_Activity_SMS Sent                             0.8491      0.156      5.452      0.000       0.544       1.154\n",
       "Specialization_E-Business                          0.6318      0.455      1.388      0.165      -0.260       1.524\n",
       "Specialization_Unknown                            -1.5789      0.125    -12.669      0.000      -1.823      -1.335\n",
       "Last_Notable_Activity_Email Link Clicked          -1.1547      0.297     -3.887      0.000      -1.737      -0.572\n",
       "Last_Notable_Activity_Email Opened                -1.4262      0.193     -7.384      0.000      -1.805      -1.048\n",
       "Last_Notable_Activity_Had a Phone Conversation     1.5719      1.221      1.288      0.198      -0.820       3.964\n",
       "Last_Notable_Activity_Modified                    -1.5012      0.136    -11.017      0.000      -1.768      -1.234\n",
       "Last_Notable_Activity_Olark Chat Conversation     -0.9285      0.377     -2.462      0.014      -1.668      -0.189\n",
       "Last_Notable_Activity_Page Visited on Website     -1.1467      0.257     -4.461      0.000      -1.651      -0.643\n",
       "Last_Notable_Activity_Unreachable                  1.0811      0.526      2.054      0.040       0.049       2.113\n",
       "==================================================================================================================\n",
       "\"\"\""
      ]
     },
     "execution_count": 185,
     "metadata": {},
     "output_type": "execute_result"
    }
   ],
   "source": [
    "X_train_sm = sm.add_constant(X_train[train_cols1])\n",
    "logm2 = sm.GLM(y_train,X_train_sm, family = sm.families.Binomial())\n",
    "res = logm2.fit()\n",
    "res.summary()"
   ]
  },
  {
   "cell_type": "code",
   "execution_count": 186,
   "id": "1f95ce5c",
   "metadata": {},
   "outputs": [
    {
     "name": "stdout",
     "output_type": "stream",
     "text": [
      "3\n"
     ]
    }
   ],
   "source": [
    "#generating list of column to drop based on high p-values\n",
    "drop_cols1 = ['Lead_Origin_API','Specialization_E-Business','Last_Notable_Activity_Had a Phone Conversation']\n",
    "\n",
    "#dropping above columns from analysis\n",
    "train_cols2 = train_cols1.drop(drop_cols1)\n",
    "\n",
    "#verify\n",
    "print(len(train_cols1) - len(train_cols2))"
   ]
  },
  {
   "cell_type": "markdown",
   "id": "0506b90f",
   "metadata": {},
   "source": [
    "Model - 3"
   ]
  },
  {
   "cell_type": "code",
   "execution_count": 187,
   "id": "7d46678a",
   "metadata": {},
   "outputs": [
    {
     "data": {
      "text/html": [
       "<table class=\"simpletable\">\n",
       "<caption>Generalized Linear Model Regression Results</caption>\n",
       "<tr>\n",
       "  <th>Dep. Variable:</th>       <td>Converted</td>    <th>  No. Observations:  </th>  <td>  6259</td> \n",
       "</tr>\n",
       "<tr>\n",
       "  <th>Model:</th>                  <td>GLM</td>       <th>  Df Residuals:      </th>  <td>  6240</td> \n",
       "</tr>\n",
       "<tr>\n",
       "  <th>Model Family:</th>        <td>Binomial</td>     <th>  Df Model:          </th>  <td>    18</td> \n",
       "</tr>\n",
       "<tr>\n",
       "  <th>Link Function:</th>         <td>Logit</td>      <th>  Scale:             </th> <td>  1.0000</td>\n",
       "</tr>\n",
       "<tr>\n",
       "  <th>Method:</th>                <td>IRLS</td>       <th>  Log-Likelihood:    </th> <td> -2660.8</td>\n",
       "</tr>\n",
       "<tr>\n",
       "  <th>Date:</th>            <td>Tue, 18 Jul 2023</td> <th>  Deviance:          </th> <td>  5321.6</td>\n",
       "</tr>\n",
       "<tr>\n",
       "  <th>Time:</th>                <td>00:20:53</td>     <th>  Pearson chi2:      </th> <td>6.18e+03</td>\n",
       "</tr>\n",
       "<tr>\n",
       "  <th>No. Iterations:</th>          <td>7</td>        <th>  Pseudo R-squ. (CS):</th>  <td>0.3849</td> \n",
       "</tr>\n",
       "<tr>\n",
       "  <th>Covariance Type:</th>     <td>nonrobust</td>    <th>                     </th>     <td> </td>   \n",
       "</tr>\n",
       "</table>\n",
       "<table class=\"simpletable\">\n",
       "<tr>\n",
       "                        <td></td>                           <th>coef</th>     <th>std err</th>      <th>z</th>      <th>P>|z|</th>  <th>[0.025</th>    <th>0.975]</th>  \n",
       "</tr>\n",
       "<tr>\n",
       "  <th>const</th>                                         <td>   -0.0665</td> <td>    0.216</td> <td>   -0.307</td> <td> 0.759</td> <td>   -0.491</td> <td>    0.358</td>\n",
       "</tr>\n",
       "<tr>\n",
       "  <th>Do Not Email</th>                                  <td>   -1.4216</td> <td>    0.175</td> <td>   -8.126</td> <td> 0.000</td> <td>   -1.765</td> <td>   -1.079</td>\n",
       "</tr>\n",
       "<tr>\n",
       "  <th>TotalVisits</th>                                   <td>    1.1400</td> <td>    0.291</td> <td>    3.921</td> <td> 0.000</td> <td>    0.570</td> <td>    1.710</td>\n",
       "</tr>\n",
       "<tr>\n",
       "  <th>Total Time Spent on Website</th>                   <td>    4.5052</td> <td>    0.166</td> <td>   27.160</td> <td> 0.000</td> <td>    4.180</td> <td>    4.830</td>\n",
       "</tr>\n",
       "<tr>\n",
       "  <th>Page Views Per Visit</th>                          <td>   -0.7715</td> <td>    0.254</td> <td>   -3.036</td> <td> 0.002</td> <td>   -1.270</td> <td>   -0.273</td>\n",
       "</tr>\n",
       "<tr>\n",
       "  <th>Lead_Origin_Landing Page Submission</th>           <td>   -1.2863</td> <td>    0.125</td> <td>  -10.255</td> <td> 0.000</td> <td>   -1.532</td> <td>   -1.040</td>\n",
       "</tr>\n",
       "<tr>\n",
       "  <th>Lead_Origin_Lead Add Form</th>                     <td>    3.4648</td> <td>    0.234</td> <td>   14.790</td> <td> 0.000</td> <td>    3.006</td> <td>    3.924</td>\n",
       "</tr>\n",
       "<tr>\n",
       "  <th>Lead_Source_Olark Chat</th>                        <td>    1.1250</td> <td>    0.140</td> <td>    8.052</td> <td> 0.000</td> <td>    0.851</td> <td>    1.399</td>\n",
       "</tr>\n",
       "<tr>\n",
       "  <th>Lead_Source_Welingak Website</th>                  <td>    3.0661</td> <td>    1.033</td> <td>    2.969</td> <td> 0.003</td> <td>    1.042</td> <td>    5.090</td>\n",
       "</tr>\n",
       "<tr>\n",
       "  <th>Last_Activity_Email Opened</th>                    <td>    0.7146</td> <td>    0.165</td> <td>    4.322</td> <td> 0.000</td> <td>    0.391</td> <td>    1.039</td>\n",
       "</tr>\n",
       "<tr>\n",
       "  <th>Last_Activity_Olark Chat Conversation</th>         <td>   -1.0035</td> <td>    0.224</td> <td>   -4.484</td> <td> 0.000</td> <td>   -1.442</td> <td>   -0.565</td>\n",
       "</tr>\n",
       "<tr>\n",
       "  <th>Last_Activity_SMS Sent</th>                        <td>    0.8267</td> <td>    0.153</td> <td>    5.387</td> <td> 0.000</td> <td>    0.526</td> <td>    1.127</td>\n",
       "</tr>\n",
       "<tr>\n",
       "  <th>Specialization_Unknown</th>                        <td>   -1.5899</td> <td>    0.124</td> <td>  -12.779</td> <td> 0.000</td> <td>   -1.834</td> <td>   -1.346</td>\n",
       "</tr>\n",
       "<tr>\n",
       "  <th>Last_Notable_Activity_Email Link Clicked</th>      <td>   -1.1833</td> <td>    0.296</td> <td>   -4.004</td> <td> 0.000</td> <td>   -1.762</td> <td>   -0.604</td>\n",
       "</tr>\n",
       "<tr>\n",
       "  <th>Last_Notable_Activity_Email Opened</th>            <td>   -1.4430</td> <td>    0.192</td> <td>   -7.517</td> <td> 0.000</td> <td>   -1.819</td> <td>   -1.067</td>\n",
       "</tr>\n",
       "<tr>\n",
       "  <th>Last_Notable_Activity_Modified</th>                <td>   -1.5147</td> <td>    0.135</td> <td>  -11.230</td> <td> 0.000</td> <td>   -1.779</td> <td>   -1.250</td>\n",
       "</tr>\n",
       "<tr>\n",
       "  <th>Last_Notable_Activity_Olark Chat Conversation</th> <td>   -0.9416</td> <td>    0.376</td> <td>   -2.501</td> <td> 0.012</td> <td>   -1.679</td> <td>   -0.204</td>\n",
       "</tr>\n",
       "<tr>\n",
       "  <th>Last_Notable_Activity_Page Visited on Website</th> <td>   -1.1620</td> <td>    0.255</td> <td>   -4.565</td> <td> 0.000</td> <td>   -1.661</td> <td>   -0.663</td>\n",
       "</tr>\n",
       "<tr>\n",
       "  <th>Last_Notable_Activity_Unreachable</th>             <td>    1.0493</td> <td>    0.525</td> <td>    1.997</td> <td> 0.046</td> <td>    0.019</td> <td>    2.079</td>\n",
       "</tr>\n",
       "</table>"
      ],
      "text/plain": [
       "<class 'statsmodels.iolib.summary.Summary'>\n",
       "\"\"\"\n",
       "                 Generalized Linear Model Regression Results                  \n",
       "==============================================================================\n",
       "Dep. Variable:              Converted   No. Observations:                 6259\n",
       "Model:                            GLM   Df Residuals:                     6240\n",
       "Model Family:                Binomial   Df Model:                           18\n",
       "Link Function:                  Logit   Scale:                          1.0000\n",
       "Method:                          IRLS   Log-Likelihood:                -2660.8\n",
       "Date:                Tue, 18 Jul 2023   Deviance:                       5321.6\n",
       "Time:                        00:20:53   Pearson chi2:                 6.18e+03\n",
       "No. Iterations:                     7   Pseudo R-squ. (CS):             0.3849\n",
       "Covariance Type:            nonrobust                                         \n",
       "=================================================================================================================\n",
       "                                                    coef    std err          z      P>|z|      [0.025      0.975]\n",
       "-----------------------------------------------------------------------------------------------------------------\n",
       "const                                            -0.0665      0.216     -0.307      0.759      -0.491       0.358\n",
       "Do Not Email                                     -1.4216      0.175     -8.126      0.000      -1.765      -1.079\n",
       "TotalVisits                                       1.1400      0.291      3.921      0.000       0.570       1.710\n",
       "Total Time Spent on Website                       4.5052      0.166     27.160      0.000       4.180       4.830\n",
       "Page Views Per Visit                             -0.7715      0.254     -3.036      0.002      -1.270      -0.273\n",
       "Lead_Origin_Landing Page Submission              -1.2863      0.125    -10.255      0.000      -1.532      -1.040\n",
       "Lead_Origin_Lead Add Form                         3.4648      0.234     14.790      0.000       3.006       3.924\n",
       "Lead_Source_Olark Chat                            1.1250      0.140      8.052      0.000       0.851       1.399\n",
       "Lead_Source_Welingak Website                      3.0661      1.033      2.969      0.003       1.042       5.090\n",
       "Last_Activity_Email Opened                        0.7146      0.165      4.322      0.000       0.391       1.039\n",
       "Last_Activity_Olark Chat Conversation            -1.0035      0.224     -4.484      0.000      -1.442      -0.565\n",
       "Last_Activity_SMS Sent                            0.8267      0.153      5.387      0.000       0.526       1.127\n",
       "Specialization_Unknown                           -1.5899      0.124    -12.779      0.000      -1.834      -1.346\n",
       "Last_Notable_Activity_Email Link Clicked         -1.1833      0.296     -4.004      0.000      -1.762      -0.604\n",
       "Last_Notable_Activity_Email Opened               -1.4430      0.192     -7.517      0.000      -1.819      -1.067\n",
       "Last_Notable_Activity_Modified                   -1.5147      0.135    -11.230      0.000      -1.779      -1.250\n",
       "Last_Notable_Activity_Olark Chat Conversation    -0.9416      0.376     -2.501      0.012      -1.679      -0.204\n",
       "Last_Notable_Activity_Page Visited on Website    -1.1620      0.255     -4.565      0.000      -1.661      -0.663\n",
       "Last_Notable_Activity_Unreachable                 1.0493      0.525      1.997      0.046       0.019       2.079\n",
       "=================================================================================================================\n",
       "\"\"\""
      ]
     },
     "execution_count": 187,
     "metadata": {},
     "output_type": "execute_result"
    }
   ],
   "source": [
    "X_train_sm = sm.add_constant(X_train[train_cols2])\n",
    "logm3 = sm.GLM(y_train,X_train_sm, family = sm.families.Binomial())\n",
    "res = logm3.fit()\n",
    "res.summary()"
   ]
  },
  {
   "cell_type": "markdown",
   "id": "f47b310f",
   "metadata": {},
   "source": [
    "Since, there is no given threshold for p-value with signifies the statistical relevance of the variables in the model. Wherein, higher the p-value, more insignificant is the variable. Hence, we drop the column with higher p-values in previous iterations.\n",
    "\n",
    "Consideting a maximum p-value threshold of 0.05, the model haas all the statistically relevant feature variables."
   ]
  },
  {
   "cell_type": "markdown",
   "id": "cc990c88",
   "metadata": {},
   "source": [
    "Checking the VIF of variables"
   ]
  },
  {
   "cell_type": "code",
   "execution_count": 188,
   "id": "5f2440b4",
   "metadata": {},
   "outputs": [
    {
     "data": {
      "text/html": [
       "<div>\n",
       "<style scoped>\n",
       "    .dataframe tbody tr th:only-of-type {\n",
       "        vertical-align: middle;\n",
       "    }\n",
       "\n",
       "    .dataframe tbody tr th {\n",
       "        vertical-align: top;\n",
       "    }\n",
       "\n",
       "    .dataframe thead th {\n",
       "        text-align: right;\n",
       "    }\n",
       "</style>\n",
       "<table border=\"1\" class=\"dataframe\">\n",
       "  <thead>\n",
       "    <tr style=\"text-align: right;\">\n",
       "      <th></th>\n",
       "      <th>Features</th>\n",
       "      <th>VIF</th>\n",
       "    </tr>\n",
       "  </thead>\n",
       "  <tbody>\n",
       "    <tr>\n",
       "      <th>13</th>\n",
       "      <td>Last_Notable_Activity_Email Opened</td>\n",
       "      <td>8.61</td>\n",
       "    </tr>\n",
       "    <tr>\n",
       "      <th>8</th>\n",
       "      <td>Last_Activity_Email Opened</td>\n",
       "      <td>8.32</td>\n",
       "    </tr>\n",
       "    <tr>\n",
       "      <th>3</th>\n",
       "      <td>Page Views Per Visit</td>\n",
       "      <td>6.55</td>\n",
       "    </tr>\n",
       "    <tr>\n",
       "      <th>4</th>\n",
       "      <td>Lead_Origin_Landing Page Submission</td>\n",
       "      <td>5.30</td>\n",
       "    </tr>\n",
       "    <tr>\n",
       "      <th>1</th>\n",
       "      <td>TotalVisits</td>\n",
       "      <td>4.94</td>\n",
       "    </tr>\n",
       "    <tr>\n",
       "      <th>14</th>\n",
       "      <td>Last_Notable_Activity_Modified</td>\n",
       "      <td>3.56</td>\n",
       "    </tr>\n",
       "    <tr>\n",
       "      <th>10</th>\n",
       "      <td>Last_Activity_SMS Sent</td>\n",
       "      <td>3.53</td>\n",
       "    </tr>\n",
       "    <tr>\n",
       "      <th>11</th>\n",
       "      <td>Specialization_Unknown</td>\n",
       "      <td>3.46</td>\n",
       "    </tr>\n",
       "    <tr>\n",
       "      <th>6</th>\n",
       "      <td>Lead_Source_Olark Chat</td>\n",
       "      <td>2.68</td>\n",
       "    </tr>\n",
       "    <tr>\n",
       "      <th>9</th>\n",
       "      <td>Last_Activity_Olark Chat Conversation</td>\n",
       "      <td>2.34</td>\n",
       "    </tr>\n",
       "    <tr>\n",
       "      <th>2</th>\n",
       "      <td>Total Time Spent on Website</td>\n",
       "      <td>2.16</td>\n",
       "    </tr>\n",
       "    <tr>\n",
       "      <th>5</th>\n",
       "      <td>Lead_Origin_Lead Add Form</td>\n",
       "      <td>1.87</td>\n",
       "    </tr>\n",
       "    <tr>\n",
       "      <th>15</th>\n",
       "      <td>Last_Notable_Activity_Olark Chat Conversation</td>\n",
       "      <td>1.44</td>\n",
       "    </tr>\n",
       "    <tr>\n",
       "      <th>16</th>\n",
       "      <td>Last_Notable_Activity_Page Visited on Website</td>\n",
       "      <td>1.42</td>\n",
       "    </tr>\n",
       "    <tr>\n",
       "      <th>7</th>\n",
       "      <td>Lead_Source_Welingak Website</td>\n",
       "      <td>1.32</td>\n",
       "    </tr>\n",
       "    <tr>\n",
       "      <th>0</th>\n",
       "      <td>Do Not Email</td>\n",
       "      <td>1.24</td>\n",
       "    </tr>\n",
       "    <tr>\n",
       "      <th>12</th>\n",
       "      <td>Last_Notable_Activity_Email Link Clicked</td>\n",
       "      <td>1.21</td>\n",
       "    </tr>\n",
       "    <tr>\n",
       "      <th>17</th>\n",
       "      <td>Last_Notable_Activity_Unreachable</td>\n",
       "      <td>1.04</td>\n",
       "    </tr>\n",
       "  </tbody>\n",
       "</table>\n",
       "</div>"
      ],
      "text/plain": [
       "                                         Features   VIF\n",
       "13             Last_Notable_Activity_Email Opened  8.61\n",
       "8                      Last_Activity_Email Opened  8.32\n",
       "3                            Page Views Per Visit  6.55\n",
       "4             Lead_Origin_Landing Page Submission  5.30\n",
       "1                                     TotalVisits  4.94\n",
       "14                 Last_Notable_Activity_Modified  3.56\n",
       "10                         Last_Activity_SMS Sent  3.53\n",
       "11                         Specialization_Unknown  3.46\n",
       "6                          Lead_Source_Olark Chat  2.68\n",
       "9           Last_Activity_Olark Chat Conversation  2.34\n",
       "2                     Total Time Spent on Website  2.16\n",
       "5                       Lead_Origin_Lead Add Form  1.87\n",
       "15  Last_Notable_Activity_Olark Chat Conversation  1.44\n",
       "16  Last_Notable_Activity_Page Visited on Website  1.42\n",
       "7                    Lead_Source_Welingak Website  1.32\n",
       "0                                    Do Not Email  1.24\n",
       "12       Last_Notable_Activity_Email Link Clicked  1.21\n",
       "17              Last_Notable_Activity_Unreachable  1.04"
      ]
     },
     "execution_count": 188,
     "metadata": {},
     "output_type": "execute_result"
    }
   ],
   "source": [
    "#create a dataframe that will contain the names of all the feature variables and their respective VIFs\n",
    "vif = pd.DataFrame()\n",
    "\n",
    "#get feature names\n",
    "vif['Features'] = train_cols2\n",
    "\n",
    "#get VIF scores\n",
    "vif['VIF'] = [round(variance_inflation_factor(X_train[train_cols2].values, i),2) for i in range(X_train[train_cols2].shape[1])]\n",
    "\n",
    "#sort the dataframe by VIF values\n",
    "vif = vif.sort_values(by='VIF', ascending=False)\n",
    "\n",
    "#print\n",
    "vif"
   ]
  },
  {
   "cell_type": "markdown",
   "id": "29c8e27a",
   "metadata": {},
   "source": [
    "Dropping highest VIF variable, as it means that is is quite well explained by other feature variables in the model due to presence of high multi-collinearity"
   ]
  },
  {
   "cell_type": "code",
   "execution_count": 189,
   "id": "c6c76213",
   "metadata": {},
   "outputs": [
    {
     "name": "stdout",
     "output_type": "stream",
     "text": [
      "1\n"
     ]
    }
   ],
   "source": [
    "train_cols3 = train_cols2.drop('Last_Notable_Activity_Email Opened')\n",
    "\n",
    "#verify\n",
    "print(len(train_cols2) - len(train_cols3))"
   ]
  },
  {
   "cell_type": "markdown",
   "id": "3b8976f4",
   "metadata": {},
   "source": [
    "Model - 4"
   ]
  },
  {
   "cell_type": "code",
   "execution_count": 190,
   "id": "d4db889b",
   "metadata": {
    "scrolled": true
   },
   "outputs": [
    {
     "data": {
      "text/html": [
       "<table class=\"simpletable\">\n",
       "<caption>Generalized Linear Model Regression Results</caption>\n",
       "<tr>\n",
       "  <th>Dep. Variable:</th>       <td>Converted</td>    <th>  No. Observations:  </th>  <td>  6259</td> \n",
       "</tr>\n",
       "<tr>\n",
       "  <th>Model:</th>                  <td>GLM</td>       <th>  Df Residuals:      </th>  <td>  6241</td> \n",
       "</tr>\n",
       "<tr>\n",
       "  <th>Model Family:</th>        <td>Binomial</td>     <th>  Df Model:          </th>  <td>    17</td> \n",
       "</tr>\n",
       "<tr>\n",
       "  <th>Link Function:</th>         <td>Logit</td>      <th>  Scale:             </th> <td>  1.0000</td>\n",
       "</tr>\n",
       "<tr>\n",
       "  <th>Method:</th>                <td>IRLS</td>       <th>  Log-Likelihood:    </th> <td> -2688.8</td>\n",
       "</tr>\n",
       "<tr>\n",
       "  <th>Date:</th>            <td>Tue, 18 Jul 2023</td> <th>  Deviance:          </th> <td>  5377.5</td>\n",
       "</tr>\n",
       "<tr>\n",
       "  <th>Time:</th>                <td>00:20:54</td>     <th>  Pearson chi2:      </th> <td>6.25e+03</td>\n",
       "</tr>\n",
       "<tr>\n",
       "  <th>No. Iterations:</th>          <td>7</td>        <th>  Pseudo R-squ. (CS):</th>  <td>0.3794</td> \n",
       "</tr>\n",
       "<tr>\n",
       "  <th>Covariance Type:</th>     <td>nonrobust</td>    <th>                     </th>     <td> </td>   \n",
       "</tr>\n",
       "</table>\n",
       "<table class=\"simpletable\">\n",
       "<tr>\n",
       "                        <td></td>                           <th>coef</th>     <th>std err</th>      <th>z</th>      <th>P>|z|</th>  <th>[0.025</th>    <th>0.975]</th>  \n",
       "</tr>\n",
       "<tr>\n",
       "  <th>const</th>                                         <td>   -0.7151</td> <td>    0.197</td> <td>   -3.624</td> <td> 0.000</td> <td>   -1.102</td> <td>   -0.328</td>\n",
       "</tr>\n",
       "<tr>\n",
       "  <th>Do Not Email</th>                                  <td>   -1.2830</td> <td>    0.171</td> <td>   -7.495</td> <td> 0.000</td> <td>   -1.618</td> <td>   -0.947</td>\n",
       "</tr>\n",
       "<tr>\n",
       "  <th>TotalVisits</th>                                   <td>    1.1272</td> <td>    0.290</td> <td>    3.890</td> <td> 0.000</td> <td>    0.559</td> <td>    1.695</td>\n",
       "</tr>\n",
       "<tr>\n",
       "  <th>Total Time Spent on Website</th>                   <td>    4.5212</td> <td>    0.165</td> <td>   27.365</td> <td> 0.000</td> <td>    4.197</td> <td>    4.845</td>\n",
       "</tr>\n",
       "<tr>\n",
       "  <th>Page Views Per Visit</th>                          <td>   -0.7275</td> <td>    0.252</td> <td>   -2.888</td> <td> 0.004</td> <td>   -1.221</td> <td>   -0.234</td>\n",
       "</tr>\n",
       "<tr>\n",
       "  <th>Lead_Origin_Landing Page Submission</th>           <td>   -1.2807</td> <td>    0.125</td> <td>  -10.231</td> <td> 0.000</td> <td>   -1.526</td> <td>   -1.035</td>\n",
       "</tr>\n",
       "<tr>\n",
       "  <th>Lead_Origin_Lead Add Form</th>                     <td>    3.5013</td> <td>    0.234</td> <td>   14.977</td> <td> 0.000</td> <td>    3.043</td> <td>    3.959</td>\n",
       "</tr>\n",
       "<tr>\n",
       "  <th>Lead_Source_Olark Chat</th>                        <td>    1.1602</td> <td>    0.139</td> <td>    8.334</td> <td> 0.000</td> <td>    0.887</td> <td>    1.433</td>\n",
       "</tr>\n",
       "<tr>\n",
       "  <th>Lead_Source_Welingak Website</th>                  <td>    2.9509</td> <td>    1.032</td> <td>    2.860</td> <td> 0.004</td> <td>    0.929</td> <td>    4.973</td>\n",
       "</tr>\n",
       "<tr>\n",
       "  <th>Last_Activity_Email Opened</th>                    <td>    0.0118</td> <td>    0.142</td> <td>    0.083</td> <td> 0.934</td> <td>   -0.266</td> <td>    0.289</td>\n",
       "</tr>\n",
       "<tr>\n",
       "  <th>Last_Activity_Olark Chat Conversation</th>         <td>   -1.0711</td> <td>    0.223</td> <td>   -4.804</td> <td> 0.000</td> <td>   -1.508</td> <td>   -0.634</td>\n",
       "</tr>\n",
       "<tr>\n",
       "  <th>Last_Activity_SMS Sent</th>                        <td>    1.2962</td> <td>    0.138</td> <td>    9.381</td> <td> 0.000</td> <td>    1.025</td> <td>    1.567</td>\n",
       "</tr>\n",
       "<tr>\n",
       "  <th>Specialization_Unknown</th>                        <td>   -1.5682</td> <td>    0.124</td> <td>  -12.634</td> <td> 0.000</td> <td>   -1.812</td> <td>   -1.325</td>\n",
       "</tr>\n",
       "<tr>\n",
       "  <th>Last_Notable_Activity_Email Link Clicked</th>      <td>   -0.5696</td> <td>    0.283</td> <td>   -2.014</td> <td> 0.044</td> <td>   -1.124</td> <td>   -0.015</td>\n",
       "</tr>\n",
       "<tr>\n",
       "  <th>Last_Notable_Activity_Modified</th>                <td>   -0.8449</td> <td>    0.098</td> <td>   -8.604</td> <td> 0.000</td> <td>   -1.037</td> <td>   -0.652</td>\n",
       "</tr>\n",
       "<tr>\n",
       "  <th>Last_Notable_Activity_Olark Chat Conversation</th> <td>   -0.2718</td> <td>    0.364</td> <td>   -0.746</td> <td> 0.456</td> <td>   -0.986</td> <td>    0.442</td>\n",
       "</tr>\n",
       "<tr>\n",
       "  <th>Last_Notable_Activity_Page Visited on Website</th> <td>   -0.5441</td> <td>    0.239</td> <td>   -2.272</td> <td> 0.023</td> <td>   -1.013</td> <td>   -0.075</td>\n",
       "</tr>\n",
       "<tr>\n",
       "  <th>Last_Notable_Activity_Unreachable</th>             <td>    1.6658</td> <td>    0.518</td> <td>    3.217</td> <td> 0.001</td> <td>    0.651</td> <td>    2.681</td>\n",
       "</tr>\n",
       "</table>"
      ],
      "text/plain": [
       "<class 'statsmodels.iolib.summary.Summary'>\n",
       "\"\"\"\n",
       "                 Generalized Linear Model Regression Results                  \n",
       "==============================================================================\n",
       "Dep. Variable:              Converted   No. Observations:                 6259\n",
       "Model:                            GLM   Df Residuals:                     6241\n",
       "Model Family:                Binomial   Df Model:                           17\n",
       "Link Function:                  Logit   Scale:                          1.0000\n",
       "Method:                          IRLS   Log-Likelihood:                -2688.8\n",
       "Date:                Tue, 18 Jul 2023   Deviance:                       5377.5\n",
       "Time:                        00:20:54   Pearson chi2:                 6.25e+03\n",
       "No. Iterations:                     7   Pseudo R-squ. (CS):             0.3794\n",
       "Covariance Type:            nonrobust                                         \n",
       "=================================================================================================================\n",
       "                                                    coef    std err          z      P>|z|      [0.025      0.975]\n",
       "-----------------------------------------------------------------------------------------------------------------\n",
       "const                                            -0.7151      0.197     -3.624      0.000      -1.102      -0.328\n",
       "Do Not Email                                     -1.2830      0.171     -7.495      0.000      -1.618      -0.947\n",
       "TotalVisits                                       1.1272      0.290      3.890      0.000       0.559       1.695\n",
       "Total Time Spent on Website                       4.5212      0.165     27.365      0.000       4.197       4.845\n",
       "Page Views Per Visit                             -0.7275      0.252     -2.888      0.004      -1.221      -0.234\n",
       "Lead_Origin_Landing Page Submission              -1.2807      0.125    -10.231      0.000      -1.526      -1.035\n",
       "Lead_Origin_Lead Add Form                         3.5013      0.234     14.977      0.000       3.043       3.959\n",
       "Lead_Source_Olark Chat                            1.1602      0.139      8.334      0.000       0.887       1.433\n",
       "Lead_Source_Welingak Website                      2.9509      1.032      2.860      0.004       0.929       4.973\n",
       "Last_Activity_Email Opened                        0.0118      0.142      0.083      0.934      -0.266       0.289\n",
       "Last_Activity_Olark Chat Conversation            -1.0711      0.223     -4.804      0.000      -1.508      -0.634\n",
       "Last_Activity_SMS Sent                            1.2962      0.138      9.381      0.000       1.025       1.567\n",
       "Specialization_Unknown                           -1.5682      0.124    -12.634      0.000      -1.812      -1.325\n",
       "Last_Notable_Activity_Email Link Clicked         -0.5696      0.283     -2.014      0.044      -1.124      -0.015\n",
       "Last_Notable_Activity_Modified                   -0.8449      0.098     -8.604      0.000      -1.037      -0.652\n",
       "Last_Notable_Activity_Olark Chat Conversation    -0.2718      0.364     -0.746      0.456      -0.986       0.442\n",
       "Last_Notable_Activity_Page Visited on Website    -0.5441      0.239     -2.272      0.023      -1.013      -0.075\n",
       "Last_Notable_Activity_Unreachable                 1.6658      0.518      3.217      0.001       0.651       2.681\n",
       "=================================================================================================================\n",
       "\"\"\""
      ]
     },
     "execution_count": 190,
     "metadata": {},
     "output_type": "execute_result"
    }
   ],
   "source": [
    "X_train_sm = sm.add_constant(X_train[train_cols3])\n",
    "logm4 = sm.GLM(y_train,X_train_sm, family = sm.families.Binomial())\n",
    "res = logm4.fit()\n",
    "res.summary()"
   ]
  },
  {
   "cell_type": "code",
   "execution_count": 191,
   "id": "ce05f6db",
   "metadata": {
    "scrolled": true
   },
   "outputs": [
    {
     "data": {
      "text/html": [
       "<div>\n",
       "<style scoped>\n",
       "    .dataframe tbody tr th:only-of-type {\n",
       "        vertical-align: middle;\n",
       "    }\n",
       "\n",
       "    .dataframe tbody tr th {\n",
       "        vertical-align: top;\n",
       "    }\n",
       "\n",
       "    .dataframe thead th {\n",
       "        text-align: right;\n",
       "    }\n",
       "</style>\n",
       "<table border=\"1\" class=\"dataframe\">\n",
       "  <thead>\n",
       "    <tr style=\"text-align: right;\">\n",
       "      <th></th>\n",
       "      <th>Features</th>\n",
       "      <th>VIF</th>\n",
       "    </tr>\n",
       "  </thead>\n",
       "  <tbody>\n",
       "    <tr>\n",
       "      <th>3</th>\n",
       "      <td>Page Views Per Visit</td>\n",
       "      <td>6.51</td>\n",
       "    </tr>\n",
       "    <tr>\n",
       "      <th>1</th>\n",
       "      <td>TotalVisits</td>\n",
       "      <td>4.92</td>\n",
       "    </tr>\n",
       "    <tr>\n",
       "      <th>4</th>\n",
       "      <td>Lead_Origin_Landing Page Submission</td>\n",
       "      <td>4.89</td>\n",
       "    </tr>\n",
       "    <tr>\n",
       "      <th>8</th>\n",
       "      <td>Last_Activity_Email Opened</td>\n",
       "      <td>3.81</td>\n",
       "    </tr>\n",
       "    <tr>\n",
       "      <th>10</th>\n",
       "      <td>Last_Activity_SMS Sent</td>\n",
       "      <td>3.31</td>\n",
       "    </tr>\n",
       "    <tr>\n",
       "      <th>11</th>\n",
       "      <td>Specialization_Unknown</td>\n",
       "      <td>3.27</td>\n",
       "    </tr>\n",
       "    <tr>\n",
       "      <th>6</th>\n",
       "      <td>Lead_Source_Olark Chat</td>\n",
       "      <td>2.63</td>\n",
       "    </tr>\n",
       "    <tr>\n",
       "      <th>13</th>\n",
       "      <td>Last_Notable_Activity_Modified</td>\n",
       "      <td>2.32</td>\n",
       "    </tr>\n",
       "    <tr>\n",
       "      <th>9</th>\n",
       "      <td>Last_Activity_Olark Chat Conversation</td>\n",
       "      <td>2.29</td>\n",
       "    </tr>\n",
       "    <tr>\n",
       "      <th>2</th>\n",
       "      <td>Total Time Spent on Website</td>\n",
       "      <td>2.16</td>\n",
       "    </tr>\n",
       "    <tr>\n",
       "      <th>5</th>\n",
       "      <td>Lead_Origin_Lead Add Form</td>\n",
       "      <td>1.81</td>\n",
       "    </tr>\n",
       "    <tr>\n",
       "      <th>14</th>\n",
       "      <td>Last_Notable_Activity_Olark Chat Conversation</td>\n",
       "      <td>1.37</td>\n",
       "    </tr>\n",
       "    <tr>\n",
       "      <th>15</th>\n",
       "      <td>Last_Notable_Activity_Page Visited on Website</td>\n",
       "      <td>1.37</td>\n",
       "    </tr>\n",
       "    <tr>\n",
       "      <th>7</th>\n",
       "      <td>Lead_Source_Welingak Website</td>\n",
       "      <td>1.32</td>\n",
       "    </tr>\n",
       "    <tr>\n",
       "      <th>0</th>\n",
       "      <td>Do Not Email</td>\n",
       "      <td>1.24</td>\n",
       "    </tr>\n",
       "    <tr>\n",
       "      <th>12</th>\n",
       "      <td>Last_Notable_Activity_Email Link Clicked</td>\n",
       "      <td>1.18</td>\n",
       "    </tr>\n",
       "    <tr>\n",
       "      <th>16</th>\n",
       "      <td>Last_Notable_Activity_Unreachable</td>\n",
       "      <td>1.03</td>\n",
       "    </tr>\n",
       "  </tbody>\n",
       "</table>\n",
       "</div>"
      ],
      "text/plain": [
       "                                         Features   VIF\n",
       "3                            Page Views Per Visit  6.51\n",
       "1                                     TotalVisits  4.92\n",
       "4             Lead_Origin_Landing Page Submission  4.89\n",
       "8                      Last_Activity_Email Opened  3.81\n",
       "10                         Last_Activity_SMS Sent  3.31\n",
       "11                         Specialization_Unknown  3.27\n",
       "6                          Lead_Source_Olark Chat  2.63\n",
       "13                 Last_Notable_Activity_Modified  2.32\n",
       "9           Last_Activity_Olark Chat Conversation  2.29\n",
       "2                     Total Time Spent on Website  2.16\n",
       "5                       Lead_Origin_Lead Add Form  1.81\n",
       "14  Last_Notable_Activity_Olark Chat Conversation  1.37\n",
       "15  Last_Notable_Activity_Page Visited on Website  1.37\n",
       "7                    Lead_Source_Welingak Website  1.32\n",
       "0                                    Do Not Email  1.24\n",
       "12       Last_Notable_Activity_Email Link Clicked  1.18\n",
       "16              Last_Notable_Activity_Unreachable  1.03"
      ]
     },
     "execution_count": 191,
     "metadata": {},
     "output_type": "execute_result"
    }
   ],
   "source": [
    "#Checking VIF's as well\n",
    "\n",
    "#create a dataframe that will contain the names of all the feature variables and their respective VIFs\n",
    "vif = pd.DataFrame()\n",
    "\n",
    "#get feature names\n",
    "vif['Features'] = train_cols3\n",
    "\n",
    "#get VIF scores\n",
    "vif['VIF'] = [round(variance_inflation_factor(X_train[train_cols3].values, i),2) for i in range(X_train[train_cols3].shape[1])]\n",
    "\n",
    "#sort the dataframe by VIF values\n",
    "vif = vif.sort_values(by='VIF', ascending=False)\n",
    "\n",
    "#print\n",
    "vif"
   ]
  },
  {
   "cell_type": "markdown",
   "id": "6b323f29",
   "metadata": {},
   "source": [
    "Page Views Per Visit = high VIF and low p-value = multicollinearity existes but is statistically relevant\n",
    "\n",
    "Last_Activity_Email Opened = low VIF and high p-value = multicollinearity does not existes but is statistically irrelevant\n",
    "\n",
    "Multicollinearity can cause unstable estimates and inflated standard errors, leading to difficulties in interpreting the individual effect of the variable. Hence, dropping 'Page Views Per Visit'"
   ]
  },
  {
   "cell_type": "code",
   "execution_count": 192,
   "id": "f7c54fec",
   "metadata": {},
   "outputs": [
    {
     "name": "stdout",
     "output_type": "stream",
     "text": [
      "1\n"
     ]
    }
   ],
   "source": [
    "#dropping 'Page Views Per Visit' due to high p-value as well as high VIF\n",
    "\n",
    "train_cols4 = train_cols3.drop('Page Views Per Visit')\n",
    "\n",
    "#verify\n",
    "print(len(train_cols3) - len(train_cols4))"
   ]
  },
  {
   "cell_type": "markdown",
   "id": "a8c0151c",
   "metadata": {},
   "source": [
    "Model - 5"
   ]
  },
  {
   "cell_type": "code",
   "execution_count": 193,
   "id": "4c70fd76",
   "metadata": {},
   "outputs": [
    {
     "data": {
      "text/html": [
       "<table class=\"simpletable\">\n",
       "<caption>Generalized Linear Model Regression Results</caption>\n",
       "<tr>\n",
       "  <th>Dep. Variable:</th>       <td>Converted</td>    <th>  No. Observations:  </th>  <td>  6259</td> \n",
       "</tr>\n",
       "<tr>\n",
       "  <th>Model:</th>                  <td>GLM</td>       <th>  Df Residuals:      </th>  <td>  6242</td> \n",
       "</tr>\n",
       "<tr>\n",
       "  <th>Model Family:</th>        <td>Binomial</td>     <th>  Df Model:          </th>  <td>    16</td> \n",
       "</tr>\n",
       "<tr>\n",
       "  <th>Link Function:</th>         <td>Logit</td>      <th>  Scale:             </th> <td>  1.0000</td>\n",
       "</tr>\n",
       "<tr>\n",
       "  <th>Method:</th>                <td>IRLS</td>       <th>  Log-Likelihood:    </th> <td> -2693.0</td>\n",
       "</tr>\n",
       "<tr>\n",
       "  <th>Date:</th>            <td>Tue, 18 Jul 2023</td> <th>  Deviance:          </th> <td>  5385.9</td>\n",
       "</tr>\n",
       "<tr>\n",
       "  <th>Time:</th>                <td>00:20:54</td>     <th>  Pearson chi2:      </th> <td>6.25e+03</td>\n",
       "</tr>\n",
       "<tr>\n",
       "  <th>No. Iterations:</th>          <td>7</td>        <th>  Pseudo R-squ. (CS):</th>  <td>0.3785</td> \n",
       "</tr>\n",
       "<tr>\n",
       "  <th>Covariance Type:</th>     <td>nonrobust</td>    <th>                     </th>     <td> </td>   \n",
       "</tr>\n",
       "</table>\n",
       "<table class=\"simpletable\">\n",
       "<tr>\n",
       "                        <td></td>                           <th>coef</th>     <th>std err</th>      <th>z</th>      <th>P>|z|</th>  <th>[0.025</th>    <th>0.975]</th>  \n",
       "</tr>\n",
       "<tr>\n",
       "  <th>const</th>                                         <td>   -0.8378</td> <td>    0.193</td> <td>   -4.346</td> <td> 0.000</td> <td>   -1.216</td> <td>   -0.460</td>\n",
       "</tr>\n",
       "<tr>\n",
       "  <th>Do Not Email</th>                                  <td>   -1.3030</td> <td>    0.171</td> <td>   -7.615</td> <td> 0.000</td> <td>   -1.638</td> <td>   -0.968</td>\n",
       "</tr>\n",
       "<tr>\n",
       "  <th>TotalVisits</th>                                   <td>    0.7204</td> <td>    0.252</td> <td>    2.853</td> <td> 0.004</td> <td>    0.226</td> <td>    1.215</td>\n",
       "</tr>\n",
       "<tr>\n",
       "  <th>Total Time Spent on Website</th>                   <td>    4.5286</td> <td>    0.165</td> <td>   27.402</td> <td> 0.000</td> <td>    4.205</td> <td>    4.853</td>\n",
       "</tr>\n",
       "<tr>\n",
       "  <th>Lead_Origin_Landing Page Submission</th>           <td>   -1.3090</td> <td>    0.125</td> <td>  -10.498</td> <td> 0.000</td> <td>   -1.553</td> <td>   -1.065</td>\n",
       "</tr>\n",
       "<tr>\n",
       "  <th>Lead_Origin_Lead Add Form</th>                     <td>    3.6375</td> <td>    0.229</td> <td>   15.871</td> <td> 0.000</td> <td>    3.188</td> <td>    4.087</td>\n",
       "</tr>\n",
       "<tr>\n",
       "  <th>Lead_Source_Olark Chat</th>                        <td>    1.2842</td> <td>    0.133</td> <td>    9.671</td> <td> 0.000</td> <td>    1.024</td> <td>    1.544</td>\n",
       "</tr>\n",
       "<tr>\n",
       "  <th>Lead_Source_Welingak Website</th>                  <td>    2.9443</td> <td>    1.032</td> <td>    2.854</td> <td> 0.004</td> <td>    0.922</td> <td>    4.966</td>\n",
       "</tr>\n",
       "<tr>\n",
       "  <th>Last_Activity_Email Opened</th>                    <td>   -0.0110</td> <td>    0.141</td> <td>   -0.078</td> <td> 0.938</td> <td>   -0.288</td> <td>    0.266</td>\n",
       "</tr>\n",
       "<tr>\n",
       "  <th>Last_Activity_Olark Chat Conversation</th>         <td>   -1.0840</td> <td>    0.223</td> <td>   -4.867</td> <td> 0.000</td> <td>   -1.520</td> <td>   -0.647</td>\n",
       "</tr>\n",
       "<tr>\n",
       "  <th>Last_Activity_SMS Sent</th>                        <td>    1.2629</td> <td>    0.138</td> <td>    9.174</td> <td> 0.000</td> <td>    0.993</td> <td>    1.533</td>\n",
       "</tr>\n",
       "<tr>\n",
       "  <th>Specialization_Unknown</th>                        <td>   -1.5488</td> <td>    0.124</td> <td>  -12.509</td> <td> 0.000</td> <td>   -1.791</td> <td>   -1.306</td>\n",
       "</tr>\n",
       "<tr>\n",
       "  <th>Last_Notable_Activity_Email Link Clicked</th>      <td>   -0.5757</td> <td>    0.282</td> <td>   -2.043</td> <td> 0.041</td> <td>   -1.128</td> <td>   -0.023</td>\n",
       "</tr>\n",
       "<tr>\n",
       "  <th>Last_Notable_Activity_Modified</th>                <td>   -0.8473</td> <td>    0.098</td> <td>   -8.635</td> <td> 0.000</td> <td>   -1.040</td> <td>   -0.655</td>\n",
       "</tr>\n",
       "<tr>\n",
       "  <th>Last_Notable_Activity_Olark Chat Conversation</th> <td>   -0.2549</td> <td>    0.364</td> <td>   -0.701</td> <td> 0.483</td> <td>   -0.967</td> <td>    0.458</td>\n",
       "</tr>\n",
       "<tr>\n",
       "  <th>Last_Notable_Activity_Page Visited on Website</th> <td>   -0.4745</td> <td>    0.238</td> <td>   -1.995</td> <td> 0.046</td> <td>   -0.941</td> <td>   -0.008</td>\n",
       "</tr>\n",
       "<tr>\n",
       "  <th>Last_Notable_Activity_Unreachable</th>             <td>    1.6336</td> <td>    0.520</td> <td>    3.141</td> <td> 0.002</td> <td>    0.614</td> <td>    2.653</td>\n",
       "</tr>\n",
       "</table>"
      ],
      "text/plain": [
       "<class 'statsmodels.iolib.summary.Summary'>\n",
       "\"\"\"\n",
       "                 Generalized Linear Model Regression Results                  \n",
       "==============================================================================\n",
       "Dep. Variable:              Converted   No. Observations:                 6259\n",
       "Model:                            GLM   Df Residuals:                     6242\n",
       "Model Family:                Binomial   Df Model:                           16\n",
       "Link Function:                  Logit   Scale:                          1.0000\n",
       "Method:                          IRLS   Log-Likelihood:                -2693.0\n",
       "Date:                Tue, 18 Jul 2023   Deviance:                       5385.9\n",
       "Time:                        00:20:54   Pearson chi2:                 6.25e+03\n",
       "No. Iterations:                     7   Pseudo R-squ. (CS):             0.3785\n",
       "Covariance Type:            nonrobust                                         \n",
       "=================================================================================================================\n",
       "                                                    coef    std err          z      P>|z|      [0.025      0.975]\n",
       "-----------------------------------------------------------------------------------------------------------------\n",
       "const                                            -0.8378      0.193     -4.346      0.000      -1.216      -0.460\n",
       "Do Not Email                                     -1.3030      0.171     -7.615      0.000      -1.638      -0.968\n",
       "TotalVisits                                       0.7204      0.252      2.853      0.004       0.226       1.215\n",
       "Total Time Spent on Website                       4.5286      0.165     27.402      0.000       4.205       4.853\n",
       "Lead_Origin_Landing Page Submission              -1.3090      0.125    -10.498      0.000      -1.553      -1.065\n",
       "Lead_Origin_Lead Add Form                         3.6375      0.229     15.871      0.000       3.188       4.087\n",
       "Lead_Source_Olark Chat                            1.2842      0.133      9.671      0.000       1.024       1.544\n",
       "Lead_Source_Welingak Website                      2.9443      1.032      2.854      0.004       0.922       4.966\n",
       "Last_Activity_Email Opened                       -0.0110      0.141     -0.078      0.938      -0.288       0.266\n",
       "Last_Activity_Olark Chat Conversation            -1.0840      0.223     -4.867      0.000      -1.520      -0.647\n",
       "Last_Activity_SMS Sent                            1.2629      0.138      9.174      0.000       0.993       1.533\n",
       "Specialization_Unknown                           -1.5488      0.124    -12.509      0.000      -1.791      -1.306\n",
       "Last_Notable_Activity_Email Link Clicked         -0.5757      0.282     -2.043      0.041      -1.128      -0.023\n",
       "Last_Notable_Activity_Modified                   -0.8473      0.098     -8.635      0.000      -1.040      -0.655\n",
       "Last_Notable_Activity_Olark Chat Conversation    -0.2549      0.364     -0.701      0.483      -0.967       0.458\n",
       "Last_Notable_Activity_Page Visited on Website    -0.4745      0.238     -1.995      0.046      -0.941      -0.008\n",
       "Last_Notable_Activity_Unreachable                 1.6336      0.520      3.141      0.002       0.614       2.653\n",
       "=================================================================================================================\n",
       "\"\"\""
      ]
     },
     "execution_count": 193,
     "metadata": {},
     "output_type": "execute_result"
    }
   ],
   "source": [
    "X_train_sm = sm.add_constant(X_train[train_cols4])\n",
    "logm5 = sm.GLM(y_train,X_train_sm, family = sm.families.Binomial())\n",
    "res = logm5.fit()\n",
    "res.summary()"
   ]
  },
  {
   "cell_type": "code",
   "execution_count": 194,
   "id": "47639c30",
   "metadata": {},
   "outputs": [
    {
     "data": {
      "text/html": [
       "<div>\n",
       "<style scoped>\n",
       "    .dataframe tbody tr th:only-of-type {\n",
       "        vertical-align: middle;\n",
       "    }\n",
       "\n",
       "    .dataframe tbody tr th {\n",
       "        vertical-align: top;\n",
       "    }\n",
       "\n",
       "    .dataframe thead th {\n",
       "        text-align: right;\n",
       "    }\n",
       "</style>\n",
       "<table border=\"1\" class=\"dataframe\">\n",
       "  <thead>\n",
       "    <tr style=\"text-align: right;\">\n",
       "      <th></th>\n",
       "      <th>Features</th>\n",
       "      <th>VIF</th>\n",
       "    </tr>\n",
       "  </thead>\n",
       "  <tbody>\n",
       "    <tr>\n",
       "      <th>3</th>\n",
       "      <td>Lead_Origin_Landing Page Submission</td>\n",
       "      <td>4.58</td>\n",
       "    </tr>\n",
       "    <tr>\n",
       "      <th>7</th>\n",
       "      <td>Last_Activity_Email Opened</td>\n",
       "      <td>3.61</td>\n",
       "    </tr>\n",
       "    <tr>\n",
       "      <th>1</th>\n",
       "      <td>TotalVisits</td>\n",
       "      <td>3.35</td>\n",
       "    </tr>\n",
       "    <tr>\n",
       "      <th>10</th>\n",
       "      <td>Specialization_Unknown</td>\n",
       "      <td>3.25</td>\n",
       "    </tr>\n",
       "    <tr>\n",
       "      <th>9</th>\n",
       "      <td>Last_Activity_SMS Sent</td>\n",
       "      <td>3.12</td>\n",
       "    </tr>\n",
       "    <tr>\n",
       "      <th>5</th>\n",
       "      <td>Lead_Source_Olark Chat</td>\n",
       "      <td>2.47</td>\n",
       "    </tr>\n",
       "    <tr>\n",
       "      <th>12</th>\n",
       "      <td>Last_Notable_Activity_Modified</td>\n",
       "      <td>2.28</td>\n",
       "    </tr>\n",
       "    <tr>\n",
       "      <th>8</th>\n",
       "      <td>Last_Activity_Olark Chat Conversation</td>\n",
       "      <td>2.27</td>\n",
       "    </tr>\n",
       "    <tr>\n",
       "      <th>2</th>\n",
       "      <td>Total Time Spent on Website</td>\n",
       "      <td>2.15</td>\n",
       "    </tr>\n",
       "    <tr>\n",
       "      <th>4</th>\n",
       "      <td>Lead_Origin_Lead Add Form</td>\n",
       "      <td>1.76</td>\n",
       "    </tr>\n",
       "    <tr>\n",
       "      <th>13</th>\n",
       "      <td>Last_Notable_Activity_Olark Chat Conversation</td>\n",
       "      <td>1.37</td>\n",
       "    </tr>\n",
       "    <tr>\n",
       "      <th>14</th>\n",
       "      <td>Last_Notable_Activity_Page Visited on Website</td>\n",
       "      <td>1.37</td>\n",
       "    </tr>\n",
       "    <tr>\n",
       "      <th>6</th>\n",
       "      <td>Lead_Source_Welingak Website</td>\n",
       "      <td>1.32</td>\n",
       "    </tr>\n",
       "    <tr>\n",
       "      <th>0</th>\n",
       "      <td>Do Not Email</td>\n",
       "      <td>1.23</td>\n",
       "    </tr>\n",
       "    <tr>\n",
       "      <th>11</th>\n",
       "      <td>Last_Notable_Activity_Email Link Clicked</td>\n",
       "      <td>1.17</td>\n",
       "    </tr>\n",
       "    <tr>\n",
       "      <th>15</th>\n",
       "      <td>Last_Notable_Activity_Unreachable</td>\n",
       "      <td>1.03</td>\n",
       "    </tr>\n",
       "  </tbody>\n",
       "</table>\n",
       "</div>"
      ],
      "text/plain": [
       "                                         Features   VIF\n",
       "3             Lead_Origin_Landing Page Submission  4.58\n",
       "7                      Last_Activity_Email Opened  3.61\n",
       "1                                     TotalVisits  3.35\n",
       "10                         Specialization_Unknown  3.25\n",
       "9                          Last_Activity_SMS Sent  3.12\n",
       "5                          Lead_Source_Olark Chat  2.47\n",
       "12                 Last_Notable_Activity_Modified  2.28\n",
       "8           Last_Activity_Olark Chat Conversation  2.27\n",
       "2                     Total Time Spent on Website  2.15\n",
       "4                       Lead_Origin_Lead Add Form  1.76\n",
       "13  Last_Notable_Activity_Olark Chat Conversation  1.37\n",
       "14  Last_Notable_Activity_Page Visited on Website  1.37\n",
       "6                    Lead_Source_Welingak Website  1.32\n",
       "0                                    Do Not Email  1.23\n",
       "11       Last_Notable_Activity_Email Link Clicked  1.17\n",
       "15              Last_Notable_Activity_Unreachable  1.03"
      ]
     },
     "execution_count": 194,
     "metadata": {},
     "output_type": "execute_result"
    }
   ],
   "source": [
    "#Checking VIF's as well\n",
    "\n",
    "#create a dataframe that will contain the names of all the feature variables and their respective VIFs\n",
    "vif = pd.DataFrame()\n",
    "\n",
    "#get feature names\n",
    "vif['Features'] = train_cols4\n",
    "\n",
    "#get VIF scores\n",
    "vif['VIF'] = [round(variance_inflation_factor(X_train[train_cols4].values, i),2) for i in range(X_train[train_cols4].shape[1])]\n",
    "\n",
    "#sort the dataframe by VIF values\n",
    "vif = vif.sort_values(by='VIF', ascending=False)\n",
    "\n",
    "#print\n",
    "vif"
   ]
  },
  {
   "cell_type": "markdown",
   "id": "25b00eae",
   "metadata": {},
   "source": [
    "'Last_Activity_Email Opened' column now has high p-value as well as a high VIF score (greater than 3).\n",
    "\n",
    "Hence, dropping it from further analysis."
   ]
  },
  {
   "cell_type": "code",
   "execution_count": 195,
   "id": "387c3eed",
   "metadata": {},
   "outputs": [
    {
     "name": "stdout",
     "output_type": "stream",
     "text": [
      "1\n"
     ]
    }
   ],
   "source": [
    "#dropping 'Last_Activity_Email Opened' due to high p-value as well as high VIF\n",
    "\n",
    "train_cols5 = train_cols4.drop('Last_Activity_Email Opened')\n",
    "\n",
    "#verify\n",
    "print(len(train_cols4) - len(train_cols5))"
   ]
  },
  {
   "cell_type": "markdown",
   "id": "049d38bf",
   "metadata": {},
   "source": [
    "Model - 6"
   ]
  },
  {
   "cell_type": "code",
   "execution_count": 196,
   "id": "138cfa6e",
   "metadata": {},
   "outputs": [
    {
     "data": {
      "text/html": [
       "<table class=\"simpletable\">\n",
       "<caption>Generalized Linear Model Regression Results</caption>\n",
       "<tr>\n",
       "  <th>Dep. Variable:</th>       <td>Converted</td>    <th>  No. Observations:  </th>  <td>  6259</td> \n",
       "</tr>\n",
       "<tr>\n",
       "  <th>Model:</th>                  <td>GLM</td>       <th>  Df Residuals:      </th>  <td>  6243</td> \n",
       "</tr>\n",
       "<tr>\n",
       "  <th>Model Family:</th>        <td>Binomial</td>     <th>  Df Model:          </th>  <td>    15</td> \n",
       "</tr>\n",
       "<tr>\n",
       "  <th>Link Function:</th>         <td>Logit</td>      <th>  Scale:             </th> <td>  1.0000</td>\n",
       "</tr>\n",
       "<tr>\n",
       "  <th>Method:</th>                <td>IRLS</td>       <th>  Log-Likelihood:    </th> <td> -2693.0</td>\n",
       "</tr>\n",
       "<tr>\n",
       "  <th>Date:</th>            <td>Tue, 18 Jul 2023</td> <th>  Deviance:          </th> <td>  5385.9</td>\n",
       "</tr>\n",
       "<tr>\n",
       "  <th>Time:</th>                <td>00:20:54</td>     <th>  Pearson chi2:      </th> <td>6.25e+03</td>\n",
       "</tr>\n",
       "<tr>\n",
       "  <th>No. Iterations:</th>          <td>7</td>        <th>  Pseudo R-squ. (CS):</th>  <td>0.3785</td> \n",
       "</tr>\n",
       "<tr>\n",
       "  <th>Covariance Type:</th>     <td>nonrobust</td>    <th>                     </th>     <td> </td>   \n",
       "</tr>\n",
       "</table>\n",
       "<table class=\"simpletable\">\n",
       "<tr>\n",
       "                        <td></td>                           <th>coef</th>     <th>std err</th>      <th>z</th>      <th>P>|z|</th>  <th>[0.025</th>    <th>0.975]</th>  \n",
       "</tr>\n",
       "<tr>\n",
       "  <th>const</th>                                         <td>   -0.8475</td> <td>    0.147</td> <td>   -5.763</td> <td> 0.000</td> <td>   -1.136</td> <td>   -0.559</td>\n",
       "</tr>\n",
       "<tr>\n",
       "  <th>Do Not Email</th>                                  <td>   -1.2993</td> <td>    0.164</td> <td>   -7.912</td> <td> 0.000</td> <td>   -1.621</td> <td>   -0.977</td>\n",
       "</tr>\n",
       "<tr>\n",
       "  <th>TotalVisits</th>                                   <td>    0.7193</td> <td>    0.252</td> <td>    2.854</td> <td> 0.004</td> <td>    0.225</td> <td>    1.213</td>\n",
       "</tr>\n",
       "<tr>\n",
       "  <th>Total Time Spent on Website</th>                   <td>    4.5289</td> <td>    0.165</td> <td>   27.412</td> <td> 0.000</td> <td>    4.205</td> <td>    4.853</td>\n",
       "</tr>\n",
       "<tr>\n",
       "  <th>Lead_Origin_Landing Page Submission</th>           <td>   -1.3092</td> <td>    0.125</td> <td>  -10.500</td> <td> 0.000</td> <td>   -1.554</td> <td>   -1.065</td>\n",
       "</tr>\n",
       "<tr>\n",
       "  <th>Lead_Origin_Lead Add Form</th>                     <td>    3.6364</td> <td>    0.229</td> <td>   15.895</td> <td> 0.000</td> <td>    3.188</td> <td>    4.085</td>\n",
       "</tr>\n",
       "<tr>\n",
       "  <th>Lead_Source_Olark Chat</th>                        <td>    1.2835</td> <td>    0.133</td> <td>    9.685</td> <td> 0.000</td> <td>    1.024</td> <td>    1.543</td>\n",
       "</tr>\n",
       "<tr>\n",
       "  <th>Lead_Source_Welingak Website</th>                  <td>    2.9440</td> <td>    1.032</td> <td>    2.854</td> <td> 0.004</td> <td>    0.922</td> <td>    4.966</td>\n",
       "</tr>\n",
       "<tr>\n",
       "  <th>Last_Activity_Olark Chat Conversation</th>         <td>   -1.0779</td> <td>    0.208</td> <td>   -5.172</td> <td> 0.000</td> <td>   -1.486</td> <td>   -0.669</td>\n",
       "</tr>\n",
       "<tr>\n",
       "  <th>Last_Activity_SMS Sent</th>                        <td>    1.2719</td> <td>    0.075</td> <td>   17.060</td> <td> 0.000</td> <td>    1.126</td> <td>    1.418</td>\n",
       "</tr>\n",
       "<tr>\n",
       "  <th>Specialization_Unknown</th>                        <td>   -1.5488</td> <td>    0.124</td> <td>  -12.509</td> <td> 0.000</td> <td>   -1.792</td> <td>   -1.306</td>\n",
       "</tr>\n",
       "<tr>\n",
       "  <th>Last_Notable_Activity_Email Link Clicked</th>      <td>   -0.5655</td> <td>    0.250</td> <td>   -2.266</td> <td> 0.023</td> <td>   -1.055</td> <td>   -0.076</td>\n",
       "</tr>\n",
       "<tr>\n",
       "  <th>Last_Notable_Activity_Modified</th>                <td>   -0.8432</td> <td>    0.083</td> <td>  -10.200</td> <td> 0.000</td> <td>   -1.005</td> <td>   -0.681</td>\n",
       "</tr>\n",
       "<tr>\n",
       "  <th>Last_Notable_Activity_Olark Chat Conversation</th> <td>   -0.2508</td> <td>    0.360</td> <td>   -0.697</td> <td> 0.486</td> <td>   -0.956</td> <td>    0.454</td>\n",
       "</tr>\n",
       "<tr>\n",
       "  <th>Last_Notable_Activity_Page Visited on Website</th> <td>   -0.4645</td> <td>    0.199</td> <td>   -2.329</td> <td> 0.020</td> <td>   -0.855</td> <td>   -0.074</td>\n",
       "</tr>\n",
       "<tr>\n",
       "  <th>Last_Notable_Activity_Unreachable</th>             <td>    1.6436</td> <td>    0.504</td> <td>    3.262</td> <td> 0.001</td> <td>    0.656</td> <td>    2.631</td>\n",
       "</tr>\n",
       "</table>"
      ],
      "text/plain": [
       "<class 'statsmodels.iolib.summary.Summary'>\n",
       "\"\"\"\n",
       "                 Generalized Linear Model Regression Results                  \n",
       "==============================================================================\n",
       "Dep. Variable:              Converted   No. Observations:                 6259\n",
       "Model:                            GLM   Df Residuals:                     6243\n",
       "Model Family:                Binomial   Df Model:                           15\n",
       "Link Function:                  Logit   Scale:                          1.0000\n",
       "Method:                          IRLS   Log-Likelihood:                -2693.0\n",
       "Date:                Tue, 18 Jul 2023   Deviance:                       5385.9\n",
       "Time:                        00:20:54   Pearson chi2:                 6.25e+03\n",
       "No. Iterations:                     7   Pseudo R-squ. (CS):             0.3785\n",
       "Covariance Type:            nonrobust                                         \n",
       "=================================================================================================================\n",
       "                                                    coef    std err          z      P>|z|      [0.025      0.975]\n",
       "-----------------------------------------------------------------------------------------------------------------\n",
       "const                                            -0.8475      0.147     -5.763      0.000      -1.136      -0.559\n",
       "Do Not Email                                     -1.2993      0.164     -7.912      0.000      -1.621      -0.977\n",
       "TotalVisits                                       0.7193      0.252      2.854      0.004       0.225       1.213\n",
       "Total Time Spent on Website                       4.5289      0.165     27.412      0.000       4.205       4.853\n",
       "Lead_Origin_Landing Page Submission              -1.3092      0.125    -10.500      0.000      -1.554      -1.065\n",
       "Lead_Origin_Lead Add Form                         3.6364      0.229     15.895      0.000       3.188       4.085\n",
       "Lead_Source_Olark Chat                            1.2835      0.133      9.685      0.000       1.024       1.543\n",
       "Lead_Source_Welingak Website                      2.9440      1.032      2.854      0.004       0.922       4.966\n",
       "Last_Activity_Olark Chat Conversation            -1.0779      0.208     -5.172      0.000      -1.486      -0.669\n",
       "Last_Activity_SMS Sent                            1.2719      0.075     17.060      0.000       1.126       1.418\n",
       "Specialization_Unknown                           -1.5488      0.124    -12.509      0.000      -1.792      -1.306\n",
       "Last_Notable_Activity_Email Link Clicked         -0.5655      0.250     -2.266      0.023      -1.055      -0.076\n",
       "Last_Notable_Activity_Modified                   -0.8432      0.083    -10.200      0.000      -1.005      -0.681\n",
       "Last_Notable_Activity_Olark Chat Conversation    -0.2508      0.360     -0.697      0.486      -0.956       0.454\n",
       "Last_Notable_Activity_Page Visited on Website    -0.4645      0.199     -2.329      0.020      -0.855      -0.074\n",
       "Last_Notable_Activity_Unreachable                 1.6436      0.504      3.262      0.001       0.656       2.631\n",
       "=================================================================================================================\n",
       "\"\"\""
      ]
     },
     "execution_count": 196,
     "metadata": {},
     "output_type": "execute_result"
    }
   ],
   "source": [
    "X_train_sm = sm.add_constant(X_train[train_cols5])\n",
    "logm6 = sm.GLM(y_train,X_train_sm, family = sm.families.Binomial())\n",
    "res = logm6.fit()\n",
    "res.summary()"
   ]
  },
  {
   "cell_type": "code",
   "execution_count": 197,
   "id": "e42cf6f6",
   "metadata": {},
   "outputs": [
    {
     "data": {
      "text/html": [
       "<div>\n",
       "<style scoped>\n",
       "    .dataframe tbody tr th:only-of-type {\n",
       "        vertical-align: middle;\n",
       "    }\n",
       "\n",
       "    .dataframe tbody tr th {\n",
       "        vertical-align: top;\n",
       "    }\n",
       "\n",
       "    .dataframe thead th {\n",
       "        text-align: right;\n",
       "    }\n",
       "</style>\n",
       "<table border=\"1\" class=\"dataframe\">\n",
       "  <thead>\n",
       "    <tr style=\"text-align: right;\">\n",
       "      <th></th>\n",
       "      <th>Features</th>\n",
       "      <th>VIF</th>\n",
       "    </tr>\n",
       "  </thead>\n",
       "  <tbody>\n",
       "    <tr>\n",
       "      <th>3</th>\n",
       "      <td>Lead_Origin_Landing Page Submission</td>\n",
       "      <td>3.15</td>\n",
       "    </tr>\n",
       "    <tr>\n",
       "      <th>1</th>\n",
       "      <td>TotalVisits</td>\n",
       "      <td>2.96</td>\n",
       "    </tr>\n",
       "    <tr>\n",
       "      <th>9</th>\n",
       "      <td>Specialization_Unknown</td>\n",
       "      <td>2.56</td>\n",
       "    </tr>\n",
       "    <tr>\n",
       "      <th>2</th>\n",
       "      <td>Total Time Spent on Website</td>\n",
       "      <td>2.07</td>\n",
       "    </tr>\n",
       "    <tr>\n",
       "      <th>5</th>\n",
       "      <td>Lead_Source_Olark Chat</td>\n",
       "      <td>2.06</td>\n",
       "    </tr>\n",
       "    <tr>\n",
       "      <th>7</th>\n",
       "      <td>Last_Activity_Olark Chat Conversation</td>\n",
       "      <td>1.99</td>\n",
       "    </tr>\n",
       "    <tr>\n",
       "      <th>11</th>\n",
       "      <td>Last_Notable_Activity_Modified</td>\n",
       "      <td>1.99</td>\n",
       "    </tr>\n",
       "    <tr>\n",
       "      <th>8</th>\n",
       "      <td>Last_Activity_SMS Sent</td>\n",
       "      <td>1.63</td>\n",
       "    </tr>\n",
       "    <tr>\n",
       "      <th>4</th>\n",
       "      <td>Lead_Origin_Lead Add Form</td>\n",
       "      <td>1.43</td>\n",
       "    </tr>\n",
       "    <tr>\n",
       "      <th>12</th>\n",
       "      <td>Last_Notable_Activity_Olark Chat Conversation</td>\n",
       "      <td>1.34</td>\n",
       "    </tr>\n",
       "    <tr>\n",
       "      <th>6</th>\n",
       "      <td>Lead_Source_Welingak Website</td>\n",
       "      <td>1.31</td>\n",
       "    </tr>\n",
       "    <tr>\n",
       "      <th>0</th>\n",
       "      <td>Do Not Email</td>\n",
       "      <td>1.14</td>\n",
       "    </tr>\n",
       "    <tr>\n",
       "      <th>13</th>\n",
       "      <td>Last_Notable_Activity_Page Visited on Website</td>\n",
       "      <td>1.14</td>\n",
       "    </tr>\n",
       "    <tr>\n",
       "      <th>10</th>\n",
       "      <td>Last_Notable_Activity_Email Link Clicked</td>\n",
       "      <td>1.05</td>\n",
       "    </tr>\n",
       "    <tr>\n",
       "      <th>14</th>\n",
       "      <td>Last_Notable_Activity_Unreachable</td>\n",
       "      <td>1.01</td>\n",
       "    </tr>\n",
       "  </tbody>\n",
       "</table>\n",
       "</div>"
      ],
      "text/plain": [
       "                                         Features   VIF\n",
       "3             Lead_Origin_Landing Page Submission  3.15\n",
       "1                                     TotalVisits  2.96\n",
       "9                          Specialization_Unknown  2.56\n",
       "2                     Total Time Spent on Website  2.07\n",
       "5                          Lead_Source_Olark Chat  2.06\n",
       "7           Last_Activity_Olark Chat Conversation  1.99\n",
       "11                 Last_Notable_Activity_Modified  1.99\n",
       "8                          Last_Activity_SMS Sent  1.63\n",
       "4                       Lead_Origin_Lead Add Form  1.43\n",
       "12  Last_Notable_Activity_Olark Chat Conversation  1.34\n",
       "6                    Lead_Source_Welingak Website  1.31\n",
       "0                                    Do Not Email  1.14\n",
       "13  Last_Notable_Activity_Page Visited on Website  1.14\n",
       "10       Last_Notable_Activity_Email Link Clicked  1.05\n",
       "14              Last_Notable_Activity_Unreachable  1.01"
      ]
     },
     "execution_count": 197,
     "metadata": {},
     "output_type": "execute_result"
    }
   ],
   "source": [
    "#Checking VIF's as well\n",
    "\n",
    "#create a dataframe that will contain the names of all the feature variables and their respective VIFs\n",
    "vif = pd.DataFrame()\n",
    "\n",
    "#get feature names\n",
    "vif['Features'] = train_cols5\n",
    "\n",
    "#get VIF scores\n",
    "vif['VIF'] = [round(variance_inflation_factor(X_train[train_cols5].values, i),2) for i in range(X_train[train_cols5].shape[1])]\n",
    "\n",
    "#sort the dataframe by VIF values\n",
    "vif = vif.sort_values(by='VIF', ascending=False)\n",
    "\n",
    "#print\n",
    "vif"
   ]
  },
  {
   "cell_type": "markdown",
   "id": "251bc79a",
   "metadata": {},
   "source": [
    "Lead_Origin_Landing Page Submission = high VIF and low p-value = multicollinearity existes but is statistically relevant\n",
    "\n",
    "Last_Notable_Activity_Olark Chat Conversation = low VIF and high p-value = multicollinearity does not existes but is statistically irrelevant\n",
    "\n",
    "Multicollinearity can cause unstable estimates and inflated standard errors, leading to difficulties in interpreting the individual effect of the variable. Hence, dropping 'Lead_Origin_Landing Page Submission'"
   ]
  },
  {
   "cell_type": "code",
   "execution_count": 198,
   "id": "3684556d",
   "metadata": {},
   "outputs": [
    {
     "name": "stdout",
     "output_type": "stream",
     "text": [
      "1\n"
     ]
    }
   ],
   "source": [
    "#dropping 'Lead_Origin_Landing Page Submission' due to high p-value as well as high VIF\n",
    "\n",
    "train_cols6 = train_cols5.drop('Lead_Origin_Landing Page Submission')\n",
    "\n",
    "#verify\n",
    "print(len(train_cols5) - len(train_cols6))"
   ]
  },
  {
   "cell_type": "markdown",
   "id": "5483c724",
   "metadata": {},
   "source": [
    "Model - 7"
   ]
  },
  {
   "cell_type": "code",
   "execution_count": 199,
   "id": "28113cfd",
   "metadata": {},
   "outputs": [
    {
     "data": {
      "text/html": [
       "<table class=\"simpletable\">\n",
       "<caption>Generalized Linear Model Regression Results</caption>\n",
       "<tr>\n",
       "  <th>Dep. Variable:</th>       <td>Converted</td>    <th>  No. Observations:  </th>  <td>  6259</td> \n",
       "</tr>\n",
       "<tr>\n",
       "  <th>Model:</th>                  <td>GLM</td>       <th>  Df Residuals:      </th>  <td>  6244</td> \n",
       "</tr>\n",
       "<tr>\n",
       "  <th>Model Family:</th>        <td>Binomial</td>     <th>  Df Model:          </th>  <td>    14</td> \n",
       "</tr>\n",
       "<tr>\n",
       "  <th>Link Function:</th>         <td>Logit</td>      <th>  Scale:             </th> <td>  1.0000</td>\n",
       "</tr>\n",
       "<tr>\n",
       "  <th>Method:</th>                <td>IRLS</td>       <th>  Log-Likelihood:    </th> <td> -2750.6</td>\n",
       "</tr>\n",
       "<tr>\n",
       "  <th>Date:</th>            <td>Tue, 18 Jul 2023</td> <th>  Deviance:          </th> <td>  5501.2</td>\n",
       "</tr>\n",
       "<tr>\n",
       "  <th>Time:</th>                <td>00:20:54</td>     <th>  Pearson chi2:      </th> <td>6.35e+03</td>\n",
       "</tr>\n",
       "<tr>\n",
       "  <th>No. Iterations:</th>          <td>7</td>        <th>  Pseudo R-squ. (CS):</th>  <td>0.3670</td> \n",
       "</tr>\n",
       "<tr>\n",
       "  <th>Covariance Type:</th>     <td>nonrobust</td>    <th>                     </th>     <td> </td>   \n",
       "</tr>\n",
       "</table>\n",
       "<table class=\"simpletable\">\n",
       "<tr>\n",
       "                        <td></td>                           <th>coef</th>     <th>std err</th>      <th>z</th>      <th>P>|z|</th>  <th>[0.025</th>    <th>0.975]</th>  \n",
       "</tr>\n",
       "<tr>\n",
       "  <th>const</th>                                         <td>   -2.0089</td> <td>    0.099</td> <td>  -20.239</td> <td> 0.000</td> <td>   -2.203</td> <td>   -1.814</td>\n",
       "</tr>\n",
       "<tr>\n",
       "  <th>Do Not Email</th>                                  <td>   -1.3682</td> <td>    0.162</td> <td>   -8.454</td> <td> 0.000</td> <td>   -1.685</td> <td>   -1.051</td>\n",
       "</tr>\n",
       "<tr>\n",
       "  <th>TotalVisits</th>                                   <td>    0.7381</td> <td>    0.250</td> <td>    2.957</td> <td> 0.003</td> <td>    0.249</td> <td>    1.227</td>\n",
       "</tr>\n",
       "<tr>\n",
       "  <th>Total Time Spent on Website</th>                   <td>    4.5961</td> <td>    0.164</td> <td>   27.970</td> <td> 0.000</td> <td>    4.274</td> <td>    4.918</td>\n",
       "</tr>\n",
       "<tr>\n",
       "  <th>Lead_Origin_Lead Add Form</th>                     <td>    4.4124</td> <td>    0.216</td> <td>   20.431</td> <td> 0.000</td> <td>    3.989</td> <td>    4.836</td>\n",
       "</tr>\n",
       "<tr>\n",
       "  <th>Lead_Source_Olark Chat</th>                        <td>    1.7112</td> <td>    0.126</td> <td>   13.564</td> <td> 0.000</td> <td>    1.464</td> <td>    1.958</td>\n",
       "</tr>\n",
       "<tr>\n",
       "  <th>Lead_Source_Welingak Website</th>                  <td>    2.5117</td> <td>    1.030</td> <td>    2.438</td> <td> 0.015</td> <td>    0.492</td> <td>    4.531</td>\n",
       "</tr>\n",
       "<tr>\n",
       "  <th>Last_Activity_Olark Chat Conversation</th>         <td>   -1.0361</td> <td>    0.205</td> <td>   -5.049</td> <td> 0.000</td> <td>   -1.438</td> <td>   -0.634</td>\n",
       "</tr>\n",
       "<tr>\n",
       "  <th>Last_Activity_SMS Sent</th>                        <td>    1.2379</td> <td>    0.074</td> <td>   16.826</td> <td> 0.000</td> <td>    1.094</td> <td>    1.382</td>\n",
       "</tr>\n",
       "<tr>\n",
       "  <th>Specialization_Unknown</th>                        <td>   -0.6703</td> <td>    0.089</td> <td>   -7.531</td> <td> 0.000</td> <td>   -0.845</td> <td>   -0.496</td>\n",
       "</tr>\n",
       "<tr>\n",
       "  <th>Last_Notable_Activity_Email Link Clicked</th>      <td>   -0.5782</td> <td>    0.248</td> <td>   -2.335</td> <td> 0.020</td> <td>   -1.064</td> <td>   -0.093</td>\n",
       "</tr>\n",
       "<tr>\n",
       "  <th>Last_Notable_Activity_Modified</th>                <td>   -0.8225</td> <td>    0.081</td> <td>  -10.109</td> <td> 0.000</td> <td>   -0.982</td> <td>   -0.663</td>\n",
       "</tr>\n",
       "<tr>\n",
       "  <th>Last_Notable_Activity_Olark Chat Conversation</th> <td>   -0.2751</td> <td>    0.354</td> <td>   -0.778</td> <td> 0.437</td> <td>   -0.968</td> <td>    0.418</td>\n",
       "</tr>\n",
       "<tr>\n",
       "  <th>Last_Notable_Activity_Page Visited on Website</th> <td>   -0.4559</td> <td>    0.197</td> <td>   -2.311</td> <td> 0.021</td> <td>   -0.843</td> <td>   -0.069</td>\n",
       "</tr>\n",
       "<tr>\n",
       "  <th>Last_Notable_Activity_Unreachable</th>             <td>    1.7606</td> <td>    0.498</td> <td>    3.537</td> <td> 0.000</td> <td>    0.785</td> <td>    2.736</td>\n",
       "</tr>\n",
       "</table>"
      ],
      "text/plain": [
       "<class 'statsmodels.iolib.summary.Summary'>\n",
       "\"\"\"\n",
       "                 Generalized Linear Model Regression Results                  \n",
       "==============================================================================\n",
       "Dep. Variable:              Converted   No. Observations:                 6259\n",
       "Model:                            GLM   Df Residuals:                     6244\n",
       "Model Family:                Binomial   Df Model:                           14\n",
       "Link Function:                  Logit   Scale:                          1.0000\n",
       "Method:                          IRLS   Log-Likelihood:                -2750.6\n",
       "Date:                Tue, 18 Jul 2023   Deviance:                       5501.2\n",
       "Time:                        00:20:54   Pearson chi2:                 6.35e+03\n",
       "No. Iterations:                     7   Pseudo R-squ. (CS):             0.3670\n",
       "Covariance Type:            nonrobust                                         \n",
       "=================================================================================================================\n",
       "                                                    coef    std err          z      P>|z|      [0.025      0.975]\n",
       "-----------------------------------------------------------------------------------------------------------------\n",
       "const                                            -2.0089      0.099    -20.239      0.000      -2.203      -1.814\n",
       "Do Not Email                                     -1.3682      0.162     -8.454      0.000      -1.685      -1.051\n",
       "TotalVisits                                       0.7381      0.250      2.957      0.003       0.249       1.227\n",
       "Total Time Spent on Website                       4.5961      0.164     27.970      0.000       4.274       4.918\n",
       "Lead_Origin_Lead Add Form                         4.4124      0.216     20.431      0.000       3.989       4.836\n",
       "Lead_Source_Olark Chat                            1.7112      0.126     13.564      0.000       1.464       1.958\n",
       "Lead_Source_Welingak Website                      2.5117      1.030      2.438      0.015       0.492       4.531\n",
       "Last_Activity_Olark Chat Conversation            -1.0361      0.205     -5.049      0.000      -1.438      -0.634\n",
       "Last_Activity_SMS Sent                            1.2379      0.074     16.826      0.000       1.094       1.382\n",
       "Specialization_Unknown                           -0.6703      0.089     -7.531      0.000      -0.845      -0.496\n",
       "Last_Notable_Activity_Email Link Clicked         -0.5782      0.248     -2.335      0.020      -1.064      -0.093\n",
       "Last_Notable_Activity_Modified                   -0.8225      0.081    -10.109      0.000      -0.982      -0.663\n",
       "Last_Notable_Activity_Olark Chat Conversation    -0.2751      0.354     -0.778      0.437      -0.968       0.418\n",
       "Last_Notable_Activity_Page Visited on Website    -0.4559      0.197     -2.311      0.021      -0.843      -0.069\n",
       "Last_Notable_Activity_Unreachable                 1.7606      0.498      3.537      0.000       0.785       2.736\n",
       "=================================================================================================================\n",
       "\"\"\""
      ]
     },
     "execution_count": 199,
     "metadata": {},
     "output_type": "execute_result"
    }
   ],
   "source": [
    "X_train_sm = sm.add_constant(X_train[train_cols6])\n",
    "logm7 = sm.GLM(y_train,X_train_sm, family = sm.families.Binomial())\n",
    "res = logm7.fit()\n",
    "res.summary()"
   ]
  },
  {
   "cell_type": "code",
   "execution_count": 200,
   "id": "821b040c",
   "metadata": {},
   "outputs": [
    {
     "data": {
      "text/html": [
       "<div>\n",
       "<style scoped>\n",
       "    .dataframe tbody tr th:only-of-type {\n",
       "        vertical-align: middle;\n",
       "    }\n",
       "\n",
       "    .dataframe tbody tr th {\n",
       "        vertical-align: top;\n",
       "    }\n",
       "\n",
       "    .dataframe thead th {\n",
       "        text-align: right;\n",
       "    }\n",
       "</style>\n",
       "<table border=\"1\" class=\"dataframe\">\n",
       "  <thead>\n",
       "    <tr style=\"text-align: right;\">\n",
       "      <th></th>\n",
       "      <th>Features</th>\n",
       "      <th>VIF</th>\n",
       "    </tr>\n",
       "  </thead>\n",
       "  <tbody>\n",
       "    <tr>\n",
       "      <th>1</th>\n",
       "      <td>TotalVisits</td>\n",
       "      <td>2.17</td>\n",
       "    </tr>\n",
       "    <tr>\n",
       "      <th>8</th>\n",
       "      <td>Specialization_Unknown</td>\n",
       "      <td>2.17</td>\n",
       "    </tr>\n",
       "    <tr>\n",
       "      <th>4</th>\n",
       "      <td>Lead_Source_Olark Chat</td>\n",
       "      <td>2.03</td>\n",
       "    </tr>\n",
       "    <tr>\n",
       "      <th>6</th>\n",
       "      <td>Last_Activity_Olark Chat Conversation</td>\n",
       "      <td>1.99</td>\n",
       "    </tr>\n",
       "    <tr>\n",
       "      <th>2</th>\n",
       "      <td>Total Time Spent on Website</td>\n",
       "      <td>1.94</td>\n",
       "    </tr>\n",
       "    <tr>\n",
       "      <th>10</th>\n",
       "      <td>Last_Notable_Activity_Modified</td>\n",
       "      <td>1.82</td>\n",
       "    </tr>\n",
       "    <tr>\n",
       "      <th>7</th>\n",
       "      <td>Last_Activity_SMS Sent</td>\n",
       "      <td>1.55</td>\n",
       "    </tr>\n",
       "    <tr>\n",
       "      <th>3</th>\n",
       "      <td>Lead_Origin_Lead Add Form</td>\n",
       "      <td>1.42</td>\n",
       "    </tr>\n",
       "    <tr>\n",
       "      <th>11</th>\n",
       "      <td>Last_Notable_Activity_Olark Chat Conversation</td>\n",
       "      <td>1.34</td>\n",
       "    </tr>\n",
       "    <tr>\n",
       "      <th>5</th>\n",
       "      <td>Lead_Source_Welingak Website</td>\n",
       "      <td>1.30</td>\n",
       "    </tr>\n",
       "    <tr>\n",
       "      <th>12</th>\n",
       "      <td>Last_Notable_Activity_Page Visited on Website</td>\n",
       "      <td>1.14</td>\n",
       "    </tr>\n",
       "    <tr>\n",
       "      <th>0</th>\n",
       "      <td>Do Not Email</td>\n",
       "      <td>1.11</td>\n",
       "    </tr>\n",
       "    <tr>\n",
       "      <th>9</th>\n",
       "      <td>Last_Notable_Activity_Email Link Clicked</td>\n",
       "      <td>1.04</td>\n",
       "    </tr>\n",
       "    <tr>\n",
       "      <th>13</th>\n",
       "      <td>Last_Notable_Activity_Unreachable</td>\n",
       "      <td>1.01</td>\n",
       "    </tr>\n",
       "  </tbody>\n",
       "</table>\n",
       "</div>"
      ],
      "text/plain": [
       "                                         Features   VIF\n",
       "1                                     TotalVisits  2.17\n",
       "8                          Specialization_Unknown  2.17\n",
       "4                          Lead_Source_Olark Chat  2.03\n",
       "6           Last_Activity_Olark Chat Conversation  1.99\n",
       "2                     Total Time Spent on Website  1.94\n",
       "10                 Last_Notable_Activity_Modified  1.82\n",
       "7                          Last_Activity_SMS Sent  1.55\n",
       "3                       Lead_Origin_Lead Add Form  1.42\n",
       "11  Last_Notable_Activity_Olark Chat Conversation  1.34\n",
       "5                    Lead_Source_Welingak Website  1.30\n",
       "12  Last_Notable_Activity_Page Visited on Website  1.14\n",
       "0                                    Do Not Email  1.11\n",
       "9        Last_Notable_Activity_Email Link Clicked  1.04\n",
       "13              Last_Notable_Activity_Unreachable  1.01"
      ]
     },
     "execution_count": 200,
     "metadata": {},
     "output_type": "execute_result"
    }
   ],
   "source": [
    "#Checking VIF's as well\n",
    "\n",
    "#create a dataframe that will contain the names of all the feature variables and their respective VIFs\n",
    "vif = pd.DataFrame()\n",
    "\n",
    "#get feature names\n",
    "vif['Features'] = train_cols6\n",
    "\n",
    "#get VIF scores\n",
    "vif['VIF'] = [round(variance_inflation_factor(X_train[train_cols6].values, i),2) for i in range(X_train[train_cols6].shape[1])]\n",
    "\n",
    "#sort the dataframe by VIF values\n",
    "vif = vif.sort_values(by='VIF', ascending=False)\n",
    "\n",
    "#print\n",
    "vif"
   ]
  },
  {
   "cell_type": "markdown",
   "id": "500c6002",
   "metadata": {},
   "source": [
    "All feature variables have a low VIF score. \n",
    "\n",
    "Dropping 'Last_Notable_Activity_Olark Chat Conversation' based on its high p-value."
   ]
  },
  {
   "cell_type": "code",
   "execution_count": 201,
   "id": "ca63d421",
   "metadata": {},
   "outputs": [
    {
     "name": "stdout",
     "output_type": "stream",
     "text": [
      "1\n"
     ]
    }
   ],
   "source": [
    "#dropping 'Last_Notable_Activity_Olark Chat Conversation' due to high p-value as well as high VIF\n",
    "\n",
    "train_cols7 = train_cols6.drop('Last_Notable_Activity_Olark Chat Conversation')\n",
    "\n",
    "#verify\n",
    "print(len(train_cols6) - len(train_cols7))"
   ]
  },
  {
   "cell_type": "markdown",
   "id": "b742d7b8",
   "metadata": {},
   "source": [
    "Model - 8"
   ]
  },
  {
   "cell_type": "code",
   "execution_count": 202,
   "id": "1a536212",
   "metadata": {},
   "outputs": [
    {
     "data": {
      "text/html": [
       "<table class=\"simpletable\">\n",
       "<caption>Generalized Linear Model Regression Results</caption>\n",
       "<tr>\n",
       "  <th>Dep. Variable:</th>       <td>Converted</td>    <th>  No. Observations:  </th>  <td>  6259</td> \n",
       "</tr>\n",
       "<tr>\n",
       "  <th>Model:</th>                  <td>GLM</td>       <th>  Df Residuals:      </th>  <td>  6245</td> \n",
       "</tr>\n",
       "<tr>\n",
       "  <th>Model Family:</th>        <td>Binomial</td>     <th>  Df Model:          </th>  <td>    13</td> \n",
       "</tr>\n",
       "<tr>\n",
       "  <th>Link Function:</th>         <td>Logit</td>      <th>  Scale:             </th> <td>  1.0000</td>\n",
       "</tr>\n",
       "<tr>\n",
       "  <th>Method:</th>                <td>IRLS</td>       <th>  Log-Likelihood:    </th> <td> -2750.9</td>\n",
       "</tr>\n",
       "<tr>\n",
       "  <th>Date:</th>            <td>Tue, 18 Jul 2023</td> <th>  Deviance:          </th> <td>  5501.8</td>\n",
       "</tr>\n",
       "<tr>\n",
       "  <th>Time:</th>                <td>00:20:55</td>     <th>  Pearson chi2:      </th> <td>6.37e+03</td>\n",
       "</tr>\n",
       "<tr>\n",
       "  <th>No. Iterations:</th>          <td>7</td>        <th>  Pseudo R-squ. (CS):</th>  <td>0.3669</td> \n",
       "</tr>\n",
       "<tr>\n",
       "  <th>Covariance Type:</th>     <td>nonrobust</td>    <th>                     </th>     <td> </td>   \n",
       "</tr>\n",
       "</table>\n",
       "<table class=\"simpletable\">\n",
       "<tr>\n",
       "                        <td></td>                           <th>coef</th>     <th>std err</th>      <th>z</th>      <th>P>|z|</th>  <th>[0.025</th>    <th>0.975]</th>  \n",
       "</tr>\n",
       "<tr>\n",
       "  <th>const</th>                                         <td>   -2.0109</td> <td>    0.099</td> <td>  -20.269</td> <td> 0.000</td> <td>   -2.205</td> <td>   -1.816</td>\n",
       "</tr>\n",
       "<tr>\n",
       "  <th>Do Not Email</th>                                  <td>   -1.3702</td> <td>    0.162</td> <td>   -8.475</td> <td> 0.000</td> <td>   -1.687</td> <td>   -1.053</td>\n",
       "</tr>\n",
       "<tr>\n",
       "  <th>TotalVisits</th>                                   <td>    0.7342</td> <td>    0.249</td> <td>    2.944</td> <td> 0.003</td> <td>    0.245</td> <td>    1.223</td>\n",
       "</tr>\n",
       "<tr>\n",
       "  <th>Total Time Spent on Website</th>                   <td>    4.5904</td> <td>    0.164</td> <td>   27.972</td> <td> 0.000</td> <td>    4.269</td> <td>    4.912</td>\n",
       "</tr>\n",
       "<tr>\n",
       "  <th>Lead_Origin_Lead Add Form</th>                     <td>    4.4073</td> <td>    0.216</td> <td>   20.420</td> <td> 0.000</td> <td>    3.984</td> <td>    4.830</td>\n",
       "</tr>\n",
       "<tr>\n",
       "  <th>Lead_Source_Olark Chat</th>                        <td>    1.7114</td> <td>    0.126</td> <td>   13.564</td> <td> 0.000</td> <td>    1.464</td> <td>    1.959</td>\n",
       "</tr>\n",
       "<tr>\n",
       "  <th>Lead_Source_Welingak Website</th>                  <td>    2.5057</td> <td>    1.030</td> <td>    2.433</td> <td> 0.015</td> <td>    0.487</td> <td>    4.525</td>\n",
       "</tr>\n",
       "<tr>\n",
       "  <th>Last_Activity_Olark Chat Conversation</th>         <td>   -1.1268</td> <td>    0.173</td> <td>   -6.514</td> <td> 0.000</td> <td>   -1.466</td> <td>   -0.788</td>\n",
       "</tr>\n",
       "<tr>\n",
       "  <th>Last_Activity_SMS Sent</th>                        <td>    1.2390</td> <td>    0.074</td> <td>   16.852</td> <td> 0.000</td> <td>    1.095</td> <td>    1.383</td>\n",
       "</tr>\n",
       "<tr>\n",
       "  <th>Specialization_Unknown</th>                        <td>   -0.6704</td> <td>    0.089</td> <td>   -7.532</td> <td> 0.000</td> <td>   -0.845</td> <td>   -0.496</td>\n",
       "</tr>\n",
       "<tr>\n",
       "  <th>Last_Notable_Activity_Email Link Clicked</th>      <td>   -0.5741</td> <td>    0.248</td> <td>   -2.319</td> <td> 0.020</td> <td>   -1.059</td> <td>   -0.089</td>\n",
       "</tr>\n",
       "<tr>\n",
       "  <th>Last_Notable_Activity_Modified</th>                <td>   -0.8076</td> <td>    0.079</td> <td>  -10.230</td> <td> 0.000</td> <td>   -0.962</td> <td>   -0.653</td>\n",
       "</tr>\n",
       "<tr>\n",
       "  <th>Last_Notable_Activity_Page Visited on Website</th> <td>   -0.4502</td> <td>    0.197</td> <td>   -2.284</td> <td> 0.022</td> <td>   -0.837</td> <td>   -0.064</td>\n",
       "</tr>\n",
       "<tr>\n",
       "  <th>Last_Notable_Activity_Unreachable</th>             <td>    1.7645</td> <td>    0.498</td> <td>    3.545</td> <td> 0.000</td> <td>    0.789</td> <td>    2.740</td>\n",
       "</tr>\n",
       "</table>"
      ],
      "text/plain": [
       "<class 'statsmodels.iolib.summary.Summary'>\n",
       "\"\"\"\n",
       "                 Generalized Linear Model Regression Results                  \n",
       "==============================================================================\n",
       "Dep. Variable:              Converted   No. Observations:                 6259\n",
       "Model:                            GLM   Df Residuals:                     6245\n",
       "Model Family:                Binomial   Df Model:                           13\n",
       "Link Function:                  Logit   Scale:                          1.0000\n",
       "Method:                          IRLS   Log-Likelihood:                -2750.9\n",
       "Date:                Tue, 18 Jul 2023   Deviance:                       5501.8\n",
       "Time:                        00:20:55   Pearson chi2:                 6.37e+03\n",
       "No. Iterations:                     7   Pseudo R-squ. (CS):             0.3669\n",
       "Covariance Type:            nonrobust                                         \n",
       "=================================================================================================================\n",
       "                                                    coef    std err          z      P>|z|      [0.025      0.975]\n",
       "-----------------------------------------------------------------------------------------------------------------\n",
       "const                                            -2.0109      0.099    -20.269      0.000      -2.205      -1.816\n",
       "Do Not Email                                     -1.3702      0.162     -8.475      0.000      -1.687      -1.053\n",
       "TotalVisits                                       0.7342      0.249      2.944      0.003       0.245       1.223\n",
       "Total Time Spent on Website                       4.5904      0.164     27.972      0.000       4.269       4.912\n",
       "Lead_Origin_Lead Add Form                         4.4073      0.216     20.420      0.000       3.984       4.830\n",
       "Lead_Source_Olark Chat                            1.7114      0.126     13.564      0.000       1.464       1.959\n",
       "Lead_Source_Welingak Website                      2.5057      1.030      2.433      0.015       0.487       4.525\n",
       "Last_Activity_Olark Chat Conversation            -1.1268      0.173     -6.514      0.000      -1.466      -0.788\n",
       "Last_Activity_SMS Sent                            1.2390      0.074     16.852      0.000       1.095       1.383\n",
       "Specialization_Unknown                           -0.6704      0.089     -7.532      0.000      -0.845      -0.496\n",
       "Last_Notable_Activity_Email Link Clicked         -0.5741      0.248     -2.319      0.020      -1.059      -0.089\n",
       "Last_Notable_Activity_Modified                   -0.8076      0.079    -10.230      0.000      -0.962      -0.653\n",
       "Last_Notable_Activity_Page Visited on Website    -0.4502      0.197     -2.284      0.022      -0.837      -0.064\n",
       "Last_Notable_Activity_Unreachable                 1.7645      0.498      3.545      0.000       0.789       2.740\n",
       "=================================================================================================================\n",
       "\"\"\""
      ]
     },
     "execution_count": 202,
     "metadata": {},
     "output_type": "execute_result"
    }
   ],
   "source": [
    "X_train_sm = sm.add_constant(X_train[train_cols7])\n",
    "logm8 = sm.GLM(y_train,X_train_sm, family = sm.families.Binomial())\n",
    "res = logm8.fit()\n",
    "res.summary()"
   ]
  },
  {
   "cell_type": "code",
   "execution_count": 203,
   "id": "1331a26e",
   "metadata": {},
   "outputs": [
    {
     "data": {
      "text/html": [
       "<div>\n",
       "<style scoped>\n",
       "    .dataframe tbody tr th:only-of-type {\n",
       "        vertical-align: middle;\n",
       "    }\n",
       "\n",
       "    .dataframe tbody tr th {\n",
       "        vertical-align: top;\n",
       "    }\n",
       "\n",
       "    .dataframe thead th {\n",
       "        text-align: right;\n",
       "    }\n",
       "</style>\n",
       "<table border=\"1\" class=\"dataframe\">\n",
       "  <thead>\n",
       "    <tr style=\"text-align: right;\">\n",
       "      <th></th>\n",
       "      <th>Features</th>\n",
       "      <th>VIF</th>\n",
       "    </tr>\n",
       "  </thead>\n",
       "  <tbody>\n",
       "    <tr>\n",
       "      <th>0</th>\n",
       "      <td>Specialization_Unknown</td>\n",
       "      <td>2.17</td>\n",
       "    </tr>\n",
       "    <tr>\n",
       "      <th>1</th>\n",
       "      <td>TotalVisits</td>\n",
       "      <td>2.15</td>\n",
       "    </tr>\n",
       "    <tr>\n",
       "      <th>2</th>\n",
       "      <td>Lead_Source_Olark Chat</td>\n",
       "      <td>2.03</td>\n",
       "    </tr>\n",
       "    <tr>\n",
       "      <th>3</th>\n",
       "      <td>Total Time Spent on Website</td>\n",
       "      <td>1.93</td>\n",
       "    </tr>\n",
       "    <tr>\n",
       "      <th>4</th>\n",
       "      <td>Last_Notable_Activity_Modified</td>\n",
       "      <td>1.67</td>\n",
       "    </tr>\n",
       "    <tr>\n",
       "      <th>5</th>\n",
       "      <td>Last_Activity_Olark Chat Conversation</td>\n",
       "      <td>1.61</td>\n",
       "    </tr>\n",
       "    <tr>\n",
       "      <th>6</th>\n",
       "      <td>Last_Activity_SMS Sent</td>\n",
       "      <td>1.55</td>\n",
       "    </tr>\n",
       "    <tr>\n",
       "      <th>7</th>\n",
       "      <td>Lead_Origin_Lead Add Form</td>\n",
       "      <td>1.42</td>\n",
       "    </tr>\n",
       "    <tr>\n",
       "      <th>8</th>\n",
       "      <td>Lead_Source_Welingak Website</td>\n",
       "      <td>1.30</td>\n",
       "    </tr>\n",
       "    <tr>\n",
       "      <th>9</th>\n",
       "      <td>Last_Notable_Activity_Page Visited on Website</td>\n",
       "      <td>1.14</td>\n",
       "    </tr>\n",
       "    <tr>\n",
       "      <th>10</th>\n",
       "      <td>Do Not Email</td>\n",
       "      <td>1.10</td>\n",
       "    </tr>\n",
       "    <tr>\n",
       "      <th>11</th>\n",
       "      <td>Last_Notable_Activity_Email Link Clicked</td>\n",
       "      <td>1.04</td>\n",
       "    </tr>\n",
       "    <tr>\n",
       "      <th>12</th>\n",
       "      <td>Last_Notable_Activity_Unreachable</td>\n",
       "      <td>1.01</td>\n",
       "    </tr>\n",
       "  </tbody>\n",
       "</table>\n",
       "</div>"
      ],
      "text/plain": [
       "                                         Features   VIF\n",
       "0                          Specialization_Unknown  2.17\n",
       "1                                     TotalVisits  2.15\n",
       "2                          Lead_Source_Olark Chat  2.03\n",
       "3                     Total Time Spent on Website  1.93\n",
       "4                  Last_Notable_Activity_Modified  1.67\n",
       "5           Last_Activity_Olark Chat Conversation  1.61\n",
       "6                          Last_Activity_SMS Sent  1.55\n",
       "7                       Lead_Origin_Lead Add Form  1.42\n",
       "8                    Lead_Source_Welingak Website  1.30\n",
       "9   Last_Notable_Activity_Page Visited on Website  1.14\n",
       "10                                   Do Not Email  1.10\n",
       "11       Last_Notable_Activity_Email Link Clicked  1.04\n",
       "12              Last_Notable_Activity_Unreachable  1.01"
      ]
     },
     "execution_count": 203,
     "metadata": {},
     "output_type": "execute_result"
    }
   ],
   "source": [
    "#Checking VIF's as well\n",
    "\n",
    "#create a dataframe that will contain the names of all the feature variables and their respective VIFs\n",
    "vif = pd.DataFrame()\n",
    "\n",
    "#get feature names\n",
    "vif['Features'] = train_cols7\n",
    "\n",
    "#get VIF scores\n",
    "vif['VIF'] = [round(variance_inflation_factor(X_train[train_cols7].values, i),2) for i in range(X_train[train_cols7].shape[1])]\n",
    "\n",
    "#sort the dataframe by VIF values\n",
    "vif = vif.sort_values(by='VIF', ascending=False)\n",
    "\n",
    "#reset Index of Dataframe to see how many columns there are in the model\n",
    "vif = vif.reset_index()\n",
    "vif.drop('index', axis=1, inplace=True)\n",
    "\n",
    "#print\n",
    "vif"
   ]
  },
  {
   "cell_type": "markdown",
   "id": "e3fdf3ef",
   "metadata": {},
   "source": [
    "All the feature variables in the model have a good p-value (i.e. p-value < 0.05) as well as all the feature variables have low VIF scores (i.e. VIF < 3).\n",
    "\n",
    "Consideing this as the final model to proceed further."
   ]
  },
  {
   "cell_type": "markdown",
   "id": "5e91916f",
   "metadata": {},
   "source": [
    "### 9. Finding the optimal cut-off point"
   ]
  },
  {
   "cell_type": "markdown",
   "id": "d7acb33f",
   "metadata": {},
   "source": [
    "Optimal cutoff probability is that prob where we get balanced sensitivity and specificity"
   ]
  },
  {
   "cell_type": "code",
   "execution_count": 204,
   "id": "fe832a5e",
   "metadata": {},
   "outputs": [
    {
     "data": {
      "text/plain": [
       "8606    0.082008\n",
       "988     0.168371\n",
       "4794    0.735388\n",
       "8893    0.026265\n",
       "2708    0.560364\n",
       "7643    0.053391\n",
       "8726    0.217181\n",
       "1067    0.425673\n",
       "8747    0.274894\n",
       "5317    0.031441\n",
       "dtype: float64"
      ]
     },
     "execution_count": 204,
     "metadata": {},
     "output_type": "execute_result"
    }
   ],
   "source": [
    "# Getting the predicted values on the train set\n",
    "y_train_pred = res.predict(X_train_sm)\n",
    "y_train_pred[:10]"
   ]
  },
  {
   "cell_type": "markdown",
   "id": "49afa7e9",
   "metadata": {},
   "source": [
    "Creating a dataframe with the actual converted flag and the predicted probabilities"
   ]
  },
  {
   "cell_type": "code",
   "execution_count": 205,
   "id": "8ba4dd33",
   "metadata": {},
   "outputs": [
    {
     "data": {
      "text/html": [
       "<div>\n",
       "<style scoped>\n",
       "    .dataframe tbody tr th:only-of-type {\n",
       "        vertical-align: middle;\n",
       "    }\n",
       "\n",
       "    .dataframe tbody tr th {\n",
       "        vertical-align: top;\n",
       "    }\n",
       "\n",
       "    .dataframe thead th {\n",
       "        text-align: right;\n",
       "    }\n",
       "</style>\n",
       "<table border=\"1\" class=\"dataframe\">\n",
       "  <thead>\n",
       "    <tr style=\"text-align: right;\">\n",
       "      <th></th>\n",
       "      <th>Prospect ID</th>\n",
       "      <th>Convert_Prob</th>\n",
       "      <th>Converted</th>\n",
       "    </tr>\n",
       "  </thead>\n",
       "  <tbody>\n",
       "    <tr>\n",
       "      <th>8606</th>\n",
       "      <td>a5254b6e-8953-42ce-8904-dc5e38a1732f</td>\n",
       "      <td>0.082008</td>\n",
       "      <td>0</td>\n",
       "    </tr>\n",
       "    <tr>\n",
       "      <th>988</th>\n",
       "      <td>fb78dbb4-bade-4306-be6c-ee043e419090</td>\n",
       "      <td>0.168371</td>\n",
       "      <td>0</td>\n",
       "    </tr>\n",
       "    <tr>\n",
       "      <th>4794</th>\n",
       "      <td>26427a9a-a1f5-4125-af58-cdf40522cd14</td>\n",
       "      <td>0.735388</td>\n",
       "      <td>1</td>\n",
       "    </tr>\n",
       "    <tr>\n",
       "      <th>8893</th>\n",
       "      <td>c4b3b7c6-5767-492b-9759-eb168f204ce7</td>\n",
       "      <td>0.026265</td>\n",
       "      <td>0</td>\n",
       "    </tr>\n",
       "    <tr>\n",
       "      <th>2708</th>\n",
       "      <td>4b428f8f-97d8-4427-ad5a-e1bcf8a2ae8d</td>\n",
       "      <td>0.560364</td>\n",
       "      <td>1</td>\n",
       "    </tr>\n",
       "  </tbody>\n",
       "</table>\n",
       "</div>"
      ],
      "text/plain": [
       "                               Prospect ID  Convert_Prob  Converted\n",
       "8606  a5254b6e-8953-42ce-8904-dc5e38a1732f      0.082008          0\n",
       "988   fb78dbb4-bade-4306-be6c-ee043e419090      0.168371          0\n",
       "4794  26427a9a-a1f5-4125-af58-cdf40522cd14      0.735388          1\n",
       "8893  c4b3b7c6-5767-492b-9759-eb168f204ce7      0.026265          0\n",
       "2708  4b428f8f-97d8-4427-ad5a-e1bcf8a2ae8d      0.560364          1"
      ]
     },
     "execution_count": 205,
     "metadata": {},
     "output_type": "execute_result"
    }
   ],
   "source": [
    "y_train_pred_final = pd.DataFrame({'Converted':y_train.values, 'Convert_Prob':y_train_pred})\n",
    "y_train_pred_final['Prospect ID'] = leads['Prospect ID']\n",
    "\n",
    "#reorder columns\n",
    "y_train_pred_final = y_train_pred_final[['Prospect ID','Convert_Prob','Converted']]\n",
    "\n",
    "y_train_pred_final.head()"
   ]
  },
  {
   "cell_type": "code",
   "execution_count": 206,
   "id": "f81b734b",
   "metadata": {},
   "outputs": [
    {
     "data": {
      "text/html": [
       "<div>\n",
       "<style scoped>\n",
       "    .dataframe tbody tr th:only-of-type {\n",
       "        vertical-align: middle;\n",
       "    }\n",
       "\n",
       "    .dataframe tbody tr th {\n",
       "        vertical-align: top;\n",
       "    }\n",
       "\n",
       "    .dataframe thead th {\n",
       "        text-align: right;\n",
       "    }\n",
       "</style>\n",
       "<table border=\"1\" class=\"dataframe\">\n",
       "  <thead>\n",
       "    <tr style=\"text-align: right;\">\n",
       "      <th></th>\n",
       "      <th>Prospect ID</th>\n",
       "      <th>Convert_Prob</th>\n",
       "      <th>Converted</th>\n",
       "      <th>0.0</th>\n",
       "      <th>0.1</th>\n",
       "      <th>0.2</th>\n",
       "      <th>0.3</th>\n",
       "      <th>0.4</th>\n",
       "      <th>0.5</th>\n",
       "      <th>0.6</th>\n",
       "      <th>0.7</th>\n",
       "      <th>0.8</th>\n",
       "      <th>0.9</th>\n",
       "    </tr>\n",
       "  </thead>\n",
       "  <tbody>\n",
       "    <tr>\n",
       "      <th>8606</th>\n",
       "      <td>a5254b6e-8953-42ce-8904-dc5e38a1732f</td>\n",
       "      <td>0.082008</td>\n",
       "      <td>0</td>\n",
       "      <td>1</td>\n",
       "      <td>0</td>\n",
       "      <td>0</td>\n",
       "      <td>0</td>\n",
       "      <td>0</td>\n",
       "      <td>0</td>\n",
       "      <td>0</td>\n",
       "      <td>0</td>\n",
       "      <td>0</td>\n",
       "      <td>0</td>\n",
       "    </tr>\n",
       "    <tr>\n",
       "      <th>988</th>\n",
       "      <td>fb78dbb4-bade-4306-be6c-ee043e419090</td>\n",
       "      <td>0.168371</td>\n",
       "      <td>0</td>\n",
       "      <td>1</td>\n",
       "      <td>1</td>\n",
       "      <td>0</td>\n",
       "      <td>0</td>\n",
       "      <td>0</td>\n",
       "      <td>0</td>\n",
       "      <td>0</td>\n",
       "      <td>0</td>\n",
       "      <td>0</td>\n",
       "      <td>0</td>\n",
       "    </tr>\n",
       "    <tr>\n",
       "      <th>4794</th>\n",
       "      <td>26427a9a-a1f5-4125-af58-cdf40522cd14</td>\n",
       "      <td>0.735388</td>\n",
       "      <td>1</td>\n",
       "      <td>1</td>\n",
       "      <td>1</td>\n",
       "      <td>1</td>\n",
       "      <td>1</td>\n",
       "      <td>1</td>\n",
       "      <td>1</td>\n",
       "      <td>1</td>\n",
       "      <td>1</td>\n",
       "      <td>0</td>\n",
       "      <td>0</td>\n",
       "    </tr>\n",
       "    <tr>\n",
       "      <th>8893</th>\n",
       "      <td>c4b3b7c6-5767-492b-9759-eb168f204ce7</td>\n",
       "      <td>0.026265</td>\n",
       "      <td>0</td>\n",
       "      <td>1</td>\n",
       "      <td>0</td>\n",
       "      <td>0</td>\n",
       "      <td>0</td>\n",
       "      <td>0</td>\n",
       "      <td>0</td>\n",
       "      <td>0</td>\n",
       "      <td>0</td>\n",
       "      <td>0</td>\n",
       "      <td>0</td>\n",
       "    </tr>\n",
       "    <tr>\n",
       "      <th>2708</th>\n",
       "      <td>4b428f8f-97d8-4427-ad5a-e1bcf8a2ae8d</td>\n",
       "      <td>0.560364</td>\n",
       "      <td>1</td>\n",
       "      <td>1</td>\n",
       "      <td>1</td>\n",
       "      <td>1</td>\n",
       "      <td>1</td>\n",
       "      <td>1</td>\n",
       "      <td>1</td>\n",
       "      <td>0</td>\n",
       "      <td>0</td>\n",
       "      <td>0</td>\n",
       "      <td>0</td>\n",
       "    </tr>\n",
       "  </tbody>\n",
       "</table>\n",
       "</div>"
      ],
      "text/plain": [
       "                               Prospect ID  Convert_Prob  Converted  0.0  0.1  \\\n",
       "8606  a5254b6e-8953-42ce-8904-dc5e38a1732f      0.082008          0    1    0   \n",
       "988   fb78dbb4-bade-4306-be6c-ee043e419090      0.168371          0    1    1   \n",
       "4794  26427a9a-a1f5-4125-af58-cdf40522cd14      0.735388          1    1    1   \n",
       "8893  c4b3b7c6-5767-492b-9759-eb168f204ce7      0.026265          0    1    0   \n",
       "2708  4b428f8f-97d8-4427-ad5a-e1bcf8a2ae8d      0.560364          1    1    1   \n",
       "\n",
       "      0.2  0.3  0.4  0.5  0.6  0.7  0.8  0.9  \n",
       "8606    0    0    0    0    0    0    0    0  \n",
       "988     0    0    0    0    0    0    0    0  \n",
       "4794    1    1    1    1    1    1    0    0  \n",
       "8893    0    0    0    0    0    0    0    0  \n",
       "2708    1    1    1    1    0    0    0    0  "
      ]
     },
     "execution_count": 206,
     "metadata": {},
     "output_type": "execute_result"
    }
   ],
   "source": [
    "# Let's create columns with different probability cutoffs \n",
    "numbers = [float(x)/10 for x in range(10)]\n",
    "for i in numbers:\n",
    "    y_train_pred_final[i]= y_train_pred_final.Convert_Prob.map(lambda x: 1 if x > i else 0)\n",
    "y_train_pred_final.head()"
   ]
  },
  {
   "cell_type": "code",
   "execution_count": 207,
   "id": "579fa1e2",
   "metadata": {},
   "outputs": [
    {
     "name": "stdout",
     "output_type": "stream",
     "text": [
      "     prob  accuracy     sensi     speci\n",
      "0.0   0.0  0.388560  1.000000  0.000000\n",
      "0.1   0.1  0.582681  0.971628  0.335511\n",
      "0.2   0.2  0.722000  0.917352  0.597857\n",
      "0.3   0.3  0.794216  0.844161  0.762477\n",
      "0.4   0.4  0.804761  0.780016  0.820486\n",
      "0.5   0.5  0.801566  0.691201  0.871701\n",
      "0.6   0.6  0.781754  0.567845  0.917690\n",
      "0.7   0.7  0.762582  0.483964  0.939639\n",
      "0.8   0.8  0.730149  0.365954  0.961589\n",
      "0.9   0.9  0.687650  0.215872  0.987458\n"
     ]
    }
   ],
   "source": [
    "# Now let's calculate accuracy sensitivity and specificity for various probability cutoffs.\n",
    "cutoff_df = pd.DataFrame( columns = ['prob','accuracy','sensi','speci'])\n",
    "\n",
    "# TP = confusion[1,1] # true positive \n",
    "# TN = confusion[0,0] # true negatives\n",
    "# FP = confusion[0,1] # false positives\n",
    "# FN = confusion[1,0] # false negatives\n",
    "\n",
    "num = [0.0,0.1,0.2,0.3,0.4,0.5,0.6,0.7,0.8,0.9]\n",
    "for i in num:\n",
    "    \n",
    "    #create the confusion matrix\n",
    "    cm1 = metrics.confusion_matrix(y_train_pred_final.Converted, y_train_pred_final[i])\n",
    "    \n",
    "    #calculate accruacy\n",
    "    total1=sum(sum(cm1))\n",
    "    accuracy = (cm1[0,0]+cm1[1,1])/total1\n",
    "    \n",
    "    #calculate specificity\n",
    "    speci = cm1[0,0]/(cm1[0,0]+cm1[0,1])\n",
    "    \n",
    "    #calculate sensitivity\n",
    "    sensi = cm1[1,1]/(cm1[1,0]+cm1[1,1])\n",
    "    \n",
    "    #add to the dataframe\n",
    "    cutoff_df.loc[i] =[ i ,accuracy,sensi,speci]\n",
    "    \n",
    "print(cutoff_df)"
   ]
  },
  {
   "cell_type": "code",
   "execution_count": 208,
   "id": "ef3f88d1",
   "metadata": {
    "scrolled": false
   },
   "outputs": [
    {
     "data": {
      "image/png": "[encoded data removed]",
      "text/plain": [
       "<Figure size 640x480 with 1 Axes>"
      ]
     },
     "metadata": {},
     "output_type": "display_data"
    }
   ],
   "source": [
    "# Let's plot accuracy sensitivity and specificity for various probabilities.\n",
    "cutoff_df.plot.line(x='prob', y=['accuracy','sensi','speci'])\n",
    "plt.xticks(cutoff_df.index)\n",
    "plt.show()"
   ]
  },
  {
   "cell_type": "markdown",
   "id": "95200124",
   "metadata": {},
   "source": [
    "As per problem statement a model with high sensitivity is required by business.\n",
    "\n",
    "From the above plot it is evident that the optimal cut-off is between 0.35 and 0.4\n",
    "\n",
    "We will be chosing a cut-off of 0.35 to proceed with."
   ]
  },
  {
   "cell_type": "markdown",
   "id": "1a41f01b",
   "metadata": {},
   "source": [
    "### 10. Training data Predictions on Final Model"
   ]
  },
  {
   "cell_type": "code",
   "execution_count": 209,
   "id": "f860c77a",
   "metadata": {},
   "outputs": [
    {
     "data": {
      "text/html": [
       "<div>\n",
       "<style scoped>\n",
       "    .dataframe tbody tr th:only-of-type {\n",
       "        vertical-align: middle;\n",
       "    }\n",
       "\n",
       "    .dataframe tbody tr th {\n",
       "        vertical-align: top;\n",
       "    }\n",
       "\n",
       "    .dataframe thead th {\n",
       "        text-align: right;\n",
       "    }\n",
       "</style>\n",
       "<table border=\"1\" class=\"dataframe\">\n",
       "  <thead>\n",
       "    <tr style=\"text-align: right;\">\n",
       "      <th></th>\n",
       "      <th>Prospect ID</th>\n",
       "      <th>Convert_Prob</th>\n",
       "      <th>Converted</th>\n",
       "      <th>0.0</th>\n",
       "      <th>0.1</th>\n",
       "      <th>0.2</th>\n",
       "      <th>0.3</th>\n",
       "      <th>0.4</th>\n",
       "      <th>0.5</th>\n",
       "      <th>0.6</th>\n",
       "      <th>0.7</th>\n",
       "      <th>0.8</th>\n",
       "      <th>0.9</th>\n",
       "      <th>Predicted</th>\n",
       "    </tr>\n",
       "  </thead>\n",
       "  <tbody>\n",
       "    <tr>\n",
       "      <th>8606</th>\n",
       "      <td>a5254b6e-8953-42ce-8904-dc5e38a1732f</td>\n",
       "      <td>0.082008</td>\n",
       "      <td>0</td>\n",
       "      <td>1</td>\n",
       "      <td>0</td>\n",
       "      <td>0</td>\n",
       "      <td>0</td>\n",
       "      <td>0</td>\n",
       "      <td>0</td>\n",
       "      <td>0</td>\n",
       "      <td>0</td>\n",
       "      <td>0</td>\n",
       "      <td>0</td>\n",
       "      <td>0</td>\n",
       "    </tr>\n",
       "    <tr>\n",
       "      <th>988</th>\n",
       "      <td>fb78dbb4-bade-4306-be6c-ee043e419090</td>\n",
       "      <td>0.168371</td>\n",
       "      <td>0</td>\n",
       "      <td>1</td>\n",
       "      <td>1</td>\n",
       "      <td>0</td>\n",
       "      <td>0</td>\n",
       "      <td>0</td>\n",
       "      <td>0</td>\n",
       "      <td>0</td>\n",
       "      <td>0</td>\n",
       "      <td>0</td>\n",
       "      <td>0</td>\n",
       "      <td>0</td>\n",
       "    </tr>\n",
       "    <tr>\n",
       "      <th>4794</th>\n",
       "      <td>26427a9a-a1f5-4125-af58-cdf40522cd14</td>\n",
       "      <td>0.735388</td>\n",
       "      <td>1</td>\n",
       "      <td>1</td>\n",
       "      <td>1</td>\n",
       "      <td>1</td>\n",
       "      <td>1</td>\n",
       "      <td>1</td>\n",
       "      <td>1</td>\n",
       "      <td>1</td>\n",
       "      <td>1</td>\n",
       "      <td>0</td>\n",
       "      <td>0</td>\n",
       "      <td>1</td>\n",
       "    </tr>\n",
       "    <tr>\n",
       "      <th>8893</th>\n",
       "      <td>c4b3b7c6-5767-492b-9759-eb168f204ce7</td>\n",
       "      <td>0.026265</td>\n",
       "      <td>0</td>\n",
       "      <td>1</td>\n",
       "      <td>0</td>\n",
       "      <td>0</td>\n",
       "      <td>0</td>\n",
       "      <td>0</td>\n",
       "      <td>0</td>\n",
       "      <td>0</td>\n",
       "      <td>0</td>\n",
       "      <td>0</td>\n",
       "      <td>0</td>\n",
       "      <td>0</td>\n",
       "    </tr>\n",
       "    <tr>\n",
       "      <th>2708</th>\n",
       "      <td>4b428f8f-97d8-4427-ad5a-e1bcf8a2ae8d</td>\n",
       "      <td>0.560364</td>\n",
       "      <td>1</td>\n",
       "      <td>1</td>\n",
       "      <td>1</td>\n",
       "      <td>1</td>\n",
       "      <td>1</td>\n",
       "      <td>1</td>\n",
       "      <td>1</td>\n",
       "      <td>0</td>\n",
       "      <td>0</td>\n",
       "      <td>0</td>\n",
       "      <td>0</td>\n",
       "      <td>1</td>\n",
       "    </tr>\n",
       "  </tbody>\n",
       "</table>\n",
       "</div>"
      ],
      "text/plain": [
       "                               Prospect ID  Convert_Prob  Converted  0.0  0.1  \\\n",
       "8606  a5254b6e-8953-42ce-8904-dc5e38a1732f      0.082008          0    1    0   \n",
       "988   fb78dbb4-bade-4306-be6c-ee043e419090      0.168371          0    1    1   \n",
       "4794  26427a9a-a1f5-4125-af58-cdf40522cd14      0.735388          1    1    1   \n",
       "8893  c4b3b7c6-5767-492b-9759-eb168f204ce7      0.026265          0    1    0   \n",
       "2708  4b428f8f-97d8-4427-ad5a-e1bcf8a2ae8d      0.560364          1    1    1   \n",
       "\n",
       "      0.2  0.3  0.4  0.5  0.6  0.7  0.8  0.9  Predicted  \n",
       "8606    0    0    0    0    0    0    0    0          0  \n",
       "988     0    0    0    0    0    0    0    0          0  \n",
       "4794    1    1    1    1    1    1    0    0          1  \n",
       "8893    0    0    0    0    0    0    0    0          0  \n",
       "2708    1    1    1    1    0    0    0    0          1  "
      ]
     },
     "execution_count": 209,
     "metadata": {},
     "output_type": "execute_result"
    }
   ],
   "source": [
    "# Creating new column 'predicted' with 1 if Convert_Prob > 0.5 else 0\n",
    "y_train_pred_final['Predicted'] = y_train_pred_final.Convert_Prob.map(lambda x: 1 if x > 0.35 else 0)\n",
    "y_train_pred_final.head()"
   ]
  },
  {
   "cell_type": "markdown",
   "id": "6adb52d2",
   "metadata": {},
   "source": [
    "Accruacy score of final model"
   ]
  },
  {
   "cell_type": "code",
   "execution_count": 210,
   "id": "e77bd5a8",
   "metadata": {},
   "outputs": [
    {
     "data": {
      "text/plain": [
       "0.7993289662885446"
      ]
     },
     "execution_count": 210,
     "metadata": {},
     "output_type": "execute_result"
    }
   ],
   "source": [
    "metrics.accuracy_score(y_train_pred_final.Converted, y_train_pred_final.Predicted)"
   ]
  },
  {
   "cell_type": "markdown",
   "id": "5985c76b",
   "metadata": {},
   "source": [
    "Confusion Matrix of model"
   ]
  },
  {
   "cell_type": "code",
   "execution_count": 211,
   "id": "af5d44bf",
   "metadata": {},
   "outputs": [
    {
     "data": {
      "text/plain": [
       "array([[3009,  818],\n",
       "       [ 438, 1994]], dtype=int64)"
      ]
     },
     "execution_count": 211,
     "metadata": {},
     "output_type": "execute_result"
    }
   ],
   "source": [
    "confusion = metrics.confusion_matrix(y_train_pred_final.Converted, y_train_pred_final.Predicted )\n",
    "confusion"
   ]
  },
  {
   "cell_type": "markdown",
   "id": "15f426ea",
   "metadata": {},
   "source": [
    "Sensitivity of the final model"
   ]
  },
  {
   "cell_type": "code",
   "execution_count": 212,
   "id": "c5499d94",
   "metadata": {},
   "outputs": [
    {
     "data": {
      "text/plain": [
       "0.8199013157894737"
      ]
     },
     "execution_count": 212,
     "metadata": {},
     "output_type": "execute_result"
    }
   ],
   "source": [
    "confusion[1,1]/(confusion[1,0]+confusion[1,1])"
   ]
  },
  {
   "cell_type": "markdown",
   "id": "8ad9b30c",
   "metadata": {},
   "source": [
    "**Final Model Sensitivity is above given expectectation of 80%**"
   ]
  },
  {
   "cell_type": "markdown",
   "id": "fdb69b2f",
   "metadata": {},
   "source": [
    "Specificity of the final model"
   ]
  },
  {
   "cell_type": "code",
   "execution_count": 213,
   "id": "28cfc800",
   "metadata": {},
   "outputs": [
    {
     "data": {
      "text/plain": [
       "0.786255552652208"
      ]
     },
     "execution_count": 213,
     "metadata": {},
     "output_type": "execute_result"
    }
   ],
   "source": [
    "confusion[0,0]/(confusion[0,0]+confusion[0,1])"
   ]
  },
  {
   "cell_type": "markdown",
   "id": "c5ab37f1",
   "metadata": {},
   "source": [
    "### 11. ROC Curve"
   ]
  },
  {
   "cell_type": "code",
   "execution_count": 214,
   "id": "94917d4c",
   "metadata": {},
   "outputs": [],
   "source": [
    "#defining function for drawing ROC curve\n",
    "def draw_roc( actual, probs ):\n",
    "    fpr, tpr, thresholds = metrics.roc_curve( actual, probs,\n",
    "                                              drop_intermediate = False )\n",
    "    auc_score = metrics.roc_auc_score( actual, probs )\n",
    "    plt.figure(figsize=(5, 5))\n",
    "    plt.plot( fpr, tpr, label='ROC curve (area = %0.2f)' % auc_score )\n",
    "    plt.plot([0, 1], [0, 1], 'k--')\n",
    "    plt.xlim([0.0, 1.0])\n",
    "    plt.ylim([0.0, 1.05])\n",
    "    plt.xlabel('False Positive Rate or [1 - True Negative Rate]')\n",
    "    plt.ylabel('True Positive Rate')\n",
    "    plt.title('Receiver operating characteristic example')\n",
    "    plt.legend(loc=\"lower right\")\n",
    "    plt.show()\n",
    "\n",
    "    return None"
   ]
  },
  {
   "cell_type": "code",
   "execution_count": 215,
   "id": "1d102ca6",
   "metadata": {},
   "outputs": [],
   "source": [
    "fpr, tpr, thresholds = metrics.roc_curve( y_train_pred_final.Converted, y_train_pred_final.Convert_Prob, drop_intermediate = False )"
   ]
  },
  {
   "cell_type": "code",
   "execution_count": 216,
   "id": "10c7e902",
   "metadata": {},
   "outputs": [
    {
     "data": {
      "image/png": "[encoded data removed]",
      "text/plain": [
       "<Figure size 500x500 with 1 Axes>"
      ]
     },
     "metadata": {},
     "output_type": "display_data"
    }
   ],
   "source": [
    "draw_roc(y_train_pred_final.Converted, y_train_pred_final.Convert_Prob)"
   ]
  },
  {
   "cell_type": "markdown",
   "id": "fb28d342",
   "metadata": {},
   "source": [
    "### 12. Making Predictions on Test dataset"
   ]
  },
  {
   "cell_type": "code",
   "execution_count": 217,
   "id": "55e98e40",
   "metadata": {},
   "outputs": [
    {
     "data": {
      "text/html": [
       "<div>\n",
       "<style scoped>\n",
       "    .dataframe tbody tr th:only-of-type {\n",
       "        vertical-align: middle;\n",
       "    }\n",
       "\n",
       "    .dataframe tbody tr th {\n",
       "        vertical-align: top;\n",
       "    }\n",
       "\n",
       "    .dataframe thead th {\n",
       "        text-align: right;\n",
       "    }\n",
       "</style>\n",
       "<table border=\"1\" class=\"dataframe\">\n",
       "  <thead>\n",
       "    <tr style=\"text-align: right;\">\n",
       "      <th></th>\n",
       "      <th>TotalVisits</th>\n",
       "      <th>Total Time Spent on Website</th>\n",
       "      <th>Page Views Per Visit</th>\n",
       "    </tr>\n",
       "  </thead>\n",
       "  <tbody>\n",
       "    <tr>\n",
       "      <th>8597</th>\n",
       "      <td>0.470588</td>\n",
       "      <td>0.590669</td>\n",
       "      <td>0.314118</td>\n",
       "    </tr>\n",
       "    <tr>\n",
       "      <th>215</th>\n",
       "      <td>0.117647</td>\n",
       "      <td>0.698504</td>\n",
       "      <td>0.235294</td>\n",
       "    </tr>\n",
       "    <tr>\n",
       "      <th>8212</th>\n",
       "      <td>0.058824</td>\n",
       "      <td>0.121479</td>\n",
       "      <td>0.117647</td>\n",
       "    </tr>\n",
       "    <tr>\n",
       "      <th>247</th>\n",
       "      <td>0.176471</td>\n",
       "      <td>0.095511</td>\n",
       "      <td>0.352941</td>\n",
       "    </tr>\n",
       "    <tr>\n",
       "      <th>5300</th>\n",
       "      <td>0.000000</td>\n",
       "      <td>0.000000</td>\n",
       "      <td>0.000000</td>\n",
       "    </tr>\n",
       "  </tbody>\n",
       "</table>\n",
       "</div>"
      ],
      "text/plain": [
       "      TotalVisits  Total Time Spent on Website  Page Views Per Visit\n",
       "8597     0.470588                     0.590669              0.314118\n",
       "215      0.117647                     0.698504              0.235294\n",
       "8212     0.058824                     0.121479              0.117647\n",
       "247      0.176471                     0.095511              0.352941\n",
       "5300     0.000000                     0.000000              0.000000"
      ]
     },
     "execution_count": 217,
     "metadata": {},
     "output_type": "execute_result"
    }
   ],
   "source": [
    "#apply the scaler to the test dataset\n",
    "X_test[num_cols] = scaler.transform(X_test[num_cols])\n",
    "\n",
    "#check\n",
    "X_test[num_cols].head()"
   ]
  },
  {
   "cell_type": "code",
   "execution_count": 218,
   "id": "1842735c",
   "metadata": {},
   "outputs": [],
   "source": [
    "#filtering out only the required features and adding the constant for working with statsmodels\n",
    "X_test_sm = sm.add_constant(X_test[train_cols7])"
   ]
  },
  {
   "cell_type": "markdown",
   "id": "e53bb246",
   "metadata": {},
   "source": [
    "Making predictions on the test set"
   ]
  },
  {
   "cell_type": "code",
   "execution_count": 219,
   "id": "88ce59dd",
   "metadata": {},
   "outputs": [
    {
     "data": {
      "text/plain": [
       "8597    0.907631\n",
       "215     0.782770\n",
       "8212    0.052748\n",
       "247     0.051132\n",
       "5300    0.974305\n",
       "4087    0.559494\n",
       "6263    0.104124\n",
       "3694    0.202593\n",
       "5153    0.051942\n",
       "6738    0.503393\n",
       "dtype: float64"
      ]
     },
     "execution_count": 219,
     "metadata": {},
     "output_type": "execute_result"
    }
   ],
   "source": [
    "y_test_pred = res.predict(X_test_sm)\n",
    "y_test_pred[:10]"
   ]
  },
  {
   "cell_type": "code",
   "execution_count": 220,
   "id": "2e08852b",
   "metadata": {},
   "outputs": [
    {
     "data": {
      "text/html": [
       "<div>\n",
       "<style scoped>\n",
       "    .dataframe tbody tr th:only-of-type {\n",
       "        vertical-align: middle;\n",
       "    }\n",
       "\n",
       "    .dataframe tbody tr th {\n",
       "        vertical-align: top;\n",
       "    }\n",
       "\n",
       "    .dataframe thead th {\n",
       "        text-align: right;\n",
       "    }\n",
       "</style>\n",
       "<table border=\"1\" class=\"dataframe\">\n",
       "  <thead>\n",
       "    <tr style=\"text-align: right;\">\n",
       "      <th></th>\n",
       "      <th>0</th>\n",
       "    </tr>\n",
       "  </thead>\n",
       "  <tbody>\n",
       "    <tr>\n",
       "      <th>8597</th>\n",
       "      <td>0.907631</td>\n",
       "    </tr>\n",
       "    <tr>\n",
       "      <th>215</th>\n",
       "      <td>0.782770</td>\n",
       "    </tr>\n",
       "    <tr>\n",
       "      <th>8212</th>\n",
       "      <td>0.052748</td>\n",
       "    </tr>\n",
       "    <tr>\n",
       "      <th>247</th>\n",
       "      <td>0.051132</td>\n",
       "    </tr>\n",
       "    <tr>\n",
       "      <th>5300</th>\n",
       "      <td>0.974305</td>\n",
       "    </tr>\n",
       "  </tbody>\n",
       "</table>\n",
       "</div>"
      ],
      "text/plain": [
       "             0\n",
       "8597  0.907631\n",
       "215   0.782770\n",
       "8212  0.052748\n",
       "247   0.051132\n",
       "5300  0.974305"
      ]
     },
     "execution_count": 220,
     "metadata": {},
     "output_type": "execute_result"
    }
   ],
   "source": [
    "#converting y_pred to a dataframe from an array\n",
    "y_pred1 = pd.DataFrame(y_test_pred)\n",
    "y_pred1.head()"
   ]
  },
  {
   "cell_type": "code",
   "execution_count": 221,
   "id": "7417c3cf",
   "metadata": {},
   "outputs": [],
   "source": [
    "#converting y_test to dataframe\n",
    "y_test_df = pd.DataFrame(y_test)"
   ]
  },
  {
   "cell_type": "code",
   "execution_count": 222,
   "id": "dda43cbb",
   "metadata": {},
   "outputs": [],
   "source": [
    "#removing index for both dataframes to append them side by side ++"
   ]
  },
  {
   "cell_type": "code",
   "execution_count": 223,
   "id": "f7a57b22",
   "metadata": {},
   "outputs": [],
   "source": [
    "#appending y_test_df and y_pred_1\n",
    "y_pred_final = pd.concat([y_test_df, y_pred1],axis=1)"
   ]
  },
  {
   "cell_type": "code",
   "execution_count": 224,
   "id": "3bc90d16",
   "metadata": {},
   "outputs": [
    {
     "data": {
      "text/html": [
       "<div>\n",
       "<style scoped>\n",
       "    .dataframe tbody tr th:only-of-type {\n",
       "        vertical-align: middle;\n",
       "    }\n",
       "\n",
       "    .dataframe tbody tr th {\n",
       "        vertical-align: top;\n",
       "    }\n",
       "\n",
       "    .dataframe thead th {\n",
       "        text-align: right;\n",
       "    }\n",
       "</style>\n",
       "<table border=\"1\" class=\"dataframe\">\n",
       "  <thead>\n",
       "    <tr style=\"text-align: right;\">\n",
       "      <th></th>\n",
       "      <th>Converted</th>\n",
       "      <th>0</th>\n",
       "    </tr>\n",
       "  </thead>\n",
       "  <tbody>\n",
       "    <tr>\n",
       "      <th>0</th>\n",
       "      <td>1</td>\n",
       "      <td>0.907631</td>\n",
       "    </tr>\n",
       "    <tr>\n",
       "      <th>1</th>\n",
       "      <td>1</td>\n",
       "      <td>0.782770</td>\n",
       "    </tr>\n",
       "    <tr>\n",
       "      <th>2</th>\n",
       "      <td>0</td>\n",
       "      <td>0.052748</td>\n",
       "    </tr>\n",
       "    <tr>\n",
       "      <th>3</th>\n",
       "      <td>0</td>\n",
       "      <td>0.051132</td>\n",
       "    </tr>\n",
       "    <tr>\n",
       "      <th>4</th>\n",
       "      <td>0</td>\n",
       "      <td>0.974305</td>\n",
       "    </tr>\n",
       "  </tbody>\n",
       "</table>\n",
       "</div>"
      ],
      "text/plain": [
       "   Converted         0\n",
       "0          1  0.907631\n",
       "1          1  0.782770\n",
       "2          0  0.052748\n",
       "3          0  0.051132\n",
       "4          0  0.974305"
      ]
     },
     "execution_count": 224,
     "metadata": {},
     "output_type": "execute_result"
    }
   ],
   "source": [
    "y_pred_final.head()"
   ]
  },
  {
   "cell_type": "code",
   "execution_count": 225,
   "id": "b95cfa89",
   "metadata": {},
   "outputs": [],
   "source": [
    "#renaming the column\n",
    "y_pred_final= y_pred_final.rename(columns={ 0 : 'Convert_Prob'})"
   ]
  },
  {
   "cell_type": "code",
   "execution_count": 228,
   "id": "c78c4cbd",
   "metadata": {},
   "outputs": [],
   "source": [
    "#adding Prospect ID column\n",
    "y_pred_final['Prospect ID'] = leads['Prospect ID']"
   ]
  },
  {
   "cell_type": "code",
   "execution_count": 229,
   "id": "e42fd255",
   "metadata": {},
   "outputs": [],
   "source": [
    "#rearranging the columns\n",
    "y_pred_final = y_pred_final.reindex(columns=['Prospect ID', 'Converted', 'Convert_Prob'])"
   ]
  },
  {
   "cell_type": "code",
   "execution_count": 230,
   "id": "00023724",
   "metadata": {},
   "outputs": [
    {
     "data": {
      "text/html": [
       "<div>\n",
       "<style scoped>\n",
       "    .dataframe tbody tr th:only-of-type {\n",
       "        vertical-align: middle;\n",
       "    }\n",
       "\n",
       "    .dataframe tbody tr th {\n",
       "        vertical-align: top;\n",
       "    }\n",
       "\n",
       "    .dataframe thead th {\n",
       "        text-align: right;\n",
       "    }\n",
       "</style>\n",
       "<table border=\"1\" class=\"dataframe\">\n",
       "  <thead>\n",
       "    <tr style=\"text-align: right;\">\n",
       "      <th></th>\n",
       "      <th>Prospect ID</th>\n",
       "      <th>Converted</th>\n",
       "      <th>Convert_Prob</th>\n",
       "    </tr>\n",
       "  </thead>\n",
       "  <tbody>\n",
       "    <tr>\n",
       "      <th>0</th>\n",
       "      <td>7927b2df-8bba-4d29-b9a2-b6e0beafe620</td>\n",
       "      <td>1</td>\n",
       "      <td>0.907631</td>\n",
       "    </tr>\n",
       "    <tr>\n",
       "      <th>1</th>\n",
       "      <td>2a272436-5132-4136-86fa-dcc88c88f482</td>\n",
       "      <td>1</td>\n",
       "      <td>0.782770</td>\n",
       "    </tr>\n",
       "    <tr>\n",
       "      <th>2</th>\n",
       "      <td>8cc8c611-a219-4f35-ad23-fdfd2656bd8a</td>\n",
       "      <td>0</td>\n",
       "      <td>0.052748</td>\n",
       "    </tr>\n",
       "    <tr>\n",
       "      <th>3</th>\n",
       "      <td>0cc2df48-7cf4-4e39-9de9-19797f9b38cc</td>\n",
       "      <td>0</td>\n",
       "      <td>0.051132</td>\n",
       "    </tr>\n",
       "    <tr>\n",
       "      <th>4</th>\n",
       "      <td>3256f628-e534-4826-9d63-4a8b88782852</td>\n",
       "      <td>0</td>\n",
       "      <td>0.974305</td>\n",
       "    </tr>\n",
       "  </tbody>\n",
       "</table>\n",
       "</div>"
      ],
      "text/plain": [
       "                            Prospect ID  Converted  Convert_Prob\n",
       "0  7927b2df-8bba-4d29-b9a2-b6e0beafe620          1      0.907631\n",
       "1  2a272436-5132-4136-86fa-dcc88c88f482          1      0.782770\n",
       "2  8cc8c611-a219-4f35-ad23-fdfd2656bd8a          0      0.052748\n",
       "3  0cc2df48-7cf4-4e39-9de9-19797f9b38cc          0      0.051132\n",
       "4  3256f628-e534-4826-9d63-4a8b88782852          0      0.974305"
      ]
     },
     "execution_count": 230,
     "metadata": {},
     "output_type": "execute_result"
    }
   ],
   "source": [
    "#let's see the head of y_pred_final\n",
    "y_pred_final.head()"
   ]
  },
  {
   "cell_type": "markdown",
   "id": "e17353d1",
   "metadata": {},
   "source": [
    "Making Predictions"
   ]
  },
  {
   "cell_type": "code",
   "execution_count": 232,
   "id": "363405db",
   "metadata": {},
   "outputs": [],
   "source": [
    "y_pred_final['final_predicted'] = y_pred_final.Convert_Prob.map(lambda x: 1 if x > 0.35 else 0)"
   ]
  },
  {
   "cell_type": "markdown",
   "id": "97fc0ff2",
   "metadata": {},
   "source": [
    "Final Accruacy"
   ]
  },
  {
   "cell_type": "code",
   "execution_count": 233,
   "id": "de7d3643",
   "metadata": {},
   "outputs": [
    {
     "data": {
      "text/plain": [
       "0.7886693999254566"
      ]
     },
     "execution_count": 233,
     "metadata": {},
     "output_type": "execute_result"
    }
   ],
   "source": [
    "metrics.accuracy_score(y_pred_final.Converted, y_pred_final.final_predicted)"
   ]
  },
  {
   "cell_type": "markdown",
   "id": "c5c9877d",
   "metadata": {},
   "source": [
    "Confusion Matrix"
   ]
  },
  {
   "cell_type": "code",
   "execution_count": 235,
   "id": "5e62f95d",
   "metadata": {},
   "outputs": [
    {
     "data": {
      "text/plain": [
       "array([[1356,  361],\n",
       "       [ 206,  760]], dtype=int64)"
      ]
     },
     "execution_count": 235,
     "metadata": {},
     "output_type": "execute_result"
    }
   ],
   "source": [
    "confusion2 = metrics.confusion_matrix(y_pred_final.Converted, y_pred_final.final_predicted )\n",
    "confusion2"
   ]
  },
  {
   "cell_type": "markdown",
   "id": "2624b243",
   "metadata": {},
   "source": [
    "Sensitivity of final model"
   ]
  },
  {
   "cell_type": "code",
   "execution_count": 236,
   "id": "5580a828",
   "metadata": {},
   "outputs": [
    {
     "data": {
      "text/plain": [
       "0.7867494824016563"
      ]
     },
     "execution_count": 236,
     "metadata": {},
     "output_type": "execute_result"
    }
   ],
   "source": [
    "confusion2[1,1]/(confusion2[1,0]+confusion2[1,1])"
   ]
  },
  {
   "cell_type": "markdown",
   "id": "c6becd88",
   "metadata": {},
   "source": [
    "**Final Prediction sensitivity is in the targetted ballpark of around 80%**"
   ]
  },
  {
   "cell_type": "markdown",
   "id": "516a9715",
   "metadata": {},
   "source": [
    "Specificity of final model"
   ]
  },
  {
   "cell_type": "code",
   "execution_count": 237,
   "id": "da5c3d6a",
   "metadata": {},
   "outputs": [
    {
     "data": {
      "text/plain": [
       "0.7897495631916133"
      ]
     },
     "execution_count": 237,
     "metadata": {},
     "output_type": "execute_result"
    }
   ],
   "source": [
    "confusion2[0,0]/(confusion2[0,0]+confusion2[0,1])"
   ]
  }
 ],
 "metadata": {
  "kernelspec": {
   "display_name": "Python 3 (ipykernel)",
   "language": "python",
   "name": "python3"
  },
  "language_info": {
   "codemirror_mode": {
    "name": "ipython",
    "version": 3
   },
   "file_extension": ".py",
   "mimetype": "text/x-python",
   "name": "python",
   "nbconvert_exporter": "python",
   "pygments_lexer": "ipython3",
   "version": "3.9.13"
  }
 },
 "nbformat": 4,
 "nbformat_minor": 5
}
